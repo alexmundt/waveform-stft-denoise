{
 "cells": [
  {
   "cell_type": "markdown",
   "id": "79da5c1e-fcf0-455f-b9d7-e38759772477",
   "metadata": {},
   "source": [
    "## Storage testing\n",
    "This notebook deals with the storage options."
   ]
  },
  {
   "cell_type": "markdown",
   "id": "0399a0ac-cd18-43fc-8797-86ebe277b990",
   "metadata": {
    "tags": []
   },
   "source": [
    "## Imports\n",
    "This notebook uses the custom code found in the code folder"
   ]
  },
  {
   "cell_type": "code",
   "execution_count": 1,
   "id": "3011dd81-397e-44e6-884d-39227f2e3ed6",
   "metadata": {
    "tags": []
   },
   "outputs": [
    {
     "name": "stderr",
     "output_type": "stream",
     "text": [
      "2023-04-26 11:47:47.139048: I tensorflow/stream_executor/platform/default/dso_loader.cc:49] Successfully opened dynamic library libcudart.so.10.1\n"
     ]
    }
   ],
   "source": [
    "import os\n",
    "\n",
    "# math, processing, deep learning\n",
    "import numpy as np\n",
    "import tensorflow as tf\n",
    "from scipy.signal import stft, istft\n",
    "\n",
    "# visualization\n",
    "import matplotlib.pyplot as plt\n",
    "\n",
    "# custom code\n",
    "from code.stftprocessing import StftDataset\n",
    "from code.dsvisual import DatasetVisualizer\n",
    "\n",
    "# convenience\n",
    "from tqdm import tqdm\n",
    "import datetime\n"
   ]
  },
  {
   "cell_type": "markdown",
   "id": "811bc5ce-aa44-4236-b1e9-6030e7dbf6af",
   "metadata": {},
   "source": [
    "## Load the files for training and testing\n",
    "There are different training and test sets in the folder. This section loads the appropriate ones into memory.\n"
   ]
  },
  {
   "cell_type": "code",
   "execution_count": 2,
   "id": "115d3413-62fe-49ea-8ef4-3699eb66bdbb",
   "metadata": {
    "tags": []
   },
   "outputs": [],
   "source": [
    "# this is a smaller training set for testing purposes\n",
    "folder = \"training/new_small\"\n",
    "base = \"noisy_small\"\n",
    "target = \"pure_small\"\n",
    "\n",
    "# this is a training set for training the main model\n",
    "# folder = \"training/original training\"\n",
    "# base = \"noisy\"\n",
    "# target = \"pure\"\n",
    "\n",
    "test_folder = \"training/test set\"\n",
    "test_base = \"noisy_test\"\n",
    "test_target = \"pure_test\"\n"
   ]
  },
  {
   "cell_type": "markdown",
   "id": "f2bfb3c6-cf3b-4f52-9ca2-622b8b043e81",
   "metadata": {},
   "source": [
    "Load the files from the given locations using the custom code StftDataset class.\n",
    "\n",
    "The StftDataset class also processes the waveforms into STFT format."
   ]
  },
  {
   "cell_type": "code",
   "execution_count": 3,
   "id": "a8ba1024-20b4-4cec-91f7-31df7f573323",
   "metadata": {
    "tags": []
   },
   "outputs": [
    {
     "name": "stdout",
     "output_type": "stream",
     "text": [
      "Files loaded.\n",
      "Files loaded.\n",
      "Files loaded.\n",
      "Files loaded.\n"
     ]
    }
   ],
   "source": [
    "noisy_stft = StftDataset()\n",
    "pure_stft = StftDataset()\n",
    "\n",
    "noisy_stft.load(folder, base)\n",
    "pure_stft.load(folder, target)\n",
    "\n",
    "# test sets\n",
    "noisy_test_stft = StftDataset()\n",
    "pure_test_stft = StftDataset()\n",
    "noisy_test_stft.load(test_folder, test_base)\n",
    "pure_test_stft.load(test_folder, test_target)"
   ]
  },
  {
   "cell_type": "code",
   "execution_count": 4,
   "id": "18fee2e5-f367-41bc-bddf-9029e61fad71",
   "metadata": {
    "tags": []
   },
   "outputs": [],
   "source": [
    "# get the amplitudes of training and test sets\n",
    "examples = noisy_stft.get_data()[:,:,:,:]\n",
    "labels = pure_stft.get_data()[:,:,:,:]"
   ]
  },
  {
   "cell_type": "code",
   "execution_count": 5,
   "id": "42d36169-96c9-43f8-86b5-61c1749dcf70",
   "metadata": {
    "tags": []
   },
   "outputs": [],
   "source": [
    "t = noisy_stft.t\n",
    "f = noisy_stft.f"
   ]
  },
  {
   "cell_type": "markdown",
   "id": "d464cba4-3a4c-4904-aabd-c66e6d35c835",
   "metadata": {},
   "source": [
    "## Analyze the memory requirements\n",
    "The STFT takes up more space in memory.\n"
   ]
  },
  {
   "cell_type": "code",
   "execution_count": 9,
   "id": "ababc4b2-790d-4dee-96a0-91a08260bc59",
   "metadata": {
    "tags": []
   },
   "outputs": [
    {
     "name": "stdout",
     "output_type": "stream",
     "text": [
      "Memory size of array: 185760000 bytes\n",
      "Memory size of array: 177.154541015625 Mb\n",
      "Memory size of array: 185.76 MB\n"
     ]
    }
   ],
   "source": [
    "mem_size = examples.nbytes\n",
    "print(f\"Memory size of array: {mem_size} bytes\")\n",
    "mem_size_Mb = mem_size / (1024 * 1024)\n",
    "mem_size_MB = mem_size / (1000 * 1000)\n",
    "\n",
    "print(f\"Memory size of array: {mem_size_Mb} Mb\")\n",
    "print(f\"Memory size of array: {mem_size_MB} MB\")"
   ]
  },
  {
   "cell_type": "code",
   "execution_count": 11,
   "id": "b1ca82ec-bb21-4e0a-a594-1bd1ee151fc0",
   "metadata": {
    "tags": []
   },
   "outputs": [
    {
     "data": {
      "text/plain": [
       "dtype('float64')"
      ]
     },
     "execution_count": 11,
     "metadata": {},
     "output_type": "execute_result"
    }
   ],
   "source": [
    "examples.dtype"
   ]
  },
  {
   "cell_type": "code",
   "execution_count": null,
   "id": "5e852891-c0b6-4394-a9a8-c9430d11d3b8",
   "metadata": {},
   "outputs": [],
   "source": []
  }
 ],
 "metadata": {
  "kernelspec": {
   "display_name": "Python 3 (ipykernel)",
   "language": "python",
   "name": "python3"
  },
  "language_info": {
   "codemirror_mode": {
    "name": "ipython",
    "version": 3
   },
   "file_extension": ".py",
   "mimetype": "text/x-python",
   "name": "python",
   "nbconvert_exporter": "python",
   "pygments_lexer": "ipython3",
   "version": "3.9.16"
  }
 },
 "nbformat": 4,
 "nbformat_minor": 5
}
