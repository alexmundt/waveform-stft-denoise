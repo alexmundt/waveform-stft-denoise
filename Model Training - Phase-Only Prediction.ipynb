{
 "cells": [
  {
   "cell_type": "markdown",
   "id": "4c4bc3da-e0a9-4a6d-8269-416f3b5e426e",
   "metadata": {},
   "source": [
    "# Model Training - Phase-Only Prediction\n",
    "This model architecture only predicts the phase information.\n",
    "\n",
    "Both the phase and the amplitude information are taken into account for the prediction."
   ]
  },
  {
   "cell_type": "markdown",
   "id": "af89b7f9-b0a3-4b4e-ad8b-cb76cf1d0c2e",
   "metadata": {
    "tags": []
   },
   "source": [
    "## Imports\n",
    "This notebook uses the custom code found in the code folder"
   ]
  },
  {
   "cell_type": "code",
   "execution_count": 12,
   "id": "2d038a39-333d-466f-813b-ba25e46aaf08",
   "metadata": {
    "tags": []
   },
   "outputs": [],
   "source": [
    "import os\n",
    "\n",
    "# math, processing, deep learning\n",
    "import numpy as np\n",
    "import tensorflow as tf\n",
    "from scipy.signal import stft, istft\n",
    "\n",
    "# visualization\n",
    "import matplotlib.pyplot as plt\n",
    "from ipywidgets import interact\n",
    "from mpl_toolkits.axes_grid1 import make_axes_locatable\n",
    "\n",
    "\n",
    "# custom code\n",
    "from code.stftprocessing import StftDataset\n",
    "from code.dsvisual import DatasetVisualizer\n",
    "\n",
    "# convenience\n",
    "from tqdm import tqdm\n",
    "import datetime\n"
   ]
  },
  {
   "cell_type": "markdown",
   "id": "3c018a04-4eef-4880-95dd-dec0a95dd92c",
   "metadata": {},
   "source": [
    "## Load the files for training and testing\n",
    "There are different training and test sets in the folder. This section loads the appropriate ones into memory.\n"
   ]
  },
  {
   "cell_type": "code",
   "execution_count": 13,
   "id": "7c5005d7-ef4c-4d6f-ac61-9022a8267d18",
   "metadata": {
    "tags": []
   },
   "outputs": [],
   "source": [
    "# this is a smaller training set for testing purposes\n",
    "folder = \"training/new_small\"\n",
    "base = \"noisy_small\"\n",
    "target = \"pure_small\"\n",
    "\n",
    "# this is a training set for training the main model\n",
    "# folder = \"training/original training\"\n",
    "# base = \"noisy\"\n",
    "# target = \"pure\"\n",
    "\n",
    "test_folder = \"training/test set\"\n",
    "test_base = \"noisy_test\"\n",
    "test_target = \"pure_test\"\n"
   ]
  },
  {
   "cell_type": "markdown",
   "id": "bf78c285-c30f-4693-9a5d-026bc84c6dd4",
   "metadata": {},
   "source": [
    "Load the files from the given locations using the custom code StftDataset class.\n",
    "\n",
    "The StftDataset class also processes the waveforms into STFT format."
   ]
  },
  {
   "cell_type": "code",
   "execution_count": 14,
   "id": "67a3f1e0-0fa2-4d50-8552-5575b1bc0f3d",
   "metadata": {
    "tags": []
   },
   "outputs": [
    {
     "name": "stdout",
     "output_type": "stream",
     "text": [
      "Files loaded.\n",
      "Files loaded.\n",
      "Files loaded.\n",
      "Files loaded.\n"
     ]
    }
   ],
   "source": [
    "noisy_stft = StftDataset()\n",
    "pure_stft = StftDataset()\n",
    "\n",
    "noisy_stft.load(folder, base)\n",
    "pure_stft.load(folder, target)\n",
    "\n",
    "# test sets\n",
    "noisy_test_stft = StftDataset()\n",
    "pure_test_stft = StftDataset()\n",
    "noisy_test_stft.load(test_folder, test_base)\n",
    "pure_test_stft.load(test_folder, test_target)"
   ]
  },
  {
   "cell_type": "markdown",
   "id": "82aa54aa-63b6-4a77-accd-13e34019cfe6",
   "metadata": {},
   "source": [
    "Check the shape of the data"
   ]
  },
  {
   "cell_type": "code",
   "execution_count": 4,
   "id": "11608d20-dfe1-4179-9d4c-6dd7b94af13e",
   "metadata": {
    "tags": []
   },
   "outputs": [
    {
     "data": {
      "text/plain": [
       "(10000, 129, 9, 2)"
      ]
     },
     "execution_count": 4,
     "metadata": {},
     "output_type": "execute_result"
    }
   ],
   "source": [
    "noisy_stft.get_data().shape"
   ]
  },
  {
   "cell_type": "markdown",
   "id": "8f61b6da-a36f-40e2-b9dc-4806ba1f5a02",
   "metadata": {},
   "source": [
    "### Extracting phase and amplitude information\n",
    "The StftDataset class loads the data that was stored in amplitude and phase format in different files and combines it together"
   ]
  },
  {
   "cell_type": "code",
   "execution_count": 15,
   "id": "fc006258-5af8-42b3-ab54-a4189c550ef4",
   "metadata": {},
   "outputs": [],
   "source": [
    "# get the amplitudes of training and test sets\n",
    "examples = noisy_stft.get_data()[:,:,:,:]\n",
    "labels = pure_stft.get_data()[:,:,:,1]\n",
    "\n",
    "stride_reduce = 100\n",
    "examples_test = noisy_test_stft.get_data()[::stride_reduce,:,:,:]\n",
    "labels_test = pure_test_stft.get_data()[::stride_reduce,:,:,1]\n",
    "\n",
    "# examples_test_phase = noisy_test_stft.get_data()[::stride_reduce,:,:,1]\n",
    "# labels_test_phase = pure_test_stft.get_data()[::stride_reduce,:,:,1]\n",
    "\n",
    "# build the dataset from tensorflow functions\n",
    "train_dataset = tf.data.Dataset.from_tensor_slices((examples, labels))\n",
    "test_dataset = tf.data.Dataset.from_tensor_slices((examples_test, labels_test))"
   ]
  },
  {
   "cell_type": "code",
   "execution_count": 16,
   "id": "6562c220-7860-4297-a77d-c5e88007007a",
   "metadata": {
    "tags": []
   },
   "outputs": [
    {
     "data": {
      "text/plain": [
       "<TensorSliceDataset shapes: ((129, 9, 2), (129, 9)), types: (tf.float64, tf.float64)>"
      ]
     },
     "execution_count": 16,
     "metadata": {},
     "output_type": "execute_result"
    }
   ],
   "source": [
    "train_dataset\n",
    "# test_dataset"
   ]
  },
  {
   "cell_type": "code",
   "execution_count": 34,
   "id": "b974f1c1-e512-4859-96e2-f2abf7b99d66",
   "metadata": {
    "tags": []
   },
   "outputs": [],
   "source": [
    "input_shape = examples.shape[1:]\n",
    "output_shape = labels.shape[1:]\n",
    "# count up the number of elements in the data for the flattened layer\n",
    "number_of_data_elements = np.prod(input_shape)\n",
    "number_of_data_elements_output = np.prod(output_shape)"
   ]
  },
  {
   "cell_type": "code",
   "execution_count": 18,
   "id": "ea6f06e8-d6e8-41fc-8bb3-9038794e20b8",
   "metadata": {
    "tags": []
   },
   "outputs": [],
   "source": [
    "BATCH_SIZE = int(512/1)\n",
    "SHUFFLE_BUFFER_SIZE = int(2000/1)\n",
    "\n",
    "train_dataset = train_dataset.shuffle(SHUFFLE_BUFFER_SIZE).batch(BATCH_SIZE)\n",
    "test_dataset = test_dataset.batch(BATCH_SIZE)"
   ]
  },
  {
   "cell_type": "code",
   "execution_count": 19,
   "id": "0c4d1f41-be67-4b4c-b0c5-79885978c533",
   "metadata": {
    "tags": []
   },
   "outputs": [],
   "source": [
    "# train_dataset.take(1).unbatch()\n",
    "   "
   ]
  },
  {
   "cell_type": "code",
   "execution_count": 20,
   "id": "3c205536-ec0b-461c-947b-c9125faab333",
   "metadata": {
    "tags": []
   },
   "outputs": [],
   "source": [
    "class Custom_Loss(tf.keras.losses.Loss):\n",
    "\n",
    "    def call(self, y_true, y_pred):        \n",
    "        amplitude_mse = tf.reduce_mean(tf.math.square(y_pred[:,:,:,0] - y_true[:,:,:,0]))\n",
    "        phase_mse = tf.reduce_mean(tf.math.square(y_pred[:,:,:,1] - y_true[:,:,:,1]))\n",
    "        # return amplitude_mse + 0.0001*phase_mse\n",
    "        return amplitude_mse \n",
    "\n",
    "\n",
    "# Define custom activation function for scaling\n",
    "def scaling_activation(x):\n",
    "    return 3.14 * tf.tanh(x)\n",
    "    \n",
    "def scaling_activation(x):\n",
    "    amplitude_activation = 0\n",
    "    phase_activation =0\n",
    "    return 3.14 * tf.tanh(x)\n",
    "    "
   ]
  },
  {
   "cell_type": "code",
   "execution_count": 160,
   "id": "97c703f4-8424-435f-a5a8-c7b3a34c593a",
   "metadata": {
    "tags": []
   },
   "outputs": [],
   "source": [
    "dropout_rate = 0.05\n",
    "factor = 1\n",
    "\n",
    "model = tf.keras.Sequential([\n",
    "     # this is normalization for amplitude and phase information, both separated on the last axis\n",
    "    # tf.keras.layers.experimental.preprocessing.Normalization(axis=-1, input_shape=input_shape),\n",
    "    \n",
    "    # tf.keras.layers.experimental.preprocessing.Normalization(axis=(-3,-2,-1),input_shape=input_shape),\n",
    "    \n",
    "    tf.keras.layers.Flatten(input_shape=input_shape, name=\"flatten_layer\"),\n",
    "    \n",
    "    tf.keras.layers.experimental.preprocessing.Normalization(name=\"norm_layer\"),\n",
    "\n",
    "    tf.keras.layers.Dense(units = 125*factor, activation='elu'),\n",
    "    tf.keras.layers.Dropout(rate=dropout_rate),\n",
    "    tf.keras.layers.Dense(units = 75*factor, activation='elu'),\n",
    "    tf.keras.layers.Dropout(rate=dropout_rate*0.25),\n",
    "\n",
    "    tf.keras.layers.Dense(units = 50*factor, activation='elu'),\n",
    "    tf.keras.layers.Dropout(rate=dropout_rate*0.25),\n",
    "    tf.keras.layers.Dense(units = 50*factor, activation='elu'),\n",
    "    tf.keras.layers.Dropout(rate=dropout_rate*0.25),\n",
    "    tf.keras.layers.Dense(units = 50*factor, activation='elu'),\n",
    "    tf.keras.layers.Dropout(rate=dropout_rate*0.25),\n",
    "\n",
    "    tf.keras.layers.Dense(units = 75*factor, activation='elu'),\n",
    "    tf.keras.layers.Dropout(rate=dropout_rate),\n",
    "\n",
    "\n",
    "    tf.keras.layers.Dense(units = number_of_data_elements_output, activation='tanh'),\n",
    "    # tf.keras.layers.Dense((128,9,2), activation='relu'),\n",
    "    # tf.keras.layers.Dense((128,9,2), activation='relu'),\n",
    "    # tf.keras.layers.Dense((128,9,2), activation='relu'),\n",
    "    # tf.keras.layers.Conv2D(3,2, activation='relu', input_shape=input_shape),\n",
    "    tf.keras.layers.experimental.preprocessing.Rescaling(scale=3.14),\n",
    "    tf.keras.layers.Reshape(target_shape=output_shape)\n",
    "])\n",
    "\n",
    "model.compile(optimizer=\"adam\",\n",
    "              # loss=Custom_Loss(),\n",
    "                loss=\"mse\"\n",
    "\n",
    "              )"
   ]
  },
  {
   "cell_type": "code",
   "execution_count": 162,
   "id": "c54f25dc-b243-4398-8afa-a02d60569733",
   "metadata": {
    "tags": []
   },
   "outputs": [],
   "source": [
    "flatten_layer = model.get_layer(\"flatten_layer\")\n",
    "\n",
    "# the Normalization layer for the flattened input is at the 2nd position\n",
    "norm_layer = model.get_layer(\"norm_layer\")"
   ]
  },
  {
   "cell_type": "code",
   "execution_count": 164,
   "id": "51ebd605-d467-4377-8dc4-cc9343e1849d",
   "metadata": {
    "tags": []
   },
   "outputs": [],
   "source": [
    "norm_layer.adapt(flatten_layer(examples))"
   ]
  },
  {
   "cell_type": "code",
   "execution_count": 165,
   "id": "a5a764f9-e88f-4864-854b-6345cdd4221d",
   "metadata": {
    "tags": []
   },
   "outputs": [],
   "source": [
    "train_take_example = train_dataset.take(1)"
   ]
  },
  {
   "cell_type": "code",
   "execution_count": 166,
   "id": "febbd41d-d8e1-40da-82f8-e3771819a33e",
   "metadata": {
    "tags": []
   },
   "outputs": [],
   "source": [
    "# help(train_take_example)"
   ]
  },
  {
   "cell_type": "code",
   "execution_count": 167,
   "id": "fde5a1e6-5863-4bae-80c6-25b29f53b409",
   "metadata": {
    "tags": []
   },
   "outputs": [
    {
     "data": {
      "text/plain": [
       "(10000, 129, 9, 2)"
      ]
     },
     "execution_count": 167,
     "metadata": {},
     "output_type": "execute_result"
    }
   ],
   "source": [
    "examples.shape"
   ]
  },
  {
   "cell_type": "code",
   "execution_count": 168,
   "id": "e2cb7261-8042-4904-a5aa-65c99bcda994",
   "metadata": {
    "tags": []
   },
   "outputs": [
    {
     "ename": "InvalidArgumentError",
     "evalue": "Incompatible shapes: [129,9,2] vs. [1,2322] [Op:Sub]",
     "output_type": "error",
     "traceback": [
      "\u001b[0;31m---------------------------------------------------------------------------\u001b[0m",
      "\u001b[0;31mInvalidArgumentError\u001b[0m                      Traceback (most recent call last)",
      "Cell \u001b[0;32mIn[168], line 1\u001b[0m\n\u001b[0;32m----> 1\u001b[0m norm_example \u001b[38;5;241m=\u001b[39m \u001b[43mnorm_layer\u001b[49m\u001b[43m(\u001b[49m\u001b[43mexamples\u001b[49m\u001b[43m[\u001b[49m\u001b[38;5;241;43m0\u001b[39;49m\u001b[43m]\u001b[49m\u001b[43m)\u001b[49m\n",
      "File \u001b[0;32m~/Daten2TB/Anaconda2021-11/envs/tf/lib/python3.9/site-packages/tensorflow/python/keras/engine/base_layer.py:1012\u001b[0m, in \u001b[0;36mLayer.__call__\u001b[0;34m(self, *args, **kwargs)\u001b[0m\n\u001b[1;32m   1008\u001b[0m   \u001b[38;5;28mself\u001b[39m\u001b[38;5;241m.\u001b[39m_maybe_build(inputs)\n\u001b[1;32m   1010\u001b[0m \u001b[38;5;28;01mwith\u001b[39;00m autocast_variable\u001b[38;5;241m.\u001b[39menable_auto_cast_variables(\n\u001b[1;32m   1011\u001b[0m     \u001b[38;5;28mself\u001b[39m\u001b[38;5;241m.\u001b[39m_compute_dtype_object):\n\u001b[0;32m-> 1012\u001b[0m   outputs \u001b[38;5;241m=\u001b[39m \u001b[43mcall_fn\u001b[49m\u001b[43m(\u001b[49m\u001b[43minputs\u001b[49m\u001b[43m,\u001b[49m\u001b[43m \u001b[49m\u001b[38;5;241;43m*\u001b[39;49m\u001b[43margs\u001b[49m\u001b[43m,\u001b[49m\u001b[43m \u001b[49m\u001b[38;5;241;43m*\u001b[39;49m\u001b[38;5;241;43m*\u001b[39;49m\u001b[43mkwargs\u001b[49m\u001b[43m)\u001b[49m\n\u001b[1;32m   1014\u001b[0m \u001b[38;5;28;01mif\u001b[39;00m \u001b[38;5;28mself\u001b[39m\u001b[38;5;241m.\u001b[39m_activity_regularizer:\n\u001b[1;32m   1015\u001b[0m   \u001b[38;5;28mself\u001b[39m\u001b[38;5;241m.\u001b[39m_handle_activity_regularization(inputs, outputs)\n",
      "File \u001b[0;32m~/Daten2TB/Anaconda2021-11/envs/tf/lib/python3.9/site-packages/tensorflow/python/keras/layers/preprocessing/normalization.py:209\u001b[0m, in \u001b[0;36mNormalization.call\u001b[0;34m(self, inputs)\u001b[0m\n\u001b[1;32m    207\u001b[0m mean \u001b[38;5;241m=\u001b[39m array_ops\u001b[38;5;241m.\u001b[39mreshape(\u001b[38;5;28mself\u001b[39m\u001b[38;5;241m.\u001b[39mmean, \u001b[38;5;28mself\u001b[39m\u001b[38;5;241m.\u001b[39m_broadcast_shape)\n\u001b[1;32m    208\u001b[0m variance \u001b[38;5;241m=\u001b[39m array_ops\u001b[38;5;241m.\u001b[39mreshape(\u001b[38;5;28mself\u001b[39m\u001b[38;5;241m.\u001b[39mvariance, \u001b[38;5;28mself\u001b[39m\u001b[38;5;241m.\u001b[39m_broadcast_shape)\n\u001b[0;32m--> 209\u001b[0m \u001b[38;5;28;01mreturn\u001b[39;00m ((\u001b[43minputs\u001b[49m\u001b[43m \u001b[49m\u001b[38;5;241;43m-\u001b[39;49m\u001b[43m \u001b[49m\u001b[43mmean\u001b[49m) \u001b[38;5;241m/\u001b[39m\n\u001b[1;32m    210\u001b[0m         math_ops\u001b[38;5;241m.\u001b[39mmaximum(math_ops\u001b[38;5;241m.\u001b[39msqrt(variance), K\u001b[38;5;241m.\u001b[39mepsilon()))\n",
      "File \u001b[0;32m~/Daten2TB/Anaconda2021-11/envs/tf/lib/python3.9/site-packages/tensorflow/python/ops/math_ops.py:1164\u001b[0m, in \u001b[0;36m_OverrideBinaryOperatorHelper.<locals>.binary_op_wrapper\u001b[0;34m(x, y)\u001b[0m\n\u001b[1;32m   1162\u001b[0m \u001b[38;5;28;01mwith\u001b[39;00m ops\u001b[38;5;241m.\u001b[39mname_scope(\u001b[38;5;28;01mNone\u001b[39;00m, op_name, [x, y]) \u001b[38;5;28;01mas\u001b[39;00m name:\n\u001b[1;32m   1163\u001b[0m   \u001b[38;5;28;01mtry\u001b[39;00m:\n\u001b[0;32m-> 1164\u001b[0m     \u001b[38;5;28;01mreturn\u001b[39;00m \u001b[43mfunc\u001b[49m\u001b[43m(\u001b[49m\u001b[43mx\u001b[49m\u001b[43m,\u001b[49m\u001b[43m \u001b[49m\u001b[43my\u001b[49m\u001b[43m,\u001b[49m\u001b[43m \u001b[49m\u001b[43mname\u001b[49m\u001b[38;5;241;43m=\u001b[39;49m\u001b[43mname\u001b[49m\u001b[43m)\u001b[49m\n\u001b[1;32m   1165\u001b[0m   \u001b[38;5;28;01mexcept\u001b[39;00m (\u001b[38;5;167;01mTypeError\u001b[39;00m, \u001b[38;5;167;01mValueError\u001b[39;00m) \u001b[38;5;28;01mas\u001b[39;00m e:\n\u001b[1;32m   1166\u001b[0m     \u001b[38;5;66;03m# Even if dispatching the op failed, the RHS may be a tensor aware\u001b[39;00m\n\u001b[1;32m   1167\u001b[0m     \u001b[38;5;66;03m# object that can implement the operator with knowledge of itself\u001b[39;00m\n\u001b[0;32m   (...)\u001b[0m\n\u001b[1;32m   1170\u001b[0m     \u001b[38;5;66;03m# original error from the LHS, because it may be more\u001b[39;00m\n\u001b[1;32m   1171\u001b[0m     \u001b[38;5;66;03m# informative.\u001b[39;00m\n\u001b[1;32m   1172\u001b[0m     \u001b[38;5;28;01mif\u001b[39;00m \u001b[38;5;28mhasattr\u001b[39m(\u001b[38;5;28mtype\u001b[39m(y), \u001b[38;5;124m\"\u001b[39m\u001b[38;5;124m__r\u001b[39m\u001b[38;5;132;01m%s\u001b[39;00m\u001b[38;5;124m__\u001b[39m\u001b[38;5;124m\"\u001b[39m \u001b[38;5;241m%\u001b[39m op_name):\n",
      "File \u001b[0;32m~/Daten2TB/Anaconda2021-11/envs/tf/lib/python3.9/site-packages/tensorflow/python/util/dispatch.py:201\u001b[0m, in \u001b[0;36madd_dispatch_support.<locals>.wrapper\u001b[0;34m(*args, **kwargs)\u001b[0m\n\u001b[1;32m    199\u001b[0m \u001b[38;5;250m\u001b[39m\u001b[38;5;124;03m\"\"\"Call target, and fall back on dispatchers if there is a TypeError.\"\"\"\u001b[39;00m\n\u001b[1;32m    200\u001b[0m \u001b[38;5;28;01mtry\u001b[39;00m:\n\u001b[0;32m--> 201\u001b[0m   \u001b[38;5;28;01mreturn\u001b[39;00m \u001b[43mtarget\u001b[49m\u001b[43m(\u001b[49m\u001b[38;5;241;43m*\u001b[39;49m\u001b[43margs\u001b[49m\u001b[43m,\u001b[49m\u001b[43m \u001b[49m\u001b[38;5;241;43m*\u001b[39;49m\u001b[38;5;241;43m*\u001b[39;49m\u001b[43mkwargs\u001b[49m\u001b[43m)\u001b[49m\n\u001b[1;32m    202\u001b[0m \u001b[38;5;28;01mexcept\u001b[39;00m (\u001b[38;5;167;01mTypeError\u001b[39;00m, \u001b[38;5;167;01mValueError\u001b[39;00m):\n\u001b[1;32m    203\u001b[0m   \u001b[38;5;66;03m# Note: convert_to_eager_tensor currently raises a ValueError, not a\u001b[39;00m\n\u001b[1;32m    204\u001b[0m   \u001b[38;5;66;03m# TypeError, when given unexpected types.  So we need to catch both.\u001b[39;00m\n\u001b[1;32m    205\u001b[0m   result \u001b[38;5;241m=\u001b[39m dispatch(wrapper, args, kwargs)\n",
      "File \u001b[0;32m~/Daten2TB/Anaconda2021-11/envs/tf/lib/python3.9/site-packages/tensorflow/python/ops/math_ops.py:561\u001b[0m, in \u001b[0;36msubtract\u001b[0;34m(x, y, name)\u001b[0m\n\u001b[1;32m    533\u001b[0m \u001b[38;5;129m@tf_export\u001b[39m(\u001b[38;5;124m\"\u001b[39m\u001b[38;5;124mmath.subtract\u001b[39m\u001b[38;5;124m\"\u001b[39m, \u001b[38;5;124m\"\u001b[39m\u001b[38;5;124msubtract\u001b[39m\u001b[38;5;124m\"\u001b[39m)\n\u001b[1;32m    534\u001b[0m \u001b[38;5;129m@dispatch\u001b[39m\u001b[38;5;241m.\u001b[39madd_dispatch_support\n\u001b[1;32m    535\u001b[0m \u001b[38;5;28;01mdef\u001b[39;00m \u001b[38;5;21msubtract\u001b[39m(x, y, name\u001b[38;5;241m=\u001b[39m\u001b[38;5;28;01mNone\u001b[39;00m):\n\u001b[1;32m    536\u001b[0m \u001b[38;5;250m  \u001b[39m\u001b[38;5;124;03m\"\"\"Returns x - y element-wise.\u001b[39;00m\n\u001b[1;32m    537\u001b[0m \n\u001b[1;32m    538\u001b[0m \u001b[38;5;124;03m  *Note*: Subtract supports broadcasting. More about broadcasting\u001b[39;00m\n\u001b[0;32m   (...)\u001b[0m\n\u001b[1;32m    559\u001b[0m \u001b[38;5;124;03m    A `Tensor`. Has the same type as x.\u001b[39;00m\n\u001b[1;32m    560\u001b[0m \u001b[38;5;124;03m  \"\"\"\u001b[39;00m\n\u001b[0;32m--> 561\u001b[0m   \u001b[38;5;28;01mreturn\u001b[39;00m \u001b[43mgen_math_ops\u001b[49m\u001b[38;5;241;43m.\u001b[39;49m\u001b[43msub\u001b[49m\u001b[43m(\u001b[49m\u001b[43mx\u001b[49m\u001b[43m,\u001b[49m\u001b[43m \u001b[49m\u001b[43my\u001b[49m\u001b[43m,\u001b[49m\u001b[43m \u001b[49m\u001b[43mname\u001b[49m\u001b[43m)\u001b[49m\n",
      "File \u001b[0;32m~/Daten2TB/Anaconda2021-11/envs/tf/lib/python3.9/site-packages/tensorflow/python/ops/gen_math_ops.py:10307\u001b[0m, in \u001b[0;36msub\u001b[0;34m(x, y, name)\u001b[0m\n\u001b[1;32m  10305\u001b[0m   \u001b[38;5;28;01mreturn\u001b[39;00m _result\n\u001b[1;32m  10306\u001b[0m \u001b[38;5;28;01mexcept\u001b[39;00m _core\u001b[38;5;241m.\u001b[39m_NotOkStatusException \u001b[38;5;28;01mas\u001b[39;00m e:\n\u001b[0;32m> 10307\u001b[0m   \u001b[43m_ops\u001b[49m\u001b[38;5;241;43m.\u001b[39;49m\u001b[43mraise_from_not_ok_status\u001b[49m\u001b[43m(\u001b[49m\u001b[43me\u001b[49m\u001b[43m,\u001b[49m\u001b[43m \u001b[49m\u001b[43mname\u001b[49m\u001b[43m)\u001b[49m\n\u001b[1;32m  10308\u001b[0m \u001b[38;5;28;01mexcept\u001b[39;00m _core\u001b[38;5;241m.\u001b[39m_FallbackException:\n\u001b[1;32m  10309\u001b[0m   \u001b[38;5;28;01mpass\u001b[39;00m\n",
      "File \u001b[0;32m~/Daten2TB/Anaconda2021-11/envs/tf/lib/python3.9/site-packages/tensorflow/python/framework/ops.py:6862\u001b[0m, in \u001b[0;36mraise_from_not_ok_status\u001b[0;34m(e, name)\u001b[0m\n\u001b[1;32m   6860\u001b[0m message \u001b[38;5;241m=\u001b[39m e\u001b[38;5;241m.\u001b[39mmessage \u001b[38;5;241m+\u001b[39m (\u001b[38;5;124m\"\u001b[39m\u001b[38;5;124m name: \u001b[39m\u001b[38;5;124m\"\u001b[39m \u001b[38;5;241m+\u001b[39m name \u001b[38;5;28;01mif\u001b[39;00m name \u001b[38;5;129;01mis\u001b[39;00m \u001b[38;5;129;01mnot\u001b[39;00m \u001b[38;5;28;01mNone\u001b[39;00m \u001b[38;5;28;01melse\u001b[39;00m \u001b[38;5;124m\"\u001b[39m\u001b[38;5;124m\"\u001b[39m)\n\u001b[1;32m   6861\u001b[0m \u001b[38;5;66;03m# pylint: disable=protected-access\u001b[39;00m\n\u001b[0;32m-> 6862\u001b[0m \u001b[43msix\u001b[49m\u001b[38;5;241;43m.\u001b[39;49m\u001b[43mraise_from\u001b[49m\u001b[43m(\u001b[49m\u001b[43mcore\u001b[49m\u001b[38;5;241;43m.\u001b[39;49m\u001b[43m_status_to_exception\u001b[49m\u001b[43m(\u001b[49m\u001b[43me\u001b[49m\u001b[38;5;241;43m.\u001b[39;49m\u001b[43mcode\u001b[49m\u001b[43m,\u001b[49m\u001b[43m \u001b[49m\u001b[43mmessage\u001b[49m\u001b[43m)\u001b[49m\u001b[43m,\u001b[49m\u001b[43m \u001b[49m\u001b[38;5;28;43;01mNone\u001b[39;49;00m\u001b[43m)\u001b[49m\n",
      "File \u001b[0;32m<string>:3\u001b[0m, in \u001b[0;36mraise_from\u001b[0;34m(value, from_value)\u001b[0m\n",
      "\u001b[0;31mInvalidArgumentError\u001b[0m: Incompatible shapes: [129,9,2] vs. [1,2322] [Op:Sub]"
     ]
    }
   ],
   "source": [
    "norm_example = norm_layer(examples[0])"
   ]
  },
  {
   "cell_type": "code",
   "execution_count": null,
   "id": "4aeec26b-ca9c-42ec-a9d9-73fe6bb0776f",
   "metadata": {
    "tags": []
   },
   "outputs": [],
   "source": [
    "norm_example.shape"
   ]
  },
  {
   "cell_type": "code",
   "execution_count": null,
   "id": "57143068-bb62-4b45-9c60-f18496f36e2f",
   "metadata": {
    "tags": []
   },
   "outputs": [],
   "source": [
    "plt.imshow(norm_example[0,:,:,0], aspect=\"auto\")\n",
    "plt.colorbar()"
   ]
  },
  {
   "cell_type": "code",
   "execution_count": 169,
   "id": "0718a710-2c05-4b92-82ef-eb6811f27f69",
   "metadata": {
    "tags": []
   },
   "outputs": [],
   "source": [
    "# help(norm_layer)"
   ]
  },
  {
   "cell_type": "code",
   "execution_count": 170,
   "id": "3b0c4fd8-dccf-49a8-bfbe-a05ff098a383",
   "metadata": {
    "tags": []
   },
   "outputs": [],
   "source": [
    "# norm_layer(train_take_example)"
   ]
  },
  {
   "cell_type": "code",
   "execution_count": 171,
   "id": "5b853a9d-5f50-4095-b03c-969174f5b9e0",
   "metadata": {
    "tags": []
   },
   "outputs": [
    {
     "data": {
      "text/plain": [
       "<tf.Variable 'norm_layer/variance:0' shape=(2322,) dtype=float32, numpy=\n",
       "array([3.5929631e-10, 2.4127693e+00, 2.6915100e-14, ..., 2.4673576e+00,\n",
       "       4.4029766e-06, 2.4673395e+00], dtype=float32)>"
      ]
     },
     "execution_count": 171,
     "metadata": {},
     "output_type": "execute_result"
    }
   ],
   "source": [
    "norm_layer.variance"
   ]
  },
  {
   "cell_type": "code",
   "execution_count": 172,
   "id": "70b3b061-1eeb-48bd-b9c8-f2e73f73fa17",
   "metadata": {
    "tags": []
   },
   "outputs": [
    {
     "name": "stdout",
     "output_type": "stream",
     "text": [
      "Model: \"sequential_5\"\n",
      "_________________________________________________________________\n",
      "Layer (type)                 Output Shape              Param #   \n",
      "=================================================================\n",
      "flatten_layer (Flatten)      (None, 2322)              0         \n",
      "_________________________________________________________________\n",
      "norm_layer (Normalization)   (None, 2322)              4645      \n",
      "_________________________________________________________________\n",
      "dense_35 (Dense)             (None, 125)               290375    \n",
      "_________________________________________________________________\n",
      "dropout_30 (Dropout)         (None, 125)               0         \n",
      "_________________________________________________________________\n",
      "dense_36 (Dense)             (None, 75)                9450      \n",
      "_________________________________________________________________\n",
      "dropout_31 (Dropout)         (None, 75)                0         \n",
      "_________________________________________________________________\n",
      "dense_37 (Dense)             (None, 50)                3800      \n",
      "_________________________________________________________________\n",
      "dropout_32 (Dropout)         (None, 50)                0         \n",
      "_________________________________________________________________\n",
      "dense_38 (Dense)             (None, 50)                2550      \n",
      "_________________________________________________________________\n",
      "dropout_33 (Dropout)         (None, 50)                0         \n",
      "_________________________________________________________________\n",
      "dense_39 (Dense)             (None, 50)                2550      \n",
      "_________________________________________________________________\n",
      "dropout_34 (Dropout)         (None, 50)                0         \n",
      "_________________________________________________________________\n",
      "dense_40 (Dense)             (None, 75)                3825      \n",
      "_________________________________________________________________\n",
      "dropout_35 (Dropout)         (None, 75)                0         \n",
      "_________________________________________________________________\n",
      "dense_41 (Dense)             (None, 1161)              88236     \n",
      "_________________________________________________________________\n",
      "rescaling_2 (Rescaling)      (None, 1161)              0         \n",
      "_________________________________________________________________\n",
      "reshape_5 (Reshape)          (None, 129, 9)            0         \n",
      "=================================================================\n",
      "Total params: 405,431\n",
      "Trainable params: 400,786\n",
      "Non-trainable params: 4,645\n",
      "_________________________________________________________________\n"
     ]
    }
   ],
   "source": [
    "model.summary()"
   ]
  },
  {
   "cell_type": "code",
   "execution_count": 173,
   "id": "b804e9f8-eb27-42a2-8c91-80d87d07f724",
   "metadata": {
    "tags": []
   },
   "outputs": [],
   "source": [
    "from tensorflow.keras.callbacks import Callback\n",
    "\n",
    "class LossCallback(Callback):\n",
    "    def on_epoch_end(self, epoch, logs=None):\n",
    "        if not self.params['verbose']:\n",
    "            print(\"Loss: {}\".format(logs['loss']))"
   ]
  },
  {
   "cell_type": "code",
   "execution_count": 174,
   "id": "faea64cc-22a7-49a0-8c89-fb11785912cf",
   "metadata": {
    "tags": []
   },
   "outputs": [
    {
     "name": "stdout",
     "output_type": "stream",
     "text": [
      "Epoch 1/100\n",
      "20/20 [==============================] - 1s 19ms/step - loss: 3.4768 - val_loss: 3.3093\n",
      "Epoch 2/100\n",
      "20/20 [==============================] - 0s 15ms/step - loss: 3.1678 - val_loss: 3.3187\n",
      "Epoch 3/100\n",
      "20/20 [==============================] - 0s 15ms/step - loss: 2.9453 - val_loss: 3.3291\n",
      "Epoch 4/100\n",
      "20/20 [==============================] - 0s 15ms/step - loss: 2.7067 - val_loss: 3.3610\n",
      "Epoch 5/100\n",
      "20/20 [==============================] - 0s 15ms/step - loss: 2.5203 - val_loss: 3.4031\n",
      "Epoch 6/100\n",
      "20/20 [==============================] - 0s 15ms/step - loss: 2.3843 - val_loss: 3.4346\n",
      "Epoch 7/100\n",
      "20/20 [==============================] - 0s 15ms/step - loss: 2.2672 - val_loss: 3.4472\n",
      "Epoch 8/100\n",
      "20/20 [==============================] - 0s 15ms/step - loss: 2.1593 - val_loss: 3.4881\n",
      "Epoch 9/100\n",
      "20/20 [==============================] - 0s 15ms/step - loss: 2.0594 - val_loss: 3.5064\n",
      "Epoch 10/100\n",
      "20/20 [==============================] - 0s 14ms/step - loss: 1.9560 - val_loss: 3.5221\n",
      "Epoch 11/100\n",
      "20/20 [==============================] - 0s 14ms/step - loss: 1.8711 - val_loss: 3.5663\n",
      "Epoch 12/100\n",
      "20/20 [==============================] - 0s 15ms/step - loss: 1.7923 - val_loss: 3.5765\n",
      "Epoch 13/100\n",
      "20/20 [==============================] - 0s 14ms/step - loss: 1.7273 - val_loss: 3.6198\n",
      "Epoch 14/100\n",
      "20/20 [==============================] - 0s 14ms/step - loss: 1.6675 - val_loss: 3.6540\n",
      "Epoch 15/100\n",
      "20/20 [==============================] - 0s 15ms/step - loss: 1.6056 - val_loss: 3.6544\n",
      "Epoch 16/100\n",
      "20/20 [==============================] - 0s 15ms/step - loss: 1.5489 - val_loss: 3.6759\n",
      "Epoch 17/100\n",
      "20/20 [==============================] - 0s 15ms/step - loss: 1.4998 - val_loss: 3.6843\n",
      "Epoch 18/100\n",
      "20/20 [==============================] - 0s 15ms/step - loss: 1.4620 - val_loss: 3.6933\n",
      "Epoch 19/100\n",
      "20/20 [==============================] - 0s 15ms/step - loss: 1.4301 - val_loss: 3.7242\n",
      "Epoch 20/100\n",
      "20/20 [==============================] - 0s 15ms/step - loss: 1.3942 - val_loss: 3.6989\n",
      "Epoch 21/100\n",
      "20/20 [==============================] - 0s 14ms/step - loss: 1.3807 - val_loss: 3.7738\n",
      "Epoch 22/100\n",
      "20/20 [==============================] - 0s 14ms/step - loss: 1.3561 - val_loss: 3.7042\n",
      "Epoch 23/100\n",
      "20/20 [==============================] - 0s 14ms/step - loss: 1.3355 - val_loss: 3.7776\n",
      "Epoch 24/100\n",
      "20/20 [==============================] - 0s 15ms/step - loss: 1.2997 - val_loss: 3.7443\n",
      "Epoch 25/100\n",
      "20/20 [==============================] - 0s 14ms/step - loss: 1.2894 - val_loss: 3.7635\n",
      "Epoch 26/100\n",
      "20/20 [==============================] - 0s 15ms/step - loss: 1.2695 - val_loss: 3.7738\n",
      "Epoch 27/100\n",
      "20/20 [==============================] - 0s 14ms/step - loss: 1.2498 - val_loss: 3.7645\n",
      "Epoch 28/100\n",
      "20/20 [==============================] - 0s 14ms/step - loss: 1.2318 - val_loss: 3.7857\n",
      "Epoch 29/100\n",
      "20/20 [==============================] - 0s 14ms/step - loss: 1.2155 - val_loss: 3.7748\n",
      "Epoch 30/100\n",
      "20/20 [==============================] - 0s 14ms/step - loss: 1.2002 - val_loss: 3.7969\n",
      "Epoch 31/100\n",
      "20/20 [==============================] - 0s 15ms/step - loss: 1.2005 - val_loss: 3.7883\n",
      "Epoch 32/100\n",
      "20/20 [==============================] - 0s 14ms/step - loss: 1.1926 - val_loss: 3.7936\n",
      "Epoch 33/100\n",
      "20/20 [==============================] - 0s 14ms/step - loss: 1.1791 - val_loss: 3.7983\n",
      "Epoch 34/100\n",
      "20/20 [==============================] - 0s 14ms/step - loss: 1.1716 - val_loss: 3.8026\n",
      "Epoch 35/100\n",
      "20/20 [==============================] - 0s 15ms/step - loss: 1.1644 - val_loss: 3.8087\n",
      "Epoch 36/100\n",
      "20/20 [==============================] - 0s 14ms/step - loss: 1.1450 - val_loss: 3.8063\n",
      "Epoch 37/100\n",
      "20/20 [==============================] - 0s 15ms/step - loss: 1.1421 - val_loss: 3.8182\n",
      "Epoch 38/100\n",
      "20/20 [==============================] - 0s 15ms/step - loss: 1.1367 - val_loss: 3.8177\n",
      "Epoch 39/100\n",
      "20/20 [==============================] - 0s 14ms/step - loss: 1.1356 - val_loss: 3.8320\n",
      "Epoch 40/100\n",
      "20/20 [==============================] - 0s 14ms/step - loss: 1.1166 - val_loss: 3.8165\n",
      "Epoch 41/100\n",
      "20/20 [==============================] - 0s 14ms/step - loss: 1.1195 - val_loss: 3.8479\n",
      "Epoch 42/100\n",
      "20/20 [==============================] - 0s 14ms/step - loss: 1.1154 - val_loss: 3.8174\n",
      "Epoch 43/100\n",
      "20/20 [==============================] - 0s 14ms/step - loss: 1.1056 - val_loss: 3.8558\n",
      "Epoch 44/100\n",
      "20/20 [==============================] - 0s 15ms/step - loss: 1.0973 - val_loss: 3.8353\n",
      "Epoch 45/100\n",
      "20/20 [==============================] - 0s 15ms/step - loss: 1.1007 - val_loss: 3.8488\n",
      "Epoch 46/100\n",
      "20/20 [==============================] - 0s 15ms/step - loss: 1.1039 - val_loss: 3.8389\n",
      "Epoch 47/100\n",
      "20/20 [==============================] - 0s 15ms/step - loss: 1.0914 - val_loss: 3.8478\n",
      "Epoch 48/100\n",
      "20/20 [==============================] - 0s 15ms/step - loss: 1.0935 - val_loss: 3.8537\n",
      "Epoch 49/100\n",
      "20/20 [==============================] - 0s 15ms/step - loss: 1.0848 - val_loss: 3.8478\n",
      "Epoch 50/100\n",
      "20/20 [==============================] - 0s 15ms/step - loss: 1.0923 - val_loss: 3.8649\n",
      "Epoch 51/100\n",
      "20/20 [==============================] - 0s 15ms/step - loss: 1.0838 - val_loss: 3.8416\n",
      "Epoch 52/100\n",
      "20/20 [==============================] - 0s 14ms/step - loss: 1.0742 - val_loss: 3.8648\n",
      "Epoch 53/100\n",
      "20/20 [==============================] - 0s 14ms/step - loss: 1.0694 - val_loss: 3.8491\n",
      "Epoch 54/100\n",
      "20/20 [==============================] - 0s 14ms/step - loss: 1.0616 - val_loss: 3.8795\n",
      "Epoch 55/100\n",
      "20/20 [==============================] - 0s 14ms/step - loss: 1.0576 - val_loss: 3.8504\n",
      "Epoch 56/100\n",
      "20/20 [==============================] - 0s 14ms/step - loss: 1.0586 - val_loss: 3.8742\n",
      "Epoch 57/100\n",
      "20/20 [==============================] - 0s 14ms/step - loss: 1.0606 - val_loss: 3.8536\n",
      "Epoch 58/100\n",
      "20/20 [==============================] - 0s 14ms/step - loss: 1.0545 - val_loss: 3.8787\n",
      "Epoch 59/100\n",
      "20/20 [==============================] - 0s 14ms/step - loss: 1.0507 - val_loss: 3.8531\n",
      "Epoch 60/100\n",
      "20/20 [==============================] - 0s 14ms/step - loss: 1.0450 - val_loss: 3.8672\n",
      "Epoch 61/100\n",
      "20/20 [==============================] - 0s 14ms/step - loss: 1.0449 - val_loss: 3.8708\n",
      "Epoch 62/100\n",
      "20/20 [==============================] - 0s 15ms/step - loss: 1.0366 - val_loss: 3.8717\n",
      "Epoch 63/100\n",
      "20/20 [==============================] - 0s 14ms/step - loss: 1.0474 - val_loss: 3.8767\n",
      "Epoch 64/100\n",
      "20/20 [==============================] - 0s 14ms/step - loss: 1.0454 - val_loss: 3.8852\n",
      "Epoch 65/100\n",
      "20/20 [==============================] - 0s 15ms/step - loss: 1.0461 - val_loss: 3.8894\n",
      "Epoch 66/100\n",
      "20/20 [==============================] - 0s 14ms/step - loss: 1.0391 - val_loss: 3.8721\n",
      "Epoch 67/100\n",
      "20/20 [==============================] - 0s 14ms/step - loss: 1.0328 - val_loss: 3.8894\n",
      "Epoch 68/100\n",
      "20/20 [==============================] - 0s 14ms/step - loss: 1.0315 - val_loss: 3.8701\n",
      "Epoch 69/100\n",
      "20/20 [==============================] - 0s 14ms/step - loss: 1.0288 - val_loss: 3.9034\n",
      "Epoch 70/100\n",
      "20/20 [==============================] - 0s 14ms/step - loss: 1.0278 - val_loss: 3.8777\n",
      "Epoch 71/100\n",
      "20/20 [==============================] - 0s 14ms/step - loss: 1.0325 - val_loss: 3.9006\n",
      "Epoch 72/100\n",
      "20/20 [==============================] - 0s 14ms/step - loss: 1.0226 - val_loss: 3.8880\n",
      "Epoch 73/100\n",
      "20/20 [==============================] - 0s 14ms/step - loss: 1.0196 - val_loss: 3.8990\n",
      "Epoch 74/100\n",
      "20/20 [==============================] - 0s 14ms/step - loss: 1.0187 - val_loss: 3.8928\n",
      "Epoch 75/100\n",
      "20/20 [==============================] - 0s 14ms/step - loss: 1.0108 - val_loss: 3.8920\n",
      "Epoch 76/100\n",
      "20/20 [==============================] - 0s 15ms/step - loss: 1.0118 - val_loss: 3.8896\n",
      "Epoch 77/100\n",
      "20/20 [==============================] - 0s 15ms/step - loss: 1.0119 - val_loss: 3.8889\n",
      "Epoch 78/100\n",
      "20/20 [==============================] - 0s 14ms/step - loss: 1.0162 - val_loss: 3.8964\n",
      "Epoch 79/100\n",
      "20/20 [==============================] - 0s 14ms/step - loss: 1.0135 - val_loss: 3.9008\n",
      "Epoch 80/100\n",
      "20/20 [==============================] - 0s 15ms/step - loss: 1.0140 - val_loss: 3.8992\n",
      "Epoch 81/100\n",
      "20/20 [==============================] - 0s 15ms/step - loss: 1.0096 - val_loss: 3.9071\n",
      "Epoch 82/100\n",
      "20/20 [==============================] - 0s 14ms/step - loss: 1.0082 - val_loss: 3.9049\n",
      "Epoch 83/100\n",
      "20/20 [==============================] - 0s 15ms/step - loss: 1.0019 - val_loss: 3.8974\n",
      "Epoch 84/100\n",
      "20/20 [==============================] - 0s 15ms/step - loss: 1.0072 - val_loss: 3.8978\n",
      "Epoch 85/100\n",
      "20/20 [==============================] - 0s 14ms/step - loss: 1.0039 - val_loss: 3.9001\n",
      "Epoch 86/100\n",
      "20/20 [==============================] - 0s 14ms/step - loss: 1.0022 - val_loss: 3.9079\n",
      "Epoch 87/100\n",
      "20/20 [==============================] - 0s 14ms/step - loss: 0.9990 - val_loss: 3.9011\n",
      "Epoch 88/100\n",
      "20/20 [==============================] - 0s 14ms/step - loss: 1.0060 - val_loss: 3.9167\n",
      "Epoch 89/100\n",
      "20/20 [==============================] - 0s 15ms/step - loss: 1.0074 - val_loss: 3.9068\n",
      "Epoch 90/100\n",
      "20/20 [==============================] - 0s 15ms/step - loss: 0.9986 - val_loss: 3.9079\n",
      "Epoch 91/100\n",
      "20/20 [==============================] - 0s 15ms/step - loss: 0.9932 - val_loss: 3.9173\n",
      "Epoch 92/100\n",
      "20/20 [==============================] - 0s 14ms/step - loss: 0.9974 - val_loss: 3.9023\n",
      "Epoch 93/100\n",
      "20/20 [==============================] - 0s 15ms/step - loss: 0.9951 - val_loss: 3.9252\n",
      "Epoch 94/100\n",
      "20/20 [==============================] - 0s 14ms/step - loss: 0.9980 - val_loss: 3.9015\n",
      "Epoch 95/100\n",
      "20/20 [==============================] - 0s 14ms/step - loss: 0.9982 - val_loss: 3.9296\n",
      "Epoch 96/100\n",
      "20/20 [==============================] - 0s 14ms/step - loss: 0.9961 - val_loss: 3.9046\n",
      "Epoch 97/100\n",
      "20/20 [==============================] - 0s 15ms/step - loss: 0.9975 - val_loss: 3.9326\n",
      "Epoch 98/100\n",
      "20/20 [==============================] - 0s 14ms/step - loss: 0.9912 - val_loss: 3.9091\n",
      "Epoch 99/100\n",
      "20/20 [==============================] - 0s 15ms/step - loss: 0.9909 - val_loss: 3.9266\n",
      "Epoch 100/100\n",
      "20/20 [==============================] - 0s 14ms/step - loss: 0.9895 - val_loss: 3.9042\n"
     ]
    },
    {
     "data": {
      "text/plain": [
       "<tensorflow.python.keras.callbacks.History at 0x7f4d11812a90>"
      ]
     },
     "execution_count": 174,
     "metadata": {},
     "output_type": "execute_result"
    }
   ],
   "source": [
    "model.fit(train_dataset,validation_data=test_dataset, epochs=100, callbacks=[LossCallback()], verbose=True)"
   ]
  },
  {
   "cell_type": "markdown",
   "id": "239637b6-6a81-4fa3-bbf4-ced84367c9a7",
   "metadata": {
    "tags": []
   },
   "source": [
    "## Looking at predictions\n",
    "Inspecting the predictions of the model on the training set."
   ]
  },
  {
   "cell_type": "markdown",
   "id": "7049743d-bf2d-4319-bb67-45a0442ce103",
   "metadata": {},
   "source": [
    "# Note: !!!!!!!!!!!!!!!!!!!!!\n",
    "The normalization layer seems to be a problem.\n",
    "Even with just the amplitude and the normalization layer the results are garbage. but not so bad for no normalization...\n",
    "\n",
    "## Analysis\n",
    "The problem seems to be that the normalization layer \"overreacts\" because of the low, near-zero values. They dominate the variance and therefore the normalization scales outliers beyond values of 1. The activation functions however do not react well to values above 1.\n",
    "\n",
    "The amplitude and phase layer need different forms of normalizations. Scaling the amplitude linearly is a problem.\n",
    "\n",
    "They also would need to be reversible.\n",
    "\n",
    "It would be a good idea to create custom layers.\n",
    "\n"
   ]
  },
  {
   "cell_type": "code",
   "execution_count": 175,
   "id": "7aff7f56-8d8d-402d-952d-00afc311dbc2",
   "metadata": {
    "tags": []
   },
   "outputs": [
    {
     "name": "stdout",
     "output_type": "stream",
     "text": [
      "WARNING:tensorflow:Model was constructed with shape (None, 129, 9, 2) for input KerasTensor(type_spec=TensorSpec(shape=(None, 129, 9, 2), dtype=tf.float32, name='flatten_layer_input'), name='flatten_layer_input', description=\"created by layer 'flatten_layer_input'\"), but it was called on an input with incompatible shape (129, 9, 2).\n"
     ]
    },
    {
     "ename": "ValueError",
     "evalue": "in user code:\n\n    /home/alex/Daten2TB/Anaconda2021-11/envs/tf/lib/python3.9/site-packages/tensorflow/python/keras/engine/training.py:1478 predict_function  *\n        return step_function(self, iterator)\n    /home/alex/Daten2TB/Anaconda2021-11/envs/tf/lib/python3.9/site-packages/tensorflow/python/keras/engine/training.py:1468 step_function  **\n        outputs = model.distribute_strategy.run(run_step, args=(data,))\n    /home/alex/Daten2TB/Anaconda2021-11/envs/tf/lib/python3.9/site-packages/tensorflow/python/distribute/distribute_lib.py:1259 run\n        return self._extended.call_for_each_replica(fn, args=args, kwargs=kwargs)\n    /home/alex/Daten2TB/Anaconda2021-11/envs/tf/lib/python3.9/site-packages/tensorflow/python/distribute/distribute_lib.py:2730 call_for_each_replica\n        return self._call_for_each_replica(fn, args, kwargs)\n    /home/alex/Daten2TB/Anaconda2021-11/envs/tf/lib/python3.9/site-packages/tensorflow/python/distribute/distribute_lib.py:3417 _call_for_each_replica\n        return fn(*args, **kwargs)\n    /home/alex/Daten2TB/Anaconda2021-11/envs/tf/lib/python3.9/site-packages/tensorflow/python/keras/engine/training.py:1461 run_step  **\n        outputs = model.predict_step(data)\n    /home/alex/Daten2TB/Anaconda2021-11/envs/tf/lib/python3.9/site-packages/tensorflow/python/keras/engine/training.py:1434 predict_step\n        return self(x, training=False)\n    /home/alex/Daten2TB/Anaconda2021-11/envs/tf/lib/python3.9/site-packages/tensorflow/python/keras/engine/base_layer.py:1012 __call__\n        outputs = call_fn(inputs, *args, **kwargs)\n    /home/alex/Daten2TB/Anaconda2021-11/envs/tf/lib/python3.9/site-packages/tensorflow/python/keras/engine/sequential.py:375 call\n        return super(Sequential, self).call(inputs, training=training, mask=mask)\n    /home/alex/Daten2TB/Anaconda2021-11/envs/tf/lib/python3.9/site-packages/tensorflow/python/keras/engine/functional.py:424 call\n        return self._run_internal_graph(\n    /home/alex/Daten2TB/Anaconda2021-11/envs/tf/lib/python3.9/site-packages/tensorflow/python/keras/engine/functional.py:560 _run_internal_graph\n        outputs = node.layer(*args, **kwargs)\n    /home/alex/Daten2TB/Anaconda2021-11/envs/tf/lib/python3.9/site-packages/tensorflow/python/keras/engine/base_layer.py:1012 __call__\n        outputs = call_fn(inputs, *args, **kwargs)\n    /home/alex/Daten2TB/Anaconda2021-11/envs/tf/lib/python3.9/site-packages/tensorflow/python/keras/layers/preprocessing/normalization.py:209 call\n        return ((inputs - mean) /\n    /home/alex/Daten2TB/Anaconda2021-11/envs/tf/lib/python3.9/site-packages/tensorflow/python/ops/math_ops.py:1180 binary_op_wrapper\n        raise e\n    /home/alex/Daten2TB/Anaconda2021-11/envs/tf/lib/python3.9/site-packages/tensorflow/python/ops/math_ops.py:1164 binary_op_wrapper\n        return func(x, y, name=name)\n    /home/alex/Daten2TB/Anaconda2021-11/envs/tf/lib/python3.9/site-packages/tensorflow/python/util/dispatch.py:201 wrapper\n        return target(*args, **kwargs)\n    /home/alex/Daten2TB/Anaconda2021-11/envs/tf/lib/python3.9/site-packages/tensorflow/python/ops/math_ops.py:561 subtract\n        return gen_math_ops.sub(x, y, name)\n    /home/alex/Daten2TB/Anaconda2021-11/envs/tf/lib/python3.9/site-packages/tensorflow/python/ops/gen_math_ops.py:10316 sub\n        _, _, _op, _outputs = _op_def_library._apply_op_helper(\n    /home/alex/Daten2TB/Anaconda2021-11/envs/tf/lib/python3.9/site-packages/tensorflow/python/framework/op_def_library.py:748 _apply_op_helper\n        op = g._create_op_internal(op_type_name, inputs, dtypes=None,\n    /home/alex/Daten2TB/Anaconda2021-11/envs/tf/lib/python3.9/site-packages/tensorflow/python/framework/func_graph.py:590 _create_op_internal\n        return super(FuncGraph, self)._create_op_internal(  # pylint: disable=protected-access\n    /home/alex/Daten2TB/Anaconda2021-11/envs/tf/lib/python3.9/site-packages/tensorflow/python/framework/ops.py:3528 _create_op_internal\n        ret = Operation(\n    /home/alex/Daten2TB/Anaconda2021-11/envs/tf/lib/python3.9/site-packages/tensorflow/python/framework/ops.py:2015 __init__\n        self._c_op = _create_c_op(self._graph, node_def, inputs,\n    /home/alex/Daten2TB/Anaconda2021-11/envs/tf/lib/python3.9/site-packages/tensorflow/python/framework/ops.py:1856 _create_c_op\n        raise ValueError(str(e))\n\n    ValueError: Dimensions must be equal, but are 18 and 2322 for '{{node sequential_5/norm_layer/sub}} = Sub[T=DT_FLOAT](sequential_5/flatten_layer/Reshape, sequential_5/norm_layer/Reshape)' with input shapes: [129,18], [1,2322].\n",
     "output_type": "error",
     "traceback": [
      "\u001b[0;31m---------------------------------------------------------------------------\u001b[0m",
      "\u001b[0;31mValueError\u001b[0m                                Traceback (most recent call last)",
      "Cell \u001b[0;32mIn[175], line 7\u001b[0m\n\u001b[1;32m      5\u001b[0m train_example_data \u001b[38;5;241m=\u001b[39m train_dataset\u001b[38;5;241m.\u001b[39mtake(count\u001b[38;5;241m=\u001b[39mexample_count)\n\u001b[1;32m      6\u001b[0m train_example_data \u001b[38;5;241m=\u001b[39m train_example_data\u001b[38;5;241m.\u001b[39munbatch()\n\u001b[0;32m----> 7\u001b[0m predictions \u001b[38;5;241m=\u001b[39m \u001b[43mmodel\u001b[49m\u001b[38;5;241;43m.\u001b[39;49m\u001b[43mpredict\u001b[49m\u001b[43m(\u001b[49m\u001b[43mtrain_example_data\u001b[49m\u001b[43m)\u001b[49m\n",
      "File \u001b[0;32m~/Daten2TB/Anaconda2021-11/envs/tf/lib/python3.9/site-packages/tensorflow/python/keras/engine/training.py:1629\u001b[0m, in \u001b[0;36mModel.predict\u001b[0;34m(self, x, batch_size, verbose, steps, callbacks, max_queue_size, workers, use_multiprocessing)\u001b[0m\n\u001b[1;32m   1627\u001b[0m \u001b[38;5;28;01mfor\u001b[39;00m step \u001b[38;5;129;01min\u001b[39;00m data_handler\u001b[38;5;241m.\u001b[39msteps():\n\u001b[1;32m   1628\u001b[0m   callbacks\u001b[38;5;241m.\u001b[39mon_predict_batch_begin(step)\n\u001b[0;32m-> 1629\u001b[0m   tmp_batch_outputs \u001b[38;5;241m=\u001b[39m \u001b[38;5;28;43mself\u001b[39;49m\u001b[38;5;241;43m.\u001b[39;49m\u001b[43mpredict_function\u001b[49m\u001b[43m(\u001b[49m\u001b[43miterator\u001b[49m\u001b[43m)\u001b[49m\n\u001b[1;32m   1630\u001b[0m   \u001b[38;5;28;01mif\u001b[39;00m data_handler\u001b[38;5;241m.\u001b[39mshould_sync:\n\u001b[1;32m   1631\u001b[0m     context\u001b[38;5;241m.\u001b[39masync_wait()\n",
      "File \u001b[0;32m~/Daten2TB/Anaconda2021-11/envs/tf/lib/python3.9/site-packages/tensorflow/python/eager/def_function.py:828\u001b[0m, in \u001b[0;36mFunction.__call__\u001b[0;34m(self, *args, **kwds)\u001b[0m\n\u001b[1;32m    826\u001b[0m tracing_count \u001b[38;5;241m=\u001b[39m \u001b[38;5;28mself\u001b[39m\u001b[38;5;241m.\u001b[39mexperimental_get_tracing_count()\n\u001b[1;32m    827\u001b[0m \u001b[38;5;28;01mwith\u001b[39;00m trace\u001b[38;5;241m.\u001b[39mTrace(\u001b[38;5;28mself\u001b[39m\u001b[38;5;241m.\u001b[39m_name) \u001b[38;5;28;01mas\u001b[39;00m tm:\n\u001b[0;32m--> 828\u001b[0m   result \u001b[38;5;241m=\u001b[39m \u001b[38;5;28;43mself\u001b[39;49m\u001b[38;5;241;43m.\u001b[39;49m\u001b[43m_call\u001b[49m\u001b[43m(\u001b[49m\u001b[38;5;241;43m*\u001b[39;49m\u001b[43margs\u001b[49m\u001b[43m,\u001b[49m\u001b[43m \u001b[49m\u001b[38;5;241;43m*\u001b[39;49m\u001b[38;5;241;43m*\u001b[39;49m\u001b[43mkwds\u001b[49m\u001b[43m)\u001b[49m\n\u001b[1;32m    829\u001b[0m   compiler \u001b[38;5;241m=\u001b[39m \u001b[38;5;124m\"\u001b[39m\u001b[38;5;124mxla\u001b[39m\u001b[38;5;124m\"\u001b[39m \u001b[38;5;28;01mif\u001b[39;00m \u001b[38;5;28mself\u001b[39m\u001b[38;5;241m.\u001b[39m_experimental_compile \u001b[38;5;28;01melse\u001b[39;00m \u001b[38;5;124m\"\u001b[39m\u001b[38;5;124mnonXla\u001b[39m\u001b[38;5;124m\"\u001b[39m\n\u001b[1;32m    830\u001b[0m   new_tracing_count \u001b[38;5;241m=\u001b[39m \u001b[38;5;28mself\u001b[39m\u001b[38;5;241m.\u001b[39mexperimental_get_tracing_count()\n",
      "File \u001b[0;32m~/Daten2TB/Anaconda2021-11/envs/tf/lib/python3.9/site-packages/tensorflow/python/eager/def_function.py:871\u001b[0m, in \u001b[0;36mFunction._call\u001b[0;34m(self, *args, **kwds)\u001b[0m\n\u001b[1;32m    868\u001b[0m \u001b[38;5;28;01mtry\u001b[39;00m:\n\u001b[1;32m    869\u001b[0m   \u001b[38;5;66;03m# This is the first call of __call__, so we have to initialize.\u001b[39;00m\n\u001b[1;32m    870\u001b[0m   initializers \u001b[38;5;241m=\u001b[39m []\n\u001b[0;32m--> 871\u001b[0m   \u001b[38;5;28;43mself\u001b[39;49m\u001b[38;5;241;43m.\u001b[39;49m\u001b[43m_initialize\u001b[49m\u001b[43m(\u001b[49m\u001b[43margs\u001b[49m\u001b[43m,\u001b[49m\u001b[43m \u001b[49m\u001b[43mkwds\u001b[49m\u001b[43m,\u001b[49m\u001b[43m \u001b[49m\u001b[43madd_initializers_to\u001b[49m\u001b[38;5;241;43m=\u001b[39;49m\u001b[43minitializers\u001b[49m\u001b[43m)\u001b[49m\n\u001b[1;32m    872\u001b[0m \u001b[38;5;28;01mfinally\u001b[39;00m:\n\u001b[1;32m    873\u001b[0m   \u001b[38;5;66;03m# At this point we know that the initialization is complete (or less\u001b[39;00m\n\u001b[1;32m    874\u001b[0m   \u001b[38;5;66;03m# interestingly an exception was raised) so we no longer need a lock.\u001b[39;00m\n\u001b[1;32m    875\u001b[0m   \u001b[38;5;28mself\u001b[39m\u001b[38;5;241m.\u001b[39m_lock\u001b[38;5;241m.\u001b[39mrelease()\n",
      "File \u001b[0;32m~/Daten2TB/Anaconda2021-11/envs/tf/lib/python3.9/site-packages/tensorflow/python/eager/def_function.py:725\u001b[0m, in \u001b[0;36mFunction._initialize\u001b[0;34m(self, args, kwds, add_initializers_to)\u001b[0m\n\u001b[1;32m    722\u001b[0m \u001b[38;5;28mself\u001b[39m\u001b[38;5;241m.\u001b[39m_lifted_initializer_graph \u001b[38;5;241m=\u001b[39m lifted_initializer_graph\n\u001b[1;32m    723\u001b[0m \u001b[38;5;28mself\u001b[39m\u001b[38;5;241m.\u001b[39m_graph_deleter \u001b[38;5;241m=\u001b[39m FunctionDeleter(\u001b[38;5;28mself\u001b[39m\u001b[38;5;241m.\u001b[39m_lifted_initializer_graph)\n\u001b[1;32m    724\u001b[0m \u001b[38;5;28mself\u001b[39m\u001b[38;5;241m.\u001b[39m_concrete_stateful_fn \u001b[38;5;241m=\u001b[39m (\n\u001b[0;32m--> 725\u001b[0m     \u001b[38;5;28;43mself\u001b[39;49m\u001b[38;5;241;43m.\u001b[39;49m\u001b[43m_stateful_fn\u001b[49m\u001b[38;5;241;43m.\u001b[39;49m\u001b[43m_get_concrete_function_internal_garbage_collected\u001b[49m\u001b[43m(\u001b[49m\u001b[43m  \u001b[49m\u001b[38;5;66;43;03m# pylint: disable=protected-access\u001b[39;49;00m\n\u001b[1;32m    726\u001b[0m \u001b[43m        \u001b[49m\u001b[38;5;241;43m*\u001b[39;49m\u001b[43margs\u001b[49m\u001b[43m,\u001b[49m\u001b[43m \u001b[49m\u001b[38;5;241;43m*\u001b[39;49m\u001b[38;5;241;43m*\u001b[39;49m\u001b[43mkwds\u001b[49m\u001b[43m)\u001b[49m)\n\u001b[1;32m    728\u001b[0m \u001b[38;5;28;01mdef\u001b[39;00m \u001b[38;5;21minvalid_creator_scope\u001b[39m(\u001b[38;5;241m*\u001b[39munused_args, \u001b[38;5;241m*\u001b[39m\u001b[38;5;241m*\u001b[39munused_kwds):\n\u001b[1;32m    729\u001b[0m \u001b[38;5;250m  \u001b[39m\u001b[38;5;124;03m\"\"\"Disables variable creation.\"\"\"\u001b[39;00m\n",
      "File \u001b[0;32m~/Daten2TB/Anaconda2021-11/envs/tf/lib/python3.9/site-packages/tensorflow/python/eager/function.py:2969\u001b[0m, in \u001b[0;36mFunction._get_concrete_function_internal_garbage_collected\u001b[0;34m(self, *args, **kwargs)\u001b[0m\n\u001b[1;32m   2967\u001b[0m   args, kwargs \u001b[38;5;241m=\u001b[39m \u001b[38;5;28;01mNone\u001b[39;00m, \u001b[38;5;28;01mNone\u001b[39;00m\n\u001b[1;32m   2968\u001b[0m \u001b[38;5;28;01mwith\u001b[39;00m \u001b[38;5;28mself\u001b[39m\u001b[38;5;241m.\u001b[39m_lock:\n\u001b[0;32m-> 2969\u001b[0m   graph_function, _ \u001b[38;5;241m=\u001b[39m \u001b[38;5;28;43mself\u001b[39;49m\u001b[38;5;241;43m.\u001b[39;49m\u001b[43m_maybe_define_function\u001b[49m\u001b[43m(\u001b[49m\u001b[43margs\u001b[49m\u001b[43m,\u001b[49m\u001b[43m \u001b[49m\u001b[43mkwargs\u001b[49m\u001b[43m)\u001b[49m\n\u001b[1;32m   2970\u001b[0m \u001b[38;5;28;01mreturn\u001b[39;00m graph_function\n",
      "File \u001b[0;32m~/Daten2TB/Anaconda2021-11/envs/tf/lib/python3.9/site-packages/tensorflow/python/eager/function.py:3361\u001b[0m, in \u001b[0;36mFunction._maybe_define_function\u001b[0;34m(self, args, kwargs)\u001b[0m\n\u001b[1;32m   3357\u001b[0m   \u001b[38;5;28;01mreturn\u001b[39;00m \u001b[38;5;28mself\u001b[39m\u001b[38;5;241m.\u001b[39m_define_function_with_shape_relaxation(\n\u001b[1;32m   3358\u001b[0m       args, kwargs, flat_args, filtered_flat_args, cache_key_context)\n\u001b[1;32m   3360\u001b[0m \u001b[38;5;28mself\u001b[39m\u001b[38;5;241m.\u001b[39m_function_cache\u001b[38;5;241m.\u001b[39mmissed\u001b[38;5;241m.\u001b[39madd(call_context_key)\n\u001b[0;32m-> 3361\u001b[0m graph_function \u001b[38;5;241m=\u001b[39m \u001b[38;5;28;43mself\u001b[39;49m\u001b[38;5;241;43m.\u001b[39;49m\u001b[43m_create_graph_function\u001b[49m\u001b[43m(\u001b[49m\u001b[43margs\u001b[49m\u001b[43m,\u001b[49m\u001b[43m \u001b[49m\u001b[43mkwargs\u001b[49m\u001b[43m)\u001b[49m\n\u001b[1;32m   3362\u001b[0m \u001b[38;5;28mself\u001b[39m\u001b[38;5;241m.\u001b[39m_function_cache\u001b[38;5;241m.\u001b[39mprimary[cache_key] \u001b[38;5;241m=\u001b[39m graph_function\n\u001b[1;32m   3364\u001b[0m \u001b[38;5;28;01mreturn\u001b[39;00m graph_function, filtered_flat_args\n",
      "File \u001b[0;32m~/Daten2TB/Anaconda2021-11/envs/tf/lib/python3.9/site-packages/tensorflow/python/eager/function.py:3196\u001b[0m, in \u001b[0;36mFunction._create_graph_function\u001b[0;34m(self, args, kwargs, override_flat_arg_shapes)\u001b[0m\n\u001b[1;32m   3191\u001b[0m missing_arg_names \u001b[38;5;241m=\u001b[39m [\n\u001b[1;32m   3192\u001b[0m     \u001b[38;5;124m\"\u001b[39m\u001b[38;5;132;01m%s\u001b[39;00m\u001b[38;5;124m_\u001b[39m\u001b[38;5;132;01m%d\u001b[39;00m\u001b[38;5;124m\"\u001b[39m \u001b[38;5;241m%\u001b[39m (arg, i) \u001b[38;5;28;01mfor\u001b[39;00m i, arg \u001b[38;5;129;01min\u001b[39;00m \u001b[38;5;28menumerate\u001b[39m(missing_arg_names)\n\u001b[1;32m   3193\u001b[0m ]\n\u001b[1;32m   3194\u001b[0m arg_names \u001b[38;5;241m=\u001b[39m base_arg_names \u001b[38;5;241m+\u001b[39m missing_arg_names\n\u001b[1;32m   3195\u001b[0m graph_function \u001b[38;5;241m=\u001b[39m ConcreteFunction(\n\u001b[0;32m-> 3196\u001b[0m     \u001b[43mfunc_graph_module\u001b[49m\u001b[38;5;241;43m.\u001b[39;49m\u001b[43mfunc_graph_from_py_func\u001b[49m\u001b[43m(\u001b[49m\n\u001b[1;32m   3197\u001b[0m \u001b[43m        \u001b[49m\u001b[38;5;28;43mself\u001b[39;49m\u001b[38;5;241;43m.\u001b[39;49m\u001b[43m_name\u001b[49m\u001b[43m,\u001b[49m\n\u001b[1;32m   3198\u001b[0m \u001b[43m        \u001b[49m\u001b[38;5;28;43mself\u001b[39;49m\u001b[38;5;241;43m.\u001b[39;49m\u001b[43m_python_function\u001b[49m\u001b[43m,\u001b[49m\n\u001b[1;32m   3199\u001b[0m \u001b[43m        \u001b[49m\u001b[43margs\u001b[49m\u001b[43m,\u001b[49m\n\u001b[1;32m   3200\u001b[0m \u001b[43m        \u001b[49m\u001b[43mkwargs\u001b[49m\u001b[43m,\u001b[49m\n\u001b[1;32m   3201\u001b[0m \u001b[43m        \u001b[49m\u001b[38;5;28;43mself\u001b[39;49m\u001b[38;5;241;43m.\u001b[39;49m\u001b[43minput_signature\u001b[49m\u001b[43m,\u001b[49m\n\u001b[1;32m   3202\u001b[0m \u001b[43m        \u001b[49m\u001b[43mautograph\u001b[49m\u001b[38;5;241;43m=\u001b[39;49m\u001b[38;5;28;43mself\u001b[39;49m\u001b[38;5;241;43m.\u001b[39;49m\u001b[43m_autograph\u001b[49m\u001b[43m,\u001b[49m\n\u001b[1;32m   3203\u001b[0m \u001b[43m        \u001b[49m\u001b[43mautograph_options\u001b[49m\u001b[38;5;241;43m=\u001b[39;49m\u001b[38;5;28;43mself\u001b[39;49m\u001b[38;5;241;43m.\u001b[39;49m\u001b[43m_autograph_options\u001b[49m\u001b[43m,\u001b[49m\n\u001b[1;32m   3204\u001b[0m \u001b[43m        \u001b[49m\u001b[43marg_names\u001b[49m\u001b[38;5;241;43m=\u001b[39;49m\u001b[43marg_names\u001b[49m\u001b[43m,\u001b[49m\n\u001b[1;32m   3205\u001b[0m \u001b[43m        \u001b[49m\u001b[43moverride_flat_arg_shapes\u001b[49m\u001b[38;5;241;43m=\u001b[39;49m\u001b[43moverride_flat_arg_shapes\u001b[49m\u001b[43m,\u001b[49m\n\u001b[1;32m   3206\u001b[0m \u001b[43m        \u001b[49m\u001b[43mcapture_by_value\u001b[49m\u001b[38;5;241;43m=\u001b[39;49m\u001b[38;5;28;43mself\u001b[39;49m\u001b[38;5;241;43m.\u001b[39;49m\u001b[43m_capture_by_value\u001b[49m\u001b[43m)\u001b[49m,\n\u001b[1;32m   3207\u001b[0m     \u001b[38;5;28mself\u001b[39m\u001b[38;5;241m.\u001b[39m_function_attributes,\n\u001b[1;32m   3208\u001b[0m     function_spec\u001b[38;5;241m=\u001b[39m\u001b[38;5;28mself\u001b[39m\u001b[38;5;241m.\u001b[39mfunction_spec,\n\u001b[1;32m   3209\u001b[0m     \u001b[38;5;66;03m# Tell the ConcreteFunction to clean up its graph once it goes out of\u001b[39;00m\n\u001b[1;32m   3210\u001b[0m     \u001b[38;5;66;03m# scope. This is not the default behavior since it gets used in some\u001b[39;00m\n\u001b[1;32m   3211\u001b[0m     \u001b[38;5;66;03m# places (like Keras) where the FuncGraph lives longer than the\u001b[39;00m\n\u001b[1;32m   3212\u001b[0m     \u001b[38;5;66;03m# ConcreteFunction.\u001b[39;00m\n\u001b[1;32m   3213\u001b[0m     shared_func_graph\u001b[38;5;241m=\u001b[39m\u001b[38;5;28;01mFalse\u001b[39;00m)\n\u001b[1;32m   3214\u001b[0m \u001b[38;5;28;01mreturn\u001b[39;00m graph_function\n",
      "File \u001b[0;32m~/Daten2TB/Anaconda2021-11/envs/tf/lib/python3.9/site-packages/tensorflow/python/framework/func_graph.py:990\u001b[0m, in \u001b[0;36mfunc_graph_from_py_func\u001b[0;34m(name, python_func, args, kwargs, signature, func_graph, autograph, autograph_options, add_control_dependencies, arg_names, op_return_value, collections, capture_by_value, override_flat_arg_shapes)\u001b[0m\n\u001b[1;32m    987\u001b[0m \u001b[38;5;28;01melse\u001b[39;00m:\n\u001b[1;32m    988\u001b[0m   _, original_func \u001b[38;5;241m=\u001b[39m tf_decorator\u001b[38;5;241m.\u001b[39munwrap(python_func)\n\u001b[0;32m--> 990\u001b[0m func_outputs \u001b[38;5;241m=\u001b[39m \u001b[43mpython_func\u001b[49m\u001b[43m(\u001b[49m\u001b[38;5;241;43m*\u001b[39;49m\u001b[43mfunc_args\u001b[49m\u001b[43m,\u001b[49m\u001b[43m \u001b[49m\u001b[38;5;241;43m*\u001b[39;49m\u001b[38;5;241;43m*\u001b[39;49m\u001b[43mfunc_kwargs\u001b[49m\u001b[43m)\u001b[49m\n\u001b[1;32m    992\u001b[0m \u001b[38;5;66;03m# invariant: `func_outputs` contains only Tensors, CompositeTensors,\u001b[39;00m\n\u001b[1;32m    993\u001b[0m \u001b[38;5;66;03m# TensorArrays and `None`s.\u001b[39;00m\n\u001b[1;32m    994\u001b[0m func_outputs \u001b[38;5;241m=\u001b[39m nest\u001b[38;5;241m.\u001b[39mmap_structure(convert, func_outputs,\n\u001b[1;32m    995\u001b[0m                                   expand_composites\u001b[38;5;241m=\u001b[39m\u001b[38;5;28;01mTrue\u001b[39;00m)\n",
      "File \u001b[0;32m~/Daten2TB/Anaconda2021-11/envs/tf/lib/python3.9/site-packages/tensorflow/python/eager/def_function.py:634\u001b[0m, in \u001b[0;36mFunction._defun_with_scope.<locals>.wrapped_fn\u001b[0;34m(*args, **kwds)\u001b[0m\n\u001b[1;32m    632\u001b[0m     xla_context\u001b[38;5;241m.\u001b[39mExit()\n\u001b[1;32m    633\u001b[0m \u001b[38;5;28;01melse\u001b[39;00m:\n\u001b[0;32m--> 634\u001b[0m   out \u001b[38;5;241m=\u001b[39m \u001b[43mweak_wrapped_fn\u001b[49m\u001b[43m(\u001b[49m\u001b[43m)\u001b[49m\u001b[38;5;241;43m.\u001b[39;49m\u001b[43m__wrapped__\u001b[49m\u001b[43m(\u001b[49m\u001b[38;5;241;43m*\u001b[39;49m\u001b[43margs\u001b[49m\u001b[43m,\u001b[49m\u001b[43m \u001b[49m\u001b[38;5;241;43m*\u001b[39;49m\u001b[38;5;241;43m*\u001b[39;49m\u001b[43mkwds\u001b[49m\u001b[43m)\u001b[49m\n\u001b[1;32m    635\u001b[0m \u001b[38;5;28;01mreturn\u001b[39;00m out\n",
      "File \u001b[0;32m~/Daten2TB/Anaconda2021-11/envs/tf/lib/python3.9/site-packages/tensorflow/python/framework/func_graph.py:977\u001b[0m, in \u001b[0;36mfunc_graph_from_py_func.<locals>.wrapper\u001b[0;34m(*args, **kwargs)\u001b[0m\n\u001b[1;32m    975\u001b[0m \u001b[38;5;28;01mexcept\u001b[39;00m \u001b[38;5;167;01mException\u001b[39;00m \u001b[38;5;28;01mas\u001b[39;00m e:  \u001b[38;5;66;03m# pylint:disable=broad-except\u001b[39;00m\n\u001b[1;32m    976\u001b[0m   \u001b[38;5;28;01mif\u001b[39;00m \u001b[38;5;28mhasattr\u001b[39m(e, \u001b[38;5;124m\"\u001b[39m\u001b[38;5;124mag_error_metadata\u001b[39m\u001b[38;5;124m\"\u001b[39m):\n\u001b[0;32m--> 977\u001b[0m     \u001b[38;5;28;01mraise\u001b[39;00m e\u001b[38;5;241m.\u001b[39mag_error_metadata\u001b[38;5;241m.\u001b[39mto_exception(e)\n\u001b[1;32m    978\u001b[0m   \u001b[38;5;28;01melse\u001b[39;00m:\n\u001b[1;32m    979\u001b[0m     \u001b[38;5;28;01mraise\u001b[39;00m\n",
      "\u001b[0;31mValueError\u001b[0m: in user code:\n\n    /home/alex/Daten2TB/Anaconda2021-11/envs/tf/lib/python3.9/site-packages/tensorflow/python/keras/engine/training.py:1478 predict_function  *\n        return step_function(self, iterator)\n    /home/alex/Daten2TB/Anaconda2021-11/envs/tf/lib/python3.9/site-packages/tensorflow/python/keras/engine/training.py:1468 step_function  **\n        outputs = model.distribute_strategy.run(run_step, args=(data,))\n    /home/alex/Daten2TB/Anaconda2021-11/envs/tf/lib/python3.9/site-packages/tensorflow/python/distribute/distribute_lib.py:1259 run\n        return self._extended.call_for_each_replica(fn, args=args, kwargs=kwargs)\n    /home/alex/Daten2TB/Anaconda2021-11/envs/tf/lib/python3.9/site-packages/tensorflow/python/distribute/distribute_lib.py:2730 call_for_each_replica\n        return self._call_for_each_replica(fn, args, kwargs)\n    /home/alex/Daten2TB/Anaconda2021-11/envs/tf/lib/python3.9/site-packages/tensorflow/python/distribute/distribute_lib.py:3417 _call_for_each_replica\n        return fn(*args, **kwargs)\n    /home/alex/Daten2TB/Anaconda2021-11/envs/tf/lib/python3.9/site-packages/tensorflow/python/keras/engine/training.py:1461 run_step  **\n        outputs = model.predict_step(data)\n    /home/alex/Daten2TB/Anaconda2021-11/envs/tf/lib/python3.9/site-packages/tensorflow/python/keras/engine/training.py:1434 predict_step\n        return self(x, training=False)\n    /home/alex/Daten2TB/Anaconda2021-11/envs/tf/lib/python3.9/site-packages/tensorflow/python/keras/engine/base_layer.py:1012 __call__\n        outputs = call_fn(inputs, *args, **kwargs)\n    /home/alex/Daten2TB/Anaconda2021-11/envs/tf/lib/python3.9/site-packages/tensorflow/python/keras/engine/sequential.py:375 call\n        return super(Sequential, self).call(inputs, training=training, mask=mask)\n    /home/alex/Daten2TB/Anaconda2021-11/envs/tf/lib/python3.9/site-packages/tensorflow/python/keras/engine/functional.py:424 call\n        return self._run_internal_graph(\n    /home/alex/Daten2TB/Anaconda2021-11/envs/tf/lib/python3.9/site-packages/tensorflow/python/keras/engine/functional.py:560 _run_internal_graph\n        outputs = node.layer(*args, **kwargs)\n    /home/alex/Daten2TB/Anaconda2021-11/envs/tf/lib/python3.9/site-packages/tensorflow/python/keras/engine/base_layer.py:1012 __call__\n        outputs = call_fn(inputs, *args, **kwargs)\n    /home/alex/Daten2TB/Anaconda2021-11/envs/tf/lib/python3.9/site-packages/tensorflow/python/keras/layers/preprocessing/normalization.py:209 call\n        return ((inputs - mean) /\n    /home/alex/Daten2TB/Anaconda2021-11/envs/tf/lib/python3.9/site-packages/tensorflow/python/ops/math_ops.py:1180 binary_op_wrapper\n        raise e\n    /home/alex/Daten2TB/Anaconda2021-11/envs/tf/lib/python3.9/site-packages/tensorflow/python/ops/math_ops.py:1164 binary_op_wrapper\n        return func(x, y, name=name)\n    /home/alex/Daten2TB/Anaconda2021-11/envs/tf/lib/python3.9/site-packages/tensorflow/python/util/dispatch.py:201 wrapper\n        return target(*args, **kwargs)\n    /home/alex/Daten2TB/Anaconda2021-11/envs/tf/lib/python3.9/site-packages/tensorflow/python/ops/math_ops.py:561 subtract\n        return gen_math_ops.sub(x, y, name)\n    /home/alex/Daten2TB/Anaconda2021-11/envs/tf/lib/python3.9/site-packages/tensorflow/python/ops/gen_math_ops.py:10316 sub\n        _, _, _op, _outputs = _op_def_library._apply_op_helper(\n    /home/alex/Daten2TB/Anaconda2021-11/envs/tf/lib/python3.9/site-packages/tensorflow/python/framework/op_def_library.py:748 _apply_op_helper\n        op = g._create_op_internal(op_type_name, inputs, dtypes=None,\n    /home/alex/Daten2TB/Anaconda2021-11/envs/tf/lib/python3.9/site-packages/tensorflow/python/framework/func_graph.py:590 _create_op_internal\n        return super(FuncGraph, self)._create_op_internal(  # pylint: disable=protected-access\n    /home/alex/Daten2TB/Anaconda2021-11/envs/tf/lib/python3.9/site-packages/tensorflow/python/framework/ops.py:3528 _create_op_internal\n        ret = Operation(\n    /home/alex/Daten2TB/Anaconda2021-11/envs/tf/lib/python3.9/site-packages/tensorflow/python/framework/ops.py:2015 __init__\n        self._c_op = _create_c_op(self._graph, node_def, inputs,\n    /home/alex/Daten2TB/Anaconda2021-11/envs/tf/lib/python3.9/site-packages/tensorflow/python/framework/ops.py:1856 _create_c_op\n        raise ValueError(str(e))\n\n    ValueError: Dimensions must be equal, but are 18 and 2322 for '{{node sequential_5/norm_layer/sub}} = Sub[T=DT_FLOAT](sequential_5/flatten_layer/Reshape, sequential_5/norm_layer/Reshape)' with input shapes: [129,18], [1,2322].\n"
     ]
    }
   ],
   "source": [
    "# release train dataset:\n",
    "# train_dataset = None\n",
    "# test_dataset = None\n",
    "example_count = 2\n",
    "train_example_data = train_dataset.take(count=example_count)\n",
    "train_example_data = train_example_data.unbatch()\n",
    "predictions = model.predict(train_example_data)"
   ]
  },
  {
   "cell_type": "code",
   "execution_count": 176,
   "id": "85645ed9-2e04-4b89-b704-a1a7977b5a9e",
   "metadata": {
    "tags": []
   },
   "outputs": [
    {
     "data": {
      "text/plain": [
       "<_UnbatchDataset shapes: ((129, 9, 2), (129, 9)), types: (tf.float64, tf.float64)>"
      ]
     },
     "execution_count": 176,
     "metadata": {},
     "output_type": "execute_result"
    }
   ],
   "source": [
    "train_example_data"
   ]
  },
  {
   "cell_type": "code",
   "execution_count": 177,
   "id": "af16d606-6494-49d3-911c-cc51eed5a7d8",
   "metadata": {
    "tags": []
   },
   "outputs": [],
   "source": [
    "# help(train_example_data)\n",
    "train_example_input = []\n",
    "train_example_output = []\n",
    "# Get the tensors from the dataset\n",
    "iterator = train_example_data.as_numpy_iterator()\n",
    "# Iterate over the tensors in the dataset\n",
    "for tensor in iterator:\n",
    "    train_example_input.append(tensor[0])\n",
    "    train_example_output.append(tensor[1])"
   ]
  },
  {
   "cell_type": "code",
   "execution_count": 178,
   "id": "2a4f11e1-4c06-434d-8451-09618fa014a2",
   "metadata": {
    "tags": []
   },
   "outputs": [],
   "source": [
    "train_example_input = tf.constant(train_example_input)\n",
    "train_example_output = tf.constant(train_example_output)"
   ]
  },
  {
   "cell_type": "code",
   "execution_count": 179,
   "id": "3800f4a6-528d-483e-a0fd-b1ada5477a09",
   "metadata": {
    "tags": []
   },
   "outputs": [
    {
     "data": {
      "text/plain": [
       "(1024, 129, 9)"
      ]
     },
     "execution_count": 179,
     "metadata": {},
     "output_type": "execute_result"
    }
   ],
   "source": [
    "predictions.shape"
   ]
  },
  {
   "cell_type": "code",
   "execution_count": 180,
   "id": "9cb89ccd-47c0-4b10-85dd-583f3ee4b491",
   "metadata": {
    "tags": []
   },
   "outputs": [],
   "source": [
    "pure_train_examples = train_example_output\n",
    "noisy_train_examples = train_example_input"
   ]
  },
  {
   "cell_type": "code",
   "execution_count": 181,
   "id": "1cc06428-0ed5-411f-a202-bdad2fa3bd8e",
   "metadata": {
    "tags": []
   },
   "outputs": [
    {
     "data": {
      "text/plain": [
       "TensorShape([1024, 129, 9])"
      ]
     },
     "execution_count": 181,
     "metadata": {},
     "output_type": "execute_result"
    }
   ],
   "source": [
    "pure_train_examples.shape"
   ]
  },
  {
   "cell_type": "code",
   "execution_count": 182,
   "id": "cff32eaa-e482-476a-be38-66649e8e9dc2",
   "metadata": {
    "tags": []
   },
   "outputs": [],
   "source": [
    "predictions = model.predict(noisy_train_examples)"
   ]
  },
  {
   "cell_type": "code",
   "execution_count": 183,
   "id": "8fec0a14-350d-4d2b-ba03-b7e7fbdd0bad",
   "metadata": {
    "tags": []
   },
   "outputs": [],
   "source": [
    "def plot_phase_example(index):\n",
    "    \n",
    "    fig, [ax0, ax1] = plt.subplots(1,2)\n",
    "\n",
    "    divider0 = make_axes_locatable(ax0)\n",
    "    divider1 = make_axes_locatable(ax1)\n",
    "\n",
    "    cax0 = divider0.append_axes('right', size='5%', pad=0.05)\n",
    "    cax1 = divider1.append_axes('right', size='5%', pad=0.05)\n",
    "\n",
    "\n",
    "    # plt.imshow(labels[0,:,:,1], aspect=\"auto\")\n",
    "    im0 = ax0.imshow(pure_train_examples[index,:,:], aspect=\"auto\")\n",
    "    im1 = ax1.imshow(predictions[index,:,:], aspect=\"auto\")\n",
    "    # ax0.colorbar()\n",
    "    # fig.colorbar(im1, cax=ax0_cb, orientation='horizontal')\n",
    "\n",
    "    fig.colorbar(im0, cax=cax0, orientation='vertical')\n",
    "    fig.colorbar(im1, cax=cax1, orientation='vertical')\n",
    "\n",
    "    ax0.set_title(\"Original target\")\n",
    "    ax1.set_title(\"Denoised result\")\n",
    "\n",
    "    fig.set_size_inches((10,5))\n",
    "    # plt.imshow(predictions[0,:,:,1], aspect=\"auto\")\n",
    "    # ax1.imshow(predictions[0,:,:], aspect=\"auto\")\n",
    "\n",
    "    # plt.colorbar()"
   ]
  },
  {
   "cell_type": "code",
   "execution_count": 184,
   "id": "6554d015-32bf-45ef-a0bd-94b6afe8e750",
   "metadata": {
    "tags": []
   },
   "outputs": [
    {
     "data": {
      "application/vnd.jupyter.widget-view+json": {
       "model_id": "01f21168cb3f4767ad852c85ac463ccb",
       "version_major": 2,
       "version_minor": 0
      },
      "text/plain": [
       "interactive(children=(IntSlider(value=511, description='index', max=1023), Output()), _dom_classes=('widget-in…"
      ]
     },
     "metadata": {},
     "output_type": "display_data"
    },
    {
     "data": {
      "text/plain": [
       "<function __main__.plot_phase_example(index)>"
      ]
     },
     "execution_count": 184,
     "metadata": {},
     "output_type": "execute_result"
    }
   ],
   "source": [
    "interact(plot_phase_example, index=(0, predictions.shape[0]-1, 1))"
   ]
  },
  {
   "cell_type": "code",
   "execution_count": 132,
   "id": "dd593580-d69e-4a59-97cc-11df9147c5a3",
   "metadata": {
    "tags": []
   },
   "outputs": [],
   "source": [
    "predictions.shape\n",
    "\n",
    "def plot_example(index):\n",
    "    prediction = predictions[index]\n",
    "    actual = labels[index]\n",
    "    noisy = examples[index]\n",
    "    \n",
    "    fig, [ax1, ax2, ax3, ax4] = plt.subplots(1,4)\n",
    "\n",
    "    ax1.imshow(noisy, aspect=\"auto\")\n",
    "    ax1.set_title(\"Noisy Original\")\n",
    "    \n",
    "    ax2.set_title(\"Denoised result\")\n",
    "    ax2.imshow(prediction, aspect = \"auto\")\n",
    "    \n",
    "    ax3.set_title(\"Actual ground truth\")\n",
    "    ax3.imshow(actual, aspect= \"auto\")\n",
    "    ax4.imshow(actual-prediction, aspect=\"auto\")\n",
    "    \n",
    "    fig.set_size_inches((10,5))\n",
    "    \n",
    "    plt.show()"
   ]
  },
  {
   "cell_type": "code",
   "execution_count": 133,
   "id": "9f92e3b7-3df9-483f-ad3b-03fc0651862f",
   "metadata": {
    "tags": []
   },
   "outputs": [
    {
     "data": {
      "image/png": "[encoded data removed]",
      "text/plain": [
       "<Figure size 640x480 with 4 Axes>"
      ]
     },
     "metadata": {},
     "output_type": "display_data"
    },
    {
     "data": {
      "application/vnd.jupyter.widget-view+json": {
       "model_id": "b111e2a636fb4f458efdfe4149da91b6",
       "version_major": 2,
       "version_minor": 0
      },
      "text/plain": [
       "interactive(children=(IntSlider(value=10, description='index', max=20), Output()), _dom_classes=('widget-inter…"
      ]
     },
     "metadata": {},
     "output_type": "display_data"
    },
    {
     "data": {
      "text/plain": [
       "<function __main__.plot_example(index)>"
      ]
     },
     "execution_count": 133,
     "metadata": {},
     "output_type": "execute_result"
    }
   ],
   "source": [
    "interact(plot_example, index=(0, 20, 1))"
   ]
  },
  {
   "cell_type": "code",
   "execution_count": 155,
   "id": "6f059822-d8d3-42c1-acbd-5d6dfcd5361b",
   "metadata": {
    "tags": []
   },
   "outputs": [],
   "source": [
    "def plot_time_domain( index):\n",
    "\n",
    "    test_noisy = noisy_stft.get_data()[index,:,:,0]\n",
    "    test_noisy_phase = noisy_stft.get_data()[index,:,:,1]\n",
    "\n",
    "    test_pure = labels[index,:,:]\n",
    "    test_pure_phase = noisy_stft.get_data()[index,:,:,1]\n",
    "\n",
    "    model_amp = predictions[index]\n",
    "    noisy_phase = noisy_stft.get_data()[index,:,:,1]\n",
    "\n",
    "    fig, [ax1, ax2] =plt.subplots(1,2)\n",
    "    t, signal_pure = istft(test_pure*np.exp(1j*test_pure_phase), fs = 1./5.)\n",
    "    t, signal_model = istft(model_amp*np.exp(1j*noisy_phase), fs = 1./5.)\n",
    "    t, signal_example = istft(test_noisy*np.exp(1j*test_noisy_phase), fs = 1./5.)\n",
    "\n",
    "    fig.set_size_inches((12,10))\n",
    "    ax1.plot(t,signal_example)\n",
    "    ax2.plot(t, signal_model)\n",
    "    ax2.plot(t, signal_pure, alpha=0.5, color=\"red\")\n",
    "    plt.show()"
   ]
  },
  {
   "cell_type": "code",
   "execution_count": 157,
   "id": "dbfa7920-0fbe-4288-8bd6-29c1745aa863",
   "metadata": {
    "tags": []
   },
   "outputs": [
    {
     "data": {
      "image/png": "[encoded data removed]",
      "text/plain": [
       "<Figure size 640x480 with 2 Axes>"
      ]
     },
     "metadata": {},
     "output_type": "display_data"
    },
    {
     "data": {
      "application/vnd.jupyter.widget-view+json": {
       "model_id": "dd3902376e8c4e51add4095600cb6e0d",
       "version_major": 2,
       "version_minor": 0
      },
      "text/plain": [
       "interactive(children=(IntSlider(value=512, description='index', max=1024), Output()), _dom_classes=('widget-in…"
      ]
     },
     "metadata": {},
     "output_type": "display_data"
    },
    {
     "data": {
      "text/plain": [
       "<function __main__.plot_time_domain(index)>"
      ]
     },
     "execution_count": 157,
     "metadata": {},
     "output_type": "execute_result"
    }
   ],
   "source": [
    "interact(plot_time_domain, index = (0,1024,1))"
   ]
  },
  {
   "cell_type": "markdown",
   "id": "9e5e00c5-f9df-4420-9a6f-1e21ba5fdcf8",
   "metadata": {},
   "source": [
    "## Visualize the effect on the test set\n",
    "Previous visualizations were for the training set only.\n",
    "\n",
    "Check the influence of the test set here."
   ]
  },
  {
   "cell_type": "code",
   "execution_count": 185,
   "id": "b78f1f78-755e-4437-a802-c9c24c9c5907",
   "metadata": {
    "tags": []
   },
   "outputs": [],
   "source": [
    "predictions_test = model.predict(examples_test)"
   ]
  },
  {
   "cell_type": "code",
   "execution_count": 186,
   "id": "da7c1e6d-5910-41a5-9ed1-cf7d3294b509",
   "metadata": {
    "tags": []
   },
   "outputs": [],
   "source": [
    "# examples_test = noisy_test_stft.get_data()[::stride_reduce,:,:,:]\n",
    "# labels_test = pure_test_stft.get_data()[::stride_reduce,:,:,:]\n",
    "\n",
    "# examples_test_phase = noisy_test_stft.get_data()[::stride_reduce,:,:,:]\n",
    "# labels_test_phase = pure_test_stft.get_data()[::stride_reduce,:,:,:]"
   ]
  },
  {
   "cell_type": "code",
   "execution_count": 187,
   "id": "f3d60b02-b69d-41b1-a578-1c658d350a7e",
   "metadata": {
    "tags": []
   },
   "outputs": [
    {
     "data": {
      "text/plain": [
       "(1078, 129, 9)"
      ]
     },
     "execution_count": 187,
     "metadata": {},
     "output_type": "execute_result"
    }
   ],
   "source": [
    "predictions_test.shape"
   ]
  },
  {
   "cell_type": "code",
   "execution_count": 188,
   "id": "f784e643-489f-490a-a658-ca8f755c331c",
   "metadata": {
    "tags": []
   },
   "outputs": [
    {
     "data": {
      "text/plain": [
       "(1078, 129, 9)"
      ]
     },
     "execution_count": 188,
     "metadata": {},
     "output_type": "execute_result"
    }
   ],
   "source": [
    "labels_test.shape"
   ]
  },
  {
   "cell_type": "code",
   "execution_count": 189,
   "id": "b7796f4e-de14-4777-a0f1-de916b3298ca",
   "metadata": {
    "tags": []
   },
   "outputs": [],
   "source": [
    "index = 10\n",
    "prediction_current = predictions_test[index]\n",
    "    \n",
    "# the pure example from the test set\n",
    "test_pure = labels_test[index]\n",
    "\n",
    "pred_phase = prediction_current[:,:]"
   ]
  },
  {
   "cell_type": "code",
   "execution_count": 190,
   "id": "bea6eb91-1f76-4d1d-baac-095078068c73",
   "metadata": {
    "tags": []
   },
   "outputs": [],
   "source": [
    "def plot_time_domain_test( index):\n",
    "\n",
    "    # get the noisy original from the test set\n",
    "    noisy_original = examples_test[index]\n",
    "    \n",
    "    # get the test set prediction\n",
    "    prediction_current = predictions_test[index]\n",
    "    \n",
    "    # the pure example from the test set\n",
    "    test_pure = labels_test[index]\n",
    "\n",
    "    noisy_amp = noisy_original[:,:,0]\n",
    "    noisy_phase = noisy_original[:,:,1]\n",
    "    \n",
    "    pred_amp = prediction_current[:,:,0]\n",
    "    pred_phase = prediction_current[:,:,1]\n",
    "    \n",
    "    true_amp = test_pure[:,:,0]\n",
    "    true_phase = test_pure[:,:,1]\n",
    "    \n",
    "    # model_amp = predictions_test[index]\n",
    "    # noisy_phase = examples_test_phase[index]\n",
    "\n",
    "    # calculate the STFT inverse of the deep learning predictions and the actual result\n",
    "    # t, signal_pure = istft(test_pure*np.exp(1j*test_pure_phase), fs = 1./5.)\n",
    "    \n",
    "    t, signal_original = istft(noisy_amp*np.exp(1j*noisy_phase), fs = 1./5.)\n",
    "\n",
    "    t, signal_pred = istft(pred_amp*np.exp(1j*pred_phase), fs = 1./5.)\n",
    "    # t, signal_example = istft(test_noisy*np.exp(1j*test_noisy_phase), fs = 1./5.)  \n",
    "    \n",
    "    t, signal_pred_origphase = istft(pred_amp*np.exp(1j*noisy_phase), fs = 1./5.)\n",
    "    \n",
    "    t, signal_true = istft(true_amp*np.exp(1j*true_phase), fs = 1./5.)\n",
    "\n",
    "    \n",
    "    fig, [[ax1, ax2, ax3], [ax4, ax5, ax6]] =plt.subplots(2,3)\n",
    "\n",
    "    fig.set_size_inches((12,10))\n",
    "    ax1.plot(t, signal_original)\n",
    "    ax1.set_title(\"Noisy example\")\n",
    "\n",
    "    ax2.plot(t, signal_pred)\n",
    "    ax2.set_title(\"Denoised result\")\n",
    "    \n",
    "    ax3.plot(t, signal_true)\n",
    "    ax3.set_title(\"True original\")\n",
    "    \n",
    "    ax5.plot(t, signal_pred_origphase)\n",
    "    \n",
    "    ax6.plot(t, signal_true)\n",
    "    ax6.set_title(\"True original\")\n",
    "\n",
    "    # ax2.plot(t, signal_pure, alpha=0.5, color=\"red\")\n",
    "    plt.show()"
   ]
  },
  {
   "cell_type": "code",
   "execution_count": 191,
   "id": "b4a87db6-d0c5-42d4-bae6-2fb777e89953",
   "metadata": {
    "tags": []
   },
   "outputs": [
    {
     "data": {
      "application/vnd.jupyter.widget-view+json": {
       "model_id": "b4f24d68db994ce783bab4251a132160",
       "version_major": 2,
       "version_minor": 0
      },
      "text/plain": [
       "interactive(children=(IntSlider(value=539, description='index', max=1078), Output()), _dom_classes=('widget-in…"
      ]
     },
     "metadata": {},
     "output_type": "display_data"
    },
    {
     "data": {
      "text/plain": [
       "<function __main__.plot_time_domain_test(index)>"
      ]
     },
     "execution_count": 191,
     "metadata": {},
     "output_type": "execute_result"
    }
   ],
   "source": [
    "num_test_examples = examples_test.shape[0]\n",
    "interact(plot_time_domain_test, index = (0,num_test_examples,1))"
   ]
  },
  {
   "cell_type": "markdown",
   "id": "3762b93b-6e11-44ec-a3c5-b1adfa2fb528",
   "metadata": {},
   "source": [
    "## Store the model\n",
    "Storing the model after a long training session."
   ]
  },
  {
   "cell_type": "code",
   "execution_count": 46,
   "id": "57c882d1-4477-4896-924c-b5177c0f523b",
   "metadata": {
    "tags": []
   },
   "outputs": [],
   "source": [
    "model_folder = \"model/\""
   ]
  },
  {
   "cell_type": "code",
   "execution_count": 47,
   "id": "2ec72095-e8de-44e2-9b31-1d55d04a3461",
   "metadata": {
    "tags": []
   },
   "outputs": [],
   "source": [
    "\n",
    "# Get the current date\n",
    "now = datetime.datetime.now()\n",
    "\n",
    "# Format the date as \"day-month-year\"\n",
    "date_str = now.strftime(\"%d-%m-h%H%M\")\n",
    "\n",
    "# \n",
    "\n",
    "# Parameter count\n",
    "trainableParams = np.sum([np.prod(v.get_shape()) for v in model.trainable_weights])\n",
    "\n",
    "\n",
    "model_name = f\"model-{date_str}-p{trainableParams}-withphase\""
   ]
  },
  {
   "cell_type": "code",
   "execution_count": 48,
   "id": "6bfa107d-16e1-4b79-b822-b71887e34bda",
   "metadata": {
    "tags": []
   },
   "outputs": [],
   "source": [
    "store_model = False\n",
    "if store_model == True:\n",
    "    path = model_folder + model_name\n",
    "    model.save(path)"
   ]
  },
  {
   "cell_type": "markdown",
   "id": "bd0ab5e2-119a-4c76-ab9e-528b84411957",
   "metadata": {},
   "source": [
    "## Analysis of maximum values\n",
    "Looking at maximum values of amplitude over the whole array"
   ]
  },
  {
   "cell_type": "code",
   "execution_count": 52,
   "id": "2751a123-aa1d-4437-8104-c6b789bf440e",
   "metadata": {
    "tags": []
   },
   "outputs": [],
   "source": [
    "test_example = noisy_stft.get_data()[0]\n",
    "shape = test_example.shape\n",
    "test_example_reshaped = noisy_stft.get_data()[0].reshape((1, shape[0], shape[1], shape[2]))\n",
    "\n",
    "test_pure = pure_stft.get_data()[0]"
   ]
  },
  {
   "cell_type": "code",
   "execution_count": 53,
   "id": "993ba3f6-b802-4d2b-ac0c-35f843092729",
   "metadata": {
    "tags": []
   },
   "outputs": [
    {
     "data": {
      "text/plain": [
       "0.1167289817731223"
      ]
     },
     "execution_count": 53,
     "metadata": {},
     "output_type": "execute_result"
    }
   ],
   "source": [
    "test_pure[:,:,0].max()"
   ]
  },
  {
   "cell_type": "markdown",
   "id": "65d8bffc-c85c-4356-9fe1-386ff9c0351c",
   "metadata": {},
   "source": [
    "Todo\n",
    "Normalize the phase and amplitude values.."
   ]
  },
  {
   "cell_type": "code",
   "execution_count": 54,
   "id": "728854d5-4030-48e9-8865-89228857d160",
   "metadata": {
    "tags": []
   },
   "outputs": [],
   "source": [
    "amps_noisy =noisy_stft.get_data()[:,:,:,0]"
   ]
  },
  {
   "cell_type": "code",
   "execution_count": 55,
   "id": "cc0e735a-37b3-4780-a56d-6f0e6b212830",
   "metadata": {
    "tags": []
   },
   "outputs": [],
   "source": [
    "amps_noisy_flattened = amps_noisy.flatten()"
   ]
  },
  {
   "cell_type": "code",
   "execution_count": 56,
   "id": "1b516141-c7d1-4207-a12f-a0031fb15379",
   "metadata": {
    "tags": []
   },
   "outputs": [
    {
     "data": {
      "text/plain": [
       "(array([1.0101877e+07, 1.1225070e+06, 1.9600700e+05, 1.0042300e+05,\n",
       "        5.1438000e+04, 2.1964000e+04, 9.8380000e+03, 4.6260000e+03,\n",
       "        1.1690000e+03, 1.5100000e+02]),\n",
       " array([2.14359953e-11, 1.67539747e-02, 3.35079495e-02, 5.02619242e-02,\n",
       "        6.70158989e-02, 8.37698737e-02, 1.00523848e-01, 1.17277823e-01,\n",
       "        1.34031798e-01, 1.50785773e-01, 1.67539747e-01]),\n",
       " <BarContainer object of 10 artists>)"
      ]
     },
     "execution_count": 56,
     "metadata": {},
     "output_type": "execute_result"
    },
    {
     "data": {
      "image/png": "[encoded data removed]",
      "text/plain": [
       "<Figure size 640x480 with 1 Axes>"
      ]
     },
     "metadata": {},
     "output_type": "display_data"
    }
   ],
   "source": [
    "plt.hist(amps_noisy_flattened)"
   ]
  },
  {
   "cell_type": "code",
   "execution_count": 57,
   "id": "9063e8e5-df9b-4911-90b9-2606ef41e874",
   "metadata": {
    "tags": []
   },
   "outputs": [],
   "source": [
    "amps_noisy_max = amps_noisy.max(axis=2).max(axis=1)"
   ]
  },
  {
   "cell_type": "code",
   "execution_count": 58,
   "id": "2d7f8f9f-fe81-4599-b965-31be2a86179d",
   "metadata": {
    "tags": []
   },
   "outputs": [
    {
     "data": {
      "text/plain": [
       "(10000,)"
      ]
     },
     "execution_count": 58,
     "metadata": {},
     "output_type": "execute_result"
    }
   ],
   "source": [
    "amps_noisy_max.shape"
   ]
  },
  {
   "cell_type": "code",
   "execution_count": 59,
   "id": "50c79a4d-7dbc-41a4-aa77-fc877d1d6468",
   "metadata": {
    "tags": []
   },
   "outputs": [
    {
     "data": {
      "text/plain": [
       "(array([ 153.,  364., 2132., 2197., 1479., 1392., 1000.,  879.,  345.,\n",
       "          59.]),\n",
       " array([0.04645806, 0.05856623, 0.0706744 , 0.08278256, 0.09489073,\n",
       "        0.1069989 , 0.11910707, 0.13121524, 0.14332341, 0.15543158,\n",
       "        0.16753975]),\n",
       " <BarContainer object of 10 artists>)"
      ]
     },
     "execution_count": 59,
     "metadata": {},
     "output_type": "execute_result"
    },
    {
     "data": {
      "image/png": "[encoded data removed]",
      "text/plain": [
       "<Figure size 640x480 with 1 Axes>"
      ]
     },
     "metadata": {},
     "output_type": "display_data"
    }
   ],
   "source": [
    "plt.hist(amps_noisy_max)"
   ]
  }
 ],
 "metadata": {
  "kernelspec": {
   "display_name": "Python 3 (ipykernel)",
   "language": "python",
   "name": "python3"
  },
  "language_info": {
   "codemirror_mode": {
    "name": "ipython",
    "version": 3
   },
   "file_extension": ".py",
   "mimetype": "text/x-python",
   "name": "python",
   "nbconvert_exporter": "python",
   "pygments_lexer": "ipython3",
   "version": "3.9.16"
  }
 },
 "nbformat": 4,
 "nbformat_minor": 5
}
