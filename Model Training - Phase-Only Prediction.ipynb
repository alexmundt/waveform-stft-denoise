{
 "cells": [
  {
   "cell_type": "markdown",
   "id": "4c4bc3da-e0a9-4a6d-8269-416f3b5e426e",
   "metadata": {},
   "source": [
    "# Model Training - Phase-Only Prediction\n",
    "This model architecture only predicts the phase information.\n",
    "\n",
    "Both the phase and the amplitude information are taken into account for the prediction."
   ]
  },
  {
   "cell_type": "markdown",
   "id": "af89b7f9-b0a3-4b4e-ad8b-cb76cf1d0c2e",
   "metadata": {
    "tags": []
   },
   "source": [
    "## Imports\n",
    "This notebook uses the custom code found in the code folder"
   ]
  },
  {
   "cell_type": "code",
   "execution_count": 12,
   "id": "2d038a39-333d-466f-813b-ba25e46aaf08",
   "metadata": {
    "tags": []
   },
   "outputs": [],
   "source": [
    "import os\n",
    "\n",
    "# math, processing, deep learning\n",
    "import numpy as np\n",
    "import tensorflow as tf\n",
    "from scipy.signal import stft, istft\n",
    "\n",
    "# visualization\n",
    "import matplotlib.pyplot as plt\n",
    "from ipywidgets import interact\n",
    "from mpl_toolkits.axes_grid1 import make_axes_locatable\n",
    "\n",
    "\n",
    "# custom code\n",
    "from code.stftprocessing import StftDataset\n",
    "from code.dsvisual import DatasetVisualizer\n",
    "\n",
    "# convenience\n",
    "from tqdm import tqdm\n",
    "import datetime\n"
   ]
  },
  {
   "cell_type": "markdown",
   "id": "3c018a04-4eef-4880-95dd-dec0a95dd92c",
   "metadata": {},
   "source": [
    "## Load the files for training and testing\n",
    "There are different training and test sets in the folder. This section loads the appropriate ones into memory.\n"
   ]
  },
  {
   "cell_type": "code",
   "execution_count": 13,
   "id": "7c5005d7-ef4c-4d6f-ac61-9022a8267d18",
   "metadata": {
    "tags": []
   },
   "outputs": [],
   "source": [
    "# this is a smaller training set for testing purposes\n",
    "folder = \"training/new_small\"\n",
    "base = \"noisy_small\"\n",
    "target = \"pure_small\"\n",
    "\n",
    "# this is a training set for training the main model\n",
    "# folder = \"training/original training\"\n",
    "# base = \"noisy\"\n",
    "# target = \"pure\"\n",
    "\n",
    "test_folder = \"training/test set\"\n",
    "test_base = \"noisy_test\"\n",
    "test_target = \"pure_test\"\n"
   ]
  },
  {
   "cell_type": "markdown",
   "id": "bf78c285-c30f-4693-9a5d-026bc84c6dd4",
   "metadata": {},
   "source": [
    "Load the files from the given locations using the custom code StftDataset class.\n",
    "\n",
    "The StftDataset class also processes the waveforms into STFT format."
   ]
  },
  {
   "cell_type": "code",
   "execution_count": 14,
   "id": "67a3f1e0-0fa2-4d50-8552-5575b1bc0f3d",
   "metadata": {
    "tags": []
   },
   "outputs": [
    {
     "name": "stdout",
     "output_type": "stream",
     "text": [
      "Files loaded.\n",
      "Files loaded.\n",
      "Files loaded.\n",
      "Files loaded.\n"
     ]
    }
   ],
   "source": [
    "noisy_stft = StftDataset()\n",
    "pure_stft = StftDataset()\n",
    "\n",
    "noisy_stft.load(folder, base)\n",
    "pure_stft.load(folder, target)\n",
    "\n",
    "# test sets\n",
    "noisy_test_stft = StftDataset()\n",
    "pure_test_stft = StftDataset()\n",
    "noisy_test_stft.load(test_folder, test_base)\n",
    "pure_test_stft.load(test_folder, test_target)"
   ]
  },
  {
   "cell_type": "markdown",
   "id": "82aa54aa-63b6-4a77-accd-13e34019cfe6",
   "metadata": {},
   "source": [
    "Check the shape of the data"
   ]
  },
  {
   "cell_type": "code",
   "execution_count": 4,
   "id": "11608d20-dfe1-4179-9d4c-6dd7b94af13e",
   "metadata": {
    "tags": []
   },
   "outputs": [
    {
     "data": {
      "text/plain": [
       "(10000, 129, 9, 2)"
      ]
     },
     "execution_count": 4,
     "metadata": {},
     "output_type": "execute_result"
    }
   ],
   "source": [
    "noisy_stft.get_data().shape"
   ]
  },
  {
   "cell_type": "markdown",
   "id": "8f61b6da-a36f-40e2-b9dc-4806ba1f5a02",
   "metadata": {},
   "source": [
    "### Extracting phase and amplitude information\n",
    "The StftDataset class loads the data that was stored in amplitude and phase format in different files and combines it together"
   ]
  },
  {
   "cell_type": "code",
   "execution_count": 15,
   "id": "fc006258-5af8-42b3-ab54-a4189c550ef4",
   "metadata": {},
   "outputs": [],
   "source": [
    "# get the amplitudes of training and test sets\n",
    "examples = noisy_stft.get_data()[:,:,:,:]\n",
    "labels = pure_stft.get_data()[:,:,:,1]\n",
    "\n",
    "stride_reduce = 100\n",
    "examples_test = noisy_test_stft.get_data()[::stride_reduce,:,:,:]\n",
    "labels_test = pure_test_stft.get_data()[::stride_reduce,:,:,1]\n",
    "\n",
    "# examples_test_phase = noisy_test_stft.get_data()[::stride_reduce,:,:,1]\n",
    "# labels_test_phase = pure_test_stft.get_data()[::stride_reduce,:,:,1]\n",
    "\n",
    "# build the dataset from tensorflow functions\n",
    "train_dataset = tf.data.Dataset.from_tensor_slices((examples, labels))\n",
    "test_dataset = tf.data.Dataset.from_tensor_slices((examples_test, labels_test))"
   ]
  },
  {
   "cell_type": "code",
   "execution_count": 16,
   "id": "6562c220-7860-4297-a77d-c5e88007007a",
   "metadata": {
    "tags": []
   },
   "outputs": [
    {
     "data": {
      "text/plain": [
       "<TensorSliceDataset shapes: ((129, 9, 2), (129, 9)), types: (tf.float64, tf.float64)>"
      ]
     },
     "execution_count": 16,
     "metadata": {},
     "output_type": "execute_result"
    }
   ],
   "source": [
    "train_dataset\n",
    "# test_dataset"
   ]
  },
  {
   "cell_type": "code",
   "execution_count": 34,
   "id": "b974f1c1-e512-4859-96e2-f2abf7b99d66",
   "metadata": {
    "tags": []
   },
   "outputs": [],
   "source": [
    "input_shape = examples.shape[1:]\n",
    "output_shape = labels.shape[1:]\n",
    "# count up the number of elements in the data for the flattened layer\n",
    "number_of_data_elements = np.prod(input_shape)\n",
    "number_of_data_elements_output = np.prod(output_shape)"
   ]
  },
  {
   "cell_type": "code",
   "execution_count": 18,
   "id": "ea6f06e8-d6e8-41fc-8bb3-9038794e20b8",
   "metadata": {
    "tags": []
   },
   "outputs": [],
   "source": [
    "BATCH_SIZE = int(512/1)\n",
    "SHUFFLE_BUFFER_SIZE = int(2000/1)\n",
    "\n",
    "train_dataset = train_dataset.shuffle(SHUFFLE_BUFFER_SIZE).batch(BATCH_SIZE)\n",
    "test_dataset = test_dataset.batch(BATCH_SIZE)"
   ]
  },
  {
   "cell_type": "code",
   "execution_count": 19,
   "id": "0c4d1f41-be67-4b4c-b0c5-79885978c533",
   "metadata": {
    "tags": []
   },
   "outputs": [],
   "source": [
    "# train_dataset.take(1).unbatch()\n",
    "   "
   ]
  },
  {
   "cell_type": "code",
   "execution_count": 20,
   "id": "3c205536-ec0b-461c-947b-c9125faab333",
   "metadata": {
    "tags": []
   },
   "outputs": [],
   "source": [
    "class Custom_Loss(tf.keras.losses.Loss):\n",
    "\n",
    "    def call(self, y_true, y_pred):        \n",
    "        amplitude_mse = tf.reduce_mean(tf.math.square(y_pred[:,:,:,0] - y_true[:,:,:,0]))\n",
    "        phase_mse = tf.reduce_mean(tf.math.square(y_pred[:,:,:,1] - y_true[:,:,:,1]))\n",
    "        # return amplitude_mse + 0.0001*phase_mse\n",
    "        return amplitude_mse \n",
    "\n",
    "\n",
    "# Define custom activation function for scaling\n",
    "def scaling_activation(x):\n",
    "    return 3.14 * tf.tanh(x)\n",
    "    \n",
    "def scaling_activation(x):\n",
    "    amplitude_activation = 0\n",
    "    phase_activation =0\n",
    "    return 3.14 * tf.tanh(x)\n",
    "    "
   ]
  },
  {
   "cell_type": "code",
   "execution_count": 101,
   "id": "97c703f4-8424-435f-a5a8-c7b3a34c593a",
   "metadata": {
    "tags": []
   },
   "outputs": [],
   "source": [
    "dropout_rate = 0.05\n",
    "factor = 1\n",
    "\n",
    "model = tf.keras.Sequential([\n",
    "     # this is normalization for amplitude and phase information, both separated on the last axis\n",
    "    # tf.keras.layers.experimental.preprocessing.Normalization(axis=-1, input_shape=input_shape),\n",
    "    \n",
    "    tf.keras.layers.experimental.preprocessing.Normalization(axis=(-3,-2,-1),input_shape=input_shape),\n",
    "    \n",
    "    tf.keras.layers.Flatten(input_shape=input_shape),\n",
    "\n",
    "    tf.keras.layers.Dense(units = 125*factor, activation='elu'),\n",
    "    tf.keras.layers.Dropout(rate=dropout_rate),\n",
    "    tf.keras.layers.Dense(units = 75*factor, activation='elu'),\n",
    "    tf.keras.layers.Dropout(rate=dropout_rate*0.25),\n",
    "\n",
    "    tf.keras.layers.Dense(units = 50*factor, activation='elu'),\n",
    "    tf.keras.layers.Dropout(rate=dropout_rate*0.25),\n",
    "    tf.keras.layers.Dense(units = 50*factor, activation='elu'),\n",
    "    tf.keras.layers.Dropout(rate=dropout_rate*0.25),\n",
    "    tf.keras.layers.Dense(units = 50*factor, activation='elu'),\n",
    "    tf.keras.layers.Dropout(rate=dropout_rate*0.25),\n",
    "\n",
    "    tf.keras.layers.Dense(units = 75*factor, activation='elu'),\n",
    "    tf.keras.layers.Dropout(rate=dropout_rate),\n",
    "\n",
    "\n",
    "    tf.keras.layers.Dense(units = number_of_data_elements_output, activation='tanh'),\n",
    "    # tf.keras.layers.Dense((128,9,2), activation='relu'),\n",
    "    # tf.keras.layers.Dense((128,9,2), activation='relu'),\n",
    "    # tf.keras.layers.Dense((128,9,2), activation='relu'),\n",
    "    # tf.keras.layers.Conv2D(3,2, activation='relu', input_shape=input_shape),\n",
    "    tf.keras.layers.experimental.preprocessing.Rescaling(scale=3.14),\n",
    "    tf.keras.layers.Reshape(target_shape=output_shape)\n",
    "])\n",
    "\n",
    "model.compile(optimizer=\"adam\",\n",
    "              # loss=Custom_Loss(),\n",
    "                loss=\"mse\"\n",
    "\n",
    "              )"
   ]
  },
  {
   "cell_type": "code",
   "execution_count": 102,
   "id": "c54f25dc-b243-4398-8afa-a02d60569733",
   "metadata": {
    "tags": []
   },
   "outputs": [],
   "source": [
    "norm_layer = model.layers[0]"
   ]
  },
  {
   "cell_type": "code",
   "execution_count": 103,
   "id": "51ebd605-d467-4377-8dc4-cc9343e1849d",
   "metadata": {
    "tags": []
   },
   "outputs": [],
   "source": [
    "norm_layer.adapt(examples)"
   ]
  },
  {
   "cell_type": "code",
   "execution_count": 104,
   "id": "a5a764f9-e88f-4864-854b-6345cdd4221d",
   "metadata": {
    "tags": []
   },
   "outputs": [],
   "source": [
    "train_take_example = train_dataset.take(1)"
   ]
  },
  {
   "cell_type": "code",
   "execution_count": 105,
   "id": "febbd41d-d8e1-40da-82f8-e3771819a33e",
   "metadata": {
    "tags": []
   },
   "outputs": [],
   "source": [
    "# help(train_take_example)"
   ]
  },
  {
   "cell_type": "code",
   "execution_count": 106,
   "id": "fde5a1e6-5863-4bae-80c6-25b29f53b409",
   "metadata": {
    "tags": []
   },
   "outputs": [
    {
     "data": {
      "text/plain": [
       "(10000, 129, 9, 2)"
      ]
     },
     "execution_count": 106,
     "metadata": {},
     "output_type": "execute_result"
    }
   ],
   "source": [
    "examples.shape"
   ]
  },
  {
   "cell_type": "code",
   "execution_count": 107,
   "id": "e2cb7261-8042-4904-a5aa-65c99bcda994",
   "metadata": {
    "tags": []
   },
   "outputs": [],
   "source": [
    "norm_example = norm_layer(examples[0])"
   ]
  },
  {
   "cell_type": "code",
   "execution_count": 108,
   "id": "4aeec26b-ca9c-42ec-a9d9-73fe6bb0776f",
   "metadata": {
    "tags": []
   },
   "outputs": [
    {
     "data": {
      "text/plain": [
       "TensorShape([1, 129, 9, 2])"
      ]
     },
     "execution_count": 108,
     "metadata": {},
     "output_type": "execute_result"
    }
   ],
   "source": [
    "norm_example.shape"
   ]
  },
  {
   "cell_type": "code",
   "execution_count": 109,
   "id": "57143068-bb62-4b45-9c60-f18496f36e2f",
   "metadata": {
    "tags": []
   },
   "outputs": [
    {
     "data": {
      "text/plain": [
       "<matplotlib.colorbar.Colorbar at 0x7f4d122f2760>"
      ]
     },
     "execution_count": 109,
     "metadata": {},
     "output_type": "execute_result"
    },
    {
     "data": {
      "image/png": "[encoded data removed]",
      "text/plain": [
       "<Figure size 640x480 with 2 Axes>"
      ]
     },
     "metadata": {},
     "output_type": "display_data"
    }
   ],
   "source": [
    "plt.imshow(norm_example[0,:,:,0], aspect=\"auto\")\n",
    "plt.colorbar()"
   ]
  },
  {
   "cell_type": "code",
   "execution_count": 110,
   "id": "0718a710-2c05-4b92-82ef-eb6811f27f69",
   "metadata": {
    "tags": []
   },
   "outputs": [],
   "source": [
    "# help(norm_layer)"
   ]
  },
  {
   "cell_type": "code",
   "execution_count": 111,
   "id": "3b0c4fd8-dccf-49a8-bfbe-a05ff098a383",
   "metadata": {
    "tags": []
   },
   "outputs": [],
   "source": [
    "# norm_layer(train_take_example)"
   ]
  },
  {
   "cell_type": "code",
   "execution_count": 112,
   "id": "5b853a9d-5f50-4095-b03c-969174f5b9e0",
   "metadata": {
    "tags": []
   },
   "outputs": [
    {
     "data": {
      "text/plain": [
       "<tf.Variable 'normalization_3/variance:0' shape=(129, 9, 2) dtype=float32, numpy=\n",
       "array([[[3.59296315e-10, 2.41276932e+00],\n",
       "        [2.69151004e-14, 2.46676946e+00],\n",
       "        [6.60303653e-14, 2.46468139e+00],\n",
       "        ...,\n",
       "        [6.42897262e-14, 2.46487451e+00],\n",
       "        [1.54068691e-09, 2.46736550e+00],\n",
       "        [1.65889801e-07, 2.46739316e+00]],\n",
       "\n",
       "       [[3.59926366e-10, 5.54411650e+00],\n",
       "        [2.65389161e-14, 4.46880627e+00],\n",
       "        [6.50394926e-14, 4.55492115e+00],\n",
       "        ...,\n",
       "        [6.33083809e-14, 4.56339264e+00],\n",
       "        [1.53781099e-09, 2.54940891e+00],\n",
       "        [1.65614111e-07, 2.52541208e+00]],\n",
       "\n",
       "       [[3.59364927e-10, 4.08030462e+00],\n",
       "        [2.65719369e-14, 4.18337250e+00],\n",
       "        [6.49284161e-14, 4.27996683e+00],\n",
       "        ...,\n",
       "        [6.30659330e-14, 4.28592968e+00],\n",
       "        [1.53348834e-09, 2.55046010e+00],\n",
       "        [1.65202380e-07, 2.54941678e+00]],\n",
       "\n",
       "       ...,\n",
       "\n",
       "       [[9.69132770e-07, 3.69517112e+00],\n",
       "        [1.46722605e-05, 3.22882175e+00],\n",
       "        [2.01990515e-05, 3.32744431e+00],\n",
       "        ...,\n",
       "        [2.06309996e-05, 3.25135279e+00],\n",
       "        [1.99061469e-05, 3.28705096e+00],\n",
       "        [4.78147786e-06, 3.09907126e+00]],\n",
       "\n",
       "       [[2.05255176e-07, 3.31843829e+00],\n",
       "        [2.79603751e-06, 3.32014585e+00],\n",
       "        [7.86019518e-06, 3.24013019e+00],\n",
       "        ...,\n",
       "        [7.22561435e-06, 3.27901554e+00],\n",
       "        [7.56020609e-06, 3.27798963e+00],\n",
       "        [4.00184126e-06, 3.06772542e+00]],\n",
       "\n",
       "       [[1.91898195e-07, 2.46464849e+00],\n",
       "        [5.93769300e-07, 2.46633363e+00],\n",
       "        [2.25675376e-06, 2.46461558e+00],\n",
       "        ...,\n",
       "        [1.29275145e-06, 2.46739960e+00],\n",
       "        [1.37819222e-06, 2.46735764e+00],\n",
       "        [4.40297663e-06, 2.46733952e+00]]], dtype=float32)>"
      ]
     },
     "execution_count": 112,
     "metadata": {},
     "output_type": "execute_result"
    }
   ],
   "source": [
    "norm_layer.variance"
   ]
  },
  {
   "cell_type": "code",
   "execution_count": 113,
   "id": "70b3b061-1eeb-48bd-b9c8-f2e73f73fa17",
   "metadata": {
    "tags": []
   },
   "outputs": [
    {
     "name": "stdout",
     "output_type": "stream",
     "text": [
      "Model: \"sequential_3\"\n",
      "_________________________________________________________________\n",
      "Layer (type)                 Output Shape              Param #   \n",
      "=================================================================\n",
      "normalization_3 (Normalizati (None, 129, 9, 2)         4645      \n",
      "_________________________________________________________________\n",
      "flatten_3 (Flatten)          (None, 2322)              0         \n",
      "_________________________________________________________________\n",
      "dense_21 (Dense)             (None, 125)               290375    \n",
      "_________________________________________________________________\n",
      "dropout_18 (Dropout)         (None, 125)               0         \n",
      "_________________________________________________________________\n",
      "dense_22 (Dense)             (None, 75)                9450      \n",
      "_________________________________________________________________\n",
      "dropout_19 (Dropout)         (None, 75)                0         \n",
      "_________________________________________________________________\n",
      "dense_23 (Dense)             (None, 50)                3800      \n",
      "_________________________________________________________________\n",
      "dropout_20 (Dropout)         (None, 50)                0         \n",
      "_________________________________________________________________\n",
      "dense_24 (Dense)             (None, 50)                2550      \n",
      "_________________________________________________________________\n",
      "dropout_21 (Dropout)         (None, 50)                0         \n",
      "_________________________________________________________________\n",
      "dense_25 (Dense)             (None, 50)                2550      \n",
      "_________________________________________________________________\n",
      "dropout_22 (Dropout)         (None, 50)                0         \n",
      "_________________________________________________________________\n",
      "dense_26 (Dense)             (None, 75)                3825      \n",
      "_________________________________________________________________\n",
      "dropout_23 (Dropout)         (None, 75)                0         \n",
      "_________________________________________________________________\n",
      "dense_27 (Dense)             (None, 1161)              88236     \n",
      "_________________________________________________________________\n",
      "rescaling (Rescaling)        (None, 1161)              0         \n",
      "_________________________________________________________________\n",
      "reshape_3 (Reshape)          (None, 129, 9)            0         \n",
      "=================================================================\n",
      "Total params: 405,431\n",
      "Trainable params: 400,786\n",
      "Non-trainable params: 4,645\n",
      "_________________________________________________________________\n"
     ]
    }
   ],
   "source": [
    "model.summary()"
   ]
  },
  {
   "cell_type": "code",
   "execution_count": 114,
   "id": "b804e9f8-eb27-42a2-8c91-80d87d07f724",
   "metadata": {
    "tags": []
   },
   "outputs": [],
   "source": [
    "from tensorflow.keras.callbacks import Callback\n",
    "\n",
    "class LossCallback(Callback):\n",
    "    def on_epoch_end(self, epoch, logs=None):\n",
    "        if not self.params['verbose']:\n",
    "            print(\"Loss: {}\".format(logs['loss']))"
   ]
  },
  {
   "cell_type": "code",
   "execution_count": 143,
   "id": "faea64cc-22a7-49a0-8c89-fb11785912cf",
   "metadata": {
    "tags": []
   },
   "outputs": [
    {
     "name": "stdout",
     "output_type": "stream",
     "text": [
      "Epoch 1/100\n",
      "20/20 [==============================] - 0s 15ms/step - loss: 0.9865 - val_loss: 3.9209\n",
      "Epoch 2/100\n",
      "20/20 [==============================] - 0s 14ms/step - loss: 0.9748 - val_loss: 3.9167\n",
      "Epoch 3/100\n",
      "20/20 [==============================] - 0s 15ms/step - loss: 0.9772 - val_loss: 3.9246\n",
      "Epoch 4/100\n",
      "20/20 [==============================] - 0s 16ms/step - loss: 0.9737 - val_loss: 3.9147\n",
      "Epoch 5/100\n",
      "20/20 [==============================] - 0s 16ms/step - loss: 0.9805 - val_loss: 3.9231\n",
      "Epoch 6/100\n",
      "20/20 [==============================] - 0s 15ms/step - loss: 0.9766 - val_loss: 3.9124\n",
      "Epoch 7/100\n",
      "20/20 [==============================] - 0s 15ms/step - loss: 0.9737 - val_loss: 3.9257\n",
      "Epoch 8/100\n",
      "20/20 [==============================] - 0s 15ms/step - loss: 0.9760 - val_loss: 3.9119\n",
      "Epoch 9/100\n",
      "20/20 [==============================] - 0s 14ms/step - loss: 0.9778 - val_loss: 3.9280\n",
      "Epoch 10/100\n",
      "20/20 [==============================] - 0s 14ms/step - loss: 0.9757 - val_loss: 3.9106\n",
      "Epoch 11/100\n",
      "20/20 [==============================] - 0s 14ms/step - loss: 0.9681 - val_loss: 3.9322\n",
      "Epoch 12/100\n",
      "20/20 [==============================] - 0s 14ms/step - loss: 0.9729 - val_loss: 3.9209\n",
      "Epoch 13/100\n",
      "20/20 [==============================] - 0s 14ms/step - loss: 0.9748 - val_loss: 3.9372\n",
      "Epoch 14/100\n",
      "20/20 [==============================] - 0s 14ms/step - loss: 0.9746 - val_loss: 3.9173\n",
      "Epoch 15/100\n",
      "20/20 [==============================] - 0s 14ms/step - loss: 0.9806 - val_loss: 3.9457\n",
      "Epoch 16/100\n",
      "20/20 [==============================] - 0s 14ms/step - loss: 0.9758 - val_loss: 3.9180\n",
      "Epoch 17/100\n",
      "20/20 [==============================] - 0s 14ms/step - loss: 0.9758 - val_loss: 3.9484\n",
      "Epoch 18/100\n",
      "20/20 [==============================] - 0s 14ms/step - loss: 0.9721 - val_loss: 3.9216\n",
      "Epoch 19/100\n",
      "20/20 [==============================] - 0s 14ms/step - loss: 0.9703 - val_loss: 3.9474\n",
      "Epoch 20/100\n",
      "20/20 [==============================] - 0s 14ms/step - loss: 0.9691 - val_loss: 3.9254\n",
      "Epoch 21/100\n",
      "20/20 [==============================] - 0s 14ms/step - loss: 0.9698 - val_loss: 3.9502\n",
      "Epoch 22/100\n",
      "20/20 [==============================] - 0s 14ms/step - loss: 0.9674 - val_loss: 3.9301\n",
      "Epoch 23/100\n",
      "20/20 [==============================] - 0s 14ms/step - loss: 0.9670 - val_loss: 3.9425\n",
      "Epoch 24/100\n",
      "20/20 [==============================] - 0s 14ms/step - loss: 0.9674 - val_loss: 3.9382\n",
      "Epoch 25/100\n",
      "20/20 [==============================] - 0s 14ms/step - loss: 0.9644 - val_loss: 3.9272\n",
      "Epoch 26/100\n",
      "20/20 [==============================] - 0s 14ms/step - loss: 0.9632 - val_loss: 3.9381\n",
      "Epoch 27/100\n",
      "20/20 [==============================] - 0s 14ms/step - loss: 0.9607 - val_loss: 3.9274\n",
      "Epoch 28/100\n",
      "20/20 [==============================] - 0s 15ms/step - loss: 0.9597 - val_loss: 3.9420\n",
      "Epoch 29/100\n",
      "20/20 [==============================] - 0s 14ms/step - loss: 0.9564 - val_loss: 3.9231\n",
      "Epoch 30/100\n",
      "20/20 [==============================] - 0s 15ms/step - loss: 0.9593 - val_loss: 3.9470\n",
      "Epoch 31/100\n",
      "20/20 [==============================] - 0s 14ms/step - loss: 0.9604 - val_loss: 3.9227\n",
      "Epoch 32/100\n",
      "20/20 [==============================] - 0s 15ms/step - loss: 0.9602 - val_loss: 3.9540\n",
      "Epoch 33/100\n",
      "20/20 [==============================] - 0s 15ms/step - loss: 0.9597 - val_loss: 3.9279\n",
      "Epoch 34/100\n",
      "20/20 [==============================] - 0s 14ms/step - loss: 0.9615 - val_loss: 3.9531\n",
      "Epoch 35/100\n",
      "20/20 [==============================] - 0s 14ms/step - loss: 0.9594 - val_loss: 3.9230\n",
      "Epoch 36/100\n",
      "20/20 [==============================] - 0s 14ms/step - loss: 0.9643 - val_loss: 3.9500\n",
      "Epoch 37/100\n",
      "20/20 [==============================] - 0s 15ms/step - loss: 0.9629 - val_loss: 3.9372\n",
      "Epoch 38/100\n",
      "20/20 [==============================] - 0s 14ms/step - loss: 0.9617 - val_loss: 3.9529\n",
      "Epoch 39/100\n",
      "20/20 [==============================] - 0s 14ms/step - loss: 0.9620 - val_loss: 3.9350\n",
      "Epoch 40/100\n",
      "20/20 [==============================] - 1s 27ms/step - loss: 0.9610 - val_loss: 3.9478\n",
      "Epoch 41/100\n",
      "20/20 [==============================] - 0s 14ms/step - loss: 0.9573 - val_loss: 3.9431\n",
      "Epoch 42/100\n",
      "20/20 [==============================] - 0s 14ms/step - loss: 0.9529 - val_loss: 3.9509\n",
      "Epoch 43/100\n",
      "20/20 [==============================] - 0s 14ms/step - loss: 0.9539 - val_loss: 3.9405\n",
      "Epoch 44/100\n",
      "20/20 [==============================] - 0s 14ms/step - loss: 0.9483 - val_loss: 3.9443\n",
      "Epoch 45/100\n",
      "20/20 [==============================] - 0s 14ms/step - loss: 0.9531 - val_loss: 3.9401\n",
      "Epoch 46/100\n",
      "20/20 [==============================] - 0s 15ms/step - loss: 0.9542 - val_loss: 3.9415\n",
      "Epoch 47/100\n",
      "20/20 [==============================] - 0s 14ms/step - loss: 0.9518 - val_loss: 3.9475\n",
      "Epoch 48/100\n",
      "20/20 [==============================] - 0s 14ms/step - loss: 0.9457 - val_loss: 3.9476\n",
      "Epoch 49/100\n",
      "20/20 [==============================] - 0s 14ms/step - loss: 0.9461 - val_loss: 3.9426\n",
      "Epoch 50/100\n",
      "20/20 [==============================] - 0s 14ms/step - loss: 0.9478 - val_loss: 3.9510\n",
      "Epoch 51/100\n",
      "20/20 [==============================] - 0s 14ms/step - loss: 0.9500 - val_loss: 3.9437\n",
      "Epoch 52/100\n",
      "20/20 [==============================] - 0s 14ms/step - loss: 0.9601 - val_loss: 3.9593\n",
      "Epoch 53/100\n",
      "20/20 [==============================] - 0s 14ms/step - loss: 0.9601 - val_loss: 3.9377\n",
      "Epoch 54/100\n",
      "20/20 [==============================] - 0s 14ms/step - loss: 0.9632 - val_loss: 3.9651\n",
      "Epoch 55/100\n",
      "20/20 [==============================] - 0s 14ms/step - loss: 0.9558 - val_loss: 3.9346\n",
      "Epoch 56/100\n",
      "20/20 [==============================] - 0s 14ms/step - loss: 0.9555 - val_loss: 3.9704\n",
      "Epoch 57/100\n",
      "20/20 [==============================] - 0s 14ms/step - loss: 0.9571 - val_loss: 3.9451\n",
      "Epoch 58/100\n",
      "20/20 [==============================] - 0s 15ms/step - loss: 0.9509 - val_loss: 3.9646\n",
      "Epoch 59/100\n",
      "20/20 [==============================] - 0s 14ms/step - loss: 0.9526 - val_loss: 3.9412\n",
      "Epoch 60/100\n",
      "20/20 [==============================] - 0s 14ms/step - loss: 0.9467 - val_loss: 3.9558\n",
      "Epoch 61/100\n",
      "20/20 [==============================] - 0s 14ms/step - loss: 0.9427 - val_loss: 3.9511\n",
      "Epoch 62/100\n",
      "20/20 [==============================] - 0s 14ms/step - loss: 0.9464 - val_loss: 3.9553\n",
      "Epoch 63/100\n",
      "20/20 [==============================] - 0s 14ms/step - loss: 0.9431 - val_loss: 3.9516\n",
      "Epoch 64/100\n",
      "20/20 [==============================] - 0s 14ms/step - loss: 0.9412 - val_loss: 3.9613\n",
      "Epoch 65/100\n",
      "20/20 [==============================] - 0s 14ms/step - loss: 0.9401 - val_loss: 3.9521\n",
      "Epoch 66/100\n",
      "20/20 [==============================] - 0s 15ms/step - loss: 0.9450 - val_loss: 3.9659\n",
      "Epoch 67/100\n",
      "20/20 [==============================] - 0s 14ms/step - loss: 0.9445 - val_loss: 3.9541\n",
      "Epoch 68/100\n",
      "20/20 [==============================] - 0s 14ms/step - loss: 0.9444 - val_loss: 3.9613\n",
      "Epoch 69/100\n",
      "20/20 [==============================] - 0s 14ms/step - loss: 0.9498 - val_loss: 3.9582\n",
      "Epoch 70/100\n",
      "20/20 [==============================] - 0s 14ms/step - loss: 0.9427 - val_loss: 3.9590\n",
      "Epoch 71/100\n",
      "20/20 [==============================] - 0s 14ms/step - loss: 0.9416 - val_loss: 3.9605\n",
      "Epoch 72/100\n",
      "20/20 [==============================] - 0s 14ms/step - loss: 0.9435 - val_loss: 3.9579\n",
      "Epoch 73/100\n",
      "20/20 [==============================] - 0s 14ms/step - loss: 0.9435 - val_loss: 3.9662\n",
      "Epoch 74/100\n",
      "20/20 [==============================] - 0s 14ms/step - loss: 0.9466 - val_loss: 3.9536\n",
      "Epoch 75/100\n",
      "20/20 [==============================] - 0s 14ms/step - loss: 0.9444 - val_loss: 3.9624\n",
      "Epoch 76/100\n",
      "20/20 [==============================] - 0s 14ms/step - loss: 0.9448 - val_loss: 3.9586\n",
      "Epoch 77/100\n",
      "20/20 [==============================] - 0s 14ms/step - loss: 0.9417 - val_loss: 3.9628\n",
      "Epoch 78/100\n",
      "20/20 [==============================] - 0s 15ms/step - loss: 0.9420 - val_loss: 3.9569\n",
      "Epoch 79/100\n",
      "20/20 [==============================] - 0s 15ms/step - loss: 0.9413 - val_loss: 3.9654\n",
      "Epoch 80/100\n",
      "20/20 [==============================] - 0s 14ms/step - loss: 0.9457 - val_loss: 3.9600\n",
      "Epoch 81/100\n",
      "20/20 [==============================] - 0s 15ms/step - loss: 0.9413 - val_loss: 3.9718\n",
      "Epoch 82/100\n",
      "20/20 [==============================] - 0s 15ms/step - loss: 0.9400 - val_loss: 3.9581\n",
      "Epoch 83/100\n",
      "20/20 [==============================] - 0s 14ms/step - loss: 0.9434 - val_loss: 3.9899\n",
      "Epoch 84/100\n",
      "20/20 [==============================] - 0s 14ms/step - loss: 0.9427 - val_loss: 3.9644\n",
      "Epoch 85/100\n",
      "20/20 [==============================] - 0s 15ms/step - loss: 0.9471 - val_loss: 3.9930\n",
      "Epoch 86/100\n",
      "20/20 [==============================] - 0s 15ms/step - loss: 0.9424 - val_loss: 3.9594\n",
      "Epoch 87/100\n",
      "20/20 [==============================] - 0s 15ms/step - loss: 0.9453 - val_loss: 3.9774\n",
      "Epoch 88/100\n",
      "20/20 [==============================] - 0s 15ms/step - loss: 0.9402 - val_loss: 3.9665\n",
      "Epoch 89/100\n",
      "20/20 [==============================] - 0s 15ms/step - loss: 0.9380 - val_loss: 3.9754\n",
      "Epoch 90/100\n",
      "20/20 [==============================] - 0s 14ms/step - loss: 0.9387 - val_loss: 3.9671\n",
      "Epoch 91/100\n",
      "20/20 [==============================] - 0s 14ms/step - loss: 0.9371 - val_loss: 3.9804\n",
      "Epoch 92/100\n",
      "20/20 [==============================] - 0s 14ms/step - loss: 0.9374 - val_loss: 3.9689\n",
      "Epoch 93/100\n",
      "20/20 [==============================] - 0s 15ms/step - loss: 0.9351 - val_loss: 3.9789\n",
      "Epoch 94/100\n",
      "20/20 [==============================] - 0s 15ms/step - loss: 0.9344 - val_loss: 3.9698\n",
      "Epoch 95/100\n",
      "20/20 [==============================] - 0s 14ms/step - loss: 0.9341 - val_loss: 3.9791\n",
      "Epoch 96/100\n",
      "20/20 [==============================] - 0s 14ms/step - loss: 0.9418 - val_loss: 3.9624\n",
      "Epoch 97/100\n",
      "20/20 [==============================] - 0s 14ms/step - loss: 0.9394 - val_loss: 3.9820\n",
      "Epoch 98/100\n",
      "20/20 [==============================] - 0s 14ms/step - loss: 0.9422 - val_loss: 3.9616\n",
      "Epoch 99/100\n",
      "20/20 [==============================] - 0s 14ms/step - loss: 0.9363 - val_loss: 3.9781\n",
      "Epoch 100/100\n",
      "20/20 [==============================] - 0s 14ms/step - loss: 0.9391 - val_loss: 3.9704\n"
     ]
    },
    {
     "data": {
      "text/plain": [
       "<tensorflow.python.keras.callbacks.History at 0x7f4d11919cd0>"
      ]
     },
     "execution_count": 143,
     "metadata": {},
     "output_type": "execute_result"
    }
   ],
   "source": [
    "model.fit(train_dataset,validation_data=test_dataset, epochs=100, callbacks=[LossCallback()], verbose=True)"
   ]
  },
  {
   "cell_type": "markdown",
   "id": "239637b6-6a81-4fa3-bbf4-ced84367c9a7",
   "metadata": {
    "tags": []
   },
   "source": [
    "## Looking at predictions\n",
    "Inspecting the predictions of the model on the training set."
   ]
  },
  {
   "cell_type": "markdown",
   "id": "7049743d-bf2d-4319-bb67-45a0442ce103",
   "metadata": {},
   "source": [
    "# Note: !!!!!!!!!!!!!!!!!!!!!\n",
    "The normalization layer seems to be a problem.\n",
    "Even with just the amplitude and the normalization layer the results are garbage. but not so bad for no normalization...\n",
    "\n",
    "## Analysis\n",
    "The problem seems to be that the normalization layer \"overreacts\" because of the low, near-zero values. They dominate the variance and therefore the normalization scales outliers beyond values of 1. The activation functions however do not react well to values above 1.\n",
    "\n",
    "The amplitude and phase layer need different forms of normalizations. Scaling the amplitude linearly is a problem.\n",
    "\n",
    "They also would need to be reversible.\n",
    "\n",
    "It would be a good idea to create custom layers.\n",
    "\n"
   ]
  },
  {
   "cell_type": "code",
   "execution_count": 144,
   "id": "7aff7f56-8d8d-402d-952d-00afc311dbc2",
   "metadata": {
    "tags": []
   },
   "outputs": [],
   "source": [
    "# release train dataset:\n",
    "# train_dataset = None\n",
    "# test_dataset = None\n",
    "example_count = 2\n",
    "train_example_data = train_dataset.take(count=example_count)\n",
    "train_example_data = train_example_data.unbatch()\n",
    "predictions = model.predict(train_example_data)"
   ]
  },
  {
   "cell_type": "code",
   "execution_count": 145,
   "id": "85645ed9-2e04-4b89-b704-a1a7977b5a9e",
   "metadata": {
    "tags": []
   },
   "outputs": [
    {
     "data": {
      "text/plain": [
       "<_UnbatchDataset shapes: ((129, 9, 2), (129, 9)), types: (tf.float64, tf.float64)>"
      ]
     },
     "execution_count": 145,
     "metadata": {},
     "output_type": "execute_result"
    }
   ],
   "source": [
    "train_example_data"
   ]
  },
  {
   "cell_type": "code",
   "execution_count": 146,
   "id": "af16d606-6494-49d3-911c-cc51eed5a7d8",
   "metadata": {
    "tags": []
   },
   "outputs": [],
   "source": [
    "# help(train_example_data)\n",
    "train_example_input = []\n",
    "train_example_output = []\n",
    "# Get the tensors from the dataset\n",
    "iterator = train_example_data.as_numpy_iterator()\n",
    "# Iterate over the tensors in the dataset\n",
    "for tensor in iterator:\n",
    "    train_example_input.append(tensor[0])\n",
    "    train_example_output.append(tensor[1])"
   ]
  },
  {
   "cell_type": "code",
   "execution_count": 147,
   "id": "2a4f11e1-4c06-434d-8451-09618fa014a2",
   "metadata": {
    "tags": []
   },
   "outputs": [],
   "source": [
    "train_example_input = tf.constant(train_example_input)\n",
    "train_example_output = tf.constant(train_example_output)"
   ]
  },
  {
   "cell_type": "code",
   "execution_count": 148,
   "id": "3800f4a6-528d-483e-a0fd-b1ada5477a09",
   "metadata": {
    "tags": []
   },
   "outputs": [
    {
     "data": {
      "text/plain": [
       "(1024, 129, 9)"
      ]
     },
     "execution_count": 148,
     "metadata": {},
     "output_type": "execute_result"
    }
   ],
   "source": [
    "predictions.shape"
   ]
  },
  {
   "cell_type": "code",
   "execution_count": 149,
   "id": "9cb89ccd-47c0-4b10-85dd-583f3ee4b491",
   "metadata": {
    "tags": []
   },
   "outputs": [],
   "source": [
    "pure_train_examples = train_example_output\n",
    "noisy_train_examples = train_example_input"
   ]
  },
  {
   "cell_type": "code",
   "execution_count": 150,
   "id": "1cc06428-0ed5-411f-a202-bdad2fa3bd8e",
   "metadata": {
    "tags": []
   },
   "outputs": [
    {
     "data": {
      "text/plain": [
       "TensorShape([1024, 129, 9])"
      ]
     },
     "execution_count": 150,
     "metadata": {},
     "output_type": "execute_result"
    }
   ],
   "source": [
    "pure_train_examples.shape"
   ]
  },
  {
   "cell_type": "code",
   "execution_count": 151,
   "id": "cff32eaa-e482-476a-be38-66649e8e9dc2",
   "metadata": {
    "tags": []
   },
   "outputs": [],
   "source": [
    "predictions = model.predict(noisy_train_examples)"
   ]
  },
  {
   "cell_type": "code",
   "execution_count": 152,
   "id": "8fec0a14-350d-4d2b-ba03-b7e7fbdd0bad",
   "metadata": {
    "tags": []
   },
   "outputs": [],
   "source": [
    "def plot_phase_example(index):\n",
    "    \n",
    "    fig, [ax0, ax1] = plt.subplots(1,2)\n",
    "\n",
    "    divider0 = make_axes_locatable(ax0)\n",
    "    divider1 = make_axes_locatable(ax1)\n",
    "\n",
    "    cax0 = divider0.append_axes('right', size='5%', pad=0.05)\n",
    "    cax1 = divider1.append_axes('right', size='5%', pad=0.05)\n",
    "\n",
    "\n",
    "    # plt.imshow(labels[0,:,:,1], aspect=\"auto\")\n",
    "    im0 = ax0.imshow(pure_train_examples[index,:,:], aspect=\"auto\")\n",
    "    im1 = ax1.imshow(predictions[index,:,:], aspect=\"auto\")\n",
    "    # ax0.colorbar()\n",
    "    # fig.colorbar(im1, cax=ax0_cb, orientation='horizontal')\n",
    "\n",
    "    fig.colorbar(im0, cax=cax0, orientation='vertical')\n",
    "    fig.colorbar(im1, cax=cax1, orientation='vertical')\n",
    "\n",
    "    ax0.set_title(\"Original target\")\n",
    "    ax1.set_title(\"Denoised result\")\n",
    "\n",
    "    fig.set_size_inches((10,5))\n",
    "    # plt.imshow(predictions[0,:,:,1], aspect=\"auto\")\n",
    "    # ax1.imshow(predictions[0,:,:], aspect=\"auto\")\n",
    "\n",
    "    # plt.colorbar()"
   ]
  },
  {
   "cell_type": "code",
   "execution_count": 153,
   "id": "6554d015-32bf-45ef-a0bd-94b6afe8e750",
   "metadata": {
    "tags": []
   },
   "outputs": [
    {
     "data": {
      "application/vnd.jupyter.widget-view+json": {
       "model_id": "5a9921e0fa274893bc13a7130da80fbe",
       "version_major": 2,
       "version_minor": 0
      },
      "text/plain": [
       "interactive(children=(IntSlider(value=511, description='index', max=1023), Output()), _dom_classes=('widget-in…"
      ]
     },
     "metadata": {},
     "output_type": "display_data"
    },
    {
     "data": {
      "text/plain": [
       "<function __main__.plot_phase_example(index)>"
      ]
     },
     "execution_count": 153,
     "metadata": {},
     "output_type": "execute_result"
    }
   ],
   "source": [
    "interact(plot_phase_example, index=(0, predictions.shape[0]-1, 1))"
   ]
  },
  {
   "cell_type": "code",
   "execution_count": 132,
   "id": "dd593580-d69e-4a59-97cc-11df9147c5a3",
   "metadata": {
    "tags": []
   },
   "outputs": [],
   "source": [
    "predictions.shape\n",
    "\n",
    "def plot_example(index):\n",
    "    prediction = predictions[index]\n",
    "    actual = labels[index]\n",
    "    noisy = examples[index]\n",
    "    \n",
    "    fig, [ax1, ax2, ax3, ax4] = plt.subplots(1,4)\n",
    "\n",
    "    ax1.imshow(noisy, aspect=\"auto\")\n",
    "    ax1.set_title(\"Noisy Original\")\n",
    "    \n",
    "    ax2.set_title(\"Denoised result\")\n",
    "    ax2.imshow(prediction, aspect = \"auto\")\n",
    "    \n",
    "    ax3.set_title(\"Actual ground truth\")\n",
    "    ax3.imshow(actual, aspect= \"auto\")\n",
    "    ax4.imshow(actual-prediction, aspect=\"auto\")\n",
    "    \n",
    "    fig.set_size_inches((10,5))\n",
    "    \n",
    "    plt.show()"
   ]
  },
  {
   "cell_type": "code",
   "execution_count": 133,
   "id": "9f92e3b7-3df9-483f-ad3b-03fc0651862f",
   "metadata": {
    "tags": []
   },
   "outputs": [
    {
     "data": {
      "image/png": "[encoded data removed]",
      "text/plain": [
       "<Figure size 640x480 with 4 Axes>"
      ]
     },
     "metadata": {},
     "output_type": "display_data"
    },
    {
     "data": {
      "application/vnd.jupyter.widget-view+json": {
       "model_id": "b111e2a636fb4f458efdfe4149da91b6",
       "version_major": 2,
       "version_minor": 0
      },
      "text/plain": [
       "interactive(children=(IntSlider(value=10, description='index', max=20), Output()), _dom_classes=('widget-inter…"
      ]
     },
     "metadata": {},
     "output_type": "display_data"
    },
    {
     "data": {
      "text/plain": [
       "<function __main__.plot_example(index)>"
      ]
     },
     "execution_count": 133,
     "metadata": {},
     "output_type": "execute_result"
    }
   ],
   "source": [
    "interact(plot_example, index=(0, 20, 1))"
   ]
  },
  {
   "cell_type": "code",
   "execution_count": 155,
   "id": "6f059822-d8d3-42c1-acbd-5d6dfcd5361b",
   "metadata": {
    "tags": []
   },
   "outputs": [],
   "source": [
    "def plot_time_domain( index):\n",
    "\n",
    "    test_noisy = noisy_stft.get_data()[index,:,:,0]\n",
    "    test_noisy_phase = noisy_stft.get_data()[index,:,:,1]\n",
    "\n",
    "    test_pure = labels[index,:,:]\n",
    "    test_pure_phase = noisy_stft.get_data()[index,:,:,1]\n",
    "\n",
    "    model_amp = predictions[index]\n",
    "    noisy_phase = noisy_stft.get_data()[index,:,:,1]\n",
    "\n",
    "    fig, [ax1, ax2] =plt.subplots(1,2)\n",
    "    t, signal_pure = istft(test_pure*np.exp(1j*test_pure_phase), fs = 1./5.)\n",
    "    t, signal_model = istft(model_amp*np.exp(1j*noisy_phase), fs = 1./5.)\n",
    "    t, signal_example = istft(test_noisy*np.exp(1j*test_noisy_phase), fs = 1./5.)\n",
    "\n",
    "    fig.set_size_inches((12,10))\n",
    "    ax1.plot(t,signal_example)\n",
    "    ax2.plot(t, signal_model)\n",
    "    ax2.plot(t, signal_pure, alpha=0.5, color=\"red\")\n",
    "    plt.show()"
   ]
  },
  {
   "cell_type": "code",
   "execution_count": 157,
   "id": "dbfa7920-0fbe-4288-8bd6-29c1745aa863",
   "metadata": {
    "tags": []
   },
   "outputs": [
    {
     "data": {
      "image/png": "[encoded data removed]",
      "text/plain": [
       "<Figure size 640x480 with 2 Axes>"
      ]
     },
     "metadata": {},
     "output_type": "display_data"
    },
    {
     "data": {
      "application/vnd.jupyter.widget-view+json": {
       "model_id": "dd3902376e8c4e51add4095600cb6e0d",
       "version_major": 2,
       "version_minor": 0
      },
      "text/plain": [
       "interactive(children=(IntSlider(value=512, description='index', max=1024), Output()), _dom_classes=('widget-in…"
      ]
     },
     "metadata": {},
     "output_type": "display_data"
    },
    {
     "data": {
      "text/plain": [
       "<function __main__.plot_time_domain(index)>"
      ]
     },
     "execution_count": 157,
     "metadata": {},
     "output_type": "execute_result"
    }
   ],
   "source": [
    "interact(plot_time_domain, index = (0,1024,1))"
   ]
  },
  {
   "cell_type": "markdown",
   "id": "9e5e00c5-f9df-4420-9a6f-1e21ba5fdcf8",
   "metadata": {},
   "source": [
    "## Visualize the effect on the test set\n",
    "Previous visualizations were for the training set only.\n",
    "\n",
    "Check the influence of the test set here."
   ]
  },
  {
   "cell_type": "code",
   "execution_count": 134,
   "id": "b78f1f78-755e-4437-a802-c9c24c9c5907",
   "metadata": {
    "tags": []
   },
   "outputs": [],
   "source": [
    "predictions_test = model.predict(examples_test)"
   ]
  },
  {
   "cell_type": "code",
   "execution_count": 135,
   "id": "da7c1e6d-5910-41a5-9ed1-cf7d3294b509",
   "metadata": {
    "tags": []
   },
   "outputs": [],
   "source": [
    "# examples_test = noisy_test_stft.get_data()[::stride_reduce,:,:,:]\n",
    "# labels_test = pure_test_stft.get_data()[::stride_reduce,:,:,:]\n",
    "\n",
    "# examples_test_phase = noisy_test_stft.get_data()[::stride_reduce,:,:,:]\n",
    "# labels_test_phase = pure_test_stft.get_data()[::stride_reduce,:,:,:]"
   ]
  },
  {
   "cell_type": "code",
   "execution_count": 136,
   "id": "f3d60b02-b69d-41b1-a578-1c658d350a7e",
   "metadata": {
    "tags": []
   },
   "outputs": [
    {
     "data": {
      "text/plain": [
       "(1078, 129, 9)"
      ]
     },
     "execution_count": 136,
     "metadata": {},
     "output_type": "execute_result"
    }
   ],
   "source": [
    "predictions_test.shape"
   ]
  },
  {
   "cell_type": "code",
   "execution_count": 137,
   "id": "f784e643-489f-490a-a658-ca8f755c331c",
   "metadata": {
    "tags": []
   },
   "outputs": [
    {
     "data": {
      "text/plain": [
       "(1078, 129, 9)"
      ]
     },
     "execution_count": 137,
     "metadata": {},
     "output_type": "execute_result"
    }
   ],
   "source": [
    "labels_test.shape"
   ]
  },
  {
   "cell_type": "code",
   "execution_count": 140,
   "id": "b7796f4e-de14-4777-a0f1-de916b3298ca",
   "metadata": {
    "tags": []
   },
   "outputs": [],
   "source": [
    "index = 10\n",
    "prediction_current = predictions_test[index]\n",
    "    \n",
    "# the pure example from the test set\n",
    "test_pure = labels_test[index]\n",
    "\n",
    "pred_phase = prediction_current[:,:]"
   ]
  },
  {
   "cell_type": "code",
   "execution_count": 141,
   "id": "bea6eb91-1f76-4d1d-baac-095078068c73",
   "metadata": {
    "tags": []
   },
   "outputs": [],
   "source": [
    "def plot_time_domain_test( index):\n",
    "\n",
    "    # get the noisy original from the test set\n",
    "    noisy_original = examples_test[index]\n",
    "    \n",
    "    # get the test set prediction\n",
    "    prediction_current = predictions_test[index]\n",
    "    \n",
    "    # the pure example from the test set\n",
    "    test_pure = labels_test[index]\n",
    "\n",
    "    noisy_amp = noisy_original[:,:,0]\n",
    "    noisy_phase = noisy_original[:,:,1]\n",
    "    \n",
    "    pred_amp = prediction_current[:,:,0]\n",
    "    pred_phase = prediction_current[:,:,1]\n",
    "    \n",
    "    true_amp = test_pure[:,:,0]\n",
    "    true_phase = test_pure[:,:,1]\n",
    "    \n",
    "    # model_amp = predictions_test[index]\n",
    "    # noisy_phase = examples_test_phase[index]\n",
    "\n",
    "    # calculate the STFT inverse of the deep learning predictions and the actual result\n",
    "    # t, signal_pure = istft(test_pure*np.exp(1j*test_pure_phase), fs = 1./5.)\n",
    "    \n",
    "    t, signal_original = istft(noisy_amp*np.exp(1j*noisy_phase), fs = 1./5.)\n",
    "\n",
    "    t, signal_pred = istft(pred_amp*np.exp(1j*pred_phase), fs = 1./5.)\n",
    "    # t, signal_example = istft(test_noisy*np.exp(1j*test_noisy_phase), fs = 1./5.)  \n",
    "    \n",
    "    t, signal_pred_origphase = istft(pred_amp*np.exp(1j*noisy_phase), fs = 1./5.)\n",
    "    \n",
    "    t, signal_true = istft(true_amp*np.exp(1j*true_phase), fs = 1./5.)\n",
    "\n",
    "    \n",
    "    fig, [[ax1, ax2, ax3], [ax4, ax5, ax6]] =plt.subplots(2,3)\n",
    "\n",
    "    fig.set_size_inches((12,10))\n",
    "    ax1.plot(t, signal_original)\n",
    "    ax1.set_title(\"Noisy example\")\n",
    "\n",
    "    ax2.plot(t, signal_pred)\n",
    "    ax2.set_title(\"Denoised result\")\n",
    "    \n",
    "    ax3.plot(t, signal_true)\n",
    "    ax3.set_title(\"True original\")\n",
    "    \n",
    "    ax5.plot(t, signal_pred_origphase)\n",
    "    \n",
    "    ax6.plot(t, signal_true)\n",
    "    ax6.set_title(\"True original\")\n",
    "\n",
    "    # ax2.plot(t, signal_pure, alpha=0.5, color=\"red\")\n",
    "    plt.show()"
   ]
  },
  {
   "cell_type": "code",
   "execution_count": 142,
   "id": "b4a87db6-d0c5-42d4-bae6-2fb777e89953",
   "metadata": {
    "tags": []
   },
   "outputs": [
    {
     "data": {
      "application/vnd.jupyter.widget-view+json": {
       "model_id": "9e5523b84399446c84c19cfcb159c5cb",
       "version_major": 2,
       "version_minor": 0
      },
      "text/plain": [
       "interactive(children=(IntSlider(value=539, description='index', max=1078), Output()), _dom_classes=('widget-in…"
      ]
     },
     "metadata": {},
     "output_type": "display_data"
    },
    {
     "data": {
      "text/plain": [
       "<function __main__.plot_time_domain_test(index)>"
      ]
     },
     "execution_count": 142,
     "metadata": {},
     "output_type": "execute_result"
    }
   ],
   "source": [
    "num_test_examples = examples_test.shape[0]\n",
    "interact(plot_time_domain_test, index = (0,num_test_examples,1))"
   ]
  },
  {
   "cell_type": "markdown",
   "id": "3762b93b-6e11-44ec-a3c5-b1adfa2fb528",
   "metadata": {},
   "source": [
    "## Store the model\n",
    "Storing the model after a long training session."
   ]
  },
  {
   "cell_type": "code",
   "execution_count": 46,
   "id": "57c882d1-4477-4896-924c-b5177c0f523b",
   "metadata": {
    "tags": []
   },
   "outputs": [],
   "source": [
    "model_folder = \"model/\""
   ]
  },
  {
   "cell_type": "code",
   "execution_count": 47,
   "id": "2ec72095-e8de-44e2-9b31-1d55d04a3461",
   "metadata": {
    "tags": []
   },
   "outputs": [],
   "source": [
    "\n",
    "# Get the current date\n",
    "now = datetime.datetime.now()\n",
    "\n",
    "# Format the date as \"day-month-year\"\n",
    "date_str = now.strftime(\"%d-%m-h%H%M\")\n",
    "\n",
    "# \n",
    "\n",
    "# Parameter count\n",
    "trainableParams = np.sum([np.prod(v.get_shape()) for v in model.trainable_weights])\n",
    "\n",
    "\n",
    "model_name = f\"model-{date_str}-p{trainableParams}-withphase\""
   ]
  },
  {
   "cell_type": "code",
   "execution_count": 48,
   "id": "6bfa107d-16e1-4b79-b822-b71887e34bda",
   "metadata": {
    "tags": []
   },
   "outputs": [],
   "source": [
    "store_model = False\n",
    "if store_model == True:\n",
    "    path = model_folder + model_name\n",
    "    model.save(path)"
   ]
  },
  {
   "cell_type": "markdown",
   "id": "bd0ab5e2-119a-4c76-ab9e-528b84411957",
   "metadata": {},
   "source": [
    "## Analysis of maximum values\n",
    "Looking at maximum values of amplitude over the whole array"
   ]
  },
  {
   "cell_type": "code",
   "execution_count": 52,
   "id": "2751a123-aa1d-4437-8104-c6b789bf440e",
   "metadata": {
    "tags": []
   },
   "outputs": [],
   "source": [
    "test_example = noisy_stft.get_data()[0]\n",
    "shape = test_example.shape\n",
    "test_example_reshaped = noisy_stft.get_data()[0].reshape((1, shape[0], shape[1], shape[2]))\n",
    "\n",
    "test_pure = pure_stft.get_data()[0]"
   ]
  },
  {
   "cell_type": "code",
   "execution_count": 53,
   "id": "993ba3f6-b802-4d2b-ac0c-35f843092729",
   "metadata": {
    "tags": []
   },
   "outputs": [
    {
     "data": {
      "text/plain": [
       "0.1167289817731223"
      ]
     },
     "execution_count": 53,
     "metadata": {},
     "output_type": "execute_result"
    }
   ],
   "source": [
    "test_pure[:,:,0].max()"
   ]
  },
  {
   "cell_type": "markdown",
   "id": "65d8bffc-c85c-4356-9fe1-386ff9c0351c",
   "metadata": {},
   "source": [
    "Todo\n",
    "Normalize the phase and amplitude values.."
   ]
  },
  {
   "cell_type": "code",
   "execution_count": 54,
   "id": "728854d5-4030-48e9-8865-89228857d160",
   "metadata": {
    "tags": []
   },
   "outputs": [],
   "source": [
    "amps_noisy =noisy_stft.get_data()[:,:,:,0]"
   ]
  },
  {
   "cell_type": "code",
   "execution_count": 55,
   "id": "cc0e735a-37b3-4780-a56d-6f0e6b212830",
   "metadata": {
    "tags": []
   },
   "outputs": [],
   "source": [
    "amps_noisy_flattened = amps_noisy.flatten()"
   ]
  },
  {
   "cell_type": "code",
   "execution_count": 56,
   "id": "1b516141-c7d1-4207-a12f-a0031fb15379",
   "metadata": {
    "tags": []
   },
   "outputs": [
    {
     "data": {
      "text/plain": [
       "(array([1.0101877e+07, 1.1225070e+06, 1.9600700e+05, 1.0042300e+05,\n",
       "        5.1438000e+04, 2.1964000e+04, 9.8380000e+03, 4.6260000e+03,\n",
       "        1.1690000e+03, 1.5100000e+02]),\n",
       " array([2.14359953e-11, 1.67539747e-02, 3.35079495e-02, 5.02619242e-02,\n",
       "        6.70158989e-02, 8.37698737e-02, 1.00523848e-01, 1.17277823e-01,\n",
       "        1.34031798e-01, 1.50785773e-01, 1.67539747e-01]),\n",
       " <BarContainer object of 10 artists>)"
      ]
     },
     "execution_count": 56,
     "metadata": {},
     "output_type": "execute_result"
    },
    {
     "data": {
      "image/png": "[encoded data removed]",
      "text/plain": [
       "<Figure size 640x480 with 1 Axes>"
      ]
     },
     "metadata": {},
     "output_type": "display_data"
    }
   ],
   "source": [
    "plt.hist(amps_noisy_flattened)"
   ]
  },
  {
   "cell_type": "code",
   "execution_count": 57,
   "id": "9063e8e5-df9b-4911-90b9-2606ef41e874",
   "metadata": {
    "tags": []
   },
   "outputs": [],
   "source": [
    "amps_noisy_max = amps_noisy.max(axis=2).max(axis=1)"
   ]
  },
  {
   "cell_type": "code",
   "execution_count": 58,
   "id": "2d7f8f9f-fe81-4599-b965-31be2a86179d",
   "metadata": {
    "tags": []
   },
   "outputs": [
    {
     "data": {
      "text/plain": [
       "(10000,)"
      ]
     },
     "execution_count": 58,
     "metadata": {},
     "output_type": "execute_result"
    }
   ],
   "source": [
    "amps_noisy_max.shape"
   ]
  },
  {
   "cell_type": "code",
   "execution_count": 59,
   "id": "50c79a4d-7dbc-41a4-aa77-fc877d1d6468",
   "metadata": {
    "tags": []
   },
   "outputs": [
    {
     "data": {
      "text/plain": [
       "(array([ 153.,  364., 2132., 2197., 1479., 1392., 1000.,  879.,  345.,\n",
       "          59.]),\n",
       " array([0.04645806, 0.05856623, 0.0706744 , 0.08278256, 0.09489073,\n",
       "        0.1069989 , 0.11910707, 0.13121524, 0.14332341, 0.15543158,\n",
       "        0.16753975]),\n",
       " <BarContainer object of 10 artists>)"
      ]
     },
     "execution_count": 59,
     "metadata": {},
     "output_type": "execute_result"
    },
    {
     "data": {
      "image/png": "[encoded data removed]",
      "text/plain": [
       "<Figure size 640x480 with 1 Axes>"
      ]
     },
     "metadata": {},
     "output_type": "display_data"
    }
   ],
   "source": [
    "plt.hist(amps_noisy_max)"
   ]
  }
 ],
 "metadata": {
  "kernelspec": {
   "display_name": "Python 3 (ipykernel)",
   "language": "python",
   "name": "python3"
  },
  "language_info": {
   "codemirror_mode": {
    "name": "ipython",
    "version": 3
   },
   "file_extension": ".py",
   "mimetype": "text/x-python",
   "name": "python",
   "nbconvert_exporter": "python",
   "pygments_lexer": "ipython3",
   "version": "3.9.16"
  }
 },
 "nbformat": 4,
 "nbformat_minor": 5
}
