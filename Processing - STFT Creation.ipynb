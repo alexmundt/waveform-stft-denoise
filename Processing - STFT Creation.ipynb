{
 "cells": [
  {
   "cell_type": "markdown",
   "id": "ec73c668-6f3b-4574-9d58-bbc083bffe34",
   "metadata": {},
   "source": [
    "# STFT Denoising\n",
    "This is a jupyter notebook for processing of waveform data in the time-domain into STFT data."
   ]
  },
  {
   "cell_type": "code",
   "execution_count": null,
   "id": "49af13b8-49e5-4d87-99d9-31f5d4d1457c",
   "metadata": {},
   "outputs": [],
   "source": [
    "import os\n",
    "import numpy as np\n",
    "\n",
    "import matplotlib.pyplot as plt\n",
    "\n",
    "from scipy.signal import stft, istft\n",
    "\n",
    "\n",
    "from ipywidgets import interact"
   ]
  }
 ],
 "metadata": {
  "kernelspec": {
   "display_name": "Python 3 (ipykernel)",
   "language": "python",
   "name": "python3"
  },
  "language_info": {
   "codemirror_mode": {
    "name": "ipython",
    "version": 3
   },
   "file_extension": ".py",
   "mimetype": "text/x-python",
   "name": "python",
   "nbconvert_exporter": "python",
   "pygments_lexer": "ipython3",
   "version": "3.9.16"
  }
 },
 "nbformat": 4,
 "nbformat_minor": 5
}
