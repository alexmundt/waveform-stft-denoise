{
 "cells": [
  {
   "cell_type": "markdown",
   "id": "ec73c668-6f3b-4574-9d58-bbc083bffe34",
   "metadata": {},
   "source": [
    "# STFT Denoising\n",
    "This is a jupyter notebook for processing of waveform data in the time-domain into STFT data."
   ]
  },
  {
   "cell_type": "code",
   "execution_count": 2,
   "id": "49af13b8-49e5-4d87-99d9-31f5d4d1457c",
   "metadata": {
    "tags": []
   },
   "outputs": [
    {
     "name": "stderr",
     "output_type": "stream",
     "text": [
      "2023-03-28 16:12:27.726234: I tensorflow/stream_executor/platform/default/dso_loader.cc:49] Successfully opened dynamic library libcudart.so.10.1\n"
     ]
    }
   ],
   "source": [
    "import os\n",
    "import numpy as np\n",
    "import matplotlib.pyplot as plt\n",
    "from scipy.signal import stft, istft\n",
    "import tensorflow as tf\n",
    "from ipywidgets import interact\n",
    "from code.stftprocessing import StftDataset\n",
    "from code.dsvisual import DatasetVisualizer\n",
    "from tqdm import tqdm"
   ]
  },
  {
   "cell_type": "markdown",
   "id": "4889c32f-e480-4ff4-9c25-97fb919bba8b",
   "metadata": {},
   "source": [
    "## Load data\n",
    "Load the data from the data folder"
   ]
  },
  {
   "cell_type": "code",
   "execution_count": 3,
   "id": "674b7ed7-dc09-4409-92ab-9f443854f2ac",
   "metadata": {
    "tags": []
   },
   "outputs": [],
   "source": [
    "folder = \"./data/high_snr_25/\""
   ]
  },
  {
   "cell_type": "code",
   "execution_count": 4,
   "id": "5c3047f6-ee19-4b73-a75a-1c8ad1457d64",
   "metadata": {
    "tags": []
   },
   "outputs": [],
   "source": [
    "waveforms = np.load(folder + \"waveforms.npy\")"
   ]
  },
  {
   "cell_type": "code",
   "execution_count": 5,
   "id": "80e2031c-fa97-4b64-a224-bc3e5af045ca",
   "metadata": {
    "tags": []
   },
   "outputs": [],
   "source": [
    "test_signal = waveforms[0]"
   ]
  },
  {
   "cell_type": "markdown",
   "id": "562c6a0d-7d62-4ea2-b883-9f750254d16d",
   "metadata": {},
   "source": [
    "### Already processed training data\n",
    "This training data already contains (noisy) input and (denoised) target set."
   ]
  },
  {
   "cell_type": "code",
   "execution_count": 6,
   "id": "c7976521-ff10-4860-a02f-27f9b90087da",
   "metadata": {
    "tags": []
   },
   "outputs": [],
   "source": [
    "# following the tensorflow load_data tutorial\n",
    "\n",
    "# train_dataset = tf.data.Dataset.from_tensor_slices((train_examples, train_labels))\n",
    "# test_dataset = tf.data.Dataset.from_tensor_slices((test_examples, test_labels))\n",
    "\n",
    "# doesn't really work because it is not in numpy format"
   ]
  },
  {
   "cell_type": "code",
   "execution_count": 10,
   "id": "3d9c5bec-3b63-48ff-a39a-03dbaa0ed36f",
   "metadata": {
    "tags": []
   },
   "outputs": [],
   "source": [
    "folder = \"/home/alex/Desktop/Promotion/Code/Jupyter-Lab Notebooks/Waveform Denoiser/denoise_training_real/third dataset/\""
   ]
  },
  {
   "cell_type": "code",
   "execution_count": 11,
   "id": "920db207-1def-4e40-9f7b-7f13521e81fd",
   "metadata": {
    "tags": []
   },
   "outputs": [],
   "source": [
    "# pure_test = np.load (folder + 'pure_test_set.npy')\n"
   ]
  },
  {
   "cell_type": "code",
   "execution_count": 12,
   "id": "fe65786d-8e79-4e75-8f85-77b9b8c6d7a6",
   "metadata": {
    "tags": []
   },
   "outputs": [],
   "source": [
    "loading = True\n",
    "\n",
    "if loading:\n",
    "    # pure_training = np.load(folder + \"pure_training_set.npy\")\n",
    "    pure_test = np.load (folder + 'pure_test_set.npy')\n",
    "    # noisy_training = np.load(folder + 'noisy_training_set.npy')\n",
    "    noisy_test = np.load(folder + 'noisy_test_set.npy')\n"
   ]
  },
  {
   "cell_type": "markdown",
   "id": "6ab5f103-209e-4f28-bd8c-2a04d270f8d7",
   "metadata": {
    "tags": []
   },
   "source": [
    "## STFT\n",
    "Short term fourier transform of a test signal"
   ]
  },
  {
   "cell_type": "code",
   "execution_count": 13,
   "id": "78539321-f206-42f4-8fed-4e7f56b36b5c",
   "metadata": {
    "tags": []
   },
   "outputs": [],
   "source": [
    "f,t, result_stft = stft(test_signal, fs =1/5.)\n"
   ]
  },
  {
   "cell_type": "code",
   "execution_count": 14,
   "id": "b6a30d70-eb10-432c-8664-49e7e3eeb65f",
   "metadata": {
    "tags": []
   },
   "outputs": [],
   "source": [
    "stfts = []\n",
    "for waveform in waveforms:\n",
    "    f,t, result_stft = stft(waveform, fs =1/5.)\n",
    "    stfts.append(result_stft)\n"
   ]
  },
  {
   "cell_type": "markdown",
   "id": "51684ff0-e36c-4250-8791-d7c32df93bd8",
   "metadata": {},
   "source": [
    "## Using tensorflow dataset\n",
    "Tensorflows dataset class can built data from the numpy arrays of the already created noisy and pure test sets.\n",
    "\n",
    "It just needs to be reprocessed.\n",
    "\n",
    "See here:\n",
    "\n",
    "This tutorial is directly applicable to my case here\n",
    "https://www.tensorflow.org/tutorials/load_data/numpy\n",
    "It shows how I can load numpy arrays and create a dataset from it.\n",
    "Does the dataset object need to be batched?\n",
    "\n",
    "\n",
    "More general information can be found here\n",
    "https://www.tensorflow.org/guide/data\n",
    "\n",
    "The last link was initially found at\n",
    "https://cs230.stanford.edu/blog/datapipeline/"
   ]
  },
  {
   "cell_type": "markdown",
   "id": "f2ba0c8d-d23a-4782-83a8-1adc8b7430aa",
   "metadata": {},
   "source": [
    "# need to understand what dataset batching does..\n",
    "Batching is a necessary step in the numpy load tutorial."
   ]
  },
  {
   "cell_type": "markdown",
   "id": "56b09f32-d02c-4e0b-b798-595adc84338b",
   "metadata": {},
   "source": [
    "## Processing: complex phase and amplitude split\n",
    "The result of a STFT are complex data. They need to be split into separate amplitude and phase arrays."
   ]
  },
  {
   "cell_type": "code",
   "execution_count": 17,
   "id": "e7c00c44-2f99-4256-8953-2f9f73f42531",
   "metadata": {
    "tags": []
   },
   "outputs": [],
   "source": [
    "class DataSetBuilder(object):\n",
    "    \"\"\" This class takes the base (the noisy examples) and\n",
    "    the target (the denoised set) data in the time domain\n",
    "    and converts it into a tensorflow dataset\n",
    "    \"\"\"\n",
    "    def __init__(self, base, target):\n",
    "        pass"
   ]
  },
  {
   "cell_type": "code",
   "execution_count": 18,
   "id": "714870c8-d743-40b6-be65-dec5427b3d05",
   "metadata": {
    "tags": []
   },
   "outputs": [],
   "source": [
    "folder = \"training/new_small\"\n",
    "base = \"noisy_small\"\n",
    "target = \"pure_small\"\n"
   ]
  },
  {
   "cell_type": "code",
   "execution_count": 19,
   "id": "bd7ffec0-3658-4e7d-b7de-00c6023ea6a1",
   "metadata": {
    "tags": []
   },
   "outputs": [
    {
     "name": "stdout",
     "output_type": "stream",
     "text": [
      "Files loaded.\n",
      "Files loaded.\n"
     ]
    }
   ],
   "source": [
    "noisy_stft = StftDataset()\n",
    "pure_stft = StftDataset()\n",
    "\n",
    "noisy_stft.load(folder, base)\n",
    "pure_stft.load(folder, target)"
   ]
  },
  {
   "cell_type": "code",
   "execution_count": 21,
   "id": "a04af8c9-cc7b-478c-98b8-7e78f8a95775",
   "metadata": {
    "tags": []
   },
   "outputs": [
    {
     "name": "stderr",
     "output_type": "stream",
     "text": [
      "100%|█████████████████████████████████| 107712/107712 [00:13<00:00, 8250.73it/s]\n",
      "100%|█████████████████████████████████| 107712/107712 [00:12<00:00, 8764.22it/s]\n"
     ]
    }
   ],
   "source": [
    "noisy_test_stft = StftDataset(noisy_test)\n",
    "pure_test_stft = StftDataset(pure_test)\n"
   ]
  },
  {
   "cell_type": "code",
   "execution_count": 23,
   "id": "cc63ee68-8745-4705-9c27-2413982a99fa",
   "metadata": {
    "tags": []
   },
   "outputs": [
    {
     "name": "stdout",
     "output_type": "stream",
     "text": [
      "Writing into existing folder...\n",
      "Writing into existing folder...\n"
     ]
    }
   ],
   "source": [
    "noisy_test_stft.save(folder, \"noisy_test\")\n",
    "pure_test_stft.save(folder, \"pure_test\")"
   ]
  },
  {
   "cell_type": "markdown",
   "id": "faccc304-b780-4078-a2a2-4acd3f2adecd",
   "metadata": {
    "tags": []
   },
   "source": [
    "## Todo\n",
    "- [x] Separate Data Browser Tool\n",
    "- [x] Browser Tool for STFTS\n",
    "- [ ] Separate code for class\n",
    "- [ ] Build Model for STFTs data on small training\n"
   ]
  },
  {
   "cell_type": "code",
   "execution_count": null,
   "id": "479b6d70-8429-40f0-8535-3df6bc32b178",
   "metadata": {},
   "outputs": [],
   "source": []
  }
 ],
 "metadata": {
  "kernelspec": {
   "display_name": "Python 3 (ipykernel)",
   "language": "python",
   "name": "python3"
  },
  "language_info": {
   "codemirror_mode": {
    "name": "ipython",
    "version": 3
   },
   "file_extension": ".py",
   "mimetype": "text/x-python",
   "name": "python",
   "nbconvert_exporter": "python",
   "pygments_lexer": "ipython3",
   "version": "3.9.16"
  }
 },
 "nbformat": 4,
 "nbformat_minor": 5
}
