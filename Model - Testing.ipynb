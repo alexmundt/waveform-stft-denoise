{
 "cells": [
  {
   "cell_type": "markdown",
   "id": "40f3348a-cd03-4d33-bc1f-94d79c189845",
   "metadata": {},
   "source": [
    "# Model Testing\n",
    "This notebook tests the models created in \"Model Training\"."
   ]
  },
  {
   "cell_type": "markdown",
   "id": "fc6218a2-4702-49f2-b233-72115cca69ad",
   "metadata": {},
   "source": [
    "## Imports\n"
   ]
  },
  {
   "cell_type": "code",
   "execution_count": 1,
   "id": "43d7971c-35cf-4068-941d-41d891759404",
   "metadata": {
    "tags": []
   },
   "outputs": [
    {
     "name": "stderr",
     "output_type": "stream",
     "text": [
      "2023-04-11 15:13:07.195826: I tensorflow/stream_executor/platform/default/dso_loader.cc:49] Successfully opened dynamic library libcudart.so.10.1\n"
     ]
    }
   ],
   "source": [
    "import os\n",
    "import numpy as np\n",
    "import matplotlib.pyplot as plt\n",
    "from scipy.signal import stft, istft\n",
    "import tensorflow as tf\n",
    "from ipywidgets import interact\n",
    "from code.stftprocessing import StftDataset\n",
    "from code.dsvisual import DatasetVisualizer\n",
    "from tqdm import tqdm\n",
    "import datetime\n"
   ]
  },
  {
   "cell_type": "markdown",
   "id": "81484d19-848c-46c7-999e-eeb30cfdb127",
   "metadata": {},
   "source": [
    "## Load the model\n",
    "Load the model stored at the _model_path_."
   ]
  },
  {
   "cell_type": "code",
   "execution_count": 2,
   "id": "80c8bef1-eeca-41b5-9acd-ad7d0245c693",
   "metadata": {
    "tags": []
   },
   "outputs": [],
   "source": [
    "model_path = \"model/model-28-03-2023\"\n",
    "new_model_path = \"model/model-29-03-h1401-p2941361\""
   ]
  },
  {
   "cell_type": "code",
   "execution_count": 3,
   "id": "ce76fa4b-2fd0-47dc-880b-35499f3c297c",
   "metadata": {
    "tags": []
   },
   "outputs": [
    {
     "name": "stderr",
     "output_type": "stream",
     "text": [
      "2023-04-11 15:13:19.487033: I tensorflow/compiler/jit/xla_cpu_device.cc:41] Not creating XLA devices, tf_xla_enable_xla_devices not set\n",
      "2023-04-11 15:13:19.490361: I tensorflow/stream_executor/platform/default/dso_loader.cc:49] Successfully opened dynamic library libcuda.so.1\n",
      "2023-04-11 15:13:19.539306: I tensorflow/stream_executor/cuda/cuda_gpu_executor.cc:941] successful NUMA node read from SysFS had negative value (-1), but there must be at least one NUMA node, so returning NUMA node zero\n",
      "2023-04-11 15:13:19.539577: I tensorflow/core/common_runtime/gpu/gpu_device.cc:1720] Found device 0 with properties: \n",
      "pciBusID: 0000:04:00.0 name: NVIDIA GeForce GTX 970 computeCapability: 5.2\n",
      "coreClock: 1.253GHz coreCount: 13 deviceMemorySize: 3.93GiB deviceMemoryBandwidth: 208.91GiB/s\n",
      "2023-04-11 15:13:19.539611: I tensorflow/stream_executor/platform/default/dso_loader.cc:49] Successfully opened dynamic library libcudart.so.10.1\n",
      "2023-04-11 15:13:19.753985: I tensorflow/stream_executor/platform/default/dso_loader.cc:49] Successfully opened dynamic library libcublas.so.10\n",
      "2023-04-11 15:13:19.754123: I tensorflow/stream_executor/platform/default/dso_loader.cc:49] Successfully opened dynamic library libcublasLt.so.10\n",
      "2023-04-11 15:13:19.846310: I tensorflow/stream_executor/platform/default/dso_loader.cc:49] Successfully opened dynamic library libcufft.so.10\n",
      "2023-04-11 15:13:19.878527: I tensorflow/stream_executor/platform/default/dso_loader.cc:49] Successfully opened dynamic library libcurand.so.10\n",
      "2023-04-11 15:13:20.092499: I tensorflow/stream_executor/platform/default/dso_loader.cc:49] Successfully opened dynamic library libcusolver.so.10\n",
      "2023-04-11 15:13:20.134726: I tensorflow/stream_executor/platform/default/dso_loader.cc:49] Successfully opened dynamic library libcusparse.so.10\n",
      "2023-04-11 15:13:20.510312: I tensorflow/stream_executor/platform/default/dso_loader.cc:49] Successfully opened dynamic library libcudnn.so.7\n",
      "2023-04-11 15:13:20.510568: I tensorflow/stream_executor/cuda/cuda_gpu_executor.cc:941] successful NUMA node read from SysFS had negative value (-1), but there must be at least one NUMA node, so returning NUMA node zero\n",
      "2023-04-11 15:13:20.510893: I tensorflow/stream_executor/cuda/cuda_gpu_executor.cc:941] successful NUMA node read from SysFS had negative value (-1), but there must be at least one NUMA node, so returning NUMA node zero\n",
      "2023-04-11 15:13:20.511079: I tensorflow/core/common_runtime/gpu/gpu_device.cc:1862] Adding visible gpu devices: 0\n",
      "2023-04-11 15:13:20.511476: I tensorflow/core/platform/cpu_feature_guard.cc:142] This TensorFlow binary is optimized with oneAPI Deep Neural Network Library (oneDNN) to use the following CPU instructions in performance-critical operations:  SSE4.1 SSE4.2 AVX AVX2 FMA\n",
      "To enable them in other operations, rebuild TensorFlow with the appropriate compiler flags.\n",
      "2023-04-11 15:13:20.512136: I tensorflow/compiler/jit/xla_gpu_device.cc:99] Not creating XLA devices, tf_xla_enable_xla_devices not set\n",
      "2023-04-11 15:13:20.512264: I tensorflow/stream_executor/cuda/cuda_gpu_executor.cc:941] successful NUMA node read from SysFS had negative value (-1), but there must be at least one NUMA node, so returning NUMA node zero\n",
      "2023-04-11 15:13:20.512482: I tensorflow/core/common_runtime/gpu/gpu_device.cc:1720] Found device 0 with properties: \n",
      "pciBusID: 0000:04:00.0 name: NVIDIA GeForce GTX 970 computeCapability: 5.2\n",
      "coreClock: 1.253GHz coreCount: 13 deviceMemorySize: 3.93GiB deviceMemoryBandwidth: 208.91GiB/s\n",
      "2023-04-11 15:13:20.512524: I tensorflow/stream_executor/platform/default/dso_loader.cc:49] Successfully opened dynamic library libcudart.so.10.1\n",
      "2023-04-11 15:13:20.512549: I tensorflow/stream_executor/platform/default/dso_loader.cc:49] Successfully opened dynamic library libcublas.so.10\n",
      "2023-04-11 15:13:20.512566: I tensorflow/stream_executor/platform/default/dso_loader.cc:49] Successfully opened dynamic library libcublasLt.so.10\n",
      "2023-04-11 15:13:20.512582: I tensorflow/stream_executor/platform/default/dso_loader.cc:49] Successfully opened dynamic library libcufft.so.10\n",
      "2023-04-11 15:13:20.512598: I tensorflow/stream_executor/platform/default/dso_loader.cc:49] Successfully opened dynamic library libcurand.so.10\n",
      "2023-04-11 15:13:20.512613: I tensorflow/stream_executor/platform/default/dso_loader.cc:49] Successfully opened dynamic library libcusolver.so.10\n",
      "2023-04-11 15:13:20.512631: I tensorflow/stream_executor/platform/default/dso_loader.cc:49] Successfully opened dynamic library libcusparse.so.10\n",
      "2023-04-11 15:13:20.512647: I tensorflow/stream_executor/platform/default/dso_loader.cc:49] Successfully opened dynamic library libcudnn.so.7\n",
      "2023-04-11 15:13:20.512727: I tensorflow/stream_executor/cuda/cuda_gpu_executor.cc:941] successful NUMA node read from SysFS had negative value (-1), but there must be at least one NUMA node, so returning NUMA node zero\n",
      "2023-04-11 15:13:20.512984: I tensorflow/stream_executor/cuda/cuda_gpu_executor.cc:941] successful NUMA node read from SysFS had negative value (-1), but there must be at least one NUMA node, so returning NUMA node zero\n",
      "2023-04-11 15:13:20.513165: I tensorflow/core/common_runtime/gpu/gpu_device.cc:1862] Adding visible gpu devices: 0\n",
      "2023-04-11 15:13:20.517570: I tensorflow/stream_executor/platform/default/dso_loader.cc:49] Successfully opened dynamic library libcudart.so.10.1\n",
      "2023-04-11 15:13:24.329928: I tensorflow/core/common_runtime/gpu/gpu_device.cc:1261] Device interconnect StreamExecutor with strength 1 edge matrix:\n",
      "2023-04-11 15:13:24.329962: I tensorflow/core/common_runtime/gpu/gpu_device.cc:1267]      0 \n",
      "2023-04-11 15:13:24.329970: I tensorflow/core/common_runtime/gpu/gpu_device.cc:1280] 0:   N \n",
      "2023-04-11 15:13:24.342753: I tensorflow/stream_executor/cuda/cuda_gpu_executor.cc:941] successful NUMA node read from SysFS had negative value (-1), but there must be at least one NUMA node, so returning NUMA node zero\n",
      "2023-04-11 15:13:24.343047: I tensorflow/stream_executor/cuda/cuda_gpu_executor.cc:941] successful NUMA node read from SysFS had negative value (-1), but there must be at least one NUMA node, so returning NUMA node zero\n",
      "2023-04-11 15:13:24.343298: I tensorflow/stream_executor/cuda/cuda_gpu_executor.cc:941] successful NUMA node read from SysFS had negative value (-1), but there must be at least one NUMA node, so returning NUMA node zero\n",
      "2023-04-11 15:13:24.343496: I tensorflow/core/common_runtime/gpu/gpu_device.cc:1406] Created TensorFlow device (/job:localhost/replica:0/task:0/device:GPU:0 with 2936 MB memory) -> physical GPU (device: 0, name: NVIDIA GeForce GTX 970, pci bus id: 0000:04:00.0, compute capability: 5.2)\n"
     ]
    }
   ],
   "source": [
    "model = tf.keras.models.load_model(model_path)\n",
    "new_model = tf.keras.models.load_model(new_model_path)"
   ]
  },
  {
   "cell_type": "markdown",
   "id": "e4eaf27b-e43d-4481-94b1-67df40160698",
   "metadata": {},
   "source": [
    "## Processing input to the model\n",
    "The model takes STFT amplitude data.\n",
    "\n",
    "Write a function that processes a waveform so that it is usable by the model.\n",
    "\n",
    "This function can then denoise a given waveform directly without preprocessing it into STFT."
   ]
  },
  {
   "cell_type": "code",
   "execution_count": 4,
   "id": "84250693-7c45-4311-b1ba-4db0d31e310e",
   "metadata": {
    "tags": []
   },
   "outputs": [],
   "source": [
    "def denoise_waveform(waveform, model=model, fs = 0.2):\n",
    "    # process into STFT\n",
    "    f,t, result_stft = stft(waveform, fs =fs)\n",
    "\n",
    "    # get the amplitude\n",
    "    amp = np.absolute(result_stft)\n",
    "    phase = np.angle(result_stft)\n",
    "    # reshape for model\n",
    "    amp_reshaped = amp.reshape((1, amp.shape[0], amp.shape[1]))\n",
    "    \n",
    "    # model predict\n",
    "    result = model.predict(amp_reshaped)\n",
    "    \n",
    "    # process data from STFT into time domain form\n",
    "    t, signal = istft(result*np.exp(1j*phase), fs = fs)\n",
    "    signal = signal.reshape(signal.shape[1])\n",
    "    return signal"
   ]
  },
  {
   "cell_type": "markdown",
   "id": "dff94ebb-0c8c-47ae-96d7-6de95dd8feaa",
   "metadata": {},
   "source": [
    "## Load the data\n",
    "Load the time domain waveform data."
   ]
  },
  {
   "cell_type": "code",
   "execution_count": 5,
   "id": "aa52abaa-5895-487d-be1f-30a14cad7412",
   "metadata": {
    "tags": []
   },
   "outputs": [],
   "source": [
    "data_folder = \"data/q3/\"\n"
   ]
  },
  {
   "cell_type": "code",
   "execution_count": 6,
   "id": "e97c93b7-0d71-4f74-ad85-6c1ffb30fdf7",
   "metadata": {
    "tags": []
   },
   "outputs": [],
   "source": [
    "waveforms = np.load(data_folder + \"full_waveform_data.npy\")\n",
    "num_waveforms = waveforms.shape[0]"
   ]
  },
  {
   "cell_type": "markdown",
   "id": "8e906123-56d3-480c-a7e0-2e534bd57dea",
   "metadata": {},
   "source": [
    "## Display an example waveform\n",
    "The seismic data of the chosen quality level is stored in the waveforms array.\n",
    "\n",
    "Display a randomly chosen example waveform from it."
   ]
  },
  {
   "cell_type": "code",
   "execution_count": 15,
   "id": "2dd98051-e28a-4dd9-8b47-c15c1b488fcd",
   "metadata": {
    "tags": []
   },
   "outputs": [
    {
     "data": {
      "image/png": "[encoded data removed]",
      "text/plain": [
       "<Figure size 640x480 with 1 Axes>"
      ]
     },
     "metadata": {},
     "output_type": "display_data"
    }
   ],
   "source": [
    "example_index = int(np.random.rand()*num_waveforms)\n",
    "test_waveform = waveforms[example_index]\n",
    "\n",
    "\n",
    "plt.plot(test_waveform)\n",
    "plt.title(\"Example waveform\")\n",
    "plt.show()"
   ]
  },
  {
   "cell_type": "code",
   "execution_count": 17,
   "id": "4946e0ca-6f81-4487-88b8-eacaff285f47",
   "metadata": {
    "tags": []
   },
   "outputs": [
    {
     "name": "stderr",
     "output_type": "stream",
     "text": [
      "2023-04-11 15:17:46.549293: I tensorflow/compiler/mlir/mlir_graph_optimization_pass.cc:116] None of the MLIR optimization passes are enabled (registered 2)\n",
      "2023-04-11 15:17:46.638805: I tensorflow/core/platform/profile_utils/cpu_utils.cc:112] CPU Frequency: 3593590000 Hz\n",
      "2023-04-11 15:17:47.008835: I tensorflow/stream_executor/platform/default/dso_loader.cc:49] Successfully opened dynamic library libcublas.so.10\n"
     ]
    }
   ],
   "source": [
    "denoised_waveform = denoise_waveform(test_waveform)"
   ]
  },
  {
   "cell_type": "code",
   "execution_count": 18,
   "id": "3c967c92-5896-4019-b0fa-daec51689749",
   "metadata": {
    "tags": []
   },
   "outputs": [
    {
     "data": {
      "text/plain": [
       "(1024,)"
      ]
     },
     "execution_count": 18,
     "metadata": {},
     "output_type": "execute_result"
    }
   ],
   "source": [
    "denoised_waveform.shape"
   ]
  },
  {
   "cell_type": "code",
   "execution_count": 45,
   "id": "3c034673-0112-479c-9b85-bea2beda1b6a",
   "metadata": {
    "tags": []
   },
   "outputs": [],
   "source": [
    "def plot_denoise(index):\n",
    "    \n",
    "    # define an array to map the waveforms to (5s sample space)\n",
    "    time = np.linspace(0, 5000, num = 1000, endpoint=False)\n",
    "    \n",
    "    current_waveform = waveforms[index]\n",
    "    denoised_waveform = denoise_waveform(current_waveform)\n",
    "    \n",
    "    fig, [ax1, ax2] = plt.subplots(1,2)\n",
    "    fig.set_size_inches((12,8))\n",
    "    \n",
    "    # ax 1 plot: original and denoised\n",
    "    ax1.plot(time, current_waveform)\n",
    "    ax1.plot(time, denoised_waveform[:1000], alpha=0.7)\n",
    "    ax1.set_title('Original and denoised', fontsize=15)\n",
    "    ax1.set_xlabel('Time [sec]', fontsize=15)\n",
    "    ax1.set_ylabel('z-displacement [no unit]', fontsize=15)\n",
    "    # ax 2 plot: noise difference\n",
    "    # the denoised waveform result has a shape of (1024,)\n",
    "    ax2.plot(time, current_waveform - denoised_waveform[:1000])\n",
    "    \n",
    "    ax2.set_title('Difference between original and denoised', fontsize=15)\n",
    "    ax2.set_xlabel('Time [sec]', fontsize=15)\n",
    "    plt.show()"
   ]
  },
  {
   "cell_type": "code",
   "execution_count": 46,
   "id": "0e74c336-75fc-49d0-a906-2a54e9c7fe11",
   "metadata": {
    "tags": []
   },
   "outputs": [
    {
     "data": {
      "application/vnd.jupyter.widget-view+json": {
       "model_id": "5627cdcd4d1b4467b559c81e369c2904",
       "version_major": 2,
       "version_minor": 0
      },
      "text/plain": [
       "interactive(children=(IntSlider(value=80, description='index', max=160), Output()), _dom_classes=('widget-inte…"
      ]
     },
     "metadata": {},
     "output_type": "display_data"
    },
    {
     "data": {
      "text/plain": [
       "<function __main__.plot_denoise(index)>"
      ]
     },
     "execution_count": 46,
     "metadata": {},
     "output_type": "execute_result"
    }
   ],
   "source": [
    "interact(plot_denoise, index=(0,num_waveforms, 1))"
   ]
  },
  {
   "cell_type": "code",
   "execution_count": null,
   "id": "6875b708-0594-4c25-b726-64d4ef924bd3",
   "metadata": {},
   "outputs": [],
   "source": []
  },
  {
   "cell_type": "markdown",
   "id": "c3fd001a-3633-4ce7-a024-dc003f20e9ab",
   "metadata": {},
   "source": [
    "## Compare two models\n",
    "Compare the big model with 2,941,361 parameters with the smaller one"
   ]
  },
  {
   "cell_type": "code",
   "execution_count": 58,
   "id": "86bd4005-eec0-4bf0-b825-fb081bb1e209",
   "metadata": {
    "tags": []
   },
   "outputs": [],
   "source": [
    "def plot_denoise_both(index):\n",
    "    current_waveform = waveforms[index]\n",
    "    denoised_waveform = denoise_waveform(current_waveform, model=model)\n",
    "    denoised_waveform_model2 = denoise_waveform(current_waveform, model=new_model)\n",
    "    \n",
    "    fig, [ax1, ax2] = plt.subplots(1,2)\n",
    "    fig.set_size_inches((8,6))\n",
    "    ax1.plot(current_waveform)\n",
    "    ax1.plot(denoised_waveform, alpha=0.4)\n",
    "    ax1.plot(denoised_waveform_model2, alpha=0.4)\n",
    "\n",
    "    # ax2.plot(current_waveform)\n",
    "    ax2.plot(denoised_waveform, alpha=0.4)\n",
    "\n",
    "    ax2.plot(denoised_waveform_model2, alpha=0.4)\n",
    "    plt.show()"
   ]
  },
  {
   "cell_type": "code",
   "execution_count": 59,
   "id": "cdc588cd-5872-499a-8c3f-ef86d0d1129d",
   "metadata": {
    "tags": []
   },
   "outputs": [
    {
     "data": {
      "application/vnd.jupyter.widget-view+json": {
       "model_id": "bb6c46e96c2d48e5ad3d62e7f3c2990c",
       "version_major": 2,
       "version_minor": 0
      },
      "text/plain": [
       "interactive(children=(IntSlider(value=80, description='index', max=160), Output()), _dom_classes=('widget-inte…"
      ]
     },
     "metadata": {},
     "output_type": "display_data"
    },
    {
     "data": {
      "text/plain": [
       "<function __main__.plot_denoise_both(index)>"
      ]
     },
     "execution_count": 59,
     "metadata": {},
     "output_type": "execute_result"
    }
   ],
   "source": [
    "interact(plot_denoise_both, index=(0,num_waveforms, 1))"
   ]
  },
  {
   "cell_type": "markdown",
   "id": "cd431375-fc27-44ef-8004-d17799f63e01",
   "metadata": {},
   "source": [
    "# Quality assessment of denoising\n",
    "There is no real signal to be checked against, a simple error calculation based on difference is therefore not suitable.\n",
    "\n",
    "An alternative measure is to check how much a distribution is Gaussian."
   ]
  },
  {
   "cell_type": "code",
   "execution_count": 79,
   "id": "44ea9b89-1395-48a4-aae5-f4849b98ecaf",
   "metadata": {
    "tags": []
   },
   "outputs": [],
   "source": [
    "def plot_difference_dist(index):\n",
    "    current_waveform = waveforms[index]\n",
    "    denoised_waveform = denoise_waveform(current_waveform, model=model)\n",
    "    difference = current_waveform - denoised_waveform[:1000]\n",
    "    \n",
    "    fig, [ax1, ax2, ax3] = plt.subplots(1,3)\n",
    "    fig.set_size_inches((8,6))\n",
    "    ax1.plot(current_waveform)\n",
    "    ax1.plot(denoised_waveform, alpha=0.4)\n",
    "    ax1.set_title(\"Original and denoised\")\n",
    "\n",
    "    # ax2.plot(current_waveform)\n",
    "    ax2.plot(difference)\n",
    "    ax2.set_title(\"Residual noise\")\n",
    "\n",
    "    ax3.hist(difference, bins=60)\n",
    "    ax3.set_title(\"Distribution of residual noise\")\n",
    "    \n",
    "    plt.show()"
   ]
  },
  {
   "cell_type": "code",
   "execution_count": 80,
   "id": "b9443412-a0d8-4f33-abe9-2443f134a5d7",
   "metadata": {
    "tags": []
   },
   "outputs": [
    {
     "data": {
      "application/vnd.jupyter.widget-view+json": {
       "model_id": "675c6889fe7d4ae89f7a8a1ee0da9da5",
       "version_major": 2,
       "version_minor": 0
      },
      "text/plain": [
       "interactive(children=(IntSlider(value=79, description='index', max=159), Output()), _dom_classes=('widget-inte…"
      ]
     },
     "metadata": {},
     "output_type": "display_data"
    },
    {
     "data": {
      "text/plain": [
       "<function __main__.plot_difference_dist(index)>"
      ]
     },
     "execution_count": 80,
     "metadata": {},
     "output_type": "execute_result"
    }
   ],
   "source": [
    "interact(plot_difference_dist, index=(0,num_waveforms-1, 1))"
   ]
  },
  {
   "cell_type": "markdown",
   "id": "f1158b43-551a-403d-b2a0-ad9510705761",
   "metadata": {},
   "source": [
    "### Discussion\n",
    "The difference in the distribution seems to be negligible from visual inspection. \n",
    "\n",
    "The difference will likely be in the order a few percentage points.\n",
    "\n",
    "The difference in signal will be due to high values to either side of zero. This means the property of being \"long-tailed\" will be releveant."
   ]
  },
  {
   "cell_type": "markdown",
   "id": "c6a3621d-a57c-404d-8cf8-832e640dc4f6",
   "metadata": {},
   "source": [
    "## Quality assessment using variance\n",
    "The variance of the distribution should be close."
   ]
  },
  {
   "cell_type": "code",
   "execution_count": 85,
   "id": "f58f6a32-0ce4-4e25-a114-4d0c28906817",
   "metadata": {
    "tags": []
   },
   "outputs": [
    {
     "data": {
      "text/plain": [
       "0.1680796132755583"
      ]
     },
     "execution_count": 85,
     "metadata": {},
     "output_type": "execute_result"
    }
   ],
   "source": [
    "np.sqrt(np.var(test_waveform))"
   ]
  },
  {
   "cell_type": "code",
   "execution_count": 86,
   "id": "ff9c395b-d8e2-41f0-9198-00fc123d1dd1",
   "metadata": {
    "tags": []
   },
   "outputs": [
    {
     "data": {
      "text/plain": [
       "(array([  2.,   0.,  11.,  14.,  88., 801.,  82.,  15.,   9.,   2.]),\n",
       " array([-0.98963597, -0.80819068, -0.62674539, -0.4453001 , -0.26385481,\n",
       "        -0.08240953,  0.09903576,  0.28048105,  0.46192634,  0.64337163,\n",
       "         0.82481692]),\n",
       " <BarContainer object of 10 artists>)"
      ]
     },
     "execution_count": 86,
     "metadata": {},
     "output_type": "execute_result"
    },
    {
     "data": {
      "image/png": "[encoded data removed]",
      "text/plain": [
       "<Figure size 640x480 with 1 Axes>"
      ]
     },
     "metadata": {},
     "output_type": "display_data"
    }
   ],
   "source": [
    "plt.hist(denoise_waveform(test_waveform))"
   ]
  },
  {
   "cell_type": "code",
   "execution_count": 87,
   "id": "9a99dda0-9a0d-4632-ae3b-44a5638c50b0",
   "metadata": {
    "tags": []
   },
   "outputs": [
    {
     "data": {
      "text/plain": [
       "[<matplotlib.lines.Line2D at 0x7f82ac5ffc10>]"
      ]
     },
     "execution_count": 87,
     "metadata": {},
     "output_type": "execute_result"
    },
    {
     "data": {
      "image/png": "[encoded data removed]",
      "text/plain": [
       "<Figure size 640x480 with 1 Axes>"
      ]
     },
     "metadata": {},
     "output_type": "display_data"
    }
   ],
   "source": [
    "plt.plot(denoise_waveform(test_waveform))"
   ]
  },
  {
   "cell_type": "markdown",
   "id": "b27e73ce-7de3-46eb-a58c-352c4c20f72e",
   "metadata": {},
   "source": [
    "Still to do:\n",
    "using variance of segments in a meaningful way"
   ]
  },
  {
   "cell_type": "markdown",
   "id": "13bcf82d-2d60-47d8-a3f2-09952ea87c1b",
   "metadata": {},
   "source": [
    "## Quality assessment using mean of segments\n",
    "Here the idea is to split up the waveform into several time segments.\n",
    "\n",
    "Then taking the mean of the absolute values on each segment and comparing highest to lowest gives a good estimate of the distribution of the noise.\n",
    "The goal is to have quality 1 (highest to lowest- 1:1) as best possible value with lower numbers representing "
   ]
  },
  {
   "cell_type": "code",
   "execution_count": 139,
   "id": "9845853c-4d39-4598-8ac1-748ea811408d",
   "metadata": {
    "tags": []
   },
   "outputs": [],
   "source": [
    "def assess_quality(waveform, method=\"segments\"):\n",
    "\n",
    "    denoised_waveform = denoise_waveform(waveform)[:1000]\n",
    "    \n",
    "    # calculate the residual noise and split into segments\n",
    "    num_segments = 5\n",
    "    residual_noise = denoised_waveform - waveform\n",
    "    splits = np.split(residual_noise, num_segments)\n",
    "    \n",
    "    # calculate the mean of the absolute values\n",
    "    splits_mean = np.mean(np.abs(splits), axis=1)\n",
    "    \n",
    "    ratio = np.min(splits_mean)/np.max(splits_mean)\n",
    "    \n",
    "    return ratio"
   ]
  },
  {
   "cell_type": "code",
   "execution_count": 140,
   "id": "d37f3183-4358-4c80-a0c3-1072bc695a9e",
   "metadata": {
    "tags": []
   },
   "outputs": [
    {
     "name": "stderr",
     "output_type": "stream",
     "text": [
      "100%|█████████████████████████████████████████| 160/160 [00:03<00:00, 49.29it/s]\n"
     ]
    }
   ],
   "source": [
    "num_waveforms = waveforms.shape[0]\n",
    "quality_assessment = np.zeros(num_waveforms)\n",
    "\n",
    "for i in tqdm(range(num_waveforms)):\n",
    "    ratio = assess_quality(waveforms[i])\n",
    "    quality_assessment[i] = ratio"
   ]
  },
  {
   "cell_type": "code",
   "execution_count": 141,
   "id": "d725149f-b3a2-4fc2-b93a-317ea0f4c9a4",
   "metadata": {
    "tags": []
   },
   "outputs": [
    {
     "data": {
      "text/plain": [
       "(array([ 3.,  7., 21., 17., 21., 24., 31., 18., 14.,  4.]),\n",
       " array([0.03390162, 0.12447477, 0.21504792, 0.30562108, 0.39619423,\n",
       "        0.48676738, 0.57734054, 0.66791369, 0.75848685, 0.84906   ,\n",
       "        0.93963315]),\n",
       " <BarContainer object of 10 artists>)"
      ]
     },
     "execution_count": 141,
     "metadata": {},
     "output_type": "execute_result"
    },
    {
     "data": {
      "image/png": "[encoded data removed]",
      "text/plain": [
       "<Figure size 640x480 with 1 Axes>"
      ]
     },
     "metadata": {},
     "output_type": "display_data"
    }
   ],
   "source": [
    "plt.hist(quality_assessment)"
   ]
  },
  {
   "cell_type": "code",
   "execution_count": 142,
   "id": "a2996599-b454-4596-91cc-f3ea2b7df3c0",
   "metadata": {
    "tags": []
   },
   "outputs": [
    {
     "data": {
      "text/plain": [
       "[<matplotlib.lines.Line2D at 0x7f82ac17c460>]"
      ]
     },
     "execution_count": 142,
     "metadata": {},
     "output_type": "execute_result"
    },
    {
     "data": {
      "image/png": "[encoded data removed]",
      "text/plain": [
       "<Figure size 640x480 with 1 Axes>"
      ]
     },
     "metadata": {},
     "output_type": "display_data"
    }
   ],
   "source": [
    "plt.plot(quality_assessment,\".\")"
   ]
  },
  {
   "cell_type": "code",
   "execution_count": 138,
   "id": "25ce453a-415c-4147-b8bd-34bcd6e366fd",
   "metadata": {
    "tags": []
   },
   "outputs": [
    {
     "data": {
      "text/plain": [
       "0.18192298775101257"
      ]
     },
     "execution_count": 138,
     "metadata": {},
     "output_type": "execute_result"
    }
   ],
   "source": [
    "quality_assessment[153]"
   ]
  },
  {
   "cell_type": "code",
   "execution_count": null,
   "id": "3cae6ed4-4394-4c76-b6cf-f6d3cb33aa14",
   "metadata": {},
   "outputs": [],
   "source": []
  }
 ],
 "metadata": {
  "kernelspec": {
   "display_name": "Python 3 (ipykernel)",
   "language": "python",
   "name": "python3"
  },
  "language_info": {
   "codemirror_mode": {
    "name": "ipython",
    "version": 3
   },
   "file_extension": ".py",
   "mimetype": "text/x-python",
   "name": "python",
   "nbconvert_exporter": "python",
   "pygments_lexer": "ipython3",
   "version": "3.9.16"
  }
 },
 "nbformat": 4,
 "nbformat_minor": 5
}
