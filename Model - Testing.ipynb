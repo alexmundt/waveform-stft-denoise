{
 "cells": [
  {
   "cell_type": "markdown",
   "id": "40f3348a-cd03-4d33-bc1f-94d79c189845",
   "metadata": {},
   "source": [
    "# Model Testing\n",
    "This notebook tests the models created in \"Model Training\"."
   ]
  },
  {
   "cell_type": "markdown",
   "id": "fc6218a2-4702-49f2-b233-72115cca69ad",
   "metadata": {},
   "source": [
    "## Imports\n"
   ]
  },
  {
   "cell_type": "code",
   "execution_count": 2,
   "id": "43d7971c-35cf-4068-941d-41d891759404",
   "metadata": {
    "tags": []
   },
   "outputs": [
    {
     "name": "stderr",
     "output_type": "stream",
     "text": [
      "2023-03-29 14:10:14.408887: I tensorflow/stream_executor/platform/default/dso_loader.cc:49] Successfully opened dynamic library libcudart.so.10.1\n"
     ]
    }
   ],
   "source": [
    "import os\n",
    "import numpy as np\n",
    "import matplotlib.pyplot as plt\n",
    "from scipy.signal import stft, istft\n",
    "import tensorflow as tf\n",
    "from ipywidgets import interact\n",
    "from code.stftprocessing import StftDataset\n",
    "from code.dsvisual import DatasetVisualizer\n",
    "from tqdm import tqdm\n",
    "import datetime\n"
   ]
  },
  {
   "cell_type": "markdown",
   "id": "81484d19-848c-46c7-999e-eeb30cfdb127",
   "metadata": {},
   "source": [
    "## Load the model\n",
    "Load the model stored at the _model_path_."
   ]
  },
  {
   "cell_type": "code",
   "execution_count": 1,
   "id": "80c8bef1-eeca-41b5-9acd-ad7d0245c693",
   "metadata": {
    "tags": []
   },
   "outputs": [],
   "source": [
    "model_path = \"model/model-28-03-2023\"\n",
    "new_model_path = \"model/model-29-03-h1401-p2941361\""
   ]
  },
  {
   "cell_type": "code",
   "execution_count": 3,
   "id": "ce76fa4b-2fd0-47dc-880b-35499f3c297c",
   "metadata": {
    "tags": []
   },
   "outputs": [
    {
     "name": "stderr",
     "output_type": "stream",
     "text": [
      "2023-03-29 14:10:31.494375: I tensorflow/compiler/jit/xla_cpu_device.cc:41] Not creating XLA devices, tf_xla_enable_xla_devices not set\n",
      "2023-03-29 14:10:31.524810: I tensorflow/stream_executor/platform/default/dso_loader.cc:49] Successfully opened dynamic library libcuda.so.1\n",
      "2023-03-29 14:10:31.579687: I tensorflow/stream_executor/cuda/cuda_gpu_executor.cc:941] successful NUMA node read from SysFS had negative value (-1), but there must be at least one NUMA node, so returning NUMA node zero\n",
      "2023-03-29 14:10:31.579948: I tensorflow/core/common_runtime/gpu/gpu_device.cc:1720] Found device 0 with properties: \n",
      "pciBusID: 0000:04:00.0 name: NVIDIA GeForce GTX 970 computeCapability: 5.2\n",
      "coreClock: 1.253GHz coreCount: 13 deviceMemorySize: 3.93GiB deviceMemoryBandwidth: 208.91GiB/s\n",
      "2023-03-29 14:10:31.579977: I tensorflow/stream_executor/platform/default/dso_loader.cc:49] Successfully opened dynamic library libcudart.so.10.1\n",
      "2023-03-29 14:10:31.771787: I tensorflow/stream_executor/platform/default/dso_loader.cc:49] Successfully opened dynamic library libcublas.so.10\n",
      "2023-03-29 14:10:31.771925: I tensorflow/stream_executor/platform/default/dso_loader.cc:49] Successfully opened dynamic library libcublasLt.so.10\n",
      "2023-03-29 14:10:31.871082: I tensorflow/stream_executor/platform/default/dso_loader.cc:49] Successfully opened dynamic library libcufft.so.10\n",
      "2023-03-29 14:10:31.927385: I tensorflow/stream_executor/platform/default/dso_loader.cc:49] Successfully opened dynamic library libcurand.so.10\n",
      "2023-03-29 14:10:32.141528: I tensorflow/stream_executor/platform/default/dso_loader.cc:49] Successfully opened dynamic library libcusolver.so.10\n",
      "2023-03-29 14:10:32.183668: I tensorflow/stream_executor/platform/default/dso_loader.cc:49] Successfully opened dynamic library libcusparse.so.10\n",
      "2023-03-29 14:10:32.550990: I tensorflow/stream_executor/platform/default/dso_loader.cc:49] Successfully opened dynamic library libcudnn.so.7\n",
      "2023-03-29 14:10:32.551248: I tensorflow/stream_executor/cuda/cuda_gpu_executor.cc:941] successful NUMA node read from SysFS had negative value (-1), but there must be at least one NUMA node, so returning NUMA node zero\n",
      "2023-03-29 14:10:32.551562: I tensorflow/stream_executor/cuda/cuda_gpu_executor.cc:941] successful NUMA node read from SysFS had negative value (-1), but there must be at least one NUMA node, so returning NUMA node zero\n",
      "2023-03-29 14:10:32.551740: I tensorflow/core/common_runtime/gpu/gpu_device.cc:1862] Adding visible gpu devices: 0\n",
      "2023-03-29 14:10:32.552174: I tensorflow/core/platform/cpu_feature_guard.cc:142] This TensorFlow binary is optimized with oneAPI Deep Neural Network Library (oneDNN) to use the following CPU instructions in performance-critical operations:  SSE4.1 SSE4.2 AVX AVX2 FMA\n",
      "To enable them in other operations, rebuild TensorFlow with the appropriate compiler flags.\n",
      "2023-03-29 14:10:32.561933: I tensorflow/compiler/jit/xla_gpu_device.cc:99] Not creating XLA devices, tf_xla_enable_xla_devices not set\n",
      "2023-03-29 14:10:32.562061: I tensorflow/stream_executor/cuda/cuda_gpu_executor.cc:941] successful NUMA node read from SysFS had negative value (-1), but there must be at least one NUMA node, so returning NUMA node zero\n",
      "2023-03-29 14:10:32.562265: I tensorflow/core/common_runtime/gpu/gpu_device.cc:1720] Found device 0 with properties: \n",
      "pciBusID: 0000:04:00.0 name: NVIDIA GeForce GTX 970 computeCapability: 5.2\n",
      "coreClock: 1.253GHz coreCount: 13 deviceMemorySize: 3.93GiB deviceMemoryBandwidth: 208.91GiB/s\n",
      "2023-03-29 14:10:32.562308: I tensorflow/stream_executor/platform/default/dso_loader.cc:49] Successfully opened dynamic library libcudart.so.10.1\n",
      "2023-03-29 14:10:32.562332: I tensorflow/stream_executor/platform/default/dso_loader.cc:49] Successfully opened dynamic library libcublas.so.10\n",
      "2023-03-29 14:10:32.562349: I tensorflow/stream_executor/platform/default/dso_loader.cc:49] Successfully opened dynamic library libcublasLt.so.10\n",
      "2023-03-29 14:10:32.562364: I tensorflow/stream_executor/platform/default/dso_loader.cc:49] Successfully opened dynamic library libcufft.so.10\n",
      "2023-03-29 14:10:32.562380: I tensorflow/stream_executor/platform/default/dso_loader.cc:49] Successfully opened dynamic library libcurand.so.10\n",
      "2023-03-29 14:10:32.562395: I tensorflow/stream_executor/platform/default/dso_loader.cc:49] Successfully opened dynamic library libcusolver.so.10\n",
      "2023-03-29 14:10:32.562412: I tensorflow/stream_executor/platform/default/dso_loader.cc:49] Successfully opened dynamic library libcusparse.so.10\n",
      "2023-03-29 14:10:32.562428: I tensorflow/stream_executor/platform/default/dso_loader.cc:49] Successfully opened dynamic library libcudnn.so.7\n",
      "2023-03-29 14:10:32.562506: I tensorflow/stream_executor/cuda/cuda_gpu_executor.cc:941] successful NUMA node read from SysFS had negative value (-1), but there must be at least one NUMA node, so returning NUMA node zero\n",
      "2023-03-29 14:10:32.562751: I tensorflow/stream_executor/cuda/cuda_gpu_executor.cc:941] successful NUMA node read from SysFS had negative value (-1), but there must be at least one NUMA node, so returning NUMA node zero\n",
      "2023-03-29 14:10:32.562943: I tensorflow/core/common_runtime/gpu/gpu_device.cc:1862] Adding visible gpu devices: 0\n",
      "2023-03-29 14:10:32.566610: I tensorflow/stream_executor/platform/default/dso_loader.cc:49] Successfully opened dynamic library libcudart.so.10.1\n",
      "2023-03-29 14:10:36.444697: I tensorflow/core/common_runtime/gpu/gpu_device.cc:1261] Device interconnect StreamExecutor with strength 1 edge matrix:\n",
      "2023-03-29 14:10:36.444727: I tensorflow/core/common_runtime/gpu/gpu_device.cc:1267]      0 \n",
      "2023-03-29 14:10:36.444734: I tensorflow/core/common_runtime/gpu/gpu_device.cc:1280] 0:   N \n",
      "2023-03-29 14:10:36.458270: I tensorflow/stream_executor/cuda/cuda_gpu_executor.cc:941] successful NUMA node read from SysFS had negative value (-1), but there must be at least one NUMA node, so returning NUMA node zero\n",
      "2023-03-29 14:10:36.458539: I tensorflow/stream_executor/cuda/cuda_gpu_executor.cc:941] successful NUMA node read from SysFS had negative value (-1), but there must be at least one NUMA node, so returning NUMA node zero\n",
      "2023-03-29 14:10:36.458762: I tensorflow/stream_executor/cuda/cuda_gpu_executor.cc:941] successful NUMA node read from SysFS had negative value (-1), but there must be at least one NUMA node, so returning NUMA node zero\n",
      "2023-03-29 14:10:36.458942: I tensorflow/core/common_runtime/gpu/gpu_device.cc:1406] Created TensorFlow device (/job:localhost/replica:0/task:0/device:GPU:0 with 167 MB memory) -> physical GPU (device: 0, name: NVIDIA GeForce GTX 970, pci bus id: 0000:04:00.0, compute capability: 5.2)\n",
      "2023-03-29 14:10:36.509344: I tensorflow/stream_executor/cuda/cuda_driver.cc:789] failed to allocate 167.12M (175243264 bytes) from device: CUDA_ERROR_OUT_OF_MEMORY: out of memory\n"
     ]
    }
   ],
   "source": [
    "model = tf.keras.models.load_model(model_path)\n",
    "new_model = tf.keras.models.load_model(new_model_path)"
   ]
  },
  {
   "cell_type": "markdown",
   "id": "e4eaf27b-e43d-4481-94b1-67df40160698",
   "metadata": {},
   "source": [
    "## Processing input to the model\n",
    "The model takes STFT amplitude data.\n",
    "\n",
    "Write a function that processes a waveform so that it is usable by the model."
   ]
  },
  {
   "cell_type": "code",
   "execution_count": 45,
   "id": "84250693-7c45-4311-b1ba-4db0d31e310e",
   "metadata": {
    "tags": []
   },
   "outputs": [],
   "source": [
    "def denoise_waveform(waveform, model=model, fs = 0.2):\n",
    "    # process into STFT\n",
    "    f,t, result_stft = stft(waveform, fs =fs)\n",
    "\n",
    "    # get the amplitude\n",
    "    amp = np.absolute(result_stft)\n",
    "    phase = np.angle(result_stft)\n",
    "    # reshape for model\n",
    "    amp_reshaped = amp.reshape((1, amp.shape[0], amp.shape[1]))\n",
    "    \n",
    "    # model predict\n",
    "    result = model.predict(amp_reshaped)\n",
    "    \n",
    "    # process data from STFT into time domain form\n",
    "    t, signal = istft(result*np.exp(1j*phase), fs = fs)\n",
    "    signal = signal.reshape(signal.shape[1])\n",
    "    return signal"
   ]
  },
  {
   "cell_type": "markdown",
   "id": "dff94ebb-0c8c-47ae-96d7-6de95dd8feaa",
   "metadata": {},
   "source": [
    "## Load the data\n",
    "Load the time domain waveform data."
   ]
  },
  {
   "cell_type": "code",
   "execution_count": 77,
   "id": "aa52abaa-5895-487d-be1f-30a14cad7412",
   "metadata": {
    "tags": []
   },
   "outputs": [],
   "source": [
    "data_folder = \"data/q3/\"\n"
   ]
  },
  {
   "cell_type": "code",
   "execution_count": 79,
   "id": "e97c93b7-0d71-4f74-ad85-6c1ffb30fdf7",
   "metadata": {
    "tags": []
   },
   "outputs": [],
   "source": [
    "waveforms = np.load(data_folder + \"full_waveform_data.npy\")\n",
    "num_waveforms = waveforms.shape[0]"
   ]
  },
  {
   "cell_type": "code",
   "execution_count": null,
   "id": "f7cd028a-2b3d-429c-9682-fc665de8ed77",
   "metadata": {},
   "outputs": [],
   "source": []
  },
  {
   "cell_type": "code",
   "execution_count": 80,
   "id": "2dd98051-e28a-4dd9-8b47-c15c1b488fcd",
   "metadata": {
    "tags": []
   },
   "outputs": [],
   "source": [
    "test_waveform = waveforms[4]"
   ]
  },
  {
   "cell_type": "code",
   "execution_count": 81,
   "id": "3fe94084-2a6b-4905-b2dd-dc9687ab857c",
   "metadata": {
    "tags": []
   },
   "outputs": [
    {
     "data": {
      "text/plain": [
       "[<matplotlib.lines.Line2D at 0x7fe0efe28bb0>]"
      ]
     },
     "execution_count": 81,
     "metadata": {},
     "output_type": "execute_result"
    },
    {
     "data": {
      "image/png": "[encoded data removed]",
      "text/plain": [
       "<Figure size 640x480 with 1 Axes>"
      ]
     },
     "metadata": {},
     "output_type": "display_data"
    }
   ],
   "source": [
    "plt.plot(test_waveform)"
   ]
  },
  {
   "cell_type": "code",
   "execution_count": 82,
   "id": "4946e0ca-6f81-4487-88b8-eacaff285f47",
   "metadata": {
    "tags": []
   },
   "outputs": [],
   "source": [
    "denoised_waveform = denoise_waveform(test_waveform)"
   ]
  },
  {
   "cell_type": "code",
   "execution_count": 83,
   "id": "3c967c92-5896-4019-b0fa-daec51689749",
   "metadata": {
    "tags": []
   },
   "outputs": [
    {
     "data": {
      "text/plain": [
       "(1024,)"
      ]
     },
     "execution_count": 83,
     "metadata": {},
     "output_type": "execute_result"
    }
   ],
   "source": [
    "denoised_waveform.shape"
   ]
  },
  {
   "cell_type": "code",
   "execution_count": 86,
   "id": "3c034673-0112-479c-9b85-bea2beda1b6a",
   "metadata": {
    "tags": []
   },
   "outputs": [],
   "source": [
    "def plot_denoise(index):\n",
    "    current_waveform = waveforms[index]\n",
    "    denoised_waveform = denoise_waveform(current_waveform)\n",
    "    \n",
    "    fig, [ax1, ax2] = plt.subplots(1,2)\n",
    "    fig.set_size_inches((12,10))\n",
    "    ax1.plot(current_waveform)\n",
    "    ax1.plot(denoised_waveform, alpha=0.4)\n",
    "    ax2.plot(current_waveform - denoised_waveform[:1000])\n",
    "    plt.show()"
   ]
  },
  {
   "cell_type": "code",
   "execution_count": 87,
   "id": "0e74c336-75fc-49d0-a906-2a54e9c7fe11",
   "metadata": {
    "tags": []
   },
   "outputs": [
    {
     "data": {
      "application/vnd.jupyter.widget-view+json": {
       "model_id": "4f0a5f5fec624a7eb2377724c83767ec",
       "version_major": 2,
       "version_minor": 0
      },
      "text/plain": [
       "interactive(children=(IntSlider(value=80, description='index', max=160), Output()), _dom_classes=('widget-inte…"
      ]
     },
     "metadata": {},
     "output_type": "display_data"
    },
    {
     "data": {
      "text/plain": [
       "<function __main__.plot_denoise(index)>"
      ]
     },
     "execution_count": 87,
     "metadata": {},
     "output_type": "execute_result"
    }
   ],
   "source": [
    "interact(plot_denoise, index=(0,num_waveforms, 1))"
   ]
  },
  {
   "cell_type": "code",
   "execution_count": null,
   "id": "6875b708-0594-4c25-b726-64d4ef924bd3",
   "metadata": {},
   "outputs": [],
   "source": []
  },
  {
   "cell_type": "code",
   "execution_count": null,
   "id": "f4f120f3-8432-4997-9b1c-e27ccceba1b2",
   "metadata": {},
   "outputs": [],
   "source": []
  }
 ],
 "metadata": {
  "kernelspec": {
   "display_name": "Python 3 (ipykernel)",
   "language": "python",
   "name": "python3"
  },
  "language_info": {
   "codemirror_mode": {
    "name": "ipython",
    "version": 3
   },
   "file_extension": ".py",
   "mimetype": "text/x-python",
   "name": "python",
   "nbconvert_exporter": "python",
   "pygments_lexer": "ipython3",
   "version": "3.9.16"
  }
 },
 "nbformat": 4,
 "nbformat_minor": 5
}
