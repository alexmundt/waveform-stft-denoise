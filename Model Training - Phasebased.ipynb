{
 "cells": [
  {
   "cell_type": "markdown",
   "id": "4c4bc3da-e0a9-4a6d-8269-416f3b5e426e",
   "metadata": {},
   "source": [
    "# Model Training - Phasebased\n",
    "This model architecture also takes phase information into account.\n",
    "\n",
    "For that, the phases have to be normalized accordingly."
   ]
  },
  {
   "cell_type": "markdown",
   "id": "af89b7f9-b0a3-4b4e-ad8b-cb76cf1d0c2e",
   "metadata": {
    "tags": []
   },
   "source": [
    "## Imports\n",
    "This notebook uses the custom code found in the code folder"
   ]
  },
  {
   "cell_type": "code",
   "execution_count": 1,
   "id": "2d038a39-333d-466f-813b-ba25e46aaf08",
   "metadata": {
    "tags": []
   },
   "outputs": [
    {
     "name": "stderr",
     "output_type": "stream",
     "text": [
      "2023-04-26 17:07:13.143415: I tensorflow/stream_executor/platform/default/dso_loader.cc:49] Successfully opened dynamic library libcudart.so.10.1\n"
     ]
    }
   ],
   "source": [
    "import os\n",
    "\n",
    "# math, processing, deep learning\n",
    "import numpy as np\n",
    "import tensorflow as tf\n",
    "from scipy.signal import stft, istft\n",
    "\n",
    "# visualization\n",
    "import matplotlib.pyplot as plt\n",
    "from ipywidgets import interact\n",
    "from mpl_toolkits.axes_grid1 import make_axes_locatable\n",
    "\n",
    "\n",
    "# custom code\n",
    "from code.stftprocessing import StftDataset\n",
    "from code.dsvisual import DatasetVisualizer\n",
    "\n",
    "# convenience\n",
    "from tqdm import tqdm\n",
    "import datetime\n"
   ]
  },
  {
   "cell_type": "markdown",
   "id": "3c018a04-4eef-4880-95dd-dec0a95dd92c",
   "metadata": {},
   "source": [
    "## Load the files for training and testing\n",
    "There are different training and test sets in the folder. This section loads the appropriate ones into memory.\n"
   ]
  },
  {
   "cell_type": "code",
   "execution_count": 2,
   "id": "7c5005d7-ef4c-4d6f-ac61-9022a8267d18",
   "metadata": {
    "tags": []
   },
   "outputs": [],
   "source": [
    "# this is a smaller training set for testing purposes\n",
    "folder = \"training/new_small\"\n",
    "base = \"noisy_small\"\n",
    "target = \"pure_small\"\n",
    "\n",
    "# this is a training set for training the main model\n",
    "# folder = \"training/original training\"\n",
    "# base = \"noisy\"\n",
    "# target = \"pure\"\n",
    "\n",
    "test_folder = \"training/test set\"\n",
    "test_base = \"noisy_test\"\n",
    "test_target = \"pure_test\"\n"
   ]
  },
  {
   "cell_type": "markdown",
   "id": "bf78c285-c30f-4693-9a5d-026bc84c6dd4",
   "metadata": {},
   "source": [
    "Load the files from the given locations using the custom code StftDataset class.\n",
    "\n",
    "The StftDataset class also processes the waveforms into STFT format."
   ]
  },
  {
   "cell_type": "code",
   "execution_count": 3,
   "id": "67a3f1e0-0fa2-4d50-8552-5575b1bc0f3d",
   "metadata": {
    "tags": []
   },
   "outputs": [
    {
     "name": "stdout",
     "output_type": "stream",
     "text": [
      "Files loaded.\n",
      "Files loaded.\n",
      "Files loaded.\n",
      "Files loaded.\n"
     ]
    }
   ],
   "source": [
    "noisy_stft = StftDataset()\n",
    "pure_stft = StftDataset()\n",
    "\n",
    "noisy_stft.load(folder, base)\n",
    "pure_stft.load(folder, target)\n",
    "\n",
    "# test sets\n",
    "noisy_test_stft = StftDataset()\n",
    "pure_test_stft = StftDataset()\n",
    "noisy_test_stft.load(test_folder, test_base)\n",
    "pure_test_stft.load(test_folder, test_target)"
   ]
  },
  {
   "cell_type": "markdown",
   "id": "82aa54aa-63b6-4a77-accd-13e34019cfe6",
   "metadata": {},
   "source": [
    "Check the shape of the data"
   ]
  },
  {
   "cell_type": "code",
   "execution_count": 4,
   "id": "11608d20-dfe1-4179-9d4c-6dd7b94af13e",
   "metadata": {
    "tags": []
   },
   "outputs": [
    {
     "data": {
      "text/plain": [
       "(10000, 129, 9, 2)"
      ]
     },
     "execution_count": 4,
     "metadata": {},
     "output_type": "execute_result"
    }
   ],
   "source": [
    "noisy_stft.get_data().shape"
   ]
  },
  {
   "cell_type": "markdown",
   "id": "8f61b6da-a36f-40e2-b9dc-4806ba1f5a02",
   "metadata": {},
   "source": [
    "### Extracting phase and amplitude information\n",
    "The StftDataset class loads the data that was stored in amplitude and phase format in different files and combines it together"
   ]
  },
  {
   "cell_type": "code",
   "execution_count": 5,
   "id": "fc006258-5af8-42b3-ab54-a4189c550ef4",
   "metadata": {},
   "outputs": [
    {
     "name": "stderr",
     "output_type": "stream",
     "text": [
      "2023-04-26 17:07:33.117993: I tensorflow/compiler/jit/xla_cpu_device.cc:41] Not creating XLA devices, tf_xla_enable_xla_devices not set\n",
      "2023-04-26 17:07:33.118626: I tensorflow/stream_executor/platform/default/dso_loader.cc:49] Successfully opened dynamic library libcuda.so.1\n",
      "2023-04-26 17:07:33.150652: I tensorflow/stream_executor/cuda/cuda_gpu_executor.cc:941] successful NUMA node read from SysFS had negative value (-1), but there must be at least one NUMA node, so returning NUMA node zero\n",
      "2023-04-26 17:07:33.150859: I tensorflow/core/common_runtime/gpu/gpu_device.cc:1720] Found device 0 with properties: \n",
      "pciBusID: 0000:04:00.0 name: NVIDIA GeForce GTX 970 computeCapability: 5.2\n",
      "coreClock: 1.253GHz coreCount: 13 deviceMemorySize: 3.93GiB deviceMemoryBandwidth: 208.91GiB/s\n",
      "2023-04-26 17:07:33.150872: I tensorflow/stream_executor/platform/default/dso_loader.cc:49] Successfully opened dynamic library libcudart.so.10.1\n",
      "2023-04-26 17:07:33.168831: I tensorflow/stream_executor/platform/default/dso_loader.cc:49] Successfully opened dynamic library libcublas.so.10\n",
      "2023-04-26 17:07:33.168877: I tensorflow/stream_executor/platform/default/dso_loader.cc:49] Successfully opened dynamic library libcublasLt.so.10\n",
      "2023-04-26 17:07:33.170592: I tensorflow/stream_executor/platform/default/dso_loader.cc:49] Successfully opened dynamic library libcufft.so.10\n",
      "2023-04-26 17:07:33.170817: I tensorflow/stream_executor/platform/default/dso_loader.cc:49] Successfully opened dynamic library libcurand.so.10\n",
      "2023-04-26 17:07:33.172347: I tensorflow/stream_executor/platform/default/dso_loader.cc:49] Successfully opened dynamic library libcusolver.so.10\n",
      "2023-04-26 17:07:33.173551: I tensorflow/stream_executor/platform/default/dso_loader.cc:49] Successfully opened dynamic library libcusparse.so.10\n",
      "2023-04-26 17:07:33.186879: I tensorflow/stream_executor/platform/default/dso_loader.cc:49] Successfully opened dynamic library libcudnn.so.7\n",
      "2023-04-26 17:07:33.187028: I tensorflow/stream_executor/cuda/cuda_gpu_executor.cc:941] successful NUMA node read from SysFS had negative value (-1), but there must be at least one NUMA node, so returning NUMA node zero\n",
      "2023-04-26 17:07:33.187303: I tensorflow/stream_executor/cuda/cuda_gpu_executor.cc:941] successful NUMA node read from SysFS had negative value (-1), but there must be at least one NUMA node, so returning NUMA node zero\n",
      "2023-04-26 17:07:33.187469: I tensorflow/core/common_runtime/gpu/gpu_device.cc:1862] Adding visible gpu devices: 0\n",
      "2023-04-26 17:07:33.188088: I tensorflow/core/platform/cpu_feature_guard.cc:142] This TensorFlow binary is optimized with oneAPI Deep Neural Network Library (oneDNN) to use the following CPU instructions in performance-critical operations:  SSE4.1 SSE4.2 AVX AVX2 FMA\n",
      "To enable them in other operations, rebuild TensorFlow with the appropriate compiler flags.\n",
      "2023-04-26 17:07:33.188637: I tensorflow/compiler/jit/xla_gpu_device.cc:99] Not creating XLA devices, tf_xla_enable_xla_devices not set\n",
      "2023-04-26 17:07:33.188736: I tensorflow/stream_executor/cuda/cuda_gpu_executor.cc:941] successful NUMA node read from SysFS had negative value (-1), but there must be at least one NUMA node, so returning NUMA node zero\n",
      "2023-04-26 17:07:33.188921: I tensorflow/core/common_runtime/gpu/gpu_device.cc:1720] Found device 0 with properties: \n",
      "pciBusID: 0000:04:00.0 name: NVIDIA GeForce GTX 970 computeCapability: 5.2\n",
      "coreClock: 1.253GHz coreCount: 13 deviceMemorySize: 3.93GiB deviceMemoryBandwidth: 208.91GiB/s\n",
      "2023-04-26 17:07:33.188938: I tensorflow/stream_executor/platform/default/dso_loader.cc:49] Successfully opened dynamic library libcudart.so.10.1\n",
      "2023-04-26 17:07:33.188955: I tensorflow/stream_executor/platform/default/dso_loader.cc:49] Successfully opened dynamic library libcublas.so.10\n",
      "2023-04-26 17:07:33.188967: I tensorflow/stream_executor/platform/default/dso_loader.cc:49] Successfully opened dynamic library libcublasLt.so.10\n",
      "2023-04-26 17:07:33.188979: I tensorflow/stream_executor/platform/default/dso_loader.cc:49] Successfully opened dynamic library libcufft.so.10\n",
      "2023-04-26 17:07:33.188990: I tensorflow/stream_executor/platform/default/dso_loader.cc:49] Successfully opened dynamic library libcurand.so.10\n",
      "2023-04-26 17:07:33.189001: I tensorflow/stream_executor/platform/default/dso_loader.cc:49] Successfully opened dynamic library libcusolver.so.10\n",
      "2023-04-26 17:07:33.189014: I tensorflow/stream_executor/platform/default/dso_loader.cc:49] Successfully opened dynamic library libcusparse.so.10\n",
      "2023-04-26 17:07:33.189025: I tensorflow/stream_executor/platform/default/dso_loader.cc:49] Successfully opened dynamic library libcudnn.so.7\n",
      "2023-04-26 17:07:33.189095: I tensorflow/stream_executor/cuda/cuda_gpu_executor.cc:941] successful NUMA node read from SysFS had negative value (-1), but there must be at least one NUMA node, so returning NUMA node zero\n",
      "2023-04-26 17:07:33.189315: I tensorflow/stream_executor/cuda/cuda_gpu_executor.cc:941] successful NUMA node read from SysFS had negative value (-1), but there must be at least one NUMA node, so returning NUMA node zero\n",
      "2023-04-26 17:07:33.189475: I tensorflow/core/common_runtime/gpu/gpu_device.cc:1862] Adding visible gpu devices: 0\n",
      "2023-04-26 17:07:33.189502: I tensorflow/stream_executor/platform/default/dso_loader.cc:49] Successfully opened dynamic library libcudart.so.10.1\n",
      "2023-04-26 17:07:33.533011: I tensorflow/core/common_runtime/gpu/gpu_device.cc:1261] Device interconnect StreamExecutor with strength 1 edge matrix:\n",
      "2023-04-26 17:07:33.533042: I tensorflow/core/common_runtime/gpu/gpu_device.cc:1267]      0 \n",
      "2023-04-26 17:07:33.533047: I tensorflow/core/common_runtime/gpu/gpu_device.cc:1280] 0:   N \n",
      "2023-04-26 17:07:33.533289: I tensorflow/stream_executor/cuda/cuda_gpu_executor.cc:941] successful NUMA node read from SysFS had negative value (-1), but there must be at least one NUMA node, so returning NUMA node zero\n",
      "2023-04-26 17:07:33.533491: I tensorflow/stream_executor/cuda/cuda_gpu_executor.cc:941] successful NUMA node read from SysFS had negative value (-1), but there must be at least one NUMA node, so returning NUMA node zero\n",
      "2023-04-26 17:07:33.533664: I tensorflow/stream_executor/cuda/cuda_gpu_executor.cc:941] successful NUMA node read from SysFS had negative value (-1), but there must be at least one NUMA node, so returning NUMA node zero\n",
      "2023-04-26 17:07:33.533812: I tensorflow/core/common_runtime/gpu/gpu_device.cc:1406] Created TensorFlow device (/job:localhost/replica:0/task:0/device:GPU:0 with 2943 MB memory) -> physical GPU (device: 0, name: NVIDIA GeForce GTX 970, pci bus id: 0000:04:00.0, compute capability: 5.2)\n"
     ]
    }
   ],
   "source": [
    "# get the amplitudes of training and test sets\n",
    "examples = noisy_stft.get_data()[:,:,:,:]\n",
    "labels = pure_stft.get_data()[:,:,:,:]\n",
    "\n",
    "stride_reduce = 100\n",
    "examples_test = noisy_test_stft.get_data()[::stride_reduce,:,:,:]\n",
    "labels_test = pure_test_stft.get_data()[::stride_reduce,:,:,:]\n",
    "\n",
    "# examples_test_phase = noisy_test_stft.get_data()[::stride_reduce,:,:,1]\n",
    "# labels_test_phase = pure_test_stft.get_data()[::stride_reduce,:,:,1]\n",
    "\n",
    "# build the dataset from tensorflow functions\n",
    "train_dataset = tf.data.Dataset.from_tensor_slices((examples, labels))\n",
    "test_dataset = tf.data.Dataset.from_tensor_slices((examples_test, labels_test))"
   ]
  },
  {
   "cell_type": "code",
   "execution_count": 6,
   "id": "6562c220-7860-4297-a77d-c5e88007007a",
   "metadata": {
    "tags": []
   },
   "outputs": [
    {
     "data": {
      "text/plain": [
       "<TensorSliceDataset shapes: ((129, 9, 2), (129, 9, 2)), types: (tf.float64, tf.float64)>"
      ]
     },
     "execution_count": 6,
     "metadata": {},
     "output_type": "execute_result"
    }
   ],
   "source": [
    "train_dataset\n",
    "# test_dataset"
   ]
  },
  {
   "cell_type": "code",
   "execution_count": 7,
   "id": "b974f1c1-e512-4859-96e2-f2abf7b99d66",
   "metadata": {
    "tags": []
   },
   "outputs": [],
   "source": [
    "input_shape = examples.shape[1:]\n",
    "# count up the number of elements in the data for the flattened layer\n",
    "number_of_data_elements = np.prod(input_shape)"
   ]
  },
  {
   "cell_type": "code",
   "execution_count": 8,
   "id": "ea6f06e8-d6e8-41fc-8bb3-9038794e20b8",
   "metadata": {
    "tags": []
   },
   "outputs": [],
   "source": [
    "BATCH_SIZE = int(512/1)\n",
    "SHUFFLE_BUFFER_SIZE = int(2000/1)\n",
    "\n",
    "train_dataset = train_dataset.shuffle(SHUFFLE_BUFFER_SIZE).batch(BATCH_SIZE)\n",
    "test_dataset = test_dataset.batch(BATCH_SIZE)"
   ]
  },
  {
   "cell_type": "code",
   "execution_count": 9,
   "id": "0c4d1f41-be67-4b4c-b0c5-79885978c533",
   "metadata": {
    "tags": []
   },
   "outputs": [],
   "source": [
    "# train_dataset.take(1).unbatch()\n",
    "   "
   ]
  },
  {
   "cell_type": "code",
   "execution_count": 10,
   "id": "3c205536-ec0b-461c-947b-c9125faab333",
   "metadata": {
    "tags": []
   },
   "outputs": [],
   "source": [
    "class Custom_Loss(tf.keras.losses.Loss):\n",
    "\n",
    "    def call(self, y_true, y_pred):        \n",
    "        amplitude_mse = tf.reduce_mean(tf.math.square(y_pred[:,:,:,0] - y_true[:,:,:,0]))\n",
    "        phase_mse = tf.reduce_mean(tf.math.square(y_pred[:,:,:,1] - y_true[:,:,:,1]))\n",
    "        return amplitude_mse + 0.0001*phase_mse\n",
    "\n",
    "# Define custom activation function for scaling\n",
    "def scaling_activation(x):\n",
    "    return 3.14 * tf.tanh(x)\n",
    "    \n",
    "def scaling_activation(x):\n",
    "    amplitude_activation = 0\n",
    "    phase_activation =0\n",
    "    return 3.14 * tf.tanh(x)\n",
    "    "
   ]
  },
  {
   "cell_type": "code",
   "execution_count": 329,
   "id": "97c703f4-8424-435f-a5a8-c7b3a34c593a",
   "metadata": {
    "tags": []
   },
   "outputs": [],
   "source": [
    "dropout_rate = 0.05\n",
    "factor = 16\n",
    "\n",
    "model = tf.keras.Sequential([\n",
    "     # this is normalization for amplitude and phase information, both separated on the last axis\n",
    "    # tf.keras.layers.experimental.preprocessing.Normalization(axis=-1, input_shape=input_shape),\n",
    "    \n",
    "    # tf.keras.layers.experimental.preprocessing.Normalization(axis=None,input_shape=input_shape),\n",
    "    \n",
    "    tf.keras.layers.Flatten(input_shape=input_shape),\n",
    "\n",
    "    tf.keras.layers.Dense(units = 125*factor, activation='elu'),\n",
    "    tf.keras.layers.Dropout(rate=dropout_rate),\n",
    "    tf.keras.layers.Dense(units = 75*factor, activation='elu'),\n",
    "    tf.keras.layers.Dropout(rate=dropout_rate*0.25),\n",
    "\n",
    "    tf.keras.layers.Dense(units = 50*factor, activation='elu'),\n",
    "    tf.keras.layers.Dropout(rate=dropout_rate*0.25),\n",
    "    tf.keras.layers.Dense(units = 50*factor, activation='elu'),\n",
    "    tf.keras.layers.Dropout(rate=dropout_rate*0.25),\n",
    "    tf.keras.layers.Dense(units = 50*factor, activation='elu'),\n",
    "    tf.keras.layers.Dropout(rate=dropout_rate*0.25),\n",
    "\n",
    "    tf.keras.layers.Dense(units = 75*factor, activation='elu'),\n",
    "    tf.keras.layers.Dropout(rate=dropout_rate),\n",
    "\n",
    "\n",
    "    tf.keras.layers.Dense(units = number_of_data_elements, activation='tanh'),\n",
    "    # tf.keras.layers.Dense((128,9,2), activation='relu'),\n",
    "    # tf.keras.layers.Dense((128,9,2), activation='relu'),\n",
    "    # tf.keras.layers.Dense((128,9,2), activation='relu'),\n",
    "    # tf.keras.layers.Conv2D(3,2, activation='relu', input_shape=input_shape),\n",
    "    tf.keras.layers.experimental.preprocessing.Rescaling(scale=3.14),\n",
    "    tf.keras.layers.Reshape(target_shape=input_shape)\n",
    "])\n",
    "\n",
    "model.compile(optimizer=\"adam\",\n",
    "              loss=Custom_Loss(),\n",
    "                # loss=\"mse\"\n",
    "\n",
    "              )"
   ]
  },
  {
   "cell_type": "code",
   "execution_count": 330,
   "id": "c54f25dc-b243-4398-8afa-a02d60569733",
   "metadata": {
    "tags": []
   },
   "outputs": [],
   "source": [
    "norm_layer = model.layers[0]"
   ]
  },
  {
   "cell_type": "code",
   "execution_count": 331,
   "id": "51ebd605-d467-4377-8dc4-cc9343e1849d",
   "metadata": {
    "tags": []
   },
   "outputs": [
    {
     "ename": "AttributeError",
     "evalue": "'Flatten' object has no attribute 'adapt'",
     "output_type": "error",
     "traceback": [
      "\u001b[0;31m---------------------------------------------------------------------------\u001b[0m",
      "\u001b[0;31mAttributeError\u001b[0m                            Traceback (most recent call last)",
      "Cell \u001b[0;32mIn[331], line 1\u001b[0m\n\u001b[0;32m----> 1\u001b[0m \u001b[43mnorm_layer\u001b[49m\u001b[38;5;241;43m.\u001b[39;49m\u001b[43madapt\u001b[49m(examples)\n",
      "\u001b[0;31mAttributeError\u001b[0m: 'Flatten' object has no attribute 'adapt'"
     ]
    }
   ],
   "source": [
    "norm_layer.adapt(examples)"
   ]
  },
  {
   "cell_type": "code",
   "execution_count": 332,
   "id": "a5a764f9-e88f-4864-854b-6345cdd4221d",
   "metadata": {
    "tags": []
   },
   "outputs": [],
   "source": [
    "train_take_example = train_dataset.take(1)"
   ]
  },
  {
   "cell_type": "code",
   "execution_count": 333,
   "id": "febbd41d-d8e1-40da-82f8-e3771819a33e",
   "metadata": {
    "tags": []
   },
   "outputs": [],
   "source": [
    "# help(train_take_example)"
   ]
  },
  {
   "cell_type": "code",
   "execution_count": 334,
   "id": "fde5a1e6-5863-4bae-80c6-25b29f53b409",
   "metadata": {
    "tags": []
   },
   "outputs": [
    {
     "data": {
      "text/plain": [
       "(10000, 129, 9, 2)"
      ]
     },
     "execution_count": 334,
     "metadata": {},
     "output_type": "execute_result"
    }
   ],
   "source": [
    "examples.shape"
   ]
  },
  {
   "cell_type": "code",
   "execution_count": 335,
   "id": "e2cb7261-8042-4904-a5aa-65c99bcda994",
   "metadata": {
    "tags": []
   },
   "outputs": [],
   "source": [
    "norm_example = norm_layer(examples[0])"
   ]
  },
  {
   "cell_type": "code",
   "execution_count": 336,
   "id": "4aeec26b-ca9c-42ec-a9d9-73fe6bb0776f",
   "metadata": {
    "tags": []
   },
   "outputs": [
    {
     "data": {
      "text/plain": [
       "TensorShape([129, 18])"
      ]
     },
     "execution_count": 336,
     "metadata": {},
     "output_type": "execute_result"
    }
   ],
   "source": [
    "norm_example.shape"
   ]
  },
  {
   "cell_type": "code",
   "execution_count": 337,
   "id": "57143068-bb62-4b45-9c60-f18496f36e2f",
   "metadata": {
    "tags": []
   },
   "outputs": [
    {
     "name": "stderr",
     "output_type": "stream",
     "text": [
      "2023-04-26 18:07:53.406880: W tensorflow/core/framework/op_kernel.cc:1763] OP_REQUIRES failed at strided_slice_op.cc:108 : Invalid argument: Index out of range using input dim 2; input has only 2 dims\n"
     ]
    },
    {
     "ename": "InvalidArgumentError",
     "evalue": "Index out of range using input dim 2; input has only 2 dims [Op:StridedSlice] name: strided_slice/",
     "output_type": "error",
     "traceback": [
      "\u001b[0;31m---------------------------------------------------------------------------\u001b[0m",
      "\u001b[0;31mInvalidArgumentError\u001b[0m                      Traceback (most recent call last)",
      "Cell \u001b[0;32mIn[337], line 1\u001b[0m\n\u001b[0;32m----> 1\u001b[0m plt\u001b[38;5;241m.\u001b[39mimshow(\u001b[43mnorm_example\u001b[49m\u001b[43m[\u001b[49m\u001b[38;5;241;43m0\u001b[39;49m\u001b[43m,\u001b[49m\u001b[43m:\u001b[49m\u001b[43m,\u001b[49m\u001b[43m:\u001b[49m\u001b[43m]\u001b[49m, aspect\u001b[38;5;241m=\u001b[39m\u001b[38;5;124m\"\u001b[39m\u001b[38;5;124mauto\u001b[39m\u001b[38;5;124m\"\u001b[39m)\n\u001b[1;32m      2\u001b[0m plt\u001b[38;5;241m.\u001b[39mcolorbar()\n",
      "File \u001b[0;32m~/Daten2TB/Anaconda2021-11/envs/tf/lib/python3.9/site-packages/tensorflow/python/util/dispatch.py:201\u001b[0m, in \u001b[0;36madd_dispatch_support.<locals>.wrapper\u001b[0;34m(*args, **kwargs)\u001b[0m\n\u001b[1;32m    199\u001b[0m \u001b[38;5;250m\u001b[39m\u001b[38;5;124;03m\"\"\"Call target, and fall back on dispatchers if there is a TypeError.\"\"\"\u001b[39;00m\n\u001b[1;32m    200\u001b[0m \u001b[38;5;28;01mtry\u001b[39;00m:\n\u001b[0;32m--> 201\u001b[0m   \u001b[38;5;28;01mreturn\u001b[39;00m \u001b[43mtarget\u001b[49m\u001b[43m(\u001b[49m\u001b[38;5;241;43m*\u001b[39;49m\u001b[43margs\u001b[49m\u001b[43m,\u001b[49m\u001b[43m \u001b[49m\u001b[38;5;241;43m*\u001b[39;49m\u001b[38;5;241;43m*\u001b[39;49m\u001b[43mkwargs\u001b[49m\u001b[43m)\u001b[49m\n\u001b[1;32m    202\u001b[0m \u001b[38;5;28;01mexcept\u001b[39;00m (\u001b[38;5;167;01mTypeError\u001b[39;00m, \u001b[38;5;167;01mValueError\u001b[39;00m):\n\u001b[1;32m    203\u001b[0m   \u001b[38;5;66;03m# Note: convert_to_eager_tensor currently raises a ValueError, not a\u001b[39;00m\n\u001b[1;32m    204\u001b[0m   \u001b[38;5;66;03m# TypeError, when given unexpected types.  So we need to catch both.\u001b[39;00m\n\u001b[1;32m    205\u001b[0m   result \u001b[38;5;241m=\u001b[39m dispatch(wrapper, args, kwargs)\n",
      "File \u001b[0;32m~/Daten2TB/Anaconda2021-11/envs/tf/lib/python3.9/site-packages/tensorflow/python/ops/array_ops.py:1036\u001b[0m, in \u001b[0;36m_slice_helper\u001b[0;34m(tensor, slice_spec, var)\u001b[0m\n\u001b[1;32m   1034\u001b[0m   var_empty \u001b[38;5;241m=\u001b[39m constant([], dtype\u001b[38;5;241m=\u001b[39mdtypes\u001b[38;5;241m.\u001b[39mint32)\n\u001b[1;32m   1035\u001b[0m   packed_begin \u001b[38;5;241m=\u001b[39m packed_end \u001b[38;5;241m=\u001b[39m packed_strides \u001b[38;5;241m=\u001b[39m var_empty\n\u001b[0;32m-> 1036\u001b[0m \u001b[38;5;28;01mreturn\u001b[39;00m \u001b[43mstrided_slice\u001b[49m\u001b[43m(\u001b[49m\n\u001b[1;32m   1037\u001b[0m \u001b[43m    \u001b[49m\u001b[43mtensor\u001b[49m\u001b[43m,\u001b[49m\n\u001b[1;32m   1038\u001b[0m \u001b[43m    \u001b[49m\u001b[43mpacked_begin\u001b[49m\u001b[43m,\u001b[49m\n\u001b[1;32m   1039\u001b[0m \u001b[43m    \u001b[49m\u001b[43mpacked_end\u001b[49m\u001b[43m,\u001b[49m\n\u001b[1;32m   1040\u001b[0m \u001b[43m    \u001b[49m\u001b[43mpacked_strides\u001b[49m\u001b[43m,\u001b[49m\n\u001b[1;32m   1041\u001b[0m \u001b[43m    \u001b[49m\u001b[43mbegin_mask\u001b[49m\u001b[38;5;241;43m=\u001b[39;49m\u001b[43mbegin_mask\u001b[49m\u001b[43m,\u001b[49m\n\u001b[1;32m   1042\u001b[0m \u001b[43m    \u001b[49m\u001b[43mend_mask\u001b[49m\u001b[38;5;241;43m=\u001b[39;49m\u001b[43mend_mask\u001b[49m\u001b[43m,\u001b[49m\n\u001b[1;32m   1043\u001b[0m \u001b[43m    \u001b[49m\u001b[43mshrink_axis_mask\u001b[49m\u001b[38;5;241;43m=\u001b[39;49m\u001b[43mshrink_axis_mask\u001b[49m\u001b[43m,\u001b[49m\n\u001b[1;32m   1044\u001b[0m \u001b[43m    \u001b[49m\u001b[43mnew_axis_mask\u001b[49m\u001b[38;5;241;43m=\u001b[39;49m\u001b[43mnew_axis_mask\u001b[49m\u001b[43m,\u001b[49m\n\u001b[1;32m   1045\u001b[0m \u001b[43m    \u001b[49m\u001b[43mellipsis_mask\u001b[49m\u001b[38;5;241;43m=\u001b[39;49m\u001b[43mellipsis_mask\u001b[49m\u001b[43m,\u001b[49m\n\u001b[1;32m   1046\u001b[0m \u001b[43m    \u001b[49m\u001b[43mvar\u001b[49m\u001b[38;5;241;43m=\u001b[39;49m\u001b[43mvar\u001b[49m\u001b[43m,\u001b[49m\n\u001b[1;32m   1047\u001b[0m \u001b[43m    \u001b[49m\u001b[43mname\u001b[49m\u001b[38;5;241;43m=\u001b[39;49m\u001b[43mname\u001b[49m\u001b[43m)\u001b[49m\n",
      "File \u001b[0;32m~/Daten2TB/Anaconda2021-11/envs/tf/lib/python3.9/site-packages/tensorflow/python/util/dispatch.py:201\u001b[0m, in \u001b[0;36madd_dispatch_support.<locals>.wrapper\u001b[0;34m(*args, **kwargs)\u001b[0m\n\u001b[1;32m    199\u001b[0m \u001b[38;5;250m\u001b[39m\u001b[38;5;124;03m\"\"\"Call target, and fall back on dispatchers if there is a TypeError.\"\"\"\u001b[39;00m\n\u001b[1;32m    200\u001b[0m \u001b[38;5;28;01mtry\u001b[39;00m:\n\u001b[0;32m--> 201\u001b[0m   \u001b[38;5;28;01mreturn\u001b[39;00m \u001b[43mtarget\u001b[49m\u001b[43m(\u001b[49m\u001b[38;5;241;43m*\u001b[39;49m\u001b[43margs\u001b[49m\u001b[43m,\u001b[49m\u001b[43m \u001b[49m\u001b[38;5;241;43m*\u001b[39;49m\u001b[38;5;241;43m*\u001b[39;49m\u001b[43mkwargs\u001b[49m\u001b[43m)\u001b[49m\n\u001b[1;32m    202\u001b[0m \u001b[38;5;28;01mexcept\u001b[39;00m (\u001b[38;5;167;01mTypeError\u001b[39;00m, \u001b[38;5;167;01mValueError\u001b[39;00m):\n\u001b[1;32m    203\u001b[0m   \u001b[38;5;66;03m# Note: convert_to_eager_tensor currently raises a ValueError, not a\u001b[39;00m\n\u001b[1;32m    204\u001b[0m   \u001b[38;5;66;03m# TypeError, when given unexpected types.  So we need to catch both.\u001b[39;00m\n\u001b[1;32m    205\u001b[0m   result \u001b[38;5;241m=\u001b[39m dispatch(wrapper, args, kwargs)\n",
      "File \u001b[0;32m~/Daten2TB/Anaconda2021-11/envs/tf/lib/python3.9/site-packages/tensorflow/python/ops/array_ops.py:1209\u001b[0m, in \u001b[0;36mstrided_slice\u001b[0;34m(input_, begin, end, strides, begin_mask, end_mask, ellipsis_mask, new_axis_mask, shrink_axis_mask, var, name)\u001b[0m\n\u001b[1;32m   1206\u001b[0m \u001b[38;5;28;01mif\u001b[39;00m strides \u001b[38;5;129;01mis\u001b[39;00m \u001b[38;5;28;01mNone\u001b[39;00m:\n\u001b[1;32m   1207\u001b[0m   strides \u001b[38;5;241m=\u001b[39m ones_like(begin)\n\u001b[0;32m-> 1209\u001b[0m op \u001b[38;5;241m=\u001b[39m \u001b[43mgen_array_ops\u001b[49m\u001b[38;5;241;43m.\u001b[39;49m\u001b[43mstrided_slice\u001b[49m\u001b[43m(\u001b[49m\n\u001b[1;32m   1210\u001b[0m \u001b[43m    \u001b[49m\u001b[38;5;28;43minput\u001b[39;49m\u001b[38;5;241;43m=\u001b[39;49m\u001b[43minput_\u001b[49m\u001b[43m,\u001b[49m\n\u001b[1;32m   1211\u001b[0m \u001b[43m    \u001b[49m\u001b[43mbegin\u001b[49m\u001b[38;5;241;43m=\u001b[39;49m\u001b[43mbegin\u001b[49m\u001b[43m,\u001b[49m\n\u001b[1;32m   1212\u001b[0m \u001b[43m    \u001b[49m\u001b[43mend\u001b[49m\u001b[38;5;241;43m=\u001b[39;49m\u001b[43mend\u001b[49m\u001b[43m,\u001b[49m\n\u001b[1;32m   1213\u001b[0m \u001b[43m    \u001b[49m\u001b[43mstrides\u001b[49m\u001b[38;5;241;43m=\u001b[39;49m\u001b[43mstrides\u001b[49m\u001b[43m,\u001b[49m\n\u001b[1;32m   1214\u001b[0m \u001b[43m    \u001b[49m\u001b[43mname\u001b[49m\u001b[38;5;241;43m=\u001b[39;49m\u001b[43mname\u001b[49m\u001b[43m,\u001b[49m\n\u001b[1;32m   1215\u001b[0m \u001b[43m    \u001b[49m\u001b[43mbegin_mask\u001b[49m\u001b[38;5;241;43m=\u001b[39;49m\u001b[43mbegin_mask\u001b[49m\u001b[43m,\u001b[49m\n\u001b[1;32m   1216\u001b[0m \u001b[43m    \u001b[49m\u001b[43mend_mask\u001b[49m\u001b[38;5;241;43m=\u001b[39;49m\u001b[43mend_mask\u001b[49m\u001b[43m,\u001b[49m\n\u001b[1;32m   1217\u001b[0m \u001b[43m    \u001b[49m\u001b[43mellipsis_mask\u001b[49m\u001b[38;5;241;43m=\u001b[39;49m\u001b[43mellipsis_mask\u001b[49m\u001b[43m,\u001b[49m\n\u001b[1;32m   1218\u001b[0m \u001b[43m    \u001b[49m\u001b[43mnew_axis_mask\u001b[49m\u001b[38;5;241;43m=\u001b[39;49m\u001b[43mnew_axis_mask\u001b[49m\u001b[43m,\u001b[49m\n\u001b[1;32m   1219\u001b[0m \u001b[43m    \u001b[49m\u001b[43mshrink_axis_mask\u001b[49m\u001b[38;5;241;43m=\u001b[39;49m\u001b[43mshrink_axis_mask\u001b[49m\u001b[43m)\u001b[49m\n\u001b[1;32m   1221\u001b[0m parent_name \u001b[38;5;241m=\u001b[39m name\n\u001b[1;32m   1223\u001b[0m \u001b[38;5;28;01mif\u001b[39;00m \u001b[38;5;129;01mnot\u001b[39;00m (var \u001b[38;5;129;01mis\u001b[39;00m \u001b[38;5;28;01mNone\u001b[39;00m \u001b[38;5;129;01mand\u001b[39;00m \u001b[38;5;28misinstance\u001b[39m(op, ops\u001b[38;5;241m.\u001b[39mEagerTensor)):\n",
      "File \u001b[0;32m~/Daten2TB/Anaconda2021-11/envs/tf/lib/python3.9/site-packages/tensorflow/python/ops/gen_array_ops.py:10447\u001b[0m, in \u001b[0;36mstrided_slice\u001b[0;34m(input, begin, end, strides, begin_mask, end_mask, ellipsis_mask, new_axis_mask, shrink_axis_mask, name)\u001b[0m\n\u001b[1;32m  10445\u001b[0m   \u001b[38;5;28;01mreturn\u001b[39;00m _result\n\u001b[1;32m  10446\u001b[0m \u001b[38;5;28;01mexcept\u001b[39;00m _core\u001b[38;5;241m.\u001b[39m_NotOkStatusException \u001b[38;5;28;01mas\u001b[39;00m e:\n\u001b[0;32m> 10447\u001b[0m   \u001b[43m_ops\u001b[49m\u001b[38;5;241;43m.\u001b[39;49m\u001b[43mraise_from_not_ok_status\u001b[49m\u001b[43m(\u001b[49m\u001b[43me\u001b[49m\u001b[43m,\u001b[49m\u001b[43m \u001b[49m\u001b[43mname\u001b[49m\u001b[43m)\u001b[49m\n\u001b[1;32m  10448\u001b[0m \u001b[38;5;28;01mexcept\u001b[39;00m _core\u001b[38;5;241m.\u001b[39m_FallbackException:\n\u001b[1;32m  10449\u001b[0m   \u001b[38;5;28;01mpass\u001b[39;00m\n",
      "File \u001b[0;32m~/Daten2TB/Anaconda2021-11/envs/tf/lib/python3.9/site-packages/tensorflow/python/framework/ops.py:6862\u001b[0m, in \u001b[0;36mraise_from_not_ok_status\u001b[0;34m(e, name)\u001b[0m\n\u001b[1;32m   6860\u001b[0m message \u001b[38;5;241m=\u001b[39m e\u001b[38;5;241m.\u001b[39mmessage \u001b[38;5;241m+\u001b[39m (\u001b[38;5;124m\"\u001b[39m\u001b[38;5;124m name: \u001b[39m\u001b[38;5;124m\"\u001b[39m \u001b[38;5;241m+\u001b[39m name \u001b[38;5;28;01mif\u001b[39;00m name \u001b[38;5;129;01mis\u001b[39;00m \u001b[38;5;129;01mnot\u001b[39;00m \u001b[38;5;28;01mNone\u001b[39;00m \u001b[38;5;28;01melse\u001b[39;00m \u001b[38;5;124m\"\u001b[39m\u001b[38;5;124m\"\u001b[39m)\n\u001b[1;32m   6861\u001b[0m \u001b[38;5;66;03m# pylint: disable=protected-access\u001b[39;00m\n\u001b[0;32m-> 6862\u001b[0m \u001b[43msix\u001b[49m\u001b[38;5;241;43m.\u001b[39;49m\u001b[43mraise_from\u001b[49m\u001b[43m(\u001b[49m\u001b[43mcore\u001b[49m\u001b[38;5;241;43m.\u001b[39;49m\u001b[43m_status_to_exception\u001b[49m\u001b[43m(\u001b[49m\u001b[43me\u001b[49m\u001b[38;5;241;43m.\u001b[39;49m\u001b[43mcode\u001b[49m\u001b[43m,\u001b[49m\u001b[43m \u001b[49m\u001b[43mmessage\u001b[49m\u001b[43m)\u001b[49m\u001b[43m,\u001b[49m\u001b[43m \u001b[49m\u001b[38;5;28;43;01mNone\u001b[39;49;00m\u001b[43m)\u001b[49m\n",
      "File \u001b[0;32m<string>:3\u001b[0m, in \u001b[0;36mraise_from\u001b[0;34m(value, from_value)\u001b[0m\n",
      "\u001b[0;31mInvalidArgumentError\u001b[0m: Index out of range using input dim 2; input has only 2 dims [Op:StridedSlice] name: strided_slice/"
     ]
    }
   ],
   "source": [
    "plt.imshow(norm_example[0,:,:], aspect=\"auto\")\n",
    "plt.colorbar()"
   ]
  },
  {
   "cell_type": "code",
   "execution_count": 338,
   "id": "0718a710-2c05-4b92-82ef-eb6811f27f69",
   "metadata": {
    "tags": []
   },
   "outputs": [],
   "source": [
    "# help(norm_layer)"
   ]
  },
  {
   "cell_type": "code",
   "execution_count": 339,
   "id": "3b0c4fd8-dccf-49a8-bfbe-a05ff098a383",
   "metadata": {
    "tags": []
   },
   "outputs": [],
   "source": [
    "# norm_layer(train_take_example)"
   ]
  },
  {
   "cell_type": "code",
   "execution_count": 340,
   "id": "5b853a9d-5f50-4095-b03c-969174f5b9e0",
   "metadata": {
    "tags": []
   },
   "outputs": [
    {
     "ename": "AttributeError",
     "evalue": "'Flatten' object has no attribute 'variance'",
     "output_type": "error",
     "traceback": [
      "\u001b[0;31m---------------------------------------------------------------------------\u001b[0m",
      "\u001b[0;31mAttributeError\u001b[0m                            Traceback (most recent call last)",
      "Cell \u001b[0;32mIn[340], line 1\u001b[0m\n\u001b[0;32m----> 1\u001b[0m \u001b[43mnorm_layer\u001b[49m\u001b[38;5;241;43m.\u001b[39;49m\u001b[43mvariance\u001b[49m\n",
      "\u001b[0;31mAttributeError\u001b[0m: 'Flatten' object has no attribute 'variance'"
     ]
    }
   ],
   "source": [
    "norm_layer.variance"
   ]
  },
  {
   "cell_type": "code",
   "execution_count": 341,
   "id": "70b3b061-1eeb-48bd-b9c8-f2e73f73fa17",
   "metadata": {
    "tags": []
   },
   "outputs": [
    {
     "name": "stdout",
     "output_type": "stream",
     "text": [
      "Model: \"sequential_12\"\n",
      "_________________________________________________________________\n",
      "Layer (type)                 Output Shape              Param #   \n",
      "=================================================================\n",
      "flatten_12 (Flatten)         (None, 2322)              0         \n",
      "_________________________________________________________________\n",
      "dense_80 (Dense)             (None, 2000)              4646000   \n",
      "_________________________________________________________________\n",
      "dropout_68 (Dropout)         (None, 2000)              0         \n",
      "_________________________________________________________________\n",
      "dense_81 (Dense)             (None, 1200)              2401200   \n",
      "_________________________________________________________________\n",
      "dropout_69 (Dropout)         (None, 1200)              0         \n",
      "_________________________________________________________________\n",
      "dense_82 (Dense)             (None, 800)               960800    \n",
      "_________________________________________________________________\n",
      "dropout_70 (Dropout)         (None, 800)               0         \n",
      "_________________________________________________________________\n",
      "dense_83 (Dense)             (None, 800)               640800    \n",
      "_________________________________________________________________\n",
      "dropout_71 (Dropout)         (None, 800)               0         \n",
      "_________________________________________________________________\n",
      "dense_84 (Dense)             (None, 800)               640800    \n",
      "_________________________________________________________________\n",
      "dropout_72 (Dropout)         (None, 800)               0         \n",
      "_________________________________________________________________\n",
      "dense_85 (Dense)             (None, 1200)              961200    \n",
      "_________________________________________________________________\n",
      "dropout_73 (Dropout)         (None, 1200)              0         \n",
      "_________________________________________________________________\n",
      "dense_86 (Dense)             (None, 2322)              2788722   \n",
      "_________________________________________________________________\n",
      "rescaling_12 (Rescaling)     (None, 2322)              0         \n",
      "_________________________________________________________________\n",
      "reshape_12 (Reshape)         (None, 129, 9, 2)         0         \n",
      "=================================================================\n",
      "Total params: 13,039,522\n",
      "Trainable params: 13,039,522\n",
      "Non-trainable params: 0\n",
      "_________________________________________________________________\n"
     ]
    }
   ],
   "source": [
    "model.summary()"
   ]
  },
  {
   "cell_type": "code",
   "execution_count": 342,
   "id": "b804e9f8-eb27-42a2-8c91-80d87d07f724",
   "metadata": {
    "tags": []
   },
   "outputs": [],
   "source": [
    "from tensorflow.keras.callbacks import Callback\n",
    "\n",
    "class LossCallback(Callback):\n",
    "    def on_epoch_end(self, epoch, logs=None):\n",
    "        if not self.params['verbose']:\n",
    "            print(\"Loss: {}\".format(logs['loss']))"
   ]
  },
  {
   "cell_type": "code",
   "execution_count": 344,
   "id": "faea64cc-22a7-49a0-8c89-fb11785912cf",
   "metadata": {
    "tags": []
   },
   "outputs": [
    {
     "name": "stdout",
     "output_type": "stream",
     "text": [
      "Epoch 1/400\n",
      "20/20 [==============================] - 1s 38ms/step - loss: 0.0057 - val_loss: 8.0671e-04\n",
      "Epoch 2/400\n",
      "20/20 [==============================] - 1s 38ms/step - loss: 0.0054 - val_loss: 7.6998e-04\n",
      "Epoch 3/400\n",
      "20/20 [==============================] - 1s 37ms/step - loss: 0.0050 - val_loss: 7.3381e-04\n",
      "Epoch 4/400\n",
      "20/20 [==============================] - 1s 37ms/step - loss: 0.0047 - val_loss: 6.9188e-04\n",
      "Epoch 5/400\n",
      "20/20 [==============================] - 1s 37ms/step - loss: 0.0044 - val_loss: 6.8244e-04\n",
      "Epoch 6/400\n",
      "20/20 [==============================] - 1s 37ms/step - loss: 0.0042 - val_loss: 6.4851e-04\n",
      "Epoch 7/400\n",
      "20/20 [==============================] - 1s 37ms/step - loss: 0.0039 - val_loss: 6.3020e-04\n",
      "Epoch 8/400\n",
      "20/20 [==============================] - 1s 37ms/step - loss: 0.0037 - val_loss: 5.9736e-04\n",
      "Epoch 9/400\n",
      "20/20 [==============================] - 1s 37ms/step - loss: 0.0035 - val_loss: 5.8926e-04\n",
      "Epoch 10/400\n",
      "20/20 [==============================] - 1s 37ms/step - loss: 0.0034 - val_loss: 5.9862e-04\n",
      "Epoch 11/400\n",
      "20/20 [==============================] - 1s 37ms/step - loss: 0.0032 - val_loss: 5.6448e-04\n",
      "Epoch 12/400\n",
      "20/20 [==============================] - 1s 36ms/step - loss: 0.0031 - val_loss: 5.6813e-04\n",
      "Epoch 13/400\n",
      "20/20 [==============================] - 1s 37ms/step - loss: 0.0029 - val_loss: 5.4365e-04\n",
      "Epoch 14/400\n",
      "20/20 [==============================] - 1s 37ms/step - loss: 0.0028 - val_loss: 5.4254e-04\n",
      "Epoch 15/400\n",
      "20/20 [==============================] - 1s 37ms/step - loss: 0.0027 - val_loss: 5.3723e-04\n",
      "Epoch 16/400\n",
      "20/20 [==============================] - 1s 37ms/step - loss: 0.0026 - val_loss: 5.2205e-04\n",
      "Epoch 17/400\n",
      "20/20 [==============================] - 1s 37ms/step - loss: 0.0025 - val_loss: 5.2903e-04\n",
      "Epoch 18/400\n",
      "20/20 [==============================] - 1s 37ms/step - loss: 0.0024 - val_loss: 5.0952e-04\n",
      "Epoch 19/400\n",
      "20/20 [==============================] - 1s 38ms/step - loss: 0.0023 - val_loss: 5.0434e-04\n",
      "Epoch 20/400\n",
      "20/20 [==============================] - 1s 37ms/step - loss: 0.0022 - val_loss: 4.9931e-04\n",
      "Epoch 21/400\n",
      "20/20 [==============================] - 1s 37ms/step - loss: 0.0022 - val_loss: 4.9645e-04\n",
      "Epoch 22/400\n",
      "20/20 [==============================] - 1s 37ms/step - loss: 0.0021 - val_loss: 4.9144e-04\n",
      "Epoch 23/400\n",
      "20/20 [==============================] - 1s 37ms/step - loss: 0.0020 - val_loss: 4.7850e-04\n",
      "Epoch 24/400\n",
      "20/20 [==============================] - 1s 36ms/step - loss: 0.0020 - val_loss: 4.8314e-04\n",
      "Epoch 25/400\n",
      "20/20 [==============================] - 1s 37ms/step - loss: 0.0019 - val_loss: 4.8333e-04\n",
      "Epoch 26/400\n",
      "20/20 [==============================] - 1s 38ms/step - loss: 0.0018 - val_loss: 4.7671e-04\n",
      "Epoch 27/400\n",
      "20/20 [==============================] - 1s 38ms/step - loss: 0.0018 - val_loss: 4.6796e-04\n",
      "Epoch 28/400\n",
      "20/20 [==============================] - 1s 37ms/step - loss: 0.0018 - val_loss: 4.6776e-04\n",
      "Epoch 29/400\n",
      "20/20 [==============================] - 1s 37ms/step - loss: 0.0017 - val_loss: 4.6810e-04\n",
      "Epoch 30/400\n",
      "20/20 [==============================] - 1s 38ms/step - loss: 0.0017 - val_loss: 4.6457e-04\n",
      "Epoch 31/400\n",
      "20/20 [==============================] - 1s 38ms/step - loss: 0.0016 - val_loss: 4.6052e-04\n",
      "Epoch 32/400\n",
      "20/20 [==============================] - 1s 37ms/step - loss: 0.0016 - val_loss: 4.5757e-04\n",
      "Epoch 33/400\n",
      "20/20 [==============================] - 1s 37ms/step - loss: 0.0015 - val_loss: 4.5793e-04\n",
      "Epoch 34/400\n",
      "20/20 [==============================] - 1s 36ms/step - loss: 0.0015 - val_loss: 4.5116e-04\n",
      "Epoch 35/400\n",
      "20/20 [==============================] - 1s 37ms/step - loss: 0.0015 - val_loss: 4.5190e-04\n",
      "Epoch 36/400\n",
      "20/20 [==============================] - 1s 37ms/step - loss: 0.0014 - val_loss: 4.4958e-04\n",
      "Epoch 37/400\n",
      "20/20 [==============================] - 1s 37ms/step - loss: 0.0014 - val_loss: 4.4766e-04\n",
      "Epoch 38/400\n",
      "20/20 [==============================] - 1s 37ms/step - loss: 0.0014 - val_loss: 4.4513e-04\n",
      "Epoch 39/400\n",
      "20/20 [==============================] - 1s 37ms/step - loss: 0.0013 - val_loss: 4.4159e-04\n",
      "Epoch 40/400\n",
      "20/20 [==============================] - 1s 37ms/step - loss: 0.0013 - val_loss: 4.4012e-04\n",
      "Epoch 41/400\n",
      "20/20 [==============================] - 1s 37ms/step - loss: 0.0013 - val_loss: 4.3792e-04\n",
      "Epoch 42/400\n",
      "20/20 [==============================] - 1s 37ms/step - loss: 0.0013 - val_loss: 4.3846e-04\n",
      "Epoch 43/400\n",
      "20/20 [==============================] - 1s 37ms/step - loss: 0.0012 - val_loss: 4.3648e-04\n",
      "Epoch 44/400\n",
      "20/20 [==============================] - 1s 37ms/step - loss: 0.0012 - val_loss: 4.3383e-04\n",
      "Epoch 45/400\n",
      "20/20 [==============================] - 1s 37ms/step - loss: 0.0012 - val_loss: 4.3130e-04\n",
      "Epoch 46/400\n",
      "20/20 [==============================] - 1s 37ms/step - loss: 0.0012 - val_loss: 4.2927e-04\n",
      "Epoch 47/400\n",
      "20/20 [==============================] - 1s 37ms/step - loss: 0.0011 - val_loss: 4.2882e-04\n",
      "Epoch 48/400\n",
      "20/20 [==============================] - 1s 37ms/step - loss: 0.0011 - val_loss: 4.2521e-04\n",
      "Epoch 49/400\n",
      "20/20 [==============================] - 1s 37ms/step - loss: 0.0011 - val_loss: 4.2281e-04\n",
      "Epoch 50/400\n",
      "20/20 [==============================] - 1s 37ms/step - loss: 0.0011 - val_loss: 4.2242e-04\n",
      "Epoch 51/400\n",
      "20/20 [==============================] - 1s 37ms/step - loss: 0.0011 - val_loss: 4.2313e-04\n",
      "Epoch 52/400\n",
      "20/20 [==============================] - 1s 37ms/step - loss: 0.0010 - val_loss: 4.2054e-04\n",
      "Epoch 53/400\n",
      "20/20 [==============================] - 1s 37ms/step - loss: 0.0010 - val_loss: 4.1882e-04\n",
      "Epoch 54/400\n",
      "20/20 [==============================] - 1s 37ms/step - loss: 0.0010 - val_loss: 4.1698e-04\n",
      "Epoch 55/400\n",
      "20/20 [==============================] - 1s 37ms/step - loss: 9.8811e-04 - val_loss: 4.1555e-04\n",
      "Epoch 56/400\n",
      "20/20 [==============================] - 1s 38ms/step - loss: 9.7171e-04 - val_loss: 4.1479e-04\n",
      "Epoch 57/400\n",
      "20/20 [==============================] - 1s 37ms/step - loss: 9.5553e-04 - val_loss: 4.1363e-04\n",
      "Epoch 58/400\n",
      "20/20 [==============================] - 1s 37ms/step - loss: 9.3927e-04 - val_loss: 4.1215e-04\n",
      "Epoch 59/400\n",
      "20/20 [==============================] - 1s 37ms/step - loss: 9.2747e-04 - val_loss: 4.1185e-04\n",
      "Epoch 60/400\n",
      "20/20 [==============================] - 1s 37ms/step - loss: 9.1365e-04 - val_loss: 4.0939e-04\n",
      "Epoch 61/400\n",
      "20/20 [==============================] - 1s 37ms/step - loss: 9.0279e-04 - val_loss: 4.0950e-04\n",
      "Epoch 62/400\n",
      "20/20 [==============================] - 1s 36ms/step - loss: 8.8755e-04 - val_loss: 4.0839e-04\n",
      "Epoch 63/400\n",
      "20/20 [==============================] - 1s 37ms/step - loss: 8.7583e-04 - val_loss: 4.0736e-04\n",
      "Epoch 64/400\n",
      "20/20 [==============================] - 1s 36ms/step - loss: 8.6463e-04 - val_loss: 4.0537e-04\n",
      "Epoch 65/400\n",
      "20/20 [==============================] - 1s 37ms/step - loss: 8.5274e-04 - val_loss: 4.0452e-04\n",
      "Epoch 66/400\n",
      "20/20 [==============================] - 1s 37ms/step - loss: 8.4339e-04 - val_loss: 4.0397e-04\n",
      "Epoch 67/400\n",
      "20/20 [==============================] - 1s 37ms/step - loss: 8.3057e-04 - val_loss: 4.0403e-04\n",
      "Epoch 68/400\n",
      "20/20 [==============================] - 1s 37ms/step - loss: 8.2053e-04 - val_loss: 4.0172e-04\n",
      "Epoch 69/400\n",
      "20/20 [==============================] - 1s 37ms/step - loss: 8.1303e-04 - val_loss: 4.0217e-04\n",
      "Epoch 70/400\n",
      "20/20 [==============================] - 1s 37ms/step - loss: 8.0442e-04 - val_loss: 4.0138e-04\n",
      "Epoch 71/400\n",
      "20/20 [==============================] - 1s 38ms/step - loss: 7.9264e-04 - val_loss: 4.0001e-04\n",
      "Epoch 72/400\n",
      "20/20 [==============================] - 1s 38ms/step - loss: 7.8396e-04 - val_loss: 3.9933e-04\n",
      "Epoch 73/400\n",
      "20/20 [==============================] - 1s 38ms/step - loss: 7.7541e-04 - val_loss: 3.9897e-04\n",
      "Epoch 74/400\n",
      "20/20 [==============================] - 1s 38ms/step - loss: 7.6766e-04 - val_loss: 3.9828e-04\n",
      "Epoch 75/400\n",
      "20/20 [==============================] - 1s 37ms/step - loss: 7.5786e-04 - val_loss: 3.9734e-04\n",
      "Epoch 76/400\n",
      "20/20 [==============================] - 1s 37ms/step - loss: 7.5104e-04 - val_loss: 3.9766e-04\n",
      "Epoch 77/400\n",
      "20/20 [==============================] - 1s 38ms/step - loss: 7.4409e-04 - val_loss: 3.9654e-04\n",
      "Epoch 78/400\n",
      "20/20 [==============================] - 1s 37ms/step - loss: 7.3785e-04 - val_loss: 3.9454e-04\n",
      "Epoch 79/400\n",
      "20/20 [==============================] - 1s 37ms/step - loss: 7.3034e-04 - val_loss: 3.9516e-04\n",
      "Epoch 80/400\n",
      "20/20 [==============================] - 1s 37ms/step - loss: 7.2101e-04 - val_loss: 3.9446e-04\n",
      "Epoch 81/400\n",
      "20/20 [==============================] - 1s 37ms/step - loss: 7.1453e-04 - val_loss: 3.9385e-04\n",
      "Epoch 82/400\n",
      "20/20 [==============================] - 1s 37ms/step - loss: 7.1141e-04 - val_loss: 3.9426e-04\n",
      "Epoch 83/400\n",
      "20/20 [==============================] - 1s 37ms/step - loss: 7.0354e-04 - val_loss: 3.9276e-04\n",
      "Epoch 84/400\n",
      "20/20 [==============================] - 1s 37ms/step - loss: 6.9829e-04 - val_loss: 3.9431e-04\n",
      "Epoch 85/400\n",
      "20/20 [==============================] - 1s 37ms/step - loss: 6.9167e-04 - val_loss: 3.9222e-04\n",
      "Epoch 86/400\n",
      "20/20 [==============================] - 1s 38ms/step - loss: 6.8568e-04 - val_loss: 3.9256e-04\n",
      "Epoch 87/400\n",
      "20/20 [==============================] - 1s 37ms/step - loss: 6.7960e-04 - val_loss: 3.9249e-04\n",
      "Epoch 88/400\n",
      "20/20 [==============================] - 1s 37ms/step - loss: 6.7377e-04 - val_loss: 3.9270e-04\n",
      "Epoch 89/400\n",
      "20/20 [==============================] - 1s 37ms/step - loss: 6.6928e-04 - val_loss: 3.9054e-04\n",
      "Epoch 90/400\n",
      "20/20 [==============================] - 1s 37ms/step - loss: 6.6404e-04 - val_loss: 3.9066e-04\n",
      "Epoch 91/400\n",
      "20/20 [==============================] - 1s 37ms/step - loss: 6.5744e-04 - val_loss: 3.9057e-04\n",
      "Epoch 92/400\n",
      "20/20 [==============================] - 1s 37ms/step - loss: 6.5242e-04 - val_loss: 3.9009e-04\n",
      "Epoch 93/400\n",
      "20/20 [==============================] - 1s 37ms/step - loss: 6.4723e-04 - val_loss: 3.9021e-04\n",
      "Epoch 94/400\n",
      "20/20 [==============================] - 1s 37ms/step - loss: 6.4306e-04 - val_loss: 3.9008e-04\n",
      "Epoch 95/400\n",
      "20/20 [==============================] - 1s 37ms/step - loss: 6.3685e-04 - val_loss: 3.9017e-04\n",
      "Epoch 96/400\n",
      "20/20 [==============================] - 1s 37ms/step - loss: 6.3348e-04 - val_loss: 3.8970e-04\n",
      "Epoch 97/400\n",
      "20/20 [==============================] - 1s 37ms/step - loss: 6.2770e-04 - val_loss: 3.8875e-04\n",
      "Epoch 98/400\n",
      "20/20 [==============================] - 1s 37ms/step - loss: 6.2396e-04 - val_loss: 3.8901e-04\n",
      "Epoch 99/400\n",
      "20/20 [==============================] - 1s 37ms/step - loss: 6.1852e-04 - val_loss: 3.8894e-04\n",
      "Epoch 100/400\n",
      "20/20 [==============================] - 1s 37ms/step - loss: 6.1527e-04 - val_loss: 3.8887e-04\n",
      "Epoch 101/400\n",
      "20/20 [==============================] - 1s 37ms/step - loss: 6.1013e-04 - val_loss: 3.8819e-04\n",
      "Epoch 102/400\n",
      "20/20 [==============================] - 1s 37ms/step - loss: 6.0752e-04 - val_loss: 3.8981e-04\n",
      "Epoch 103/400\n",
      "20/20 [==============================] - 1s 37ms/step - loss: 6.0229e-04 - val_loss: 3.8783e-04\n",
      "Epoch 104/400\n",
      "20/20 [==============================] - 1s 37ms/step - loss: 5.9767e-04 - val_loss: 3.8679e-04\n",
      "Epoch 105/400\n",
      "20/20 [==============================] - 1s 37ms/step - loss: 5.9365e-04 - val_loss: 3.8764e-04\n",
      "Epoch 106/400\n",
      "20/20 [==============================] - 1s 38ms/step - loss: 5.9153e-04 - val_loss: 3.8704e-04\n",
      "Epoch 107/400\n",
      "20/20 [==============================] - 1s 37ms/step - loss: 5.8666e-04 - val_loss: 3.8717e-04\n",
      "Epoch 108/400\n",
      "20/20 [==============================] - 1s 37ms/step - loss: 5.8262e-04 - val_loss: 3.8832e-04\n",
      "Epoch 109/400\n",
      "20/20 [==============================] - 1s 37ms/step - loss: 5.7952e-04 - val_loss: 3.8717e-04\n",
      "Epoch 110/400\n",
      "20/20 [==============================] - 1s 38ms/step - loss: 5.7646e-04 - val_loss: 3.8576e-04\n",
      "Epoch 111/400\n",
      "20/20 [==============================] - 1s 37ms/step - loss: 5.7266e-04 - val_loss: 3.8588e-04\n",
      "Epoch 112/400\n",
      "20/20 [==============================] - 1s 37ms/step - loss: 5.7082e-04 - val_loss: 3.8650e-04\n",
      "Epoch 113/400\n",
      "20/20 [==============================] - 1s 37ms/step - loss: 5.6626e-04 - val_loss: 3.8641e-04\n",
      "Epoch 114/400\n",
      "20/20 [==============================] - 1s 37ms/step - loss: 5.6184e-04 - val_loss: 3.8643e-04\n",
      "Epoch 115/400\n",
      "20/20 [==============================] - 1s 37ms/step - loss: 5.5855e-04 - val_loss: 3.8589e-04\n",
      "Epoch 116/400\n",
      "20/20 [==============================] - 1s 37ms/step - loss: 5.5606e-04 - val_loss: 3.8588e-04\n",
      "Epoch 117/400\n",
      "20/20 [==============================] - 1s 37ms/step - loss: 5.5326e-04 - val_loss: 3.8575e-04\n",
      "Epoch 118/400\n",
      "20/20 [==============================] - 1s 37ms/step - loss: 5.4919e-04 - val_loss: 3.8617e-04\n",
      "Epoch 119/400\n",
      "20/20 [==============================] - 1s 37ms/step - loss: 5.4793e-04 - val_loss: 3.8638e-04\n",
      "Epoch 120/400\n",
      "20/20 [==============================] - 1s 38ms/step - loss: 5.4455e-04 - val_loss: 3.8518e-04\n",
      "Epoch 121/400\n",
      "20/20 [==============================] - 1s 37ms/step - loss: 5.4007e-04 - val_loss: 3.8523e-04\n",
      "Epoch 122/400\n",
      "20/20 [==============================] - 1s 37ms/step - loss: 5.3863e-04 - val_loss: 3.8518e-04\n",
      "Epoch 123/400\n",
      "20/20 [==============================] - 1s 37ms/step - loss: 5.3418e-04 - val_loss: 3.8478e-04\n",
      "Epoch 124/400\n",
      "20/20 [==============================] - 1s 37ms/step - loss: 5.3191e-04 - val_loss: 3.8490e-04\n",
      "Epoch 125/400\n",
      "20/20 [==============================] - 1s 37ms/step - loss: 5.2861e-04 - val_loss: 3.8416e-04\n",
      "Epoch 126/400\n",
      "20/20 [==============================] - 1s 37ms/step - loss: 5.2563e-04 - val_loss: 3.8373e-04\n",
      "Epoch 127/400\n",
      "20/20 [==============================] - 1s 37ms/step - loss: 5.2232e-04 - val_loss: 3.8394e-04\n",
      "Epoch 128/400\n",
      "20/20 [==============================] - 1s 37ms/step - loss: 5.2063e-04 - val_loss: 3.8434e-04\n",
      "Epoch 129/400\n",
      "20/20 [==============================] - 1s 37ms/step - loss: 5.1781e-04 - val_loss: 3.8486e-04\n",
      "Epoch 130/400\n",
      "20/20 [==============================] - 1s 36ms/step - loss: 5.1509e-04 - val_loss: 3.8413e-04\n",
      "Epoch 131/400\n",
      "20/20 [==============================] - 1s 37ms/step - loss: 5.1149e-04 - val_loss: 3.8424e-04\n",
      "Epoch 132/400\n",
      "20/20 [==============================] - 1s 37ms/step - loss: 5.1003e-04 - val_loss: 3.8365e-04\n",
      "Epoch 133/400\n",
      "20/20 [==============================] - 1s 37ms/step - loss: 5.0705e-04 - val_loss: 3.8390e-04\n",
      "Epoch 134/400\n",
      "20/20 [==============================] - 1s 37ms/step - loss: 5.0457e-04 - val_loss: 3.8284e-04\n",
      "Epoch 135/400\n",
      "20/20 [==============================] - 1s 37ms/step - loss: 5.0279e-04 - val_loss: 3.8301e-04\n",
      "Epoch 136/400\n",
      "20/20 [==============================] - 1s 36ms/step - loss: 5.0040e-04 - val_loss: 3.8290e-04\n",
      "Epoch 137/400\n",
      "20/20 [==============================] - 1s 37ms/step - loss: 4.9667e-04 - val_loss: 3.8320e-04\n",
      "Epoch 138/400\n",
      "20/20 [==============================] - 1s 37ms/step - loss: 4.9566e-04 - val_loss: 3.8259e-04\n",
      "Epoch 139/400\n",
      "20/20 [==============================] - 1s 36ms/step - loss: 4.9386e-04 - val_loss: 3.8391e-04\n",
      "Epoch 140/400\n",
      "20/20 [==============================] - 1s 37ms/step - loss: 4.9136e-04 - val_loss: 3.8274e-04\n",
      "Epoch 141/400\n",
      "20/20 [==============================] - 1s 38ms/step - loss: 4.8906e-04 - val_loss: 3.8187e-04\n",
      "Epoch 142/400\n",
      "20/20 [==============================] - 1s 37ms/step - loss: 4.8677e-04 - val_loss: 3.8123e-04\n",
      "Epoch 143/400\n",
      "20/20 [==============================] - 1s 37ms/step - loss: 4.8306e-04 - val_loss: 3.8341e-04\n",
      "Epoch 144/400\n",
      "20/20 [==============================] - 1s 37ms/step - loss: 4.8113e-04 - val_loss: 3.8306e-04\n",
      "Epoch 145/400\n",
      "20/20 [==============================] - 1s 37ms/step - loss: 4.7963e-04 - val_loss: 3.8174e-04\n",
      "Epoch 146/400\n",
      "20/20 [==============================] - 1s 37ms/step - loss: 4.7647e-04 - val_loss: 3.8270e-04\n",
      "Epoch 147/400\n",
      "20/20 [==============================] - 1s 36ms/step - loss: 4.7529e-04 - val_loss: 3.8196e-04\n",
      "Epoch 148/400\n",
      "20/20 [==============================] - 1s 37ms/step - loss: 4.7397e-04 - val_loss: 3.8261e-04\n",
      "Epoch 149/400\n",
      "20/20 [==============================] - 1s 37ms/step - loss: 4.7116e-04 - val_loss: 3.8238e-04\n",
      "Epoch 150/400\n",
      "20/20 [==============================] - 1s 36ms/step - loss: 4.6933e-04 - val_loss: 3.8169e-04\n",
      "Epoch 151/400\n",
      "20/20 [==============================] - 1s 37ms/step - loss: 4.6642e-04 - val_loss: 3.8168e-04\n",
      "Epoch 152/400\n",
      "20/20 [==============================] - 1s 36ms/step - loss: 4.6502e-04 - val_loss: 3.8178e-04\n",
      "Epoch 153/400\n",
      "20/20 [==============================] - 1s 37ms/step - loss: 4.6417e-04 - val_loss: 3.8175e-04\n",
      "Epoch 154/400\n",
      "20/20 [==============================] - 1s 37ms/step - loss: 4.6096e-04 - val_loss: 3.8102e-04\n",
      "Epoch 155/400\n",
      "20/20 [==============================] - 1s 38ms/step - loss: 4.5953e-04 - val_loss: 3.8201e-04\n",
      "Epoch 156/400\n",
      "20/20 [==============================] - 1s 38ms/step - loss: 4.5734e-04 - val_loss: 3.8079e-04\n",
      "Epoch 157/400\n",
      "20/20 [==============================] - 1s 37ms/step - loss: 4.5524e-04 - val_loss: 3.8222e-04\n",
      "Epoch 158/400\n",
      "20/20 [==============================] - 1s 38ms/step - loss: 4.5463e-04 - val_loss: 3.8086e-04\n",
      "Epoch 159/400\n",
      "20/20 [==============================] - 1s 38ms/step - loss: 4.5183e-04 - val_loss: 3.8042e-04\n",
      "Epoch 160/400\n",
      "20/20 [==============================] - 1s 37ms/step - loss: 4.4956e-04 - val_loss: 3.8004e-04\n",
      "Epoch 161/400\n",
      "20/20 [==============================] - 1s 37ms/step - loss: 4.4783e-04 - val_loss: 3.7942e-04\n",
      "Epoch 162/400\n",
      "20/20 [==============================] - 1s 37ms/step - loss: 4.4678e-04 - val_loss: 3.8042e-04\n",
      "Epoch 163/400\n",
      "20/20 [==============================] - 1s 37ms/step - loss: 4.4422e-04 - val_loss: 3.8045e-04\n",
      "Epoch 164/400\n",
      "20/20 [==============================] - 1s 37ms/step - loss: 4.4333e-04 - val_loss: 3.8052e-04\n",
      "Epoch 165/400\n",
      "20/20 [==============================] - 1s 37ms/step - loss: 4.4070e-04 - val_loss: 3.7989e-04\n",
      "Epoch 166/400\n",
      "20/20 [==============================] - 1s 37ms/step - loss: 4.3923e-04 - val_loss: 3.7986e-04\n",
      "Epoch 167/400\n",
      "20/20 [==============================] - 1s 37ms/step - loss: 4.3770e-04 - val_loss: 3.7978e-04\n",
      "Epoch 168/400\n",
      "20/20 [==============================] - 1s 38ms/step - loss: 4.3602e-04 - val_loss: 3.7980e-04\n",
      "Epoch 169/400\n",
      "20/20 [==============================] - 1s 37ms/step - loss: 4.3494e-04 - val_loss: 3.7973e-04\n",
      "Epoch 170/400\n",
      "20/20 [==============================] - 1s 37ms/step - loss: 4.3342e-04 - val_loss: 3.8011e-04\n",
      "Epoch 171/400\n",
      "20/20 [==============================] - 1s 37ms/step - loss: 4.3086e-04 - val_loss: 3.7900e-04\n",
      "Epoch 172/400\n",
      "20/20 [==============================] - 1s 37ms/step - loss: 4.2879e-04 - val_loss: 3.7862e-04\n",
      "Epoch 173/400\n",
      "20/20 [==============================] - 1s 37ms/step - loss: 4.2864e-04 - val_loss: 3.7871e-04\n",
      "Epoch 174/400\n",
      "20/20 [==============================] - 1s 36ms/step - loss: 4.2648e-04 - val_loss: 3.7941e-04\n",
      "Epoch 175/400\n",
      "20/20 [==============================] - 1s 36ms/step - loss: 4.2463e-04 - val_loss: 3.7926e-04\n",
      "Epoch 176/400\n",
      "20/20 [==============================] - 1s 36ms/step - loss: 4.2368e-04 - val_loss: 3.7849e-04\n",
      "Epoch 177/400\n",
      "20/20 [==============================] - 1s 36ms/step - loss: 4.2196e-04 - val_loss: 3.7867e-04\n",
      "Epoch 178/400\n",
      "20/20 [==============================] - 1s 37ms/step - loss: 4.2039e-04 - val_loss: 3.7852e-04\n",
      "Epoch 179/400\n",
      "20/20 [==============================] - 1s 37ms/step - loss: 4.1896e-04 - val_loss: 3.7835e-04\n",
      "Epoch 180/400\n",
      "20/20 [==============================] - 1s 37ms/step - loss: 4.1747e-04 - val_loss: 3.7785e-04\n",
      "Epoch 181/400\n",
      "20/20 [==============================] - 1s 37ms/step - loss: 4.1552e-04 - val_loss: 3.7868e-04\n",
      "Epoch 182/400\n",
      "20/20 [==============================] - 1s 36ms/step - loss: 4.1399e-04 - val_loss: 3.7841e-04\n",
      "Epoch 183/400\n",
      "20/20 [==============================] - 1s 37ms/step - loss: 4.1289e-04 - val_loss: 3.7771e-04\n",
      "Epoch 184/400\n",
      "20/20 [==============================] - 1s 37ms/step - loss: 4.1154e-04 - val_loss: 3.7844e-04\n",
      "Epoch 185/400\n",
      "20/20 [==============================] - 1s 37ms/step - loss: 4.1051e-04 - val_loss: 3.7721e-04\n",
      "Epoch 186/400\n",
      "20/20 [==============================] - 1s 37ms/step - loss: 4.0853e-04 - val_loss: 3.7713e-04\n",
      "Epoch 187/400\n",
      "20/20 [==============================] - 1s 37ms/step - loss: 4.0722e-04 - val_loss: 3.7734e-04\n",
      "Epoch 188/400\n",
      "20/20 [==============================] - 1s 37ms/step - loss: 4.0619e-04 - val_loss: 3.7777e-04\n",
      "Epoch 189/400\n",
      "20/20 [==============================] - 1s 37ms/step - loss: 4.0503e-04 - val_loss: 3.7691e-04\n",
      "Epoch 190/400\n",
      "20/20 [==============================] - 1s 37ms/step - loss: 4.0344e-04 - val_loss: 3.7717e-04\n",
      "Epoch 191/400\n",
      "20/20 [==============================] - 1s 37ms/step - loss: 4.0222e-04 - val_loss: 3.7686e-04\n",
      "Epoch 192/400\n",
      "20/20 [==============================] - 1s 37ms/step - loss: 4.0029e-04 - val_loss: 3.7635e-04\n",
      "Epoch 193/400\n",
      "20/20 [==============================] - 1s 37ms/step - loss: 3.9916e-04 - val_loss: 3.7652e-04\n",
      "Epoch 194/400\n",
      "20/20 [==============================] - 1s 37ms/step - loss: 3.9752e-04 - val_loss: 3.7673e-04\n",
      "Epoch 195/400\n",
      "20/20 [==============================] - 1s 37ms/step - loss: 3.9670e-04 - val_loss: 3.7562e-04\n",
      "Epoch 196/400\n",
      "20/20 [==============================] - 1s 37ms/step - loss: 3.9537e-04 - val_loss: 3.7619e-04\n",
      "Epoch 197/400\n",
      "20/20 [==============================] - 1s 37ms/step - loss: 3.9440e-04 - val_loss: 3.7603e-04\n",
      "Epoch 198/400\n",
      "20/20 [==============================] - 1s 37ms/step - loss: 3.9321e-04 - val_loss: 3.7589e-04\n",
      "Epoch 199/400\n",
      "20/20 [==============================] - 1s 37ms/step - loss: 3.9057e-04 - val_loss: 3.7582e-04\n",
      "Epoch 200/400\n",
      "20/20 [==============================] - 1s 37ms/step - loss: 3.9018e-04 - val_loss: 3.7665e-04\n",
      "Epoch 201/400\n",
      "20/20 [==============================] - 1s 37ms/step - loss: 3.8906e-04 - val_loss: 3.7571e-04\n",
      "Epoch 202/400\n",
      "20/20 [==============================] - 1s 37ms/step - loss: 3.8787e-04 - val_loss: 3.7600e-04\n",
      "Epoch 203/400\n",
      "20/20 [==============================] - 1s 37ms/step - loss: 3.8666e-04 - val_loss: 3.7542e-04\n",
      "Epoch 204/400\n",
      "20/20 [==============================] - 1s 37ms/step - loss: 3.8545e-04 - val_loss: 3.7559e-04\n",
      "Epoch 205/400\n",
      "20/20 [==============================] - 1s 37ms/step - loss: 3.8467e-04 - val_loss: 3.7554e-04\n",
      "Epoch 206/400\n",
      "20/20 [==============================] - 1s 37ms/step - loss: 3.8280e-04 - val_loss: 3.7534e-04\n",
      "Epoch 207/400\n",
      "20/20 [==============================] - 1s 37ms/step - loss: 3.8192e-04 - val_loss: 3.7480e-04\n",
      "Epoch 208/400\n",
      "20/20 [==============================] - 1s 37ms/step - loss: 3.8099e-04 - val_loss: 3.7485e-04\n",
      "Epoch 209/400\n",
      "20/20 [==============================] - 1s 36ms/step - loss: 3.7924e-04 - val_loss: 3.7496e-04\n",
      "Epoch 210/400\n",
      "20/20 [==============================] - 1s 36ms/step - loss: 3.7845e-04 - val_loss: 3.7480e-04\n",
      "Epoch 211/400\n",
      "20/20 [==============================] - 1s 37ms/step - loss: 3.7751e-04 - val_loss: 3.7570e-04\n",
      "Epoch 212/400\n",
      "20/20 [==============================] - 1s 37ms/step - loss: 3.7604e-04 - val_loss: 3.7462e-04\n",
      "Epoch 213/400\n",
      "20/20 [==============================] - 1s 37ms/step - loss: 3.7483e-04 - val_loss: 3.7518e-04\n",
      "Epoch 214/400\n",
      "20/20 [==============================] - 1s 37ms/step - loss: 3.7413e-04 - val_loss: 3.7379e-04\n",
      "Epoch 215/400\n",
      "20/20 [==============================] - 1s 37ms/step - loss: 3.7249e-04 - val_loss: 3.7446e-04\n",
      "Epoch 216/400\n",
      "20/20 [==============================] - 1s 37ms/step - loss: 3.7133e-04 - val_loss: 3.7464e-04\n",
      "Epoch 217/400\n",
      "20/20 [==============================] - 1s 37ms/step - loss: 3.7063e-04 - val_loss: 3.7457e-04\n",
      "Epoch 218/400\n",
      "20/20 [==============================] - 1s 37ms/step - loss: 3.6942e-04 - val_loss: 3.7428e-04\n",
      "Epoch 219/400\n",
      "20/20 [==============================] - 1s 37ms/step - loss: 3.6863e-04 - val_loss: 3.7374e-04\n",
      "Epoch 220/400\n",
      "20/20 [==============================] - 1s 37ms/step - loss: 3.6751e-04 - val_loss: 3.7415e-04\n",
      "Epoch 221/400\n",
      "20/20 [==============================] - 1s 37ms/step - loss: 3.6639e-04 - val_loss: 3.7384e-04\n",
      "Epoch 222/400\n",
      "20/20 [==============================] - 1s 37ms/step - loss: 3.6534e-04 - val_loss: 3.7389e-04\n",
      "Epoch 223/400\n",
      "20/20 [==============================] - 1s 37ms/step - loss: 3.6396e-04 - val_loss: 3.7387e-04\n",
      "Epoch 224/400\n",
      "20/20 [==============================] - 1s 37ms/step - loss: 3.6278e-04 - val_loss: 3.7351e-04\n",
      "Epoch 225/400\n",
      "20/20 [==============================] - 1s 37ms/step - loss: 3.6180e-04 - val_loss: 3.7368e-04\n",
      "Epoch 226/400\n",
      "20/20 [==============================] - 1s 37ms/step - loss: 3.6081e-04 - val_loss: 3.7393e-04\n",
      "Epoch 227/400\n",
      "20/20 [==============================] - 1s 37ms/step - loss: 3.6003e-04 - val_loss: 3.7343e-04\n",
      "Epoch 228/400\n",
      "20/20 [==============================] - 1s 36ms/step - loss: 3.5926e-04 - val_loss: 3.7326e-04\n",
      "Epoch 229/400\n",
      "20/20 [==============================] - 1s 37ms/step - loss: 3.5816e-04 - val_loss: 3.7418e-04\n",
      "Epoch 230/400\n",
      "20/20 [==============================] - 1s 37ms/step - loss: 3.5720e-04 - val_loss: 3.7386e-04\n",
      "Epoch 231/400\n",
      "20/20 [==============================] - 1s 37ms/step - loss: 3.5615e-04 - val_loss: 3.7386e-04\n",
      "Epoch 232/400\n",
      "20/20 [==============================] - 1s 37ms/step - loss: 3.5462e-04 - val_loss: 3.7313e-04\n",
      "Epoch 233/400\n",
      "20/20 [==============================] - 1s 37ms/step - loss: 3.5416e-04 - val_loss: 3.7226e-04\n",
      "Epoch 234/400\n",
      "20/20 [==============================] - 1s 37ms/step - loss: 3.5301e-04 - val_loss: 3.7319e-04\n",
      "Epoch 235/400\n",
      "20/20 [==============================] - 1s 37ms/step - loss: 3.5234e-04 - val_loss: 3.7269e-04\n",
      "Epoch 236/400\n",
      "20/20 [==============================] - 1s 37ms/step - loss: 3.5052e-04 - val_loss: 3.7208e-04\n",
      "Epoch 237/400\n",
      "20/20 [==============================] - 1s 37ms/step - loss: 3.4976e-04 - val_loss: 3.7242e-04\n",
      "Epoch 238/400\n",
      "20/20 [==============================] - 1s 37ms/step - loss: 3.4902e-04 - val_loss: 3.7250e-04\n",
      "Epoch 239/400\n",
      "20/20 [==============================] - 1s 37ms/step - loss: 3.4798e-04 - val_loss: 3.7258e-04\n",
      "Epoch 240/400\n",
      "20/20 [==============================] - 1s 37ms/step - loss: 3.4724e-04 - val_loss: 3.7345e-04\n",
      "Epoch 241/400\n",
      "20/20 [==============================] - 1s 36ms/step - loss: 3.4597e-04 - val_loss: 3.7251e-04\n",
      "Epoch 242/400\n",
      "20/20 [==============================] - 1s 37ms/step - loss: 3.4537e-04 - val_loss: 3.7187e-04\n",
      "Epoch 243/400\n",
      "20/20 [==============================] - 1s 37ms/step - loss: 3.4368e-04 - val_loss: 3.7215e-04\n",
      "Epoch 244/400\n",
      "20/20 [==============================] - 1s 37ms/step - loss: 3.4266e-04 - val_loss: 3.7161e-04\n",
      "Epoch 245/400\n",
      "20/20 [==============================] - 1s 37ms/step - loss: 3.4161e-04 - val_loss: 3.7131e-04\n",
      "Epoch 246/400\n",
      "20/20 [==============================] - 1s 37ms/step - loss: 3.4093e-04 - val_loss: 3.7173e-04\n",
      "Epoch 247/400\n",
      "20/20 [==============================] - 1s 37ms/step - loss: 3.4026e-04 - val_loss: 3.7174e-04\n",
      "Epoch 248/400\n",
      "20/20 [==============================] - 1s 37ms/step - loss: 3.3912e-04 - val_loss: 3.7133e-04\n",
      "Epoch 249/400\n",
      "20/20 [==============================] - 1s 37ms/step - loss: 3.3814e-04 - val_loss: 3.7141e-04\n",
      "Epoch 250/400\n",
      "20/20 [==============================] - 1s 37ms/step - loss: 3.3736e-04 - val_loss: 3.7128e-04\n",
      "Epoch 251/400\n",
      "20/20 [==============================] - 1s 37ms/step - loss: 3.3639e-04 - val_loss: 3.7075e-04\n",
      "Epoch 252/400\n",
      "20/20 [==============================] - 1s 37ms/step - loss: 3.3567e-04 - val_loss: 3.7059e-04\n",
      "Epoch 253/400\n",
      "20/20 [==============================] - 1s 37ms/step - loss: 3.3422e-04 - val_loss: 3.7124e-04\n",
      "Epoch 254/400\n",
      "20/20 [==============================] - 1s 37ms/step - loss: 3.3355e-04 - val_loss: 3.7061e-04\n",
      "Epoch 255/400\n",
      "20/20 [==============================] - 1s 37ms/step - loss: 3.3230e-04 - val_loss: 3.7118e-04\n",
      "Epoch 256/400\n",
      "20/20 [==============================] - 1s 37ms/step - loss: 3.3209e-04 - val_loss: 3.7080e-04\n",
      "Epoch 257/400\n",
      "20/20 [==============================] - 1s 37ms/step - loss: 3.3097e-04 - val_loss: 3.7100e-04\n",
      "Epoch 258/400\n",
      "20/20 [==============================] - 1s 37ms/step - loss: 3.2957e-04 - val_loss: 3.7038e-04\n",
      "Epoch 259/400\n",
      "20/20 [==============================] - 1s 37ms/step - loss: 3.2920e-04 - val_loss: 3.7102e-04\n",
      "Epoch 260/400\n",
      "20/20 [==============================] - 1s 37ms/step - loss: 3.2794e-04 - val_loss: 3.7071e-04\n",
      "Epoch 261/400\n",
      "20/20 [==============================] - 1s 37ms/step - loss: 3.2706e-04 - val_loss: 3.7076e-04\n",
      "Epoch 262/400\n",
      "20/20 [==============================] - 1s 37ms/step - loss: 3.2597e-04 - val_loss: 3.7055e-04\n",
      "Epoch 263/400\n",
      "20/20 [==============================] - 1s 37ms/step - loss: 3.2524e-04 - val_loss: 3.7002e-04\n",
      "Epoch 264/400\n",
      "20/20 [==============================] - 1s 37ms/step - loss: 3.2421e-04 - val_loss: 3.7027e-04\n",
      "Epoch 265/400\n",
      "20/20 [==============================] - 1s 37ms/step - loss: 3.2341e-04 - val_loss: 3.7039e-04\n",
      "Epoch 266/400\n",
      "20/20 [==============================] - 1s 37ms/step - loss: 3.2254e-04 - val_loss: 3.7043e-04\n",
      "Epoch 267/400\n",
      "20/20 [==============================] - 1s 37ms/step - loss: 3.2140e-04 - val_loss: 3.7021e-04\n",
      "Epoch 268/400\n",
      "20/20 [==============================] - 1s 37ms/step - loss: 3.2068e-04 - val_loss: 3.6957e-04\n",
      "Epoch 269/400\n",
      "20/20 [==============================] - 1s 37ms/step - loss: 3.1945e-04 - val_loss: 3.6994e-04\n",
      "Epoch 270/400\n",
      "20/20 [==============================] - 1s 38ms/step - loss: 3.1934e-04 - val_loss: 3.6959e-04\n",
      "Epoch 271/400\n",
      "20/20 [==============================] - 1s 37ms/step - loss: 3.1801e-04 - val_loss: 3.6933e-04\n",
      "Epoch 272/400\n",
      "20/20 [==============================] - 1s 37ms/step - loss: 3.1718e-04 - val_loss: 3.7014e-04\n",
      "Epoch 273/400\n",
      "20/20 [==============================] - 1s 37ms/step - loss: 3.1638e-04 - val_loss: 3.6992e-04\n",
      "Epoch 274/400\n",
      "20/20 [==============================] - 1s 37ms/step - loss: 3.1539e-04 - val_loss: 3.6910e-04\n",
      "Epoch 275/400\n",
      "20/20 [==============================] - 1s 37ms/step - loss: 3.1492e-04 - val_loss: 3.6981e-04\n",
      "Epoch 276/400\n",
      "20/20 [==============================] - 1s 37ms/step - loss: 3.1377e-04 - val_loss: 3.6926e-04\n",
      "Epoch 277/400\n",
      "20/20 [==============================] - 1s 37ms/step - loss: 3.1315e-04 - val_loss: 3.7032e-04\n",
      "Epoch 278/400\n",
      "20/20 [==============================] - 1s 37ms/step - loss: 3.1229e-04 - val_loss: 3.6983e-04\n",
      "Epoch 279/400\n",
      "20/20 [==============================] - 1s 37ms/step - loss: 3.1168e-04 - val_loss: 3.7005e-04\n",
      "Epoch 280/400\n",
      "20/20 [==============================] - 1s 37ms/step - loss: 3.1070e-04 - val_loss: 3.6978e-04\n",
      "Epoch 281/400\n",
      "20/20 [==============================] - 1s 37ms/step - loss: 3.0971e-04 - val_loss: 3.6891e-04\n",
      "Epoch 282/400\n",
      "20/20 [==============================] - 1s 37ms/step - loss: 3.0922e-04 - val_loss: 3.6995e-04\n",
      "Epoch 283/400\n",
      "20/20 [==============================] - 1s 37ms/step - loss: 3.0833e-04 - val_loss: 3.6870e-04\n",
      "Epoch 284/400\n",
      "20/20 [==============================] - 1s 37ms/step - loss: 3.0745e-04 - val_loss: 3.6978e-04\n",
      "Epoch 285/400\n",
      "20/20 [==============================] - 1s 37ms/step - loss: 3.0707e-04 - val_loss: 3.6882e-04\n",
      "Epoch 286/400\n",
      "20/20 [==============================] - 1s 36ms/step - loss: 3.0576e-04 - val_loss: 3.6916e-04\n",
      "Epoch 287/400\n",
      "20/20 [==============================] - 1s 36ms/step - loss: 3.0485e-04 - val_loss: 3.6929e-04\n",
      "Epoch 288/400\n",
      "20/20 [==============================] - 1s 36ms/step - loss: 3.0338e-04 - val_loss: 3.6976e-04\n",
      "Epoch 289/400\n",
      "20/20 [==============================] - 1s 37ms/step - loss: 3.0275e-04 - val_loss: 3.6915e-04\n",
      "Epoch 290/400\n",
      "20/20 [==============================] - 1s 37ms/step - loss: 3.0104e-04 - val_loss: 3.6862e-04\n",
      "Epoch 291/400\n",
      "20/20 [==============================] - 1s 37ms/step - loss: 3.0086e-04 - val_loss: 3.6901e-04\n",
      "Epoch 292/400\n",
      "20/20 [==============================] - 1s 37ms/step - loss: 3.0000e-04 - val_loss: 3.6877e-04\n",
      "Epoch 293/400\n",
      "20/20 [==============================] - 1s 37ms/step - loss: 3.0034e-04 - val_loss: 3.6911e-04\n",
      "Epoch 294/400\n",
      "20/20 [==============================] - 1s 37ms/step - loss: 2.9836e-04 - val_loss: 3.6904e-04\n",
      "Epoch 295/400\n",
      "20/20 [==============================] - 1s 37ms/step - loss: 2.9665e-04 - val_loss: 3.6845e-04\n",
      "Epoch 296/400\n",
      "20/20 [==============================] - 1s 37ms/step - loss: 2.9658e-04 - val_loss: 3.6815e-04\n",
      "Epoch 297/400\n",
      "20/20 [==============================] - 1s 37ms/step - loss: 2.9621e-04 - val_loss: 3.6878e-04\n",
      "Epoch 298/400\n",
      "20/20 [==============================] - 1s 37ms/step - loss: 2.9470e-04 - val_loss: 3.6889e-04\n",
      "Epoch 299/400\n",
      "20/20 [==============================] - 1s 37ms/step - loss: 2.9464e-04 - val_loss: 3.6933e-04\n",
      "Epoch 300/400\n",
      "20/20 [==============================] - 1s 37ms/step - loss: 2.9357e-04 - val_loss: 3.6846e-04\n",
      "Epoch 301/400\n",
      "20/20 [==============================] - 1s 37ms/step - loss: 2.9185e-04 - val_loss: 3.6819e-04\n",
      "Epoch 302/400\n",
      "20/20 [==============================] - 1s 37ms/step - loss: 2.9093e-04 - val_loss: 3.6889e-04\n",
      "Epoch 303/400\n",
      "20/20 [==============================] - 1s 37ms/step - loss: 2.9043e-04 - val_loss: 3.6756e-04\n",
      "Epoch 304/400\n",
      "20/20 [==============================] - 1s 37ms/step - loss: 2.8966e-04 - val_loss: 3.6830e-04\n",
      "Epoch 305/400\n",
      "20/20 [==============================] - 1s 37ms/step - loss: 2.8853e-04 - val_loss: 3.6835e-04\n",
      "Epoch 306/400\n",
      "20/20 [==============================] - 1s 38ms/step - loss: 2.8774e-04 - val_loss: 3.6778e-04\n",
      "Epoch 307/400\n",
      "20/20 [==============================] - 1s 38ms/step - loss: 2.8636e-04 - val_loss: 3.6832e-04\n",
      "Epoch 308/400\n",
      "20/20 [==============================] - 1s 37ms/step - loss: 2.8503e-04 - val_loss: 3.6805e-04\n",
      "Epoch 309/400\n",
      "20/20 [==============================] - 1s 36ms/step - loss: 2.8406e-04 - val_loss: 3.6784e-04\n",
      "Epoch 310/400\n",
      "20/20 [==============================] - 1s 36ms/step - loss: 2.8324e-04 - val_loss: 3.6807e-04\n",
      "Epoch 311/400\n",
      "20/20 [==============================] - 1s 37ms/step - loss: 2.8262e-04 - val_loss: 3.6759e-04\n",
      "Epoch 312/400\n",
      "20/20 [==============================] - 1s 37ms/step - loss: 2.8088e-04 - val_loss: 3.6738e-04\n",
      "Epoch 313/400\n",
      "20/20 [==============================] - 1s 37ms/step - loss: 2.7988e-04 - val_loss: 3.6788e-04\n",
      "Epoch 314/400\n",
      "20/20 [==============================] - 1s 37ms/step - loss: 2.7902e-04 - val_loss: 3.6794e-04\n",
      "Epoch 315/400\n",
      "20/20 [==============================] - 1s 37ms/step - loss: 2.7849e-04 - val_loss: 3.6891e-04\n",
      "Epoch 316/400\n",
      "20/20 [==============================] - 1s 37ms/step - loss: 2.7761e-04 - val_loss: 3.6783e-04\n",
      "Epoch 317/400\n",
      "20/20 [==============================] - 1s 36ms/step - loss: 2.7658e-04 - val_loss: 3.6849e-04\n",
      "Epoch 318/400\n",
      "20/20 [==============================] - 1s 37ms/step - loss: 2.7545e-04 - val_loss: 3.6772e-04\n",
      "Epoch 319/400\n",
      "20/20 [==============================] - 1s 37ms/step - loss: 2.7425e-04 - val_loss: 3.6840e-04\n",
      "Epoch 320/400\n",
      "20/20 [==============================] - 1s 36ms/step - loss: 2.7352e-04 - val_loss: 3.6740e-04\n",
      "Epoch 321/400\n",
      "20/20 [==============================] - 1s 37ms/step - loss: 2.7177e-04 - val_loss: 3.6784e-04\n",
      "Epoch 322/400\n",
      "20/20 [==============================] - 1s 37ms/step - loss: 2.7106e-04 - val_loss: 3.6855e-04\n",
      "Epoch 323/400\n",
      "20/20 [==============================] - 1s 37ms/step - loss: 2.6977e-04 - val_loss: 3.6813e-04\n",
      "Epoch 324/400\n",
      "20/20 [==============================] - 1s 37ms/step - loss: 2.6867e-04 - val_loss: 3.6792e-04\n",
      "Epoch 325/400\n",
      "20/20 [==============================] - 1s 37ms/step - loss: 2.6754e-04 - val_loss: 3.6809e-04\n",
      "Epoch 326/400\n",
      "20/20 [==============================] - 1s 36ms/step - loss: 2.6746e-04 - val_loss: 3.6785e-04\n",
      "Epoch 327/400\n",
      "20/20 [==============================] - 1s 37ms/step - loss: 2.6610e-04 - val_loss: 3.6903e-04\n",
      "Epoch 328/400\n",
      "20/20 [==============================] - 1s 37ms/step - loss: 2.6530e-04 - val_loss: 3.6789e-04\n",
      "Epoch 329/400\n",
      "20/20 [==============================] - 1s 37ms/step - loss: 2.6447e-04 - val_loss: 3.6869e-04\n",
      "Epoch 330/400\n",
      "20/20 [==============================] - 1s 37ms/step - loss: 2.6337e-04 - val_loss: 3.6848e-04\n",
      "Epoch 331/400\n",
      "20/20 [==============================] - 1s 37ms/step - loss: 2.6219e-04 - val_loss: 3.6814e-04\n",
      "Epoch 332/400\n",
      "20/20 [==============================] - 1s 37ms/step - loss: 2.6174e-04 - val_loss: 3.6815e-04\n",
      "Epoch 333/400\n",
      "20/20 [==============================] - 1s 37ms/step - loss: 2.6076e-04 - val_loss: 3.6876e-04\n",
      "Epoch 334/400\n",
      "20/20 [==============================] - 1s 37ms/step - loss: 2.6092e-04 - val_loss: 3.6888e-04\n",
      "Epoch 335/400\n",
      "20/20 [==============================] - 1s 38ms/step - loss: 2.5894e-04 - val_loss: 3.6747e-04\n",
      "Epoch 336/400\n",
      "20/20 [==============================] - 1s 38ms/step - loss: 2.5812e-04 - val_loss: 3.6816e-04\n",
      "Epoch 337/400\n",
      "20/20 [==============================] - 1s 38ms/step - loss: 2.5794e-04 - val_loss: 3.6942e-04\n",
      "Epoch 338/400\n",
      "20/20 [==============================] - 1s 37ms/step - loss: 2.5770e-04 - val_loss: 3.6871e-04\n",
      "Epoch 339/400\n",
      "20/20 [==============================] - 1s 37ms/step - loss: 2.5681e-04 - val_loss: 3.6844e-04\n",
      "Epoch 340/400\n",
      "20/20 [==============================] - 1s 37ms/step - loss: 2.7499e-04 - val_loss: 0.0017\n",
      "Epoch 341/400\n",
      "20/20 [==============================] - 1s 37ms/step - loss: 8.1331 - val_loss: 9.8580\n",
      "Epoch 342/400\n",
      "20/20 [==============================] - 1s 37ms/step - loss: 9.8581 - val_loss: 9.8597\n",
      "Epoch 343/400\n",
      "20/20 [==============================] - 1s 37ms/step - loss: 9.8587 - val_loss: 9.8614\n",
      "Epoch 344/400\n",
      "20/20 [==============================] - 1s 37ms/step - loss: 9.8615 - val_loss: 9.8586\n",
      "Epoch 345/400\n",
      "20/20 [==============================] - 1s 37ms/step - loss: 9.8600 - val_loss: 9.8619\n",
      "Epoch 346/400\n",
      "20/20 [==============================] - 1s 37ms/step - loss: 9.8614 - val_loss: 9.8615\n",
      "Epoch 347/400\n",
      "20/20 [==============================] - 1s 37ms/step - loss: 9.8604 - val_loss: 9.8586\n",
      "Epoch 348/400\n",
      "20/20 [==============================] - 1s 37ms/step - loss: 9.8562 - val_loss: 9.8567\n",
      "Epoch 349/400\n",
      "20/20 [==============================] - 1s 37ms/step - loss: 9.8580 - val_loss: 9.8583\n",
      "Epoch 350/400\n",
      "20/20 [==============================] - 1s 37ms/step - loss: 9.8591 - val_loss: 9.8593\n",
      "Epoch 351/400\n",
      "20/20 [==============================] - 1s 36ms/step - loss: 9.8593 - val_loss: 9.8639\n",
      "Epoch 352/400\n",
      "20/20 [==============================] - 1s 37ms/step - loss: 9.8654 - val_loss: 9.8665\n",
      "Epoch 353/400\n",
      "20/20 [==============================] - 1s 37ms/step - loss: 9.8656 - val_loss: 9.8648\n",
      "Epoch 354/400\n",
      "20/20 [==============================] - 1s 37ms/step - loss: 9.8510 - val_loss: 9.8469\n",
      "Epoch 355/400\n",
      "20/20 [==============================] - 1s 37ms/step - loss: 9.8435 - val_loss: 9.8413\n",
      "Epoch 356/400\n",
      "20/20 [==============================] - 1s 37ms/step - loss: 9.8473 - val_loss: 9.8433\n",
      "Epoch 357/400\n",
      "20/20 [==============================] - 1s 37ms/step - loss: 9.7889 - val_loss: 9.3507\n",
      "Epoch 358/400\n",
      "20/20 [==============================] - 1s 37ms/step - loss: 8.8667 - val_loss: 8.4106\n",
      "Epoch 359/400\n",
      "20/20 [==============================] - 1s 38ms/step - loss: 8.7884 - val_loss: 8.7558\n",
      "Epoch 360/400\n",
      "20/20 [==============================] - 1s 38ms/step - loss: 8.7512 - val_loss: 8.5406\n",
      "Epoch 361/400\n",
      "20/20 [==============================] - 1s 38ms/step - loss: 8.4578 - val_loss: 8.1830\n",
      "Epoch 362/400\n",
      "20/20 [==============================] - 1s 39ms/step - loss: 8.2122 - val_loss: 8.0219\n",
      "Epoch 363/400\n",
      "20/20 [==============================] - 1s 38ms/step - loss: 8.1385 - val_loss: 7.9708\n",
      "Epoch 364/400\n",
      "20/20 [==============================] - 1s 38ms/step - loss: 8.1144 - val_loss: 7.9475\n",
      "Epoch 365/400\n",
      "20/20 [==============================] - 1s 38ms/step - loss: 8.0785 - val_loss: 7.9275\n",
      "Epoch 366/400\n",
      "20/20 [==============================] - 1s 39ms/step - loss: 8.0485 - val_loss: 7.8878\n",
      "Epoch 367/400\n",
      "20/20 [==============================] - 1s 38ms/step - loss: 8.0198 - val_loss: 7.8763\n",
      "Epoch 368/400\n",
      "20/20 [==============================] - 1s 37ms/step - loss: 7.9995 - val_loss: 7.8541\n",
      "Epoch 369/400\n",
      "20/20 [==============================] - 1s 37ms/step - loss: 7.9777 - val_loss: 7.8329\n",
      "Epoch 370/400\n",
      "20/20 [==============================] - 1s 37ms/step - loss: 7.9644 - val_loss: 7.8098\n",
      "Epoch 371/400\n",
      "20/20 [==============================] - 1s 38ms/step - loss: 7.9505 - val_loss: 7.8147\n",
      "Epoch 372/400\n",
      "20/20 [==============================] - 1s 37ms/step - loss: 7.9320 - val_loss: 7.8038\n",
      "Epoch 373/400\n",
      "20/20 [==============================] - 1s 37ms/step - loss: 7.9135 - val_loss: 7.7967\n",
      "Epoch 374/400\n",
      "20/20 [==============================] - 1s 36ms/step - loss: 7.9092 - val_loss: 7.7970\n",
      "Epoch 375/400\n",
      "20/20 [==============================] - 1s 36ms/step - loss: 7.9058 - val_loss: 7.7998\n",
      "Epoch 376/400\n",
      "20/20 [==============================] - 1s 36ms/step - loss: 7.9010 - val_loss: 7.7902\n",
      "Epoch 377/400\n",
      "20/20 [==============================] - 1s 36ms/step - loss: 7.8804 - val_loss: 7.7758\n",
      "Epoch 378/400\n",
      "20/20 [==============================] - 1s 37ms/step - loss: 7.8794 - val_loss: 7.7735\n",
      "Epoch 379/400\n",
      "20/20 [==============================] - 1s 36ms/step - loss: 7.8606 - val_loss: 7.7627\n",
      "Epoch 380/400\n",
      "20/20 [==============================] - 1s 36ms/step - loss: 7.8550 - val_loss: 7.7654\n",
      "Epoch 381/400\n",
      "20/20 [==============================] - 1s 36ms/step - loss: 7.8477 - val_loss: 7.7618\n",
      "Epoch 382/400\n",
      "20/20 [==============================] - 1s 37ms/step - loss: 7.8481 - val_loss: 7.7622\n",
      "Epoch 383/400\n",
      "20/20 [==============================] - 1s 36ms/step - loss: 7.8383 - val_loss: 7.7421\n",
      "Epoch 384/400\n",
      "20/20 [==============================] - 1s 36ms/step - loss: 7.8310 - val_loss: 7.7264\n",
      "Epoch 385/400\n",
      "20/20 [==============================] - 1s 36ms/step - loss: 7.8110 - val_loss: 7.7240\n",
      "Epoch 386/400\n",
      "20/20 [==============================] - 1s 37ms/step - loss: 7.7897 - val_loss: 7.7085\n",
      "Epoch 387/400\n",
      "20/20 [==============================] - 1s 36ms/step - loss: 7.7734 - val_loss: 7.6989\n",
      "Epoch 388/400\n",
      "20/20 [==============================] - 1s 36ms/step - loss: 7.7706 - val_loss: 7.6942\n",
      "Epoch 389/400\n",
      "20/20 [==============================] - 1s 37ms/step - loss: 7.7609 - val_loss: 7.6839\n",
      "Epoch 390/400\n",
      "20/20 [==============================] - 1s 36ms/step - loss: 7.7540 - val_loss: 7.6773\n",
      "Epoch 391/400\n",
      "20/20 [==============================] - 1s 36ms/step - loss: 7.7358 - val_loss: 7.6577\n",
      "Epoch 392/400\n",
      "20/20 [==============================] - 1s 36ms/step - loss: 7.7268 - val_loss: 7.6686\n",
      "Epoch 393/400\n",
      "20/20 [==============================] - 1s 36ms/step - loss: 7.7226 - val_loss: 7.6483\n",
      "Epoch 394/400\n",
      "20/20 [==============================] - 1s 36ms/step - loss: 7.6957 - val_loss: 7.6272\n",
      "Epoch 395/400\n",
      "20/20 [==============================] - 1s 36ms/step - loss: 7.6838 - val_loss: 7.6118\n",
      "Epoch 396/400\n",
      "20/20 [==============================] - 1s 36ms/step - loss: 7.6612 - val_loss: 7.5892\n",
      "Epoch 397/400\n",
      "20/20 [==============================] - 1s 36ms/step - loss: 7.6434 - val_loss: 7.5792\n",
      "Epoch 398/400\n",
      "20/20 [==============================] - 1s 36ms/step - loss: 7.6363 - val_loss: 7.5762\n",
      "Epoch 399/400\n",
      "20/20 [==============================] - 1s 36ms/step - loss: 7.6233 - val_loss: 7.5719\n",
      "Epoch 400/400\n",
      "20/20 [==============================] - 1s 36ms/step - loss: 7.6160 - val_loss: 7.5642\n"
     ]
    },
    {
     "data": {
      "text/plain": [
       "<tensorflow.python.keras.callbacks.History at 0x7f816813f7c0>"
      ]
     },
     "execution_count": 344,
     "metadata": {},
     "output_type": "execute_result"
    }
   ],
   "source": [
    "model.fit(train_dataset,validation_data=test_dataset, epochs=400, callbacks=[LossCallback()], verbose=True)"
   ]
  },
  {
   "cell_type": "markdown",
   "id": "239637b6-6a81-4fa3-bbf4-ced84367c9a7",
   "metadata": {
    "tags": []
   },
   "source": [
    "## Looking at predictions\n",
    "Inspecting the predictions of the model on the training set."
   ]
  },
  {
   "cell_type": "markdown",
   "id": "7049743d-bf2d-4319-bb67-45a0442ce103",
   "metadata": {},
   "source": [
    "# Note: !!!!!!!!!!!!!!!!!!!!!\n",
    "The normalization layer seems to be a problem.\n",
    "Even with just the amplitude and the normalization layer the results are garbage. but not so bad for no normalization...\n",
    "\n",
    "## Analysis\n",
    "The problem seems to be that the normalization layer \"overreacts\" because of the low, near-zero values. They dominate the variance and therefore the normalization scales outliers beyond values of 1. The activation functions however do not react well to values above 1.\n",
    "\n",
    "The amplitude and phase layer need different forms of normalizations. Scaling the amplitude linearly is a problem.\n",
    "\n",
    "They also would need to be reversible.\n",
    "\n",
    "It would be a good idea to create custom layers.\n",
    "\n"
   ]
  },
  {
   "cell_type": "code",
   "execution_count": 326,
   "id": "7aff7f56-8d8d-402d-952d-00afc311dbc2",
   "metadata": {
    "tags": []
   },
   "outputs": [],
   "source": [
    "# release train dataset:\n",
    "# train_dataset = None\n",
    "# test_dataset = None\n",
    "example_count = 2\n",
    "train_example_data = train_dataset.take(count=example_count)\n",
    "predictions = model.predict(train_example_data)"
   ]
  },
  {
   "cell_type": "code",
   "execution_count": 327,
   "id": "8fec0a14-350d-4d2b-ba03-b7e7fbdd0bad",
   "metadata": {
    "tags": []
   },
   "outputs": [],
   "source": [
    "def plot_amp_example(index):\n",
    "    \n",
    "    fig, [ax0, ax1] = plt.subplots(1,2)\n",
    "\n",
    "    divider0 = make_axes_locatable(ax0)\n",
    "    divider1 = make_axes_locatable(ax1)\n",
    "\n",
    "    cax0 = divider0.append_axes('right', size='5%', pad=0.05)\n",
    "    cax1 = divider1.append_axes('right', size='5%', pad=0.05)\n",
    "\n",
    "\n",
    "    # plt.imshow(labels[0,:,:,1], aspect=\"auto\")\n",
    "    im0 = ax0.imshow(labels[index,:,:,0], aspect=\"auto\")\n",
    "    im1 = ax1.imshow(predictions[index,:,:,0], aspect=\"auto\")\n",
    "    # ax0.colorbar()\n",
    "    # fig.colorbar(im1, cax=ax0_cb, orientation='horizontal')\n",
    "\n",
    "    fig.colorbar(im0, cax=cax0, orientation='vertical')\n",
    "    fig.colorbar(im1, cax=cax1, orientation='vertical')\n",
    "\n",
    "    ax0.set_title(\"Original target\")\n",
    "    ax1.set_title(\"Denoised result\")\n",
    "\n",
    "    fig.set_size_inches((10,5))\n",
    "    # plt.imshow(predictions[0,:,:,1], aspect=\"auto\")\n",
    "    # ax1.imshow(predictions[0,:,:], aspect=\"auto\")\n",
    "\n",
    "    # plt.colorbar()"
   ]
  },
  {
   "cell_type": "code",
   "execution_count": 328,
   "id": "6554d015-32bf-45ef-a0bd-94b6afe8e750",
   "metadata": {
    "tags": []
   },
   "outputs": [
    {
     "data": {
      "application/vnd.jupyter.widget-view+json": {
       "model_id": "050c383a9a54456fb95a77bb2a48acb4",
       "version_major": 2,
       "version_minor": 0
      },
      "text/plain": [
       "interactive(children=(IntSlider(value=511, description='index', max=1023), Output()), _dom_classes=('widget-in…"
      ]
     },
     "metadata": {},
     "output_type": "display_data"
    },
    {
     "data": {
      "text/plain": [
       "<function __main__.plot_amp_example(index)>"
      ]
     },
     "execution_count": 328,
     "metadata": {},
     "output_type": "execute_result"
    }
   ],
   "source": [
    "interact(plot_amp_example, index=(0, predictions.shape[0]-1, 1))"
   ]
  },
  {
   "cell_type": "code",
   "execution_count": 290,
   "id": "5abe27cb-5a5b-4f8b-a639-44700198c4c7",
   "metadata": {
    "tags": []
   },
   "outputs": [],
   "source": [
    "def plot_phase_example(index):\n",
    "    fig, [ax0, ax1] = plt.subplots(1,2)\n",
    "\n",
    "    divider0 = make_axes_locatable(ax0)\n",
    "    divider1 = make_axes_locatable(ax1)\n",
    "\n",
    "    cax0 = divider0.append_axes('right', size='5%', pad=0.05)\n",
    "    cax1 = divider1.append_axes('right', size='5%', pad=0.05)\n",
    "\n",
    "\n",
    "    # plt.imshow(labels[0,:,:,1], aspect=\"auto\")\n",
    "    im0 = ax0.imshow(labels[index,:,:,1], aspect=\"auto\")\n",
    "    im1 = ax1.imshow(predictions[index,:,:,1], aspect=\"auto\")\n",
    "    # ax0.colorbar()\n",
    "    # fig.colorbar(im1, cax=ax0_cb, orientation='horizontal')\n",
    "\n",
    "    fig.colorbar(im0, cax=cax0, orientation='vertical')\n",
    "    fig.colorbar(im1, cax=cax1, orientation='vertical')\n",
    "\n",
    "    ax0.set_title(\"Original target\")\n",
    "    ax1.set_title(\"Denoised result\")\n",
    "\n",
    "    fig.set_size_inches((10,5))\n",
    "    # plt.imshow(predictions[0,:,:,1], aspect=\"auto\")\n",
    "    # ax1.imshow(predictions[0,:,:], aspect=\"auto\")\n",
    "\n",
    "    # plt.colorbar()"
   ]
  },
  {
   "cell_type": "code",
   "execution_count": 292,
   "id": "2927383f-708b-435f-9d1e-4afb4b39f1d8",
   "metadata": {
    "tags": []
   },
   "outputs": [
    {
     "data": {
      "application/vnd.jupyter.widget-view+json": {
       "model_id": "082e23e2772a4086ba78a577aacc0fb8",
       "version_major": 2,
       "version_minor": 0
      },
      "text/plain": [
       "interactive(children=(IntSlider(value=40, description='index', max=80), Output()), _dom_classes=('widget-inter…"
      ]
     },
     "metadata": {},
     "output_type": "display_data"
    },
    {
     "data": {
      "text/plain": [
       "<function __main__.plot_phase_example(index)>"
      ]
     },
     "execution_count": 292,
     "metadata": {},
     "output_type": "execute_result"
    }
   ],
   "source": [
    "interact(plot_phase_example, index=(0, 80, 1))"
   ]
  },
  {
   "cell_type": "code",
   "execution_count": 293,
   "id": "48bd0bde-d606-4d18-b9b2-d42e58222c59",
   "metadata": {
    "tags": []
   },
   "outputs": [
    {
     "data": {
      "text/plain": [
       "1.1546345"
      ]
     },
     "execution_count": 293,
     "metadata": {},
     "output_type": "execute_result"
    }
   ],
   "source": [
    "np.var(predictions)"
   ]
  },
  {
   "cell_type": "code",
   "execution_count": 294,
   "id": "867f1c5e-a9fb-47e0-b648-a8ba25c1b95a",
   "metadata": {
    "tags": []
   },
   "outputs": [
    {
     "data": {
      "text/plain": [
       "(1024, 129, 9, 2)"
      ]
     },
     "execution_count": 294,
     "metadata": {},
     "output_type": "execute_result"
    }
   ],
   "source": [
    "predictions.shape"
   ]
  },
  {
   "cell_type": "code",
   "execution_count": 295,
   "id": "dd593580-d69e-4a59-97cc-11df9147c5a3",
   "metadata": {
    "tags": []
   },
   "outputs": [],
   "source": [
    "predictions.shape\n",
    "\n",
    "def plot_example(index):\n",
    "    prediction = predictions[index]\n",
    "    actual = labels[index]\n",
    "    noisy = examples[index]\n",
    "    \n",
    "    fig, [ax1, ax2, ax3, ax4] = plt.subplots(1,4)\n",
    "\n",
    "    ax1.imshow(noisy, aspect=\"auto\")\n",
    "    ax1.set_title(\"Noisy Original\")\n",
    "    \n",
    "    ax2.set_title(\"Denoised result\")\n",
    "    ax2.imshow(prediction, aspect = \"auto\")\n",
    "    \n",
    "    ax3.set_title(\"Actual ground truth\")\n",
    "    ax3.imshow(actual, aspect= \"auto\")\n",
    "    ax4.imshow(actual-prediction, aspect=\"auto\")\n",
    "    \n",
    "    fig.set_size_inches((10,5))\n",
    "    \n",
    "    plt.show()"
   ]
  },
  {
   "cell_type": "code",
   "execution_count": 296,
   "id": "9f92e3b7-3df9-483f-ad3b-03fc0651862f",
   "metadata": {
    "tags": []
   },
   "outputs": [
    {
     "data": {
      "image/png": "[encoded data removed]",
      "text/plain": [
       "<Figure size 640x480 with 4 Axes>"
      ]
     },
     "metadata": {},
     "output_type": "display_data"
    },
    {
     "data": {
      "application/vnd.jupyter.widget-view+json": {
       "model_id": "fbf68678d87944aa9e68a97782ce5d80",
       "version_major": 2,
       "version_minor": 0
      },
      "text/plain": [
       "interactive(children=(IntSlider(value=10, description='index', max=20), Output()), _dom_classes=('widget-inter…"
      ]
     },
     "metadata": {},
     "output_type": "display_data"
    },
    {
     "data": {
      "text/plain": [
       "<function __main__.plot_example(index)>"
      ]
     },
     "execution_count": 296,
     "metadata": {},
     "output_type": "execute_result"
    }
   ],
   "source": [
    "interact(plot_example, index=(0, 20, 1))"
   ]
  },
  {
   "cell_type": "code",
   "execution_count": 297,
   "id": "6f059822-d8d3-42c1-acbd-5d6dfcd5361b",
   "metadata": {
    "tags": []
   },
   "outputs": [],
   "source": [
    "def plot_time_domain( index):\n",
    "\n",
    "    test_noisy = noisy_stft.get_data()[index,:,:,0]\n",
    "    test_noisy_phase = noisy_stft.get_data()[index,:,:,1]\n",
    "\n",
    "    test_pure = labels[index,:,:]\n",
    "    test_pure_phase = noisy_stft.get_data()[index,:,:,1]\n",
    "\n",
    "    model_amp = predictions[index]\n",
    "    noisy_phase = noisy_stft.get_data()[index,:,:,1]\n",
    "\n",
    "    fig, [ax1, ax2] =plt.subplots(1,2)\n",
    "    t, signal_pure = istft(test_pure*np.exp(1j*test_pure_phase), fs = 1./5.)\n",
    "    t, signal_model = istft(model_amp*np.exp(1j*noisy_phase), fs = 1./5.)\n",
    "    t, signal_example = istft(test_noisy*np.exp(1j*test_noisy_phase), fs = 1./5.)\n",
    "\n",
    "    fig.set_size_inches((12,10))\n",
    "    ax1.plot(t,signal_example)\n",
    "    ax2.plot(t, signal_model)\n",
    "    ax2.plot(t, signal_pure, alpha=0.5, color=\"red\")\n",
    "    plt.show()"
   ]
  },
  {
   "cell_type": "code",
   "execution_count": 298,
   "id": "dbfa7920-0fbe-4288-8bd6-29c1745aa863",
   "metadata": {
    "tags": []
   },
   "outputs": [
    {
     "data": {
      "application/vnd.jupyter.widget-view+json": {
       "model_id": "5793cfee4c1f4018be4e9aa83bafb1f3",
       "version_major": 2,
       "version_minor": 0
      },
      "text/plain": [
       "interactive(children=(IntSlider(value=4999, description='index', max=9999), Output()), _dom_classes=('widget-i…"
      ]
     },
     "metadata": {},
     "output_type": "display_data"
    },
    {
     "data": {
      "text/plain": [
       "<function __main__.plot_time_domain(index)>"
      ]
     },
     "execution_count": 298,
     "metadata": {},
     "output_type": "execute_result"
    }
   ],
   "source": [
    "interact(plot_time_domain, index = (0,9999,1))"
   ]
  },
  {
   "cell_type": "markdown",
   "id": "9e5e00c5-f9df-4420-9a6f-1e21ba5fdcf8",
   "metadata": {},
   "source": [
    "## Visualize the effect on the test set\n",
    "Previous visualizations were for the training set only.\n",
    "\n",
    "Check the influence of the test set here."
   ]
  },
  {
   "cell_type": "code",
   "execution_count": 299,
   "id": "b78f1f78-755e-4437-a802-c9c24c9c5907",
   "metadata": {
    "tags": []
   },
   "outputs": [],
   "source": [
    "predictions_test = model.predict(examples_test)"
   ]
  },
  {
   "cell_type": "code",
   "execution_count": 300,
   "id": "da7c1e6d-5910-41a5-9ed1-cf7d3294b509",
   "metadata": {
    "tags": []
   },
   "outputs": [],
   "source": [
    "# examples_test = noisy_test_stft.get_data()[::stride_reduce,:,:,:]\n",
    "# labels_test = pure_test_stft.get_data()[::stride_reduce,:,:,:]\n",
    "\n",
    "# examples_test_phase = noisy_test_stft.get_data()[::stride_reduce,:,:,:]\n",
    "# labels_test_phase = pure_test_stft.get_data()[::stride_reduce,:,:,:]"
   ]
  },
  {
   "cell_type": "code",
   "execution_count": 301,
   "id": "f3d60b02-b69d-41b1-a578-1c658d350a7e",
   "metadata": {
    "tags": []
   },
   "outputs": [
    {
     "data": {
      "text/plain": [
       "(1078, 129, 9, 2)"
      ]
     },
     "execution_count": 301,
     "metadata": {},
     "output_type": "execute_result"
    }
   ],
   "source": [
    "predictions_test.shape"
   ]
  },
  {
   "cell_type": "code",
   "execution_count": 302,
   "id": "f784e643-489f-490a-a658-ca8f755c331c",
   "metadata": {
    "tags": []
   },
   "outputs": [
    {
     "data": {
      "text/plain": [
       "(1078, 129, 9, 2)"
      ]
     },
     "execution_count": 302,
     "metadata": {},
     "output_type": "execute_result"
    }
   ],
   "source": [
    "labels_test.shape"
   ]
  },
  {
   "cell_type": "code",
   "execution_count": 303,
   "id": "b7796f4e-de14-4777-a0f1-de916b3298ca",
   "metadata": {
    "tags": []
   },
   "outputs": [],
   "source": [
    "index = 10\n",
    "prediction_current = predictions_test[index]\n",
    "    \n",
    "# the pure example from the test set\n",
    "test_pure = labels_test[index]\n",
    "\n",
    "pred_amp = prediction_current[:,:,0]\n",
    "pred_phase = prediction_current[:,:,1]"
   ]
  },
  {
   "cell_type": "code",
   "execution_count": 304,
   "id": "3ec49555-b71a-4d06-9013-895a625e155c",
   "metadata": {
    "tags": []
   },
   "outputs": [
    {
     "data": {
      "text/plain": [
       "array([[ 4.4244286e-04, -1.3425668e-04,  7.3106471e-04, ...,\n",
       "        -2.1935825e-03, -2.3609486e-04,  1.1559163e-03],\n",
       "       [-1.3708303e-03, -2.3783564e-03,  1.7878602e-03, ...,\n",
       "        -2.8386613e-04,  6.6068774e-04,  4.1308749e-04],\n",
       "       [-5.6571554e-04, -2.2860413e-04,  1.2732598e-03, ...,\n",
       "        -1.6688453e-03,  1.0423383e-03, -6.8643247e-04],\n",
       "       ...,\n",
       "       [-4.2158383e-04,  2.7365768e-03,  1.1195213e-03, ...,\n",
       "        -2.2936099e-04, -1.2521835e-03, -7.2808762e-05],\n",
       "       [ 1.5819465e-03,  1.9832521e-03,  1.5235679e-03, ...,\n",
       "         2.4457651e-03, -2.4573284e-03, -1.6150749e-04],\n",
       "       [-1.2012966e-03,  1.0209925e-03,  1.9903178e-03, ...,\n",
       "         2.1170583e-03, -1.0474963e-03, -4.7373914e-04]], dtype=float32)"
      ]
     },
     "execution_count": 304,
     "metadata": {},
     "output_type": "execute_result"
    }
   ],
   "source": [
    "pred_amp"
   ]
  },
  {
   "cell_type": "code",
   "execution_count": 305,
   "id": "bea6eb91-1f76-4d1d-baac-095078068c73",
   "metadata": {
    "tags": []
   },
   "outputs": [],
   "source": [
    "def plot_time_domain_test( index):\n",
    "\n",
    "    # get the noisy original from the test set\n",
    "    noisy_original = examples_test[index]\n",
    "    \n",
    "    # get the test set prediction\n",
    "    prediction_current = predictions_test[index]\n",
    "    \n",
    "    # the pure example from the test set\n",
    "    test_pure = labels_test[index]\n",
    "\n",
    "    noisy_amp = noisy_original[:,:,0]\n",
    "    noisy_phase = noisy_original[:,:,1]\n",
    "    \n",
    "    pred_amp = prediction_current[:,:,0]\n",
    "    pred_phase = prediction_current[:,:,1]\n",
    "    \n",
    "    true_amp = test_pure[:,:,0]\n",
    "    true_phase = test_pure[:,:,1]\n",
    "    \n",
    "    # model_amp = predictions_test[index]\n",
    "    # noisy_phase = examples_test_phase[index]\n",
    "\n",
    "    # calculate the STFT inverse of the deep learning predictions and the actual result\n",
    "    # t, signal_pure = istft(test_pure*np.exp(1j*test_pure_phase), fs = 1./5.)\n",
    "    \n",
    "    t, signal_original = istft(noisy_amp*np.exp(1j*noisy_phase), fs = 1./5.)\n",
    "\n",
    "    t, signal_pred = istft(pred_amp*np.exp(1j*pred_phase), fs = 1./5.)\n",
    "    # t, signal_example = istft(test_noisy*np.exp(1j*test_noisy_phase), fs = 1./5.)  \n",
    "    \n",
    "    t, signal_pred_origphase = istft(pred_amp*np.exp(1j*noisy_phase), fs = 1./5.)\n",
    "    \n",
    "    t, signal_true = istft(true_amp*np.exp(1j*true_phase), fs = 1./5.)\n",
    "\n",
    "    \n",
    "    fig, [[ax1, ax2, ax3], [ax4, ax5, ax6]] =plt.subplots(2,3)\n",
    "\n",
    "    fig.set_size_inches((12,10))\n",
    "    ax1.plot(t, signal_original)\n",
    "    ax1.set_title(\"Noisy example\")\n",
    "\n",
    "    ax2.plot(t, signal_pred)\n",
    "    ax2.set_title(\"Denoised result\")\n",
    "    \n",
    "    ax3.plot(t, signal_true)\n",
    "    ax3.set_title(\"True original\")\n",
    "    \n",
    "    ax5.plot(t, signal_pred_origphase)\n",
    "    \n",
    "    ax6.plot(t, signal_true)\n",
    "    ax6.set_title(\"True original\")\n",
    "\n",
    "    # ax2.plot(t, signal_pure, alpha=0.5, color=\"red\")\n",
    "    plt.show()"
   ]
  },
  {
   "cell_type": "code",
   "execution_count": 306,
   "id": "b4a87db6-d0c5-42d4-bae6-2fb777e89953",
   "metadata": {
    "tags": []
   },
   "outputs": [
    {
     "data": {
      "application/vnd.jupyter.widget-view+json": {
       "model_id": "5160492d78df4a0982ba7fa65d2ff353",
       "version_major": 2,
       "version_minor": 0
      },
      "text/plain": [
       "interactive(children=(IntSlider(value=539, description='index', max=1078), Output()), _dom_classes=('widget-in…"
      ]
     },
     "metadata": {},
     "output_type": "display_data"
    },
    {
     "data": {
      "text/plain": [
       "<function __main__.plot_time_domain_test(index)>"
      ]
     },
     "execution_count": 306,
     "metadata": {},
     "output_type": "execute_result"
    }
   ],
   "source": [
    "num_test_examples = examples_test.shape[0]\n",
    "interact(plot_time_domain_test, index = (0,num_test_examples,1))"
   ]
  },
  {
   "cell_type": "markdown",
   "id": "3762b93b-6e11-44ec-a3c5-b1adfa2fb528",
   "metadata": {},
   "source": [
    "## Store the model\n",
    "Storing the model after a long training session."
   ]
  },
  {
   "cell_type": "code",
   "execution_count": 46,
   "id": "57c882d1-4477-4896-924c-b5177c0f523b",
   "metadata": {
    "tags": []
   },
   "outputs": [],
   "source": [
    "model_folder = \"model/\""
   ]
  },
  {
   "cell_type": "code",
   "execution_count": 47,
   "id": "2ec72095-e8de-44e2-9b31-1d55d04a3461",
   "metadata": {
    "tags": []
   },
   "outputs": [],
   "source": [
    "\n",
    "# Get the current date\n",
    "now = datetime.datetime.now()\n",
    "\n",
    "# Format the date as \"day-month-year\"\n",
    "date_str = now.strftime(\"%d-%m-h%H%M\")\n",
    "\n",
    "# \n",
    "\n",
    "# Parameter count\n",
    "trainableParams = np.sum([np.prod(v.get_shape()) for v in model.trainable_weights])\n",
    "\n",
    "\n",
    "model_name = f\"model-{date_str}-p{trainableParams}-withphase\""
   ]
  },
  {
   "cell_type": "code",
   "execution_count": 48,
   "id": "6bfa107d-16e1-4b79-b822-b71887e34bda",
   "metadata": {
    "tags": []
   },
   "outputs": [],
   "source": [
    "store_model = False\n",
    "if store_model == True:\n",
    "    path = model_folder + model_name\n",
    "    model.save(path)"
   ]
  },
  {
   "cell_type": "markdown",
   "id": "bd0ab5e2-119a-4c76-ab9e-528b84411957",
   "metadata": {},
   "source": [
    "## Analysis of maximum values\n",
    "Looking at maximum values of amplitude over the whole array"
   ]
  },
  {
   "cell_type": "code",
   "execution_count": 52,
   "id": "2751a123-aa1d-4437-8104-c6b789bf440e",
   "metadata": {
    "tags": []
   },
   "outputs": [],
   "source": [
    "test_example = noisy_stft.get_data()[0]\n",
    "shape = test_example.shape\n",
    "test_example_reshaped = noisy_stft.get_data()[0].reshape((1, shape[0], shape[1], shape[2]))\n",
    "\n",
    "test_pure = pure_stft.get_data()[0]"
   ]
  },
  {
   "cell_type": "code",
   "execution_count": 53,
   "id": "993ba3f6-b802-4d2b-ac0c-35f843092729",
   "metadata": {
    "tags": []
   },
   "outputs": [
    {
     "data": {
      "text/plain": [
       "0.1167289817731223"
      ]
     },
     "execution_count": 53,
     "metadata": {},
     "output_type": "execute_result"
    }
   ],
   "source": [
    "test_pure[:,:,0].max()"
   ]
  },
  {
   "cell_type": "markdown",
   "id": "65d8bffc-c85c-4356-9fe1-386ff9c0351c",
   "metadata": {},
   "source": [
    "Todo\n",
    "Normalize the phase and amplitude values.."
   ]
  },
  {
   "cell_type": "code",
   "execution_count": 54,
   "id": "728854d5-4030-48e9-8865-89228857d160",
   "metadata": {
    "tags": []
   },
   "outputs": [],
   "source": [
    "amps_noisy =noisy_stft.get_data()[:,:,:,0]"
   ]
  },
  {
   "cell_type": "code",
   "execution_count": 55,
   "id": "cc0e735a-37b3-4780-a56d-6f0e6b212830",
   "metadata": {
    "tags": []
   },
   "outputs": [],
   "source": [
    "amps_noisy_flattened = amps_noisy.flatten()"
   ]
  },
  {
   "cell_type": "code",
   "execution_count": 56,
   "id": "1b516141-c7d1-4207-a12f-a0031fb15379",
   "metadata": {
    "tags": []
   },
   "outputs": [
    {
     "data": {
      "text/plain": [
       "(array([1.0101877e+07, 1.1225070e+06, 1.9600700e+05, 1.0042300e+05,\n",
       "        5.1438000e+04, 2.1964000e+04, 9.8380000e+03, 4.6260000e+03,\n",
       "        1.1690000e+03, 1.5100000e+02]),\n",
       " array([2.14359953e-11, 1.67539747e-02, 3.35079495e-02, 5.02619242e-02,\n",
       "        6.70158989e-02, 8.37698737e-02, 1.00523848e-01, 1.17277823e-01,\n",
       "        1.34031798e-01, 1.50785773e-01, 1.67539747e-01]),\n",
       " <BarContainer object of 10 artists>)"
      ]
     },
     "execution_count": 56,
     "metadata": {},
     "output_type": "execute_result"
    },
    {
     "data": {
      "image/png": "[encoded data removed]",
      "text/plain": [
       "<Figure size 640x480 with 1 Axes>"
      ]
     },
     "metadata": {},
     "output_type": "display_data"
    }
   ],
   "source": [
    "plt.hist(amps_noisy_flattened)"
   ]
  },
  {
   "cell_type": "code",
   "execution_count": 57,
   "id": "9063e8e5-df9b-4911-90b9-2606ef41e874",
   "metadata": {
    "tags": []
   },
   "outputs": [],
   "source": [
    "amps_noisy_max = amps_noisy.max(axis=2).max(axis=1)"
   ]
  },
  {
   "cell_type": "code",
   "execution_count": 58,
   "id": "2d7f8f9f-fe81-4599-b965-31be2a86179d",
   "metadata": {
    "tags": []
   },
   "outputs": [
    {
     "data": {
      "text/plain": [
       "(10000,)"
      ]
     },
     "execution_count": 58,
     "metadata": {},
     "output_type": "execute_result"
    }
   ],
   "source": [
    "amps_noisy_max.shape"
   ]
  },
  {
   "cell_type": "code",
   "execution_count": 59,
   "id": "50c79a4d-7dbc-41a4-aa77-fc877d1d6468",
   "metadata": {
    "tags": []
   },
   "outputs": [
    {
     "data": {
      "text/plain": [
       "(array([ 153.,  364., 2132., 2197., 1479., 1392., 1000.,  879.,  345.,\n",
       "          59.]),\n",
       " array([0.04645806, 0.05856623, 0.0706744 , 0.08278256, 0.09489073,\n",
       "        0.1069989 , 0.11910707, 0.13121524, 0.14332341, 0.15543158,\n",
       "        0.16753975]),\n",
       " <BarContainer object of 10 artists>)"
      ]
     },
     "execution_count": 59,
     "metadata": {},
     "output_type": "execute_result"
    },
    {
     "data": {
      "image/png": "[encoded data removed]",
      "text/plain": [
       "<Figure size 640x480 with 1 Axes>"
      ]
     },
     "metadata": {},
     "output_type": "display_data"
    }
   ],
   "source": [
    "plt.hist(amps_noisy_max)"
   ]
  }
 ],
 "metadata": {
  "kernelspec": {
   "display_name": "Python 3 (ipykernel)",
   "language": "python",
   "name": "python3"
  },
  "language_info": {
   "codemirror_mode": {
    "name": "ipython",
    "version": 3
   },
   "file_extension": ".py",
   "mimetype": "text/x-python",
   "name": "python",
   "nbconvert_exporter": "python",
   "pygments_lexer": "ipython3",
   "version": "3.9.16"
  }
 },
 "nbformat": 4,
 "nbformat_minor": 5
}
