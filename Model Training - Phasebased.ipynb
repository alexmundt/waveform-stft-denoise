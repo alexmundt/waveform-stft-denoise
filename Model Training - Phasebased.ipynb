{
 "cells": [
  {
   "cell_type": "markdown",
   "id": "4c4bc3da-e0a9-4a6d-8269-416f3b5e426e",
   "metadata": {},
   "source": [
    "# Model Training - Phasebased\n",
    "This model architecture also takes phase information into account.\n",
    "\n",
    "For that, the phases have to be normalized accordingly."
   ]
  },
  {
   "cell_type": "markdown",
   "id": "af89b7f9-b0a3-4b4e-ad8b-cb76cf1d0c2e",
   "metadata": {},
   "source": [
    "## Imports\n",
    "This notebook uses the custom code found in the code folder"
   ]
  },
  {
   "cell_type": "code",
   "execution_count": 1,
   "id": "2d038a39-333d-466f-813b-ba25e46aaf08",
   "metadata": {
    "tags": []
   },
   "outputs": [
    {
     "name": "stderr",
     "output_type": "stream",
     "text": [
      "2023-04-20 15:20:38.856626: I tensorflow/stream_executor/platform/default/dso_loader.cc:49] Successfully opened dynamic library libcudart.so.10.1\n"
     ]
    }
   ],
   "source": [
    "import os\n",
    "\n",
    "# math, processing, deep learning\n",
    "import numpy as np\n",
    "import tensorflow as tf\n",
    "from scipy.signal import stft, istft\n",
    "\n",
    "# visualization\n",
    "import matplotlib.pyplot as plt\n",
    "from ipywidgets import interact\n",
    "\n",
    "# custom code\n",
    "from code.stftprocessing import StftDataset\n",
    "from code.dsvisual import DatasetVisualizer\n",
    "\n",
    "# convenience\n",
    "from tqdm import tqdm\n",
    "import datetime\n"
   ]
  },
  {
   "cell_type": "markdown",
   "id": "3c018a04-4eef-4880-95dd-dec0a95dd92c",
   "metadata": {},
   "source": [
    "## Load the files for training and testing\n",
    "There are different training and test sets in the folder. This section loads the appropriate ones into memory.\n"
   ]
  },
  {
   "cell_type": "code",
   "execution_count": 2,
   "id": "7c5005d7-ef4c-4d6f-ac61-9022a8267d18",
   "metadata": {
    "tags": []
   },
   "outputs": [],
   "source": [
    "# this is a smaller training set for testing purposes\n",
    "folder = \"training/new_small\"\n",
    "base = \"noisy_small\"\n",
    "target = \"pure_small\"\n",
    "\n",
    "# this is a training set for training the main model\n",
    "# folder = \"training/original training\"\n",
    "# base = \"noisy\"\n",
    "# target = \"pure\"\n",
    "\n",
    "test_folder = \"training/test set\"\n",
    "test_base = \"noisy_test\"\n",
    "test_target = \"pure_test\"\n"
   ]
  },
  {
   "cell_type": "markdown",
   "id": "bf78c285-c30f-4693-9a5d-026bc84c6dd4",
   "metadata": {},
   "source": [
    "Load the files from the given locations using the custom code StftDataset class.\n",
    "\n",
    "The StftDataset class also processes the waveforms into STFT format."
   ]
  },
  {
   "cell_type": "code",
   "execution_count": 3,
   "id": "67a3f1e0-0fa2-4d50-8552-5575b1bc0f3d",
   "metadata": {
    "tags": []
   },
   "outputs": [
    {
     "name": "stdout",
     "output_type": "stream",
     "text": [
      "Files loaded.\n",
      "Files loaded.\n",
      "Files loaded.\n",
      "Files loaded.\n"
     ]
    }
   ],
   "source": [
    "noisy_stft = StftDataset()\n",
    "pure_stft = StftDataset()\n",
    "\n",
    "noisy_stft.load(folder, base)\n",
    "pure_stft.load(folder, target)\n",
    "\n",
    "# test sets\n",
    "noisy_test_stft = StftDataset()\n",
    "pure_test_stft = StftDataset()\n",
    "noisy_test_stft.load(test_folder, test_base)\n",
    "pure_test_stft.load(test_folder, test_target)"
   ]
  },
  {
   "cell_type": "markdown",
   "id": "82aa54aa-63b6-4a77-accd-13e34019cfe6",
   "metadata": {},
   "source": [
    "Check the shape of the data"
   ]
  },
  {
   "cell_type": "code",
   "execution_count": 4,
   "id": "11608d20-dfe1-4179-9d4c-6dd7b94af13e",
   "metadata": {
    "tags": []
   },
   "outputs": [
    {
     "data": {
      "text/plain": [
       "(10000, 129, 9, 2)"
      ]
     },
     "execution_count": 4,
     "metadata": {},
     "output_type": "execute_result"
    }
   ],
   "source": [
    "noisy_stft.get_data().shape"
   ]
  },
  {
   "cell_type": "markdown",
   "id": "8f61b6da-a36f-40e2-b9dc-4806ba1f5a02",
   "metadata": {},
   "source": [
    "### Extracting phase and amplitude information\n",
    "The StftDataset class loads the data that was stored in amplitude and phase format in different files and combines it together"
   ]
  },
  {
   "cell_type": "code",
   "execution_count": 413,
   "id": "fc006258-5af8-42b3-ab54-a4189c550ef4",
   "metadata": {},
   "outputs": [],
   "source": [
    "# get the amplitudes of training and test sets\n",
    "examples = noisy_stft.get_data()[:,:,:,0]\n",
    "labels = pure_stft.get_data()[:,:,:,0]\n",
    "\n",
    "stride_reduce = 100\n",
    "examples_test = noisy_test_stft.get_data()[::stride_reduce,:,:,0]\n",
    "labels_test = pure_test_stft.get_data()[::stride_reduce,:,:,0]\n",
    "\n",
    "# examples_test_phase = noisy_test_stft.get_data()[::stride_reduce,:,:,1]\n",
    "# labels_test_phase = pure_test_stft.get_data()[::stride_reduce,:,:,1]\n",
    "\n",
    "# build the dataset from tensorflow functions\n",
    "train_dataset = tf.data.Dataset.from_tensor_slices((examples, labels))\n",
    "test_dataset = tf.data.Dataset.from_tensor_slices((examples_test, labels_test))"
   ]
  },
  {
   "cell_type": "code",
   "execution_count": 414,
   "id": "6562c220-7860-4297-a77d-c5e88007007a",
   "metadata": {
    "tags": []
   },
   "outputs": [
    {
     "data": {
      "text/plain": [
       "<TensorSliceDataset shapes: ((129, 9), (129, 9)), types: (tf.float64, tf.float64)>"
      ]
     },
     "execution_count": 414,
     "metadata": {},
     "output_type": "execute_result"
    }
   ],
   "source": [
    "train_dataset\n",
    "# test_dataset"
   ]
  },
  {
   "cell_type": "code",
   "execution_count": 415,
   "id": "b974f1c1-e512-4859-96e2-f2abf7b99d66",
   "metadata": {
    "tags": []
   },
   "outputs": [],
   "source": [
    "input_shape = examples.shape[1:]\n",
    "# count up the number of elements in the data for the flattened layer\n",
    "number_of_data_elements = np.prod(input_shape)"
   ]
  },
  {
   "cell_type": "code",
   "execution_count": 416,
   "id": "ea6f06e8-d6e8-41fc-8bb3-9038794e20b8",
   "metadata": {
    "tags": []
   },
   "outputs": [],
   "source": [
    "BATCH_SIZE = 512\n",
    "SHUFFLE_BUFFER_SIZE = 2000\n",
    "\n",
    "train_dataset = train_dataset.shuffle(SHUFFLE_BUFFER_SIZE).batch(BATCH_SIZE)\n",
    "test_dataset = test_dataset.batch(BATCH_SIZE)"
   ]
  },
  {
   "cell_type": "code",
   "execution_count": 417,
   "id": "0c4d1f41-be67-4b4c-b0c5-79885978c533",
   "metadata": {
    "tags": []
   },
   "outputs": [
    {
     "data": {
      "text/plain": [
       "<_UnbatchDataset shapes: ((129, 9), (129, 9)), types: (tf.float64, tf.float64)>"
      ]
     },
     "execution_count": 417,
     "metadata": {},
     "output_type": "execute_result"
    }
   ],
   "source": [
    "train_dataset.take(1).unbatch()\n",
    "   "
   ]
  },
  {
   "cell_type": "code",
   "execution_count": 435,
   "id": "3c205536-ec0b-461c-947b-c9125faab333",
   "metadata": {
    "tags": []
   },
   "outputs": [],
   "source": [
    "class Custom_Loss(tf.keras.losses.Loss):\n",
    "\n",
    "    def call(self, y_true, y_pred):        \n",
    "        # log_y_pred = tf.math.log(y_pred)\n",
    "        # elements = -tf.math.multiply_no_nan(x=log_y_pred, y=y_true)\n",
    "        \n",
    "        # return tf.reduce_mean(tf.reduce_sum(elements,axis=1))\n",
    "        # print(y_pred.shape)\n",
    "        return tf.reduce_mean(tf.math.square(y_pred[:,:,:] - y_true[:,:,:]), axis=-1)\n"
   ]
  },
  {
   "cell_type": "code",
   "execution_count": 457,
   "id": "97c703f4-8424-435f-a5a8-c7b3a34c593a",
   "metadata": {
    "tags": []
   },
   "outputs": [],
   "source": [
    "dropout_rate = 0.2\n",
    "factor = 8*2\n",
    "\n",
    "model = tf.keras.Sequential([\n",
    "    # tf.keras.layers.experimental.preprocessing.Normalization(axis=-1, input_shape=input_shape),\n",
    "    \n",
    "    tf.keras.layers.Flatten(input_shape=input_shape),\n",
    "\n",
    "    tf.keras.layers.Dense(units = 125*factor, activation='relu'),\n",
    "    # tf.keras.layers.Dropout(rate=dropout_rate),\n",
    "    tf.keras.layers.Dense(units = 75*factor, activation='relu'),\n",
    "    # tf.keras.layers.Dropout(rate=dropout_rate*0.25),\n",
    "\n",
    "    tf.keras.layers.Dense(units = 50*factor, activation='relu'),\n",
    "    # tf.keras.layers.Dropout(rate=dropout_rate*0.25),\n",
    "\n",
    "    tf.keras.layers.Dense(units = 75*factor, activation='relu'),\n",
    "    # tf.keras.layers.Dropout(rate=dropout_rate),\n",
    "\n",
    "\n",
    "    tf.keras.layers.Dense(units = number_of_data_elements, activation='relu'),\n",
    "    # tf.keras.layers.Dense((128,9,2), activation='relu'),\n",
    "    # tf.keras.layers.Dense((128,9,2), activation='relu'),\n",
    "    # tf.keras.layers.Dense((128,9,2), activation='relu'),\n",
    "    # tf.keras.layers.Conv2D(3,2, activation='relu', input_shape=input_shape)\n",
    "    tf.keras.layers.Reshape(target_shape=input_shape)\n",
    "])\n",
    "\n",
    "model.compile(optimizer=\"adam\",\n",
    "              loss=Custom_Loss(),\n",
    "              )"
   ]
  },
  {
   "cell_type": "code",
   "execution_count": 458,
   "id": "c54f25dc-b243-4398-8afa-a02d60569733",
   "metadata": {
    "tags": []
   },
   "outputs": [],
   "source": [
    "norm_layer = model.layers[0]"
   ]
  },
  {
   "cell_type": "code",
   "execution_count": 459,
   "id": "51ebd605-d467-4377-8dc4-cc9343e1849d",
   "metadata": {
    "tags": []
   },
   "outputs": [
    {
     "ename": "AttributeError",
     "evalue": "'Flatten' object has no attribute 'adapt'",
     "output_type": "error",
     "traceback": [
      "\u001b[0;31m---------------------------------------------------------------------------\u001b[0m",
      "\u001b[0;31mAttributeError\u001b[0m                            Traceback (most recent call last)",
      "Cell \u001b[0;32mIn[459], line 1\u001b[0m\n\u001b[0;32m----> 1\u001b[0m \u001b[43mnorm_layer\u001b[49m\u001b[38;5;241;43m.\u001b[39;49m\u001b[43madapt\u001b[49m(examples)\n",
      "\u001b[0;31mAttributeError\u001b[0m: 'Flatten' object has no attribute 'adapt'"
     ]
    }
   ],
   "source": [
    "norm_layer.adapt(examples)"
   ]
  },
  {
   "cell_type": "code",
   "execution_count": 460,
   "id": "a5a764f9-e88f-4864-854b-6345cdd4221d",
   "metadata": {
    "tags": []
   },
   "outputs": [],
   "source": [
    "train_take_example = train_dataset.take(1)"
   ]
  },
  {
   "cell_type": "code",
   "execution_count": 461,
   "id": "febbd41d-d8e1-40da-82f8-e3771819a33e",
   "metadata": {
    "tags": []
   },
   "outputs": [],
   "source": [
    "# help(train_take_example)"
   ]
  },
  {
   "cell_type": "code",
   "execution_count": 462,
   "id": "fde5a1e6-5863-4bae-80c6-25b29f53b409",
   "metadata": {
    "tags": []
   },
   "outputs": [
    {
     "data": {
      "text/plain": [
       "(10000, 129, 9)"
      ]
     },
     "execution_count": 462,
     "metadata": {},
     "output_type": "execute_result"
    }
   ],
   "source": [
    "examples.shape"
   ]
  },
  {
   "cell_type": "code",
   "execution_count": 463,
   "id": "e2cb7261-8042-4904-a5aa-65c99bcda994",
   "metadata": {
    "tags": []
   },
   "outputs": [],
   "source": [
    "norm_example = norm_layer(examples[0])"
   ]
  },
  {
   "cell_type": "code",
   "execution_count": 464,
   "id": "4aeec26b-ca9c-42ec-a9d9-73fe6bb0776f",
   "metadata": {
    "tags": []
   },
   "outputs": [
    {
     "data": {
      "text/plain": [
       "TensorShape([129, 9])"
      ]
     },
     "execution_count": 464,
     "metadata": {},
     "output_type": "execute_result"
    }
   ],
   "source": [
    "norm_example.shape"
   ]
  },
  {
   "cell_type": "code",
   "execution_count": 465,
   "id": "57143068-bb62-4b45-9c60-f18496f36e2f",
   "metadata": {
    "tags": []
   },
   "outputs": [
    {
     "name": "stderr",
     "output_type": "stream",
     "text": [
      "2023-04-20 23:19:53.236476: W tensorflow/core/framework/op_kernel.cc:1763] OP_REQUIRES failed at strided_slice_op.cc:108 : Invalid argument: Index out of range using input dim 2; input has only 2 dims\n"
     ]
    },
    {
     "ename": "InvalidArgumentError",
     "evalue": "Index out of range using input dim 2; input has only 2 dims [Op:StridedSlice] name: strided_slice/",
     "output_type": "error",
     "traceback": [
      "\u001b[0;31m---------------------------------------------------------------------------\u001b[0m",
      "\u001b[0;31mInvalidArgumentError\u001b[0m                      Traceback (most recent call last)",
      "Cell \u001b[0;32mIn[465], line 1\u001b[0m\n\u001b[0;32m----> 1\u001b[0m plt\u001b[38;5;241m.\u001b[39mimshow(\u001b[43mnorm_example\u001b[49m\u001b[43m[\u001b[49m\u001b[38;5;241;43m0\u001b[39;49m\u001b[43m,\u001b[49m\u001b[43m:\u001b[49m\u001b[43m,\u001b[49m\u001b[43m:\u001b[49m\u001b[43m]\u001b[49m, aspect\u001b[38;5;241m=\u001b[39m\u001b[38;5;124m\"\u001b[39m\u001b[38;5;124mauto\u001b[39m\u001b[38;5;124m\"\u001b[39m)\n\u001b[1;32m      2\u001b[0m plt\u001b[38;5;241m.\u001b[39mcolorbar()\n",
      "File \u001b[0;32m~/Daten2TB/Anaconda2021-11/envs/tf/lib/python3.9/site-packages/tensorflow/python/util/dispatch.py:201\u001b[0m, in \u001b[0;36madd_dispatch_support.<locals>.wrapper\u001b[0;34m(*args, **kwargs)\u001b[0m\n\u001b[1;32m    199\u001b[0m \u001b[38;5;250m\u001b[39m\u001b[38;5;124;03m\"\"\"Call target, and fall back on dispatchers if there is a TypeError.\"\"\"\u001b[39;00m\n\u001b[1;32m    200\u001b[0m \u001b[38;5;28;01mtry\u001b[39;00m:\n\u001b[0;32m--> 201\u001b[0m   \u001b[38;5;28;01mreturn\u001b[39;00m \u001b[43mtarget\u001b[49m\u001b[43m(\u001b[49m\u001b[38;5;241;43m*\u001b[39;49m\u001b[43margs\u001b[49m\u001b[43m,\u001b[49m\u001b[43m \u001b[49m\u001b[38;5;241;43m*\u001b[39;49m\u001b[38;5;241;43m*\u001b[39;49m\u001b[43mkwargs\u001b[49m\u001b[43m)\u001b[49m\n\u001b[1;32m    202\u001b[0m \u001b[38;5;28;01mexcept\u001b[39;00m (\u001b[38;5;167;01mTypeError\u001b[39;00m, \u001b[38;5;167;01mValueError\u001b[39;00m):\n\u001b[1;32m    203\u001b[0m   \u001b[38;5;66;03m# Note: convert_to_eager_tensor currently raises a ValueError, not a\u001b[39;00m\n\u001b[1;32m    204\u001b[0m   \u001b[38;5;66;03m# TypeError, when given unexpected types.  So we need to catch both.\u001b[39;00m\n\u001b[1;32m    205\u001b[0m   result \u001b[38;5;241m=\u001b[39m dispatch(wrapper, args, kwargs)\n",
      "File \u001b[0;32m~/Daten2TB/Anaconda2021-11/envs/tf/lib/python3.9/site-packages/tensorflow/python/ops/array_ops.py:1036\u001b[0m, in \u001b[0;36m_slice_helper\u001b[0;34m(tensor, slice_spec, var)\u001b[0m\n\u001b[1;32m   1034\u001b[0m   var_empty \u001b[38;5;241m=\u001b[39m constant([], dtype\u001b[38;5;241m=\u001b[39mdtypes\u001b[38;5;241m.\u001b[39mint32)\n\u001b[1;32m   1035\u001b[0m   packed_begin \u001b[38;5;241m=\u001b[39m packed_end \u001b[38;5;241m=\u001b[39m packed_strides \u001b[38;5;241m=\u001b[39m var_empty\n\u001b[0;32m-> 1036\u001b[0m \u001b[38;5;28;01mreturn\u001b[39;00m \u001b[43mstrided_slice\u001b[49m\u001b[43m(\u001b[49m\n\u001b[1;32m   1037\u001b[0m \u001b[43m    \u001b[49m\u001b[43mtensor\u001b[49m\u001b[43m,\u001b[49m\n\u001b[1;32m   1038\u001b[0m \u001b[43m    \u001b[49m\u001b[43mpacked_begin\u001b[49m\u001b[43m,\u001b[49m\n\u001b[1;32m   1039\u001b[0m \u001b[43m    \u001b[49m\u001b[43mpacked_end\u001b[49m\u001b[43m,\u001b[49m\n\u001b[1;32m   1040\u001b[0m \u001b[43m    \u001b[49m\u001b[43mpacked_strides\u001b[49m\u001b[43m,\u001b[49m\n\u001b[1;32m   1041\u001b[0m \u001b[43m    \u001b[49m\u001b[43mbegin_mask\u001b[49m\u001b[38;5;241;43m=\u001b[39;49m\u001b[43mbegin_mask\u001b[49m\u001b[43m,\u001b[49m\n\u001b[1;32m   1042\u001b[0m \u001b[43m    \u001b[49m\u001b[43mend_mask\u001b[49m\u001b[38;5;241;43m=\u001b[39;49m\u001b[43mend_mask\u001b[49m\u001b[43m,\u001b[49m\n\u001b[1;32m   1043\u001b[0m \u001b[43m    \u001b[49m\u001b[43mshrink_axis_mask\u001b[49m\u001b[38;5;241;43m=\u001b[39;49m\u001b[43mshrink_axis_mask\u001b[49m\u001b[43m,\u001b[49m\n\u001b[1;32m   1044\u001b[0m \u001b[43m    \u001b[49m\u001b[43mnew_axis_mask\u001b[49m\u001b[38;5;241;43m=\u001b[39;49m\u001b[43mnew_axis_mask\u001b[49m\u001b[43m,\u001b[49m\n\u001b[1;32m   1045\u001b[0m \u001b[43m    \u001b[49m\u001b[43mellipsis_mask\u001b[49m\u001b[38;5;241;43m=\u001b[39;49m\u001b[43mellipsis_mask\u001b[49m\u001b[43m,\u001b[49m\n\u001b[1;32m   1046\u001b[0m \u001b[43m    \u001b[49m\u001b[43mvar\u001b[49m\u001b[38;5;241;43m=\u001b[39;49m\u001b[43mvar\u001b[49m\u001b[43m,\u001b[49m\n\u001b[1;32m   1047\u001b[0m \u001b[43m    \u001b[49m\u001b[43mname\u001b[49m\u001b[38;5;241;43m=\u001b[39;49m\u001b[43mname\u001b[49m\u001b[43m)\u001b[49m\n",
      "File \u001b[0;32m~/Daten2TB/Anaconda2021-11/envs/tf/lib/python3.9/site-packages/tensorflow/python/util/dispatch.py:201\u001b[0m, in \u001b[0;36madd_dispatch_support.<locals>.wrapper\u001b[0;34m(*args, **kwargs)\u001b[0m\n\u001b[1;32m    199\u001b[0m \u001b[38;5;250m\u001b[39m\u001b[38;5;124;03m\"\"\"Call target, and fall back on dispatchers if there is a TypeError.\"\"\"\u001b[39;00m\n\u001b[1;32m    200\u001b[0m \u001b[38;5;28;01mtry\u001b[39;00m:\n\u001b[0;32m--> 201\u001b[0m   \u001b[38;5;28;01mreturn\u001b[39;00m \u001b[43mtarget\u001b[49m\u001b[43m(\u001b[49m\u001b[38;5;241;43m*\u001b[39;49m\u001b[43margs\u001b[49m\u001b[43m,\u001b[49m\u001b[43m \u001b[49m\u001b[38;5;241;43m*\u001b[39;49m\u001b[38;5;241;43m*\u001b[39;49m\u001b[43mkwargs\u001b[49m\u001b[43m)\u001b[49m\n\u001b[1;32m    202\u001b[0m \u001b[38;5;28;01mexcept\u001b[39;00m (\u001b[38;5;167;01mTypeError\u001b[39;00m, \u001b[38;5;167;01mValueError\u001b[39;00m):\n\u001b[1;32m    203\u001b[0m   \u001b[38;5;66;03m# Note: convert_to_eager_tensor currently raises a ValueError, not a\u001b[39;00m\n\u001b[1;32m    204\u001b[0m   \u001b[38;5;66;03m# TypeError, when given unexpected types.  So we need to catch both.\u001b[39;00m\n\u001b[1;32m    205\u001b[0m   result \u001b[38;5;241m=\u001b[39m dispatch(wrapper, args, kwargs)\n",
      "File \u001b[0;32m~/Daten2TB/Anaconda2021-11/envs/tf/lib/python3.9/site-packages/tensorflow/python/ops/array_ops.py:1209\u001b[0m, in \u001b[0;36mstrided_slice\u001b[0;34m(input_, begin, end, strides, begin_mask, end_mask, ellipsis_mask, new_axis_mask, shrink_axis_mask, var, name)\u001b[0m\n\u001b[1;32m   1206\u001b[0m \u001b[38;5;28;01mif\u001b[39;00m strides \u001b[38;5;129;01mis\u001b[39;00m \u001b[38;5;28;01mNone\u001b[39;00m:\n\u001b[1;32m   1207\u001b[0m   strides \u001b[38;5;241m=\u001b[39m ones_like(begin)\n\u001b[0;32m-> 1209\u001b[0m op \u001b[38;5;241m=\u001b[39m \u001b[43mgen_array_ops\u001b[49m\u001b[38;5;241;43m.\u001b[39;49m\u001b[43mstrided_slice\u001b[49m\u001b[43m(\u001b[49m\n\u001b[1;32m   1210\u001b[0m \u001b[43m    \u001b[49m\u001b[38;5;28;43minput\u001b[39;49m\u001b[38;5;241;43m=\u001b[39;49m\u001b[43minput_\u001b[49m\u001b[43m,\u001b[49m\n\u001b[1;32m   1211\u001b[0m \u001b[43m    \u001b[49m\u001b[43mbegin\u001b[49m\u001b[38;5;241;43m=\u001b[39;49m\u001b[43mbegin\u001b[49m\u001b[43m,\u001b[49m\n\u001b[1;32m   1212\u001b[0m \u001b[43m    \u001b[49m\u001b[43mend\u001b[49m\u001b[38;5;241;43m=\u001b[39;49m\u001b[43mend\u001b[49m\u001b[43m,\u001b[49m\n\u001b[1;32m   1213\u001b[0m \u001b[43m    \u001b[49m\u001b[43mstrides\u001b[49m\u001b[38;5;241;43m=\u001b[39;49m\u001b[43mstrides\u001b[49m\u001b[43m,\u001b[49m\n\u001b[1;32m   1214\u001b[0m \u001b[43m    \u001b[49m\u001b[43mname\u001b[49m\u001b[38;5;241;43m=\u001b[39;49m\u001b[43mname\u001b[49m\u001b[43m,\u001b[49m\n\u001b[1;32m   1215\u001b[0m \u001b[43m    \u001b[49m\u001b[43mbegin_mask\u001b[49m\u001b[38;5;241;43m=\u001b[39;49m\u001b[43mbegin_mask\u001b[49m\u001b[43m,\u001b[49m\n\u001b[1;32m   1216\u001b[0m \u001b[43m    \u001b[49m\u001b[43mend_mask\u001b[49m\u001b[38;5;241;43m=\u001b[39;49m\u001b[43mend_mask\u001b[49m\u001b[43m,\u001b[49m\n\u001b[1;32m   1217\u001b[0m \u001b[43m    \u001b[49m\u001b[43mellipsis_mask\u001b[49m\u001b[38;5;241;43m=\u001b[39;49m\u001b[43mellipsis_mask\u001b[49m\u001b[43m,\u001b[49m\n\u001b[1;32m   1218\u001b[0m \u001b[43m    \u001b[49m\u001b[43mnew_axis_mask\u001b[49m\u001b[38;5;241;43m=\u001b[39;49m\u001b[43mnew_axis_mask\u001b[49m\u001b[43m,\u001b[49m\n\u001b[1;32m   1219\u001b[0m \u001b[43m    \u001b[49m\u001b[43mshrink_axis_mask\u001b[49m\u001b[38;5;241;43m=\u001b[39;49m\u001b[43mshrink_axis_mask\u001b[49m\u001b[43m)\u001b[49m\n\u001b[1;32m   1221\u001b[0m parent_name \u001b[38;5;241m=\u001b[39m name\n\u001b[1;32m   1223\u001b[0m \u001b[38;5;28;01mif\u001b[39;00m \u001b[38;5;129;01mnot\u001b[39;00m (var \u001b[38;5;129;01mis\u001b[39;00m \u001b[38;5;28;01mNone\u001b[39;00m \u001b[38;5;129;01mand\u001b[39;00m \u001b[38;5;28misinstance\u001b[39m(op, ops\u001b[38;5;241m.\u001b[39mEagerTensor)):\n",
      "File \u001b[0;32m~/Daten2TB/Anaconda2021-11/envs/tf/lib/python3.9/site-packages/tensorflow/python/ops/gen_array_ops.py:10447\u001b[0m, in \u001b[0;36mstrided_slice\u001b[0;34m(input, begin, end, strides, begin_mask, end_mask, ellipsis_mask, new_axis_mask, shrink_axis_mask, name)\u001b[0m\n\u001b[1;32m  10445\u001b[0m   \u001b[38;5;28;01mreturn\u001b[39;00m _result\n\u001b[1;32m  10446\u001b[0m \u001b[38;5;28;01mexcept\u001b[39;00m _core\u001b[38;5;241m.\u001b[39m_NotOkStatusException \u001b[38;5;28;01mas\u001b[39;00m e:\n\u001b[0;32m> 10447\u001b[0m   \u001b[43m_ops\u001b[49m\u001b[38;5;241;43m.\u001b[39;49m\u001b[43mraise_from_not_ok_status\u001b[49m\u001b[43m(\u001b[49m\u001b[43me\u001b[49m\u001b[43m,\u001b[49m\u001b[43m \u001b[49m\u001b[43mname\u001b[49m\u001b[43m)\u001b[49m\n\u001b[1;32m  10448\u001b[0m \u001b[38;5;28;01mexcept\u001b[39;00m _core\u001b[38;5;241m.\u001b[39m_FallbackException:\n\u001b[1;32m  10449\u001b[0m   \u001b[38;5;28;01mpass\u001b[39;00m\n",
      "File \u001b[0;32m~/Daten2TB/Anaconda2021-11/envs/tf/lib/python3.9/site-packages/tensorflow/python/framework/ops.py:6862\u001b[0m, in \u001b[0;36mraise_from_not_ok_status\u001b[0;34m(e, name)\u001b[0m\n\u001b[1;32m   6860\u001b[0m message \u001b[38;5;241m=\u001b[39m e\u001b[38;5;241m.\u001b[39mmessage \u001b[38;5;241m+\u001b[39m (\u001b[38;5;124m\"\u001b[39m\u001b[38;5;124m name: \u001b[39m\u001b[38;5;124m\"\u001b[39m \u001b[38;5;241m+\u001b[39m name \u001b[38;5;28;01mif\u001b[39;00m name \u001b[38;5;129;01mis\u001b[39;00m \u001b[38;5;129;01mnot\u001b[39;00m \u001b[38;5;28;01mNone\u001b[39;00m \u001b[38;5;28;01melse\u001b[39;00m \u001b[38;5;124m\"\u001b[39m\u001b[38;5;124m\"\u001b[39m)\n\u001b[1;32m   6861\u001b[0m \u001b[38;5;66;03m# pylint: disable=protected-access\u001b[39;00m\n\u001b[0;32m-> 6862\u001b[0m \u001b[43msix\u001b[49m\u001b[38;5;241;43m.\u001b[39;49m\u001b[43mraise_from\u001b[49m\u001b[43m(\u001b[49m\u001b[43mcore\u001b[49m\u001b[38;5;241;43m.\u001b[39;49m\u001b[43m_status_to_exception\u001b[49m\u001b[43m(\u001b[49m\u001b[43me\u001b[49m\u001b[38;5;241;43m.\u001b[39;49m\u001b[43mcode\u001b[49m\u001b[43m,\u001b[49m\u001b[43m \u001b[49m\u001b[43mmessage\u001b[49m\u001b[43m)\u001b[49m\u001b[43m,\u001b[49m\u001b[43m \u001b[49m\u001b[38;5;28;43;01mNone\u001b[39;49;00m\u001b[43m)\u001b[49m\n",
      "File \u001b[0;32m<string>:3\u001b[0m, in \u001b[0;36mraise_from\u001b[0;34m(value, from_value)\u001b[0m\n",
      "\u001b[0;31mInvalidArgumentError\u001b[0m: Index out of range using input dim 2; input has only 2 dims [Op:StridedSlice] name: strided_slice/"
     ]
    }
   ],
   "source": [
    "plt.imshow(norm_example[0,:,:], aspect=\"auto\")\n",
    "plt.colorbar()"
   ]
  },
  {
   "cell_type": "code",
   "execution_count": 466,
   "id": "0718a710-2c05-4b92-82ef-eb6811f27f69",
   "metadata": {
    "tags": []
   },
   "outputs": [],
   "source": [
    "# help(norm_layer)"
   ]
  },
  {
   "cell_type": "code",
   "execution_count": 467,
   "id": "3b0c4fd8-dccf-49a8-bfbe-a05ff098a383",
   "metadata": {
    "tags": []
   },
   "outputs": [],
   "source": [
    "# norm_layer(train_take_example)"
   ]
  },
  {
   "cell_type": "code",
   "execution_count": 468,
   "id": "5b853a9d-5f50-4095-b03c-969174f5b9e0",
   "metadata": {
    "tags": []
   },
   "outputs": [
    {
     "ename": "AttributeError",
     "evalue": "'Flatten' object has no attribute 'variance'",
     "output_type": "error",
     "traceback": [
      "\u001b[0;31m---------------------------------------------------------------------------\u001b[0m",
      "\u001b[0;31mAttributeError\u001b[0m                            Traceback (most recent call last)",
      "Cell \u001b[0;32mIn[468], line 1\u001b[0m\n\u001b[0;32m----> 1\u001b[0m \u001b[43mnorm_layer\u001b[49m\u001b[38;5;241;43m.\u001b[39;49m\u001b[43mvariance\u001b[49m\n",
      "\u001b[0;31mAttributeError\u001b[0m: 'Flatten' object has no attribute 'variance'"
     ]
    }
   ],
   "source": [
    "norm_layer.variance"
   ]
  },
  {
   "cell_type": "code",
   "execution_count": 469,
   "id": "70b3b061-1eeb-48bd-b9c8-f2e73f73fa17",
   "metadata": {
    "tags": []
   },
   "outputs": [
    {
     "name": "stdout",
     "output_type": "stream",
     "text": [
      "Model: \"sequential_21\"\n",
      "_________________________________________________________________\n",
      "Layer (type)                 Output Shape              Param #   \n",
      "=================================================================\n",
      "flatten_21 (Flatten)         (None, 1161)              0         \n",
      "_________________________________________________________________\n",
      "dense_105 (Dense)            (None, 2000)              2324000   \n",
      "_________________________________________________________________\n",
      "dense_106 (Dense)            (None, 1200)              2401200   \n",
      "_________________________________________________________________\n",
      "dense_107 (Dense)            (None, 800)               960800    \n",
      "_________________________________________________________________\n",
      "dense_108 (Dense)            (None, 1200)              961200    \n",
      "_________________________________________________________________\n",
      "dense_109 (Dense)            (None, 1161)              1394361   \n",
      "_________________________________________________________________\n",
      "reshape_21 (Reshape)         (None, 129, 9)            0         \n",
      "=================================================================\n",
      "Total params: 8,041,561\n",
      "Trainable params: 8,041,561\n",
      "Non-trainable params: 0\n",
      "_________________________________________________________________\n"
     ]
    }
   ],
   "source": [
    "model.summary()"
   ]
  },
  {
   "cell_type": "code",
   "execution_count": 476,
   "id": "faea64cc-22a7-49a0-8c89-fb11785912cf",
   "metadata": {
    "tags": []
   },
   "outputs": [
    {
     "name": "stdout",
     "output_type": "stream",
     "text": [
      "Epoch 1/30\n",
      "20/20 [==============================] - 0s 22ms/step - loss: 5.0055e-06 - val_loss: 2.8087e-05\n",
      "Epoch 2/30\n",
      "20/20 [==============================] - 0s 21ms/step - loss: 4.9970e-06 - val_loss: 2.8109e-05\n",
      "Epoch 3/30\n",
      "20/20 [==============================] - 0s 22ms/step - loss: 4.9815e-06 - val_loss: 2.8095e-05\n",
      "Epoch 4/30\n",
      "20/20 [==============================] - 0s 21ms/step - loss: 4.9754e-06 - val_loss: 2.8061e-05\n",
      "Epoch 5/30\n",
      "20/20 [==============================] - 0s 21ms/step - loss: 4.9669e-06 - val_loss: 2.8068e-05\n",
      "Epoch 6/30\n",
      "20/20 [==============================] - 0s 21ms/step - loss: 4.9620e-06 - val_loss: 2.8071e-05\n",
      "Epoch 7/30\n",
      "20/20 [==============================] - 0s 21ms/step - loss: 4.9570e-06 - val_loss: 2.8083e-05\n",
      "Epoch 8/30\n",
      "20/20 [==============================] - 0s 21ms/step - loss: 4.9386e-06 - val_loss: 2.8070e-05\n",
      "Epoch 9/30\n",
      "20/20 [==============================] - 0s 21ms/step - loss: 4.9169e-06 - val_loss: 2.8074e-05\n",
      "Epoch 10/30\n",
      "20/20 [==============================] - 0s 21ms/step - loss: 4.9068e-06 - val_loss: 2.8049e-05\n",
      "Epoch 11/30\n",
      "20/20 [==============================] - 0s 21ms/step - loss: 4.8977e-06 - val_loss: 2.8066e-05\n",
      "Epoch 12/30\n",
      "20/20 [==============================] - 0s 21ms/step - loss: 4.8909e-06 - val_loss: 2.8021e-05\n",
      "Epoch 13/30\n",
      "20/20 [==============================] - 0s 21ms/step - loss: 4.8842e-06 - val_loss: 2.8018e-05\n",
      "Epoch 14/30\n",
      "20/20 [==============================] - 0s 21ms/step - loss: 4.8792e-06 - val_loss: 2.8019e-05\n",
      "Epoch 15/30\n",
      "20/20 [==============================] - 0s 21ms/step - loss: 4.8742e-06 - val_loss: 2.7985e-05\n",
      "Epoch 16/30\n",
      "20/20 [==============================] - 0s 21ms/step - loss: 4.8649e-06 - val_loss: 2.8005e-05\n",
      "Epoch 17/30\n",
      "20/20 [==============================] - 0s 21ms/step - loss: 4.8637e-06 - val_loss: 2.7983e-05\n",
      "Epoch 18/30\n",
      "20/20 [==============================] - 0s 21ms/step - loss: 4.8528e-06 - val_loss: 2.8002e-05\n",
      "Epoch 19/30\n",
      "20/20 [==============================] - 0s 21ms/step - loss: 4.8467e-06 - val_loss: 2.8016e-05\n",
      "Epoch 20/30\n",
      "20/20 [==============================] - 0s 21ms/step - loss: 4.8433e-06 - val_loss: 2.7997e-05\n",
      "Epoch 21/30\n",
      "20/20 [==============================] - 0s 21ms/step - loss: 4.8377e-06 - val_loss: 2.7990e-05\n",
      "Epoch 22/30\n",
      "20/20 [==============================] - 0s 21ms/step - loss: 4.8329e-06 - val_loss: 2.8004e-05\n",
      "Epoch 23/30\n",
      "20/20 [==============================] - 0s 21ms/step - loss: 4.8266e-06 - val_loss: 2.7990e-05\n",
      "Epoch 24/30\n",
      "20/20 [==============================] - 0s 22ms/step - loss: 4.8243e-06 - val_loss: 2.7999e-05\n",
      "Epoch 25/30\n",
      "20/20 [==============================] - 0s 21ms/step - loss: 4.8156e-06 - val_loss: 2.7973e-05\n",
      "Epoch 26/30\n",
      "20/20 [==============================] - 0s 21ms/step - loss: 4.8134e-06 - val_loss: 2.7974e-05\n",
      "Epoch 27/30\n",
      "20/20 [==============================] - 0s 21ms/step - loss: 4.8089e-06 - val_loss: 2.7988e-05\n",
      "Epoch 28/30\n",
      "20/20 [==============================] - 0s 21ms/step - loss: 4.8070e-06 - val_loss: 2.7963e-05\n",
      "Epoch 29/30\n",
      "20/20 [==============================] - 0s 21ms/step - loss: 4.7990e-06 - val_loss: 2.7958e-05\n",
      "Epoch 30/30\n",
      "20/20 [==============================] - 0s 21ms/step - loss: 4.7972e-06 - val_loss: 2.7951e-05\n"
     ]
    },
    {
     "data": {
      "text/plain": [
       "<tensorflow.python.keras.callbacks.History at 0x7fcfb7c5b2e0>"
      ]
     },
     "execution_count": 476,
     "metadata": {},
     "output_type": "execute_result"
    }
   ],
   "source": [
    "model.fit(train_dataset,validation_data=test_dataset, epochs=30)"
   ]
  },
  {
   "cell_type": "markdown",
   "id": "239637b6-6a81-4fa3-bbf4-ced84367c9a7",
   "metadata": {
    "tags": []
   },
   "source": [
    "## Looking at predictions\n",
    "Inspecting the predictions of the model on the training set."
   ]
  },
  {
   "cell_type": "markdown",
   "id": "7049743d-bf2d-4319-bb67-45a0442ce103",
   "metadata": {},
   "source": [
    "# Note: !!!!!!!!!!!!!!!!!!!!!\n",
    "The normalization layer seems to be a problem.\n",
    "Even with just the amplitude and the normalization layer the results are garbage. but not so bad for no normalization..."
   ]
  },
  {
   "cell_type": "code",
   "execution_count": 477,
   "id": "7aff7f56-8d8d-402d-952d-00afc311dbc2",
   "metadata": {
    "tags": []
   },
   "outputs": [],
   "source": [
    "# release train dataset:\n",
    "# train_dataset = None\n",
    "# test_dataset = None\n",
    "example_count = 2\n",
    "train_example_data = train_dataset.take(count=example_count)"
   ]
  },
  {
   "cell_type": "code",
   "execution_count": 478,
   "id": "8fec0a14-350d-4d2b-ba03-b7e7fbdd0bad",
   "metadata": {
    "tags": []
   },
   "outputs": [
    {
     "data": {
      "text/plain": [
       "<matplotlib.colorbar.Colorbar at 0x7fcf5e40b940>"
      ]
     },
     "execution_count": 478,
     "metadata": {},
     "output_type": "execute_result"
    },
    {
     "data": {
      "image/png": "[encoded data removed]",
      "text/plain": [
       "<Figure size 640x480 with 2 Axes>"
      ]
     },
     "metadata": {},
     "output_type": "display_data"
    }
   ],
   "source": [
    "# plt.imshow(labels[0,:,:,1], aspect=\"auto\")\n",
    "plt.imshow(labels[0,:,:], aspect=\"auto\")\n",
    "plt.colorbar()"
   ]
  },
  {
   "cell_type": "code",
   "execution_count": 488,
   "id": "12adb152-ba0f-477d-86fb-51a97ab491c6",
   "metadata": {
    "tags": []
   },
   "outputs": [
    {
     "name": "stdout",
     "output_type": "stream",
     "text": [
      "<class 'tuple'>\n",
      "<class 'tuple'>\n"
     ]
    }
   ],
   "source": [
    "for i in train_example_data.as_numpy_iterator():\n",
    "    print(type(i))"
   ]
  },
  {
   "cell_type": "code",
   "execution_count": 479,
   "id": "6cfc8fa7-73bd-45b1-8f7e-6ee37ac0b6ac",
   "metadata": {
    "tags": []
   },
   "outputs": [],
   "source": [
    "predictions = model.predict(train_example_data)"
   ]
  },
  {
   "cell_type": "code",
   "execution_count": 480,
   "id": "65a68f95-190f-4e88-8ae5-6c5b6562758a",
   "metadata": {
    "tags": []
   },
   "outputs": [
    {
     "data": {
      "text/plain": [
       "<matplotlib.colorbar.Colorbar at 0x7fcf2cbc2fd0>"
      ]
     },
     "execution_count": 480,
     "metadata": {},
     "output_type": "execute_result"
    },
    {
     "data": {
      "image/png": "[encoded data removed]",
      "text/plain": [
       "<Figure size 640x480 with 2 Axes>"
      ]
     },
     "metadata": {},
     "output_type": "display_data"
    }
   ],
   "source": [
    "# plt.imshow(predictions[0,:,:,1], aspect=\"auto\")\n",
    "plt.imshow(predictions[0,:,:], aspect=\"auto\")\n",
    "\n",
    "plt.colorbar()"
   ]
  },
  {
   "cell_type": "code",
   "execution_count": null,
   "id": "15a8d25f-07ab-40a0-92c9-6bff499e136a",
   "metadata": {},
   "outputs": [],
   "source": []
  },
  {
   "cell_type": "code",
   "execution_count": 388,
   "id": "48bd0bde-d606-4d18-b9b2-d42e58222c59",
   "metadata": {
    "tags": []
   },
   "outputs": [
    {
     "data": {
      "text/plain": [
       "0.58234245"
      ]
     },
     "execution_count": 388,
     "metadata": {},
     "output_type": "execute_result"
    }
   ],
   "source": [
    "np.var(predictions)"
   ]
  },
  {
   "cell_type": "code",
   "execution_count": 389,
   "id": "867f1c5e-a9fb-47e0-b648-a8ba25c1b95a",
   "metadata": {
    "tags": []
   },
   "outputs": [
    {
     "data": {
      "text/plain": [
       "(1024, 129, 9, 2)"
      ]
     },
     "execution_count": 389,
     "metadata": {},
     "output_type": "execute_result"
    }
   ],
   "source": [
    "predictions.shape"
   ]
  },
  {
   "cell_type": "code",
   "execution_count": 390,
   "id": "dd593580-d69e-4a59-97cc-11df9147c5a3",
   "metadata": {
    "tags": []
   },
   "outputs": [],
   "source": [
    "predictions.shape\n",
    "\n",
    "def plot_example(index):\n",
    "    prediction = predictions[index]\n",
    "    actual = labels[index]\n",
    "    noisy = examples[index]\n",
    "    \n",
    "    fig, [ax1, ax2, ax3, ax4] = plt.subplots(1,4)\n",
    "    ax2.imshow(prediction, aspect = \"auto\")\n",
    "    ax3.imshow(actual, aspect= \"auto\")\n",
    "    ax1.imshow(noisy, aspect=\"auto\")\n",
    "    ax4.imshow(actual-prediction, aspect=\"auto\")\n",
    "    plt.show()"
   ]
  },
  {
   "cell_type": "code",
   "execution_count": 55,
   "id": "9f92e3b7-3df9-483f-ad3b-03fc0651862f",
   "metadata": {
    "tags": []
   },
   "outputs": [
    {
     "data": {
      "image/png": "[encoded data removed]",
      "text/plain": [
       "<Figure size 640x480 with 4 Axes>"
      ]
     },
     "metadata": {},
     "output_type": "display_data"
    },
    {
     "data": {
      "application/vnd.jupyter.widget-view+json": {
       "model_id": "2468c9345450499bb10de9f90702ad67",
       "version_major": 2,
       "version_minor": 0
      },
      "text/plain": [
       "interactive(children=(IntSlider(value=10, description='index', max=20), Output()), _dom_classes=('widget-inter…"
      ]
     },
     "metadata": {},
     "output_type": "display_data"
    },
    {
     "data": {
      "text/plain": [
       "<function __main__.plot_example(index)>"
      ]
     },
     "execution_count": 55,
     "metadata": {},
     "output_type": "execute_result"
    }
   ],
   "source": [
    "interact(plot_example, index=(0, 20, 1))"
   ]
  },
  {
   "cell_type": "code",
   "execution_count": 56,
   "id": "6f059822-d8d3-42c1-acbd-5d6dfcd5361b",
   "metadata": {
    "tags": []
   },
   "outputs": [],
   "source": [
    "def plot_time_domain( index):\n",
    "\n",
    "    test_noisy = noisy_stft.get_data()[index,:,:,0]\n",
    "    test_noisy_phase = noisy_stft.get_data()[index,:,:,1]\n",
    "\n",
    "    test_pure = labels[index,:,:]\n",
    "    test_pure_phase = noisy_stft.get_data()[index,:,:,1]\n",
    "\n",
    "    model_amp = predictions[index]\n",
    "    noisy_phase = noisy_stft.get_data()[index,:,:,1]\n",
    "\n",
    "    fig, [ax1, ax2] =plt.subplots(1,2)\n",
    "    t, signal_pure = istft(test_pure*np.exp(1j*test_pure_phase), fs = 1./5.)\n",
    "    t, signal_model = istft(model_amp*np.exp(1j*noisy_phase), fs = 1./5.)\n",
    "    t, signal_example = istft(test_noisy*np.exp(1j*test_noisy_phase), fs = 1./5.)\n",
    "\n",
    "    fig.set_size_inches((12,10))\n",
    "    ax1.plot(t,signal_example)\n",
    "    ax2.plot(t, signal_model)\n",
    "    ax2.plot(t, signal_pure, alpha=0.5, color=\"red\")\n",
    "    plt.show()"
   ]
  },
  {
   "cell_type": "code",
   "execution_count": 57,
   "id": "dbfa7920-0fbe-4288-8bd6-29c1745aa863",
   "metadata": {
    "tags": []
   },
   "outputs": [
    {
     "data": {
      "application/vnd.jupyter.widget-view+json": {
       "model_id": "6918dd6655614040ba5a8a2ac7832bd2",
       "version_major": 2,
       "version_minor": 0
      },
      "text/plain": [
       "interactive(children=(IntSlider(value=4999, description='index', max=9999), Output()), _dom_classes=('widget-i…"
      ]
     },
     "metadata": {},
     "output_type": "display_data"
    },
    {
     "data": {
      "text/plain": [
       "<function __main__.plot_time_domain(index)>"
      ]
     },
     "execution_count": 57,
     "metadata": {},
     "output_type": "execute_result"
    }
   ],
   "source": [
    "interact(plot_time_domain, index = (0,9999,1))"
   ]
  },
  {
   "cell_type": "markdown",
   "id": "9e5e00c5-f9df-4420-9a6f-1e21ba5fdcf8",
   "metadata": {},
   "source": [
    "## Visualize the effect on the test set\n",
    "Previous visualizations were for the training set only.\n",
    "\n",
    "Check the influence of the test set here."
   ]
  },
  {
   "cell_type": "code",
   "execution_count": 58,
   "id": "b78f1f78-755e-4437-a802-c9c24c9c5907",
   "metadata": {
    "tags": []
   },
   "outputs": [],
   "source": [
    "predictions_test = model.predict(examples_test)"
   ]
  },
  {
   "cell_type": "code",
   "execution_count": 59,
   "id": "da7c1e6d-5910-41a5-9ed1-cf7d3294b509",
   "metadata": {
    "tags": []
   },
   "outputs": [],
   "source": [
    "# examples_test = noisy_test_stft.get_data()[::stride_reduce,:,:,:]\n",
    "# labels_test = pure_test_stft.get_data()[::stride_reduce,:,:,:]\n",
    "\n",
    "# examples_test_phase = noisy_test_stft.get_data()[::stride_reduce,:,:,:]\n",
    "# labels_test_phase = pure_test_stft.get_data()[::stride_reduce,:,:,:]"
   ]
  },
  {
   "cell_type": "code",
   "execution_count": 60,
   "id": "f3d60b02-b69d-41b1-a578-1c658d350a7e",
   "metadata": {
    "tags": []
   },
   "outputs": [
    {
     "data": {
      "text/plain": [
       "(1078, 129, 9, 2)"
      ]
     },
     "execution_count": 60,
     "metadata": {},
     "output_type": "execute_result"
    }
   ],
   "source": [
    "predictions_test.shape"
   ]
  },
  {
   "cell_type": "code",
   "execution_count": 61,
   "id": "f784e643-489f-490a-a658-ca8f755c331c",
   "metadata": {
    "tags": []
   },
   "outputs": [
    {
     "data": {
      "text/plain": [
       "(1078, 129, 9, 2)"
      ]
     },
     "execution_count": 61,
     "metadata": {},
     "output_type": "execute_result"
    }
   ],
   "source": [
    "labels_test.shape"
   ]
  },
  {
   "cell_type": "code",
   "execution_count": 62,
   "id": "b7796f4e-de14-4777-a0f1-de916b3298ca",
   "metadata": {
    "tags": []
   },
   "outputs": [],
   "source": [
    "index = 10\n",
    "prediction_current = predictions_test[index]\n",
    "    \n",
    "# the pure example from the test set\n",
    "test_pure = labels_test[index]\n",
    "\n",
    "pred_amp = prediction_current[:,:,0]\n",
    "pred_phase = prediction_current[:,:,1]"
   ]
  },
  {
   "cell_type": "code",
   "execution_count": 63,
   "id": "3ec49555-b71a-4d06-9013-895a625e155c",
   "metadata": {
    "tags": []
   },
   "outputs": [
    {
     "data": {
      "text/plain": [
       "array([[0., 0., 0., ..., 0., 0., 0.],\n",
       "       [0., 0., 0., ..., 0., 0., 0.],\n",
       "       [0., 0., 0., ..., 0., 0., 0.],\n",
       "       ...,\n",
       "       [0., 0., 0., ..., 0., 0., 0.],\n",
       "       [0., 0., 0., ..., 0., 0., 0.],\n",
       "       [0., 0., 0., ..., 0., 0., 0.]], dtype=float32)"
      ]
     },
     "execution_count": 63,
     "metadata": {},
     "output_type": "execute_result"
    }
   ],
   "source": [
    "pred_amp"
   ]
  },
  {
   "cell_type": "code",
   "execution_count": 64,
   "id": "bea6eb91-1f76-4d1d-baac-095078068c73",
   "metadata": {
    "tags": []
   },
   "outputs": [],
   "source": [
    "def plot_time_domain_test( index):\n",
    "\n",
    "    # get the test set prediction\n",
    "    # test_noisy = examples_test[index]\n",
    "    # test_noisy_phase = examples_test_phase[index]\n",
    "    prediction_current = predictions_test[index]\n",
    "    \n",
    "    # the pure example from the test set\n",
    "    test_pure = labels_test[index]\n",
    "\n",
    "    pred_amp = prediction_current[:,:,0]\n",
    "    pred_phase = prediction_current[:,:,1]\n",
    "    \n",
    "    # model_amp = predictions_test[index]\n",
    "    # noisy_phase = examples_test_phase[index]\n",
    "\n",
    "    # calculate the STFT inverse of the deep learning predictions and the actual result\n",
    "    # t, signal_pure = istft(test_pure*np.exp(1j*test_pure_phase), fs = 1./5.)\n",
    "    \n",
    "    t, signal_pred = istft(pred_amp*np.exp(1j*pred_phase), fs = 1./5.)\n",
    "    # t, signal_example = istft(test_noisy*np.exp(1j*test_noisy_phase), fs = 1./5.)  \n",
    "    \n",
    "    fig, [ax1, ax2] =plt.subplots(1,2)\n",
    "\n",
    "    fig.set_size_inches((12,10))\n",
    "    # ax1.plot(t,signal_example)\n",
    "    ax2.plot(t, signal_pred)\n",
    "    # ax2.plot(t, signal_pure, alpha=0.5, color=\"red\")\n",
    "    plt.show()"
   ]
  },
  {
   "cell_type": "code",
   "execution_count": 65,
   "id": "b4a87db6-d0c5-42d4-bae6-2fb777e89953",
   "metadata": {
    "tags": []
   },
   "outputs": [
    {
     "data": {
      "application/vnd.jupyter.widget-view+json": {
       "model_id": "62cef61b327a4782b6ddbcc8271aa63b",
       "version_major": 2,
       "version_minor": 0
      },
      "text/plain": [
       "interactive(children=(IntSlider(value=539, description='index', max=1078), Output()), _dom_classes=('widget-in…"
      ]
     },
     "metadata": {},
     "output_type": "display_data"
    },
    {
     "data": {
      "text/plain": [
       "<function __main__.plot_time_domain_test(index)>"
      ]
     },
     "execution_count": 65,
     "metadata": {},
     "output_type": "execute_result"
    }
   ],
   "source": [
    "num_test_examples = examples_test.shape[0]\n",
    "interact(plot_time_domain_test, index = (0,num_test_examples,1))"
   ]
  },
  {
   "cell_type": "markdown",
   "id": "3762b93b-6e11-44ec-a3c5-b1adfa2fb528",
   "metadata": {},
   "source": [
    "## Store the model\n",
    "Storing the model after a long training session."
   ]
  },
  {
   "cell_type": "code",
   "execution_count": 69,
   "id": "57c882d1-4477-4896-924c-b5177c0f523b",
   "metadata": {
    "tags": []
   },
   "outputs": [],
   "source": [
    "model_folder = \"model/\""
   ]
  },
  {
   "cell_type": "code",
   "execution_count": 70,
   "id": "2ec72095-e8de-44e2-9b31-1d55d04a3461",
   "metadata": {
    "tags": []
   },
   "outputs": [],
   "source": [
    "\n",
    "# Get the current date\n",
    "now = datetime.datetime.now()\n",
    "\n",
    "# Format the date as \"day-month-year\"\n",
    "date_str = now.strftime(\"%d-%m-h%H%M\")\n",
    "\n",
    "# \n",
    "\n",
    "# Parameter count\n",
    "trainableParams = np.sum([np.prod(v.get_shape()) for v in model.trainable_weights])\n",
    "\n",
    "\n",
    "model_name = f\"model-{date_str}-p{trainableParams}\""
   ]
  },
  {
   "cell_type": "code",
   "execution_count": 71,
   "id": "6bfa107d-16e1-4b79-b822-b71887e34bda",
   "metadata": {
    "tags": []
   },
   "outputs": [
    {
     "name": "stdout",
     "output_type": "stream",
     "text": [
      "INFO:tensorflow:Assets written to: model/model-29-03-h1401-p2941361/assets\n"
     ]
    }
   ],
   "source": [
    "\n",
    "\n",
    "path = model_folder + model_name\n",
    "model.save(path)"
   ]
  },
  {
   "cell_type": "markdown",
   "id": "bd0ab5e2-119a-4c76-ab9e-528b84411957",
   "metadata": {},
   "source": [
    "## Analysis of maximum values\n",
    "Looking at maximum values of amplitude over the whole array"
   ]
  },
  {
   "cell_type": "code",
   "execution_count": 147,
   "id": "2751a123-aa1d-4437-8104-c6b789bf440e",
   "metadata": {
    "tags": []
   },
   "outputs": [],
   "source": [
    "test_example = noisy_stft.get_data()[0]\n",
    "shape = test_example.shape\n",
    "test_example_reshaped = noisy_stft.get_data()[0].reshape((1, shape[0], shape[1], shape[2]))\n",
    "\n",
    "test_pure = pure_stft.get_data()[0]"
   ]
  },
  {
   "cell_type": "code",
   "execution_count": 148,
   "id": "993ba3f6-b802-4d2b-ac0c-35f843092729",
   "metadata": {
    "tags": []
   },
   "outputs": [
    {
     "data": {
      "text/plain": [
       "0.1167289817731223"
      ]
     },
     "execution_count": 148,
     "metadata": {},
     "output_type": "execute_result"
    }
   ],
   "source": [
    "test_pure[:,:,0].max()"
   ]
  },
  {
   "cell_type": "markdown",
   "id": "65d8bffc-c85c-4356-9fe1-386ff9c0351c",
   "metadata": {},
   "source": [
    "Todo\n",
    "Normalize the phase and amplitude values.."
   ]
  },
  {
   "cell_type": "code",
   "execution_count": 27,
   "id": "728854d5-4030-48e9-8865-89228857d160",
   "metadata": {
    "tags": []
   },
   "outputs": [],
   "source": [
    "amps_noisy =noisy_stft.get_data()[:,:,:,0]"
   ]
  },
  {
   "cell_type": "code",
   "execution_count": 28,
   "id": "cc0e735a-37b3-4780-a56d-6f0e6b212830",
   "metadata": {
    "tags": []
   },
   "outputs": [],
   "source": [
    "amps_noisy_flattened = amps_noisy.flatten()"
   ]
  },
  {
   "cell_type": "code",
   "execution_count": 29,
   "id": "1b516141-c7d1-4207-a12f-a0031fb15379",
   "metadata": {
    "tags": []
   },
   "outputs": [
    {
     "data": {
      "text/plain": [
       "(array([1.0101877e+07, 1.1225070e+06, 1.9600700e+05, 1.0042300e+05,\n",
       "        5.1438000e+04, 2.1964000e+04, 9.8380000e+03, 4.6260000e+03,\n",
       "        1.1690000e+03, 1.5100000e+02]),\n",
       " array([2.14359953e-11, 1.67539747e-02, 3.35079495e-02, 5.02619242e-02,\n",
       "        6.70158989e-02, 8.37698737e-02, 1.00523848e-01, 1.17277823e-01,\n",
       "        1.34031798e-01, 1.50785773e-01, 1.67539747e-01]),\n",
       " <BarContainer object of 10 artists>)"
      ]
     },
     "execution_count": 29,
     "metadata": {},
     "output_type": "execute_result"
    },
    {
     "data": {
      "image/png": "[encoded data removed]",
      "text/plain": [
       "<Figure size 640x480 with 1 Axes>"
      ]
     },
     "metadata": {},
     "output_type": "display_data"
    }
   ],
   "source": [
    "plt.hist(amps_noisy_flattened)"
   ]
  },
  {
   "cell_type": "code",
   "execution_count": 30,
   "id": "9063e8e5-df9b-4911-90b9-2606ef41e874",
   "metadata": {
    "tags": []
   },
   "outputs": [],
   "source": [
    "amps_noisy_max = amps_noisy.max(axis=2).max(axis=1)"
   ]
  },
  {
   "cell_type": "code",
   "execution_count": 31,
   "id": "2d7f8f9f-fe81-4599-b965-31be2a86179d",
   "metadata": {
    "tags": []
   },
   "outputs": [
    {
     "data": {
      "text/plain": [
       "(10000,)"
      ]
     },
     "execution_count": 31,
     "metadata": {},
     "output_type": "execute_result"
    }
   ],
   "source": [
    "amps_noisy_max.shape"
   ]
  },
  {
   "cell_type": "code",
   "execution_count": 32,
   "id": "50c79a4d-7dbc-41a4-aa77-fc877d1d6468",
   "metadata": {
    "tags": []
   },
   "outputs": [
    {
     "data": {
      "text/plain": [
       "(array([ 153.,  364., 2132., 2197., 1479., 1392., 1000.,  879.,  345.,\n",
       "          59.]),\n",
       " array([0.04645806, 0.05856623, 0.0706744 , 0.08278256, 0.09489073,\n",
       "        0.1069989 , 0.11910707, 0.13121524, 0.14332341, 0.15543158,\n",
       "        0.16753975]),\n",
       " <BarContainer object of 10 artists>)"
      ]
     },
     "execution_count": 32,
     "metadata": {},
     "output_type": "execute_result"
    },
    {
     "data": {
      "image/png": "[encoded data removed]",
      "text/plain": [
       "<Figure size 640x480 with 1 Axes>"
      ]
     },
     "metadata": {},
     "output_type": "display_data"
    }
   ],
   "source": [
    "plt.hist(amps_noisy_max)"
   ]
  },
  {
   "cell_type": "code",
   "execution_count": null,
   "id": "f1bb57de-866e-4108-8e5c-98068a5f6c01",
   "metadata": {},
   "outputs": [],
   "source": []
  },
  {
   "cell_type": "code",
   "execution_count": null,
   "id": "ec32d850-cfda-4b0b-87c4-0582e2b3116c",
   "metadata": {},
   "outputs": [],
   "source": []
  }
 ],
 "metadata": {
  "kernelspec": {
   "display_name": "Python 3 (ipykernel)",
   "language": "python",
   "name": "python3"
  },
  "language_info": {
   "codemirror_mode": {
    "name": "ipython",
    "version": 3
   },
   "file_extension": ".py",
   "mimetype": "text/x-python",
   "name": "python",
   "nbconvert_exporter": "python",
   "pygments_lexer": "ipython3",
   "version": "3.9.16"
  }
 },
 "nbformat": 4,
 "nbformat_minor": 5
}
