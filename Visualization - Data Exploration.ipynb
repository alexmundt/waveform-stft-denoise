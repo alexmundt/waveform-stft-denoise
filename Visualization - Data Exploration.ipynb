{
 "cells": [
  {
   "cell_type": "code",
   "execution_count": 1,
   "id": "4c6827dd-1ebc-454e-a304-2d59e091329b",
   "metadata": {
    "tags": []
   },
   "outputs": [
    {
     "name": "stderr",
     "output_type": "stream",
     "text": [
      "2023-03-28 11:18:17.697401: I tensorflow/stream_executor/platform/default/dso_loader.cc:49] Successfully opened dynamic library libcudart.so.10.1\n"
     ]
    }
   ],
   "source": [
    "import os\n",
    "import numpy as np\n",
    "\n",
    "import matplotlib.pyplot as plt\n",
    "\n",
    "from scipy.signal import stft, istft\n",
    "\n",
    "import tensorflow as tf\n",
    "from ipywidgets import interact\n",
    "\n",
    "from code.stftprocessing import StftDataset\n",
    "from code.dsvisual import DatasetVisualizer\n",
    "from tqdm import tqdm"
   ]
  },
  {
   "cell_type": "code",
   "execution_count": 2,
   "id": "ba0ea4c9-b8db-4793-b467-9c6ffb8c88de",
   "metadata": {
    "tags": []
   },
   "outputs": [],
   "source": [
    "folder = \"training/new_small\"\n",
    "base = \"noisy_small\"\n",
    "target = \"pure_small\"\n"
   ]
  },
  {
   "cell_type": "code",
   "execution_count": 3,
   "id": "415b0963-dc53-4d36-ad2d-42b22367931d",
   "metadata": {
    "tags": []
   },
   "outputs": [
    {
     "name": "stdout",
     "output_type": "stream",
     "text": [
      "Files loaded.\n",
      "Files loaded.\n"
     ]
    }
   ],
   "source": [
    "noisy_stft = StftDataset()\n",
    "pure_stft = StftDataset()\n",
    "\n",
    "noisy_stft.load(folder, base)\n",
    "pure_stft.load(folder, target)"
   ]
  },
  {
   "cell_type": "code",
   "execution_count": 4,
   "id": "996e5d7e-3963-4279-8344-c8774d6b8e42",
   "metadata": {
    "tags": []
   },
   "outputs": [],
   "source": [
    "visu = DatasetVisualizer(noisy_stft, pure_stft)"
   ]
  },
  {
   "cell_type": "code",
   "execution_count": 5,
   "id": "c75e9a72-5109-4674-8de1-96b48ac15893",
   "metadata": {
    "tags": []
   },
   "outputs": [
    {
     "data": {
      "application/vnd.jupyter.widget-view+json": {
       "model_id": "01cea4a55e334e4ba371d7faf444efb8",
       "version_major": 2,
       "version_minor": 0
      },
      "text/plain": [
       "interactive(children=(IntSlider(value=4999, description='index', max=9999), Output()), _dom_classes=('widget-i…"
      ]
     },
     "metadata": {},
     "output_type": "display_data"
    }
   ],
   "source": [
    "visu.browse_amplitude()"
   ]
  },
  {
   "cell_type": "code",
   "execution_count": 6,
   "id": "a4fd7f5e-b072-4b49-8437-6fc483fd771b",
   "metadata": {
    "tags": []
   },
   "outputs": [
    {
     "data": {
      "application/vnd.jupyter.widget-view+json": {
       "model_id": "d9f1698153bc4ec89d2c92b266d7f807",
       "version_major": 2,
       "version_minor": 0
      },
      "text/plain": [
       "interactive(children=(IntSlider(value=4999, description='index', max=9999), Output()), _dom_classes=('widget-i…"
      ]
     },
     "metadata": {},
     "output_type": "display_data"
    }
   ],
   "source": [
    "visu.browse_time_domain()"
   ]
  },
  {
   "cell_type": "code",
   "execution_count": null,
   "id": "755143d0-9516-476a-9fc7-38cf75857067",
   "metadata": {},
   "outputs": [],
   "source": []
  }
 ],
 "metadata": {
  "kernelspec": {
   "display_name": "Python 3 (ipykernel)",
   "language": "python",
   "name": "python3"
  },
  "language_info": {
   "codemirror_mode": {
    "name": "ipython",
    "version": 3
   },
   "file_extension": ".py",
   "mimetype": "text/x-python",
   "name": "python",
   "nbconvert_exporter": "python",
   "pygments_lexer": "ipython3",
   "version": "3.9.16"
  }
 },
 "nbformat": 4,
 "nbformat_minor": 5
}
