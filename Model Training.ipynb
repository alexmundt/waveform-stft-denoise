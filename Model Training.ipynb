{
 "cells": [
  {
   "cell_type": "code",
   "execution_count": 1,
   "id": "2d038a39-333d-466f-813b-ba25e46aaf08",
   "metadata": {
    "tags": []
   },
   "outputs": [
    {
     "name": "stderr",
     "output_type": "stream",
     "text": [
      "2023-03-29 10:42:14.206020: I tensorflow/stream_executor/platform/default/dso_loader.cc:49] Successfully opened dynamic library libcudart.so.10.1\n"
     ]
    }
   ],
   "source": [
    "import os\n",
    "import numpy as np\n",
    "import matplotlib.pyplot as plt\n",
    "from scipy.signal import stft, istft\n",
    "import tensorflow as tf\n",
    "from ipywidgets import interact\n",
    "from code.stftprocessing import StftDataset\n",
    "from code.dsvisual import DatasetVisualizer\n",
    "from tqdm import tqdm\n",
    "import datetime\n"
   ]
  },
  {
   "cell_type": "code",
   "execution_count": 2,
   "id": "7c5005d7-ef4c-4d6f-ac61-9022a8267d18",
   "metadata": {
    "tags": []
   },
   "outputs": [],
   "source": [
    "# folder = \"training/new_small\"\n",
    "# base = \"noisy_small\"\n",
    "# target = \"pure_small\"\n",
    "\n",
    "folder = \"training/original training\"\n",
    "base = \"noisy\"\n",
    "target = \"pure\"\n",
    "\n",
    "test_folder = \"training/test set\"\n",
    "test_base = \"noisy_test\"\n",
    "test_target = \"pure_test\"\n"
   ]
  },
  {
   "cell_type": "code",
   "execution_count": 3,
   "id": "67a3f1e0-0fa2-4d50-8552-5575b1bc0f3d",
   "metadata": {
    "tags": []
   },
   "outputs": [
    {
     "name": "stdout",
     "output_type": "stream",
     "text": [
      "Files loaded.\n",
      "Files loaded.\n",
      "Files loaded.\n",
      "Files loaded.\n"
     ]
    }
   ],
   "source": [
    "noisy_stft = StftDataset()\n",
    "pure_stft = StftDataset()\n",
    "\n",
    "noisy_stft.load(folder, base)\n",
    "pure_stft.load(folder, target)\n",
    "\n",
    "# test sets\n",
    "noisy_test_stft = StftDataset()\n",
    "pure_test_stft = StftDataset()\n",
    "noisy_test_stft.load(test_folder, test_base)\n",
    "pure_test_stft.load(test_folder, test_target)"
   ]
  },
  {
   "cell_type": "code",
   "execution_count": 4,
   "id": "11608d20-dfe1-4179-9d4c-6dd7b94af13e",
   "metadata": {
    "tags": []
   },
   "outputs": [
    {
     "data": {
      "text/plain": [
       "(430848, 129, 9, 2)"
      ]
     },
     "execution_count": 4,
     "metadata": {},
     "output_type": "execute_result"
    }
   ],
   "source": [
    "noisy_stft.get_data().shape"
   ]
  },
  {
   "cell_type": "code",
   "execution_count": 5,
   "id": "fc006258-5af8-42b3-ab54-a4189c550ef4",
   "metadata": {},
   "outputs": [
    {
     "name": "stderr",
     "output_type": "stream",
     "text": [
      "2023-03-29 10:44:28.706197: I tensorflow/compiler/jit/xla_cpu_device.cc:41] Not creating XLA devices, tf_xla_enable_xla_devices not set\n",
      "2023-03-29 10:44:28.783853: I tensorflow/stream_executor/platform/default/dso_loader.cc:49] Successfully opened dynamic library libcuda.so.1\n",
      "2023-03-29 10:44:28.846667: I tensorflow/stream_executor/cuda/cuda_gpu_executor.cc:941] successful NUMA node read from SysFS had negative value (-1), but there must be at least one NUMA node, so returning NUMA node zero\n",
      "2023-03-29 10:44:28.854492: I tensorflow/core/common_runtime/gpu/gpu_device.cc:1720] Found device 0 with properties: \n",
      "pciBusID: 0000:04:00.0 name: NVIDIA GeForce GTX 970 computeCapability: 5.2\n",
      "coreClock: 1.253GHz coreCount: 13 deviceMemorySize: 3.93GiB deviceMemoryBandwidth: 208.91GiB/s\n",
      "2023-03-29 10:44:28.854542: I tensorflow/stream_executor/platform/default/dso_loader.cc:49] Successfully opened dynamic library libcudart.so.10.1\n",
      "2023-03-29 10:44:29.056503: I tensorflow/stream_executor/platform/default/dso_loader.cc:49] Successfully opened dynamic library libcublas.so.10\n",
      "2023-03-29 10:44:29.056649: I tensorflow/stream_executor/platform/default/dso_loader.cc:49] Successfully opened dynamic library libcublasLt.so.10\n",
      "2023-03-29 10:44:29.171867: I tensorflow/stream_executor/platform/default/dso_loader.cc:49] Successfully opened dynamic library libcufft.so.10\n",
      "2023-03-29 10:44:29.230884: I tensorflow/stream_executor/platform/default/dso_loader.cc:49] Successfully opened dynamic library libcurand.so.10\n",
      "2023-03-29 10:44:29.445094: I tensorflow/stream_executor/platform/default/dso_loader.cc:49] Successfully opened dynamic library libcusolver.so.10\n",
      "2023-03-29 10:44:29.487307: I tensorflow/stream_executor/platform/default/dso_loader.cc:49] Successfully opened dynamic library libcusparse.so.10\n",
      "2023-03-29 10:44:29.871202: I tensorflow/stream_executor/platform/default/dso_loader.cc:49] Successfully opened dynamic library libcudnn.so.7\n",
      "2023-03-29 10:44:29.871474: I tensorflow/stream_executor/cuda/cuda_gpu_executor.cc:941] successful NUMA node read from SysFS had negative value (-1), but there must be at least one NUMA node, so returning NUMA node zero\n",
      "2023-03-29 10:44:29.871781: I tensorflow/stream_executor/cuda/cuda_gpu_executor.cc:941] successful NUMA node read from SysFS had negative value (-1), but there must be at least one NUMA node, so returning NUMA node zero\n",
      "2023-03-29 10:44:29.871970: I tensorflow/core/common_runtime/gpu/gpu_device.cc:1862] Adding visible gpu devices: 0\n",
      "2023-03-29 10:44:30.013741: I tensorflow/core/platform/cpu_feature_guard.cc:142] This TensorFlow binary is optimized with oneAPI Deep Neural Network Library (oneDNN) to use the following CPU instructions in performance-critical operations:  SSE4.1 SSE4.2 AVX AVX2 FMA\n",
      "To enable them in other operations, rebuild TensorFlow with the appropriate compiler flags.\n",
      "2023-03-29 10:44:30.019688: I tensorflow/compiler/jit/xla_gpu_device.cc:99] Not creating XLA devices, tf_xla_enable_xla_devices not set\n",
      "2023-03-29 10:44:30.019969: I tensorflow/stream_executor/cuda/cuda_gpu_executor.cc:941] successful NUMA node read from SysFS had negative value (-1), but there must be at least one NUMA node, so returning NUMA node zero\n",
      "2023-03-29 10:44:30.020231: I tensorflow/core/common_runtime/gpu/gpu_device.cc:1720] Found device 0 with properties: \n",
      "pciBusID: 0000:04:00.0 name: NVIDIA GeForce GTX 970 computeCapability: 5.2\n",
      "coreClock: 1.253GHz coreCount: 13 deviceMemorySize: 3.93GiB deviceMemoryBandwidth: 208.91GiB/s\n",
      "2023-03-29 10:44:30.020279: I tensorflow/stream_executor/platform/default/dso_loader.cc:49] Successfully opened dynamic library libcudart.so.10.1\n",
      "2023-03-29 10:44:30.020305: I tensorflow/stream_executor/platform/default/dso_loader.cc:49] Successfully opened dynamic library libcublas.so.10\n",
      "2023-03-29 10:44:30.020324: I tensorflow/stream_executor/platform/default/dso_loader.cc:49] Successfully opened dynamic library libcublasLt.so.10\n",
      "2023-03-29 10:44:30.020342: I tensorflow/stream_executor/platform/default/dso_loader.cc:49] Successfully opened dynamic library libcufft.so.10\n",
      "2023-03-29 10:44:30.020360: I tensorflow/stream_executor/platform/default/dso_loader.cc:49] Successfully opened dynamic library libcurand.so.10\n",
      "2023-03-29 10:44:30.020378: I tensorflow/stream_executor/platform/default/dso_loader.cc:49] Successfully opened dynamic library libcusolver.so.10\n",
      "2023-03-29 10:44:30.020395: I tensorflow/stream_executor/platform/default/dso_loader.cc:49] Successfully opened dynamic library libcusparse.so.10\n",
      "2023-03-29 10:44:30.020413: I tensorflow/stream_executor/platform/default/dso_loader.cc:49] Successfully opened dynamic library libcudnn.so.7\n",
      "2023-03-29 10:44:30.020504: I tensorflow/stream_executor/cuda/cuda_gpu_executor.cc:941] successful NUMA node read from SysFS had negative value (-1), but there must be at least one NUMA node, so returning NUMA node zero\n",
      "2023-03-29 10:44:30.020782: I tensorflow/stream_executor/cuda/cuda_gpu_executor.cc:941] successful NUMA node read from SysFS had negative value (-1), but there must be at least one NUMA node, so returning NUMA node zero\n",
      "2023-03-29 10:44:30.020979: I tensorflow/core/common_runtime/gpu/gpu_device.cc:1862] Adding visible gpu devices: 0\n",
      "2023-03-29 10:44:30.028481: I tensorflow/stream_executor/platform/default/dso_loader.cc:49] Successfully opened dynamic library libcudart.so.10.1\n",
      "2023-03-29 10:44:34.090872: I tensorflow/core/common_runtime/gpu/gpu_device.cc:1261] Device interconnect StreamExecutor with strength 1 edge matrix:\n",
      "2023-03-29 10:44:34.090900: I tensorflow/core/common_runtime/gpu/gpu_device.cc:1267]      0 \n",
      "2023-03-29 10:44:34.090907: I tensorflow/core/common_runtime/gpu/gpu_device.cc:1280] 0:   N \n",
      "2023-03-29 10:44:34.112034: I tensorflow/stream_executor/cuda/cuda_gpu_executor.cc:941] successful NUMA node read from SysFS had negative value (-1), but there must be at least one NUMA node, so returning NUMA node zero\n",
      "2023-03-29 10:44:34.112290: I tensorflow/stream_executor/cuda/cuda_gpu_executor.cc:941] successful NUMA node read from SysFS had negative value (-1), but there must be at least one NUMA node, so returning NUMA node zero\n",
      "2023-03-29 10:44:34.112506: I tensorflow/stream_executor/cuda/cuda_gpu_executor.cc:941] successful NUMA node read from SysFS had negative value (-1), but there must be at least one NUMA node, so returning NUMA node zero\n",
      "2023-03-29 10:44:34.112702: I tensorflow/core/common_runtime/gpu/gpu_device.cc:1406] Created TensorFlow device (/job:localhost/replica:0/task:0/device:GPU:0 with 2928 MB memory) -> physical GPU (device: 0, name: NVIDIA GeForce GTX 970, pci bus id: 0000:04:00.0, compute capability: 5.2)\n",
      "2023-03-29 10:44:37.622933: W tensorflow/core/framework/cpu_allocator_impl.cc:80] Allocation of 4001716224 exceeds 10% of free system memory.\n",
      "2023-03-29 10:45:18.509521: W tensorflow/core/framework/cpu_allocator_impl.cc:80] Allocation of 4001716224 exceeds 10% of free system memory.\n"
     ]
    }
   ],
   "source": [
    "# get the amplitudes of training and test sets\n",
    "examples = noisy_stft.get_data()[:,:,:,0]\n",
    "labels = pure_stft.get_data()[:,:,:,0]\n",
    "\n",
    "stride_reduce = 100\n",
    "examples_test = noisy_test_stft.get_data()[::stride_reduce,:,:,0]\n",
    "labels_test = pure_test_stft.get_data()[::stride_reduce,:,:,0]\n",
    "\n",
    "examples_test_phase = noisy_test_stft.get_data()[::stride_reduce,:,:,1]\n",
    "labels_test_phase = pure_test_stft.get_data()[::stride_reduce,:,:,1]\n",
    "\n",
    "# build the dataset from tensorflow functions\n",
    "train_dataset = tf.data.Dataset.from_tensor_slices((examples, labels))\n",
    "test_dataset = tf.data.Dataset.from_tensor_slices((examples_test, labels_test))"
   ]
  },
  {
   "cell_type": "code",
   "execution_count": 6,
   "id": "6562c220-7860-4297-a77d-c5e88007007a",
   "metadata": {
    "tags": []
   },
   "outputs": [
    {
     "data": {
      "text/plain": [
       "<TensorSliceDataset shapes: ((129, 9), (129, 9)), types: (tf.float64, tf.float64)>"
      ]
     },
     "execution_count": 6,
     "metadata": {},
     "output_type": "execute_result"
    }
   ],
   "source": [
    "train_dataset\n",
    "# test_dataset"
   ]
  },
  {
   "cell_type": "code",
   "execution_count": 7,
   "id": "ee2fe844-0bdc-4a91-b427-ce5ed1576742",
   "metadata": {
    "tags": []
   },
   "outputs": [],
   "source": [
    "input_shape = (129, 9 , 2)\n",
    "input_shape = (129, 9)"
   ]
  },
  {
   "cell_type": "code",
   "execution_count": 8,
   "id": "ea6f06e8-d6e8-41fc-8bb3-9038794e20b8",
   "metadata": {
    "tags": []
   },
   "outputs": [],
   "source": [
    "BATCH_SIZE = 512\n",
    "SHUFFLE_BUFFER_SIZE = 2000\n",
    "\n",
    "train_dataset = train_dataset.shuffle(SHUFFLE_BUFFER_SIZE).batch(BATCH_SIZE)\n",
    "test_dataset = test_dataset.batch(BATCH_SIZE)"
   ]
  },
  {
   "cell_type": "code",
   "execution_count": 54,
   "id": "97c703f4-8424-435f-a5a8-c7b3a34c593a",
   "metadata": {
    "tags": []
   },
   "outputs": [],
   "source": [
    "dropout_rate = 0.2\n",
    "factor = 8\n",
    "\n",
    "model = tf.keras.Sequential([\n",
    "    tf.keras.layers.Flatten(input_shape=input_shape),\n",
    "\n",
    "    tf.keras.layers.Dense(units = 125*factor, activation='relu'),\n",
    "    tf.keras.layers.Dropout(rate=dropout_rate),\n",
    "    tf.keras.layers.Dense(units = 75*factor, activation='relu'),\n",
    "    tf.keras.layers.Dropout(rate=dropout_rate*0.25),\n",
    "\n",
    "    tf.keras.layers.Dense(units = 50*factor, activation='relu'),\n",
    "    tf.keras.layers.Dropout(rate=dropout_rate*0.25),\n",
    "\n",
    "    tf.keras.layers.Dense(units = 75*factor, activation='relu'),\n",
    "    tf.keras.layers.Dropout(rate=dropout_rate),\n",
    "\n",
    "\n",
    "    tf.keras.layers.Dense(units = 129*9, activation='relu'),\n",
    "    # tf.keras.layers.Dense((128,9,2), activation='relu'),\n",
    "    # tf.keras.layers.Dense((128,9,2), activation='relu'),\n",
    "    # tf.keras.layers.Dense((128,9,2), activation='relu'),\n",
    "    # tf.keras.layers.Conv2D(3,2, activation='relu', input_shape=input_shape)\n",
    "    tf.keras.layers.Reshape(target_shape=input_shape)\n",
    "])\n",
    "\n",
    "model.compile(optimizer=\"adam\",\n",
    "              loss=\"mse\",\n",
    "              )"
   ]
  },
  {
   "cell_type": "code",
   "execution_count": 55,
   "id": "70b3b061-1eeb-48bd-b9c8-f2e73f73fa17",
   "metadata": {
    "tags": []
   },
   "outputs": [
    {
     "name": "stdout",
     "output_type": "stream",
     "text": [
      "Model: \"sequential_4\"\n",
      "_________________________________________________________________\n",
      "Layer (type)                 Output Shape              Param #   \n",
      "=================================================================\n",
      "flatten_4 (Flatten)          (None, 1161)              0         \n",
      "_________________________________________________________________\n",
      "dense_20 (Dense)             (None, 1000)              1162000   \n",
      "_________________________________________________________________\n",
      "dropout_16 (Dropout)         (None, 1000)              0         \n",
      "_________________________________________________________________\n",
      "dense_21 (Dense)             (None, 600)               600600    \n",
      "_________________________________________________________________\n",
      "dropout_17 (Dropout)         (None, 600)               0         \n",
      "_________________________________________________________________\n",
      "dense_22 (Dense)             (None, 400)               240400    \n",
      "_________________________________________________________________\n",
      "dropout_18 (Dropout)         (None, 400)               0         \n",
      "_________________________________________________________________\n",
      "dense_23 (Dense)             (None, 600)               240600    \n",
      "_________________________________________________________________\n",
      "dropout_19 (Dropout)         (None, 600)               0         \n",
      "_________________________________________________________________\n",
      "dense_24 (Dense)             (None, 1161)              697761    \n",
      "_________________________________________________________________\n",
      "reshape_4 (Reshape)          (None, 129, 9)            0         \n",
      "=================================================================\n",
      "Total params: 2,941,361\n",
      "Trainable params: 2,941,361\n",
      "Non-trainable params: 0\n",
      "_________________________________________________________________\n"
     ]
    }
   ],
   "source": [
    "model.summary()"
   ]
  },
  {
   "cell_type": "code",
   "execution_count": 64,
   "id": "faea64cc-22a7-49a0-8c89-fb11785912cf",
   "metadata": {
    "tags": []
   },
   "outputs": [
    {
     "name": "stdout",
     "output_type": "stream",
     "text": [
      "Epoch 1/200\n",
      "842/842 [==============================] - 11s 13ms/step - loss: 4.3135e-06 - val_loss: 2.1860e-05\n",
      "Epoch 2/200\n",
      "842/842 [==============================] - 11s 13ms/step - loss: 4.3137e-06 - val_loss: 2.1789e-05\n",
      "Epoch 3/200\n",
      "842/842 [==============================] - 11s 13ms/step - loss: 4.3170e-06 - val_loss: 2.1705e-05\n",
      "Epoch 4/200\n",
      "842/842 [==============================] - 11s 13ms/step - loss: 4.3103e-06 - val_loss: 2.1718e-05\n",
      "Epoch 5/200\n",
      "842/842 [==============================] - 11s 13ms/step - loss: 4.3084e-06 - val_loss: 2.1738e-05\n",
      "Epoch 6/200\n",
      "842/842 [==============================] - 11s 13ms/step - loss: 4.3177e-06 - val_loss: 2.1732e-05\n",
      "Epoch 7/200\n",
      "842/842 [==============================] - 11s 14ms/step - loss: 4.3194e-06 - val_loss: 2.1801e-05\n",
      "Epoch 8/200\n",
      "842/842 [==============================] - 11s 14ms/step - loss: 4.3100e-06 - val_loss: 2.1786e-05\n",
      "Epoch 9/200\n",
      "842/842 [==============================] - 11s 13ms/step - loss: 4.3135e-06 - val_loss: 2.1658e-05\n",
      "Epoch 10/200\n",
      "842/842 [==============================] - 11s 13ms/step - loss: 4.3027e-06 - val_loss: 2.1661e-05\n",
      "Epoch 11/200\n",
      "842/842 [==============================] - 11s 13ms/step - loss: 4.3122e-06 - val_loss: 2.1884e-05\n",
      "Epoch 12/200\n",
      "842/842 [==============================] - 11s 13ms/step - loss: 4.3031e-06 - val_loss: 2.1697e-05\n",
      "Epoch 13/200\n",
      "842/842 [==============================] - 11s 13ms/step - loss: 4.3096e-06 - val_loss: 2.1676e-05\n",
      "Epoch 14/200\n",
      "842/842 [==============================] - 11s 14ms/step - loss: 4.3080e-06 - val_loss: 2.1837e-05\n",
      "Epoch 15/200\n",
      "842/842 [==============================] - 11s 13ms/step - loss: 4.3116e-06 - val_loss: 2.1895e-05\n",
      "Epoch 16/200\n",
      "842/842 [==============================] - 11s 13ms/step - loss: 4.3019e-06 - val_loss: 2.1772e-05\n",
      "Epoch 17/200\n",
      "842/842 [==============================] - 11s 14ms/step - loss: 4.3121e-06 - val_loss: 2.1699e-05\n",
      "Epoch 18/200\n",
      "842/842 [==============================] - 11s 14ms/step - loss: 4.3015e-06 - val_loss: 2.1829e-05\n",
      "Epoch 19/200\n",
      "842/842 [==============================] - 11s 13ms/step - loss: 4.3160e-06 - val_loss: 2.1779e-05\n",
      "Epoch 20/200\n",
      "842/842 [==============================] - 11s 14ms/step - loss: 4.3059e-06 - val_loss: 2.1539e-05\n",
      "Epoch 21/200\n",
      "842/842 [==============================] - 11s 13ms/step - loss: 4.3082e-06 - val_loss: 2.1810e-05\n",
      "Epoch 22/200\n",
      "842/842 [==============================] - 11s 14ms/step - loss: 4.3042e-06 - val_loss: 2.1631e-05\n",
      "Epoch 23/200\n",
      "842/842 [==============================] - 11s 14ms/step - loss: 4.3034e-06 - val_loss: 2.1855e-05\n",
      "Epoch 24/200\n",
      "842/842 [==============================] - 11s 13ms/step - loss: 4.3015e-06 - val_loss: 2.1736e-05\n",
      "Epoch 25/200\n",
      "842/842 [==============================] - 11s 13ms/step - loss: 4.3014e-06 - val_loss: 2.1775e-05\n",
      "Epoch 26/200\n",
      "842/842 [==============================] - 11s 13ms/step - loss: 4.3052e-06 - val_loss: 2.1514e-05\n",
      "Epoch 27/200\n",
      "842/842 [==============================] - 11s 13ms/step - loss: 4.3037e-06 - val_loss: 2.1871e-05\n",
      "Epoch 28/200\n",
      "842/842 [==============================] - 11s 13ms/step - loss: 4.3056e-06 - val_loss: 2.1895e-05\n",
      "Epoch 29/200\n",
      "842/842 [==============================] - 11s 13ms/step - loss: 4.3018e-06 - val_loss: 2.1684e-05\n",
      "Epoch 30/200\n",
      "842/842 [==============================] - 11s 13ms/step - loss: 4.3017e-06 - val_loss: 2.1872e-05\n",
      "Epoch 31/200\n",
      "842/842 [==============================] - 11s 13ms/step - loss: 4.3034e-06 - val_loss: 2.1707e-05\n",
      "Epoch 32/200\n",
      "842/842 [==============================] - 11s 13ms/step - loss: 4.2990e-06 - val_loss: 2.1748e-05\n",
      "Epoch 33/200\n",
      "842/842 [==============================] - 11s 13ms/step - loss: 4.3008e-06 - val_loss: 2.1696e-05\n",
      "Epoch 34/200\n",
      "842/842 [==============================] - 11s 13ms/step - loss: 4.2969e-06 - val_loss: 2.1614e-05\n",
      "Epoch 35/200\n",
      "842/842 [==============================] - 11s 13ms/step - loss: 4.3009e-06 - val_loss: 2.1651e-05\n",
      "Epoch 36/200\n",
      "842/842 [==============================] - 11s 13ms/step - loss: 4.2981e-06 - val_loss: 2.1792e-05\n",
      "Epoch 37/200\n",
      "842/842 [==============================] - 11s 13ms/step - loss: 4.2965e-06 - val_loss: 2.1676e-05\n",
      "Epoch 38/200\n",
      "842/842 [==============================] - 11s 13ms/step - loss: 4.3036e-06 - val_loss: 2.1911e-05\n",
      "Epoch 39/200\n",
      "842/842 [==============================] - 11s 13ms/step - loss: 4.2942e-06 - val_loss: 2.1554e-05\n",
      "Epoch 40/200\n",
      "842/842 [==============================] - 11s 13ms/step - loss: 4.3001e-06 - val_loss: 2.1819e-05\n",
      "Epoch 41/200\n",
      "842/842 [==============================] - 11s 13ms/step - loss: 4.3009e-06 - val_loss: 2.1917e-05\n",
      "Epoch 42/200\n",
      "842/842 [==============================] - 11s 13ms/step - loss: 4.2987e-06 - val_loss: 2.1858e-05\n",
      "Epoch 43/200\n",
      "842/842 [==============================] - 11s 13ms/step - loss: 4.2997e-06 - val_loss: 2.1577e-05\n",
      "Epoch 44/200\n",
      "842/842 [==============================] - 11s 13ms/step - loss: 4.2975e-06 - val_loss: 2.2016e-05\n",
      "Epoch 45/200\n",
      "842/842 [==============================] - 11s 13ms/step - loss: 4.2922e-06 - val_loss: 2.1562e-05\n",
      "Epoch 46/200\n",
      "842/842 [==============================] - 11s 13ms/step - loss: 4.2951e-06 - val_loss: 2.1852e-05\n",
      "Epoch 47/200\n",
      "842/842 [==============================] - 11s 13ms/step - loss: 4.2917e-06 - val_loss: 2.1706e-05\n",
      "Epoch 48/200\n",
      "842/842 [==============================] - 11s 13ms/step - loss: 4.2975e-06 - val_loss: 2.1545e-05\n",
      "Epoch 49/200\n",
      "842/842 [==============================] - 11s 13ms/step - loss: 4.3009e-06 - val_loss: 2.1940e-05\n",
      "Epoch 50/200\n",
      "842/842 [==============================] - 11s 13ms/step - loss: 4.2988e-06 - val_loss: 2.1887e-05\n",
      "Epoch 51/200\n",
      "842/842 [==============================] - 11s 13ms/step - loss: 4.3031e-06 - val_loss: 2.1722e-05\n",
      "Epoch 52/200\n",
      "842/842 [==============================] - 11s 13ms/step - loss: 4.2965e-06 - val_loss: 2.1913e-05\n",
      "Epoch 53/200\n",
      "842/842 [==============================] - 11s 13ms/step - loss: 4.2970e-06 - val_loss: 2.1666e-05\n",
      "Epoch 54/200\n",
      "842/842 [==============================] - 11s 13ms/step - loss: 4.2879e-06 - val_loss: 2.1474e-05\n",
      "Epoch 55/200\n",
      "842/842 [==============================] - 11s 13ms/step - loss: 4.2895e-06 - val_loss: 2.1529e-05\n",
      "Epoch 56/200\n",
      "842/842 [==============================] - 12s 14ms/step - loss: 4.2973e-06 - val_loss: 2.1507e-05\n",
      "Epoch 57/200\n",
      "842/842 [==============================] - 12s 14ms/step - loss: 4.2940e-06 - val_loss: 2.1717e-05\n",
      "Epoch 58/200\n",
      "842/842 [==============================] - 11s 13ms/step - loss: 4.2933e-06 - val_loss: 2.1998e-05\n",
      "Epoch 59/200\n",
      "842/842 [==============================] - 11s 13ms/step - loss: 4.2965e-06 - val_loss: 2.1583e-05\n",
      "Epoch 60/200\n",
      "842/842 [==============================] - 11s 13ms/step - loss: 4.2882e-06 - val_loss: 2.1688e-05\n",
      "Epoch 61/200\n",
      "842/842 [==============================] - 11s 13ms/step - loss: 4.2903e-06 - val_loss: 2.1673e-05\n",
      "Epoch 62/200\n",
      "842/842 [==============================] - 11s 13ms/step - loss: 4.2885e-06 - val_loss: 2.1754e-05\n",
      "Epoch 63/200\n",
      "842/842 [==============================] - 11s 13ms/step - loss: 4.2889e-06 - val_loss: 2.1633e-05\n",
      "Epoch 64/200\n",
      "842/842 [==============================] - 12s 14ms/step - loss: 4.2938e-06 - val_loss: 2.1814e-05\n",
      "Epoch 65/200\n",
      "842/842 [==============================] - 11s 14ms/step - loss: 4.2940e-06 - val_loss: 2.1697e-05\n",
      "Epoch 66/200\n",
      "842/842 [==============================] - 11s 13ms/step - loss: 4.2942e-06 - val_loss: 2.1716e-05\n",
      "Epoch 67/200\n",
      "842/842 [==============================] - 11s 13ms/step - loss: 4.2874e-06 - val_loss: 2.1684e-05\n",
      "Epoch 68/200\n",
      "842/842 [==============================] - 12s 14ms/step - loss: 4.2929e-06 - val_loss: 2.1964e-05\n",
      "Epoch 69/200\n",
      "842/842 [==============================] - 11s 13ms/step - loss: 4.2907e-06 - val_loss: 2.1730e-05\n",
      "Epoch 70/200\n",
      "842/842 [==============================] - 12s 14ms/step - loss: 4.2951e-06 - val_loss: 2.1804e-05\n",
      "Epoch 71/200\n",
      "842/842 [==============================] - 12s 14ms/step - loss: 4.2935e-06 - val_loss: 2.1751e-05\n",
      "Epoch 72/200\n",
      "842/842 [==============================] - 12s 14ms/step - loss: 4.2933e-06 - val_loss: 2.1796e-05\n",
      "Epoch 73/200\n",
      "842/842 [==============================] - 11s 14ms/step - loss: 4.2901e-06 - val_loss: 2.2053e-05\n",
      "Epoch 74/200\n",
      "842/842 [==============================] - 11s 13ms/step - loss: 4.2873e-06 - val_loss: 2.1631e-05\n",
      "Epoch 75/200\n",
      "842/842 [==============================] - 11s 14ms/step - loss: 4.2906e-06 - val_loss: 2.1617e-05\n",
      "Epoch 76/200\n",
      "842/842 [==============================] - 11s 13ms/step - loss: 4.2862e-06 - val_loss: 2.1687e-05\n",
      "Epoch 77/200\n",
      "842/842 [==============================] - 11s 13ms/step - loss: 4.2858e-06 - val_loss: 2.1749e-05\n",
      "Epoch 78/200\n",
      "842/842 [==============================] - 11s 13ms/step - loss: 4.2922e-06 - val_loss: 2.1841e-05\n",
      "Epoch 79/200\n",
      "842/842 [==============================] - 12s 14ms/step - loss: 4.2858e-06 - val_loss: 2.1631e-05\n",
      "Epoch 80/200\n",
      "842/842 [==============================] - 12s 14ms/step - loss: 4.2916e-06 - val_loss: 2.1589e-05\n",
      "Epoch 81/200\n",
      "842/842 [==============================] - 11s 13ms/step - loss: 4.2863e-06 - val_loss: 2.1712e-05\n",
      "Epoch 82/200\n",
      "842/842 [==============================] - 11s 14ms/step - loss: 4.2858e-06 - val_loss: 2.1539e-05\n",
      "Epoch 83/200\n",
      "842/842 [==============================] - 11s 13ms/step - loss: 4.2865e-06 - val_loss: 2.1806e-05\n",
      "Epoch 84/200\n",
      "842/842 [==============================] - 11s 13ms/step - loss: 4.2915e-06 - val_loss: 2.1938e-05\n",
      "Epoch 85/200\n",
      "842/842 [==============================] - 11s 13ms/step - loss: 4.2902e-06 - val_loss: 2.1725e-05\n",
      "Epoch 86/200\n",
      "842/842 [==============================] - 11s 13ms/step - loss: 4.2868e-06 - val_loss: 2.1613e-05\n",
      "Epoch 87/200\n",
      "842/842 [==============================] - 11s 13ms/step - loss: 4.2890e-06 - val_loss: 2.2071e-05\n",
      "Epoch 88/200\n",
      "842/842 [==============================] - 11s 13ms/step - loss: 4.2886e-06 - val_loss: 2.1782e-05\n",
      "Epoch 89/200\n",
      "842/842 [==============================] - 11s 13ms/step - loss: 4.2897e-06 - val_loss: 2.1560e-05\n",
      "Epoch 90/200\n",
      "842/842 [==============================] - 11s 13ms/step - loss: 4.2858e-06 - val_loss: 2.1847e-05\n",
      "Epoch 91/200\n",
      "842/842 [==============================] - 11s 14ms/step - loss: 4.2876e-06 - val_loss: 2.1687e-05\n",
      "Epoch 92/200\n",
      "842/842 [==============================] - 11s 14ms/step - loss: 4.2899e-06 - val_loss: 2.1824e-05\n",
      "Epoch 93/200\n",
      "842/842 [==============================] - 11s 13ms/step - loss: 4.2926e-06 - val_loss: 2.1820e-05\n",
      "Epoch 94/200\n",
      "842/842 [==============================] - 11s 13ms/step - loss: 4.2838e-06 - val_loss: 2.1817e-05\n",
      "Epoch 95/200\n",
      "842/842 [==============================] - 11s 13ms/step - loss: 4.2876e-06 - val_loss: 2.1835e-05\n",
      "Epoch 96/200\n",
      "842/842 [==============================] - 11s 13ms/step - loss: 4.2951e-06 - val_loss: 2.1718e-05\n",
      "Epoch 97/200\n",
      "842/842 [==============================] - 11s 13ms/step - loss: 4.2880e-06 - val_loss: 2.1787e-05\n",
      "Epoch 98/200\n",
      "842/842 [==============================] - 11s 13ms/step - loss: 4.2888e-06 - val_loss: 2.1581e-05\n",
      "Epoch 99/200\n",
      "842/842 [==============================] - 11s 13ms/step - loss: 4.2793e-06 - val_loss: 2.1648e-05\n",
      "Epoch 100/200\n",
      "842/842 [==============================] - 11s 13ms/step - loss: 4.2823e-06 - val_loss: 2.1867e-05\n",
      "Epoch 101/200\n",
      "842/842 [==============================] - 11s 13ms/step - loss: 4.2862e-06 - val_loss: 2.1791e-05\n",
      "Epoch 102/200\n",
      "842/842 [==============================] - 11s 13ms/step - loss: 4.2814e-06 - val_loss: 2.1991e-05\n",
      "Epoch 103/200\n",
      "842/842 [==============================] - 11s 13ms/step - loss: 4.2805e-06 - val_loss: 2.1906e-05\n",
      "Epoch 104/200\n",
      "842/842 [==============================] - 11s 13ms/step - loss: 4.2785e-06 - val_loss: 2.1713e-05\n",
      "Epoch 105/200\n",
      "842/842 [==============================] - 11s 13ms/step - loss: 4.2732e-06 - val_loss: 2.1910e-05\n",
      "Epoch 106/200\n",
      "842/842 [==============================] - 11s 13ms/step - loss: 4.2766e-06 - val_loss: 2.1726e-05\n",
      "Epoch 107/200\n",
      "842/842 [==============================] - 11s 13ms/step - loss: 4.2883e-06 - val_loss: 2.1765e-05\n",
      "Epoch 108/200\n",
      "842/842 [==============================] - 11s 13ms/step - loss: 4.2857e-06 - val_loss: 2.1744e-05\n",
      "Epoch 109/200\n",
      "842/842 [==============================] - 11s 13ms/step - loss: 4.2761e-06 - val_loss: 2.1759e-05\n",
      "Epoch 110/200\n",
      "842/842 [==============================] - 11s 13ms/step - loss: 4.2836e-06 - val_loss: 2.1999e-05\n",
      "Epoch 111/200\n",
      "842/842 [==============================] - 11s 13ms/step - loss: 4.2853e-06 - val_loss: 2.2030e-05\n",
      "Epoch 112/200\n",
      "842/842 [==============================] - 11s 13ms/step - loss: 4.2831e-06 - val_loss: 2.1592e-05\n",
      "Epoch 113/200\n",
      "842/842 [==============================] - 11s 13ms/step - loss: 4.2792e-06 - val_loss: 2.1793e-05\n",
      "Epoch 114/200\n",
      "842/842 [==============================] - 11s 13ms/step - loss: 4.2776e-06 - val_loss: 2.1643e-05\n",
      "Epoch 115/200\n",
      "842/842 [==============================] - 11s 13ms/step - loss: 4.2774e-06 - val_loss: 2.1580e-05\n",
      "Epoch 116/200\n",
      "842/842 [==============================] - 11s 13ms/step - loss: 4.2790e-06 - val_loss: 2.2038e-05\n",
      "Epoch 117/200\n",
      "842/842 [==============================] - 11s 14ms/step - loss: 4.2808e-06 - val_loss: 2.1743e-05\n",
      "Epoch 118/200\n",
      "842/842 [==============================] - 11s 13ms/step - loss: 4.2824e-06 - val_loss: 2.1619e-05\n",
      "Epoch 119/200\n",
      "842/842 [==============================] - 11s 13ms/step - loss: 4.2814e-06 - val_loss: 2.1817e-05\n",
      "Epoch 120/200\n",
      "842/842 [==============================] - 11s 13ms/step - loss: 4.2761e-06 - val_loss: 2.1732e-05\n",
      "Epoch 121/200\n",
      "842/842 [==============================] - 11s 13ms/step - loss: 4.2774e-06 - val_loss: 2.1979e-05\n",
      "Epoch 122/200\n",
      "842/842 [==============================] - 11s 13ms/step - loss: 4.2805e-06 - val_loss: 2.1756e-05\n",
      "Epoch 123/200\n",
      "842/842 [==============================] - 11s 13ms/step - loss: 4.2775e-06 - val_loss: 2.1723e-05\n",
      "Epoch 124/200\n",
      "842/842 [==============================] - 11s 13ms/step - loss: 4.2814e-06 - val_loss: 2.1760e-05\n",
      "Epoch 125/200\n",
      "842/842 [==============================] - 11s 13ms/step - loss: 4.2782e-06 - val_loss: 2.1998e-05\n",
      "Epoch 126/200\n",
      "842/842 [==============================] - 11s 13ms/step - loss: 4.2744e-06 - val_loss: 2.1581e-05\n",
      "Epoch 127/200\n",
      "842/842 [==============================] - 11s 14ms/step - loss: 4.2809e-06 - val_loss: 2.1552e-05\n",
      "Epoch 128/200\n",
      "842/842 [==============================] - 12s 14ms/step - loss: 4.2749e-06 - val_loss: 2.1765e-05\n",
      "Epoch 129/200\n",
      "842/842 [==============================] - 11s 14ms/step - loss: 4.2783e-06 - val_loss: 2.1678e-05\n",
      "Epoch 130/200\n",
      "842/842 [==============================] - 11s 13ms/step - loss: 4.2823e-06 - val_loss: 2.1564e-05\n",
      "Epoch 131/200\n",
      "842/842 [==============================] - 11s 13ms/step - loss: 4.2754e-06 - val_loss: 2.1792e-05\n",
      "Epoch 132/200\n",
      "842/842 [==============================] - 12s 14ms/step - loss: 4.2751e-06 - val_loss: 2.1922e-05\n",
      "Epoch 133/200\n",
      "842/842 [==============================] - 11s 13ms/step - loss: 4.2803e-06 - val_loss: 2.1763e-05\n",
      "Epoch 134/200\n",
      "842/842 [==============================] - 11s 13ms/step - loss: 4.2760e-06 - val_loss: 2.1867e-05\n",
      "Epoch 135/200\n",
      "842/842 [==============================] - 12s 14ms/step - loss: 4.2796e-06 - val_loss: 2.1762e-05\n",
      "Epoch 136/200\n",
      "842/842 [==============================] - 11s 13ms/step - loss: 4.2746e-06 - val_loss: 2.1777e-05\n",
      "Epoch 137/200\n",
      "842/842 [==============================] - 11s 14ms/step - loss: 4.2706e-06 - val_loss: 2.1715e-05\n",
      "Epoch 138/200\n",
      "842/842 [==============================] - 11s 14ms/step - loss: 4.2750e-06 - val_loss: 2.1815e-05\n",
      "Epoch 139/200\n",
      "842/842 [==============================] - 11s 13ms/step - loss: 4.2728e-06 - val_loss: 2.1724e-05\n",
      "Epoch 140/200\n",
      "842/842 [==============================] - 11s 13ms/step - loss: 4.2747e-06 - val_loss: 2.1872e-05\n",
      "Epoch 141/200\n",
      "842/842 [==============================] - 11s 13ms/step - loss: 4.2734e-06 - val_loss: 2.1647e-05\n",
      "Epoch 142/200\n",
      "842/842 [==============================] - 12s 15ms/step - loss: 4.2786e-06 - val_loss: 2.1800e-05\n",
      "Epoch 143/200\n",
      "842/842 [==============================] - 11s 14ms/step - loss: 4.2708e-06 - val_loss: 2.1776e-05\n",
      "Epoch 144/200\n",
      "842/842 [==============================] - 11s 13ms/step - loss: 4.2707e-06 - val_loss: 2.1921e-05\n",
      "Epoch 145/200\n",
      "842/842 [==============================] - 11s 13ms/step - loss: 4.2691e-06 - val_loss: 2.1794e-05\n",
      "Epoch 146/200\n",
      "842/842 [==============================] - 12s 14ms/step - loss: 4.2735e-06 - val_loss: 2.1970e-05\n",
      "Epoch 147/200\n",
      "842/842 [==============================] - 12s 14ms/step - loss: 4.2757e-06 - val_loss: 2.1808e-05\n",
      "Epoch 148/200\n",
      "842/842 [==============================] - 11s 13ms/step - loss: 4.2687e-06 - val_loss: 2.1728e-05\n",
      "Epoch 149/200\n",
      "842/842 [==============================] - 11s 14ms/step - loss: 4.2708e-06 - val_loss: 2.1798e-05\n",
      "Epoch 150/200\n",
      "842/842 [==============================] - 12s 14ms/step - loss: 4.2682e-06 - val_loss: 2.1878e-05\n",
      "Epoch 151/200\n",
      "842/842 [==============================] - 11s 13ms/step - loss: 4.2716e-06 - val_loss: 2.1784e-05\n",
      "Epoch 152/200\n",
      "842/842 [==============================] - 11s 13ms/step - loss: 4.2701e-06 - val_loss: 2.1694e-05\n",
      "Epoch 153/200\n",
      "842/842 [==============================] - 11s 13ms/step - loss: 4.2706e-06 - val_loss: 2.1774e-05\n",
      "Epoch 154/200\n",
      "842/842 [==============================] - 12s 14ms/step - loss: 4.2697e-06 - val_loss: 2.1918e-05\n",
      "Epoch 155/200\n",
      "842/842 [==============================] - 12s 14ms/step - loss: 4.2686e-06 - val_loss: 2.1800e-05\n",
      "Epoch 156/200\n",
      "842/842 [==============================] - 11s 14ms/step - loss: 4.2702e-06 - val_loss: 2.1785e-05\n",
      "Epoch 157/200\n",
      "842/842 [==============================] - 11s 13ms/step - loss: 4.2699e-06 - val_loss: 2.1796e-05\n",
      "Epoch 158/200\n",
      "842/842 [==============================] - 11s 14ms/step - loss: 4.2636e-06 - val_loss: 2.1862e-05\n",
      "Epoch 159/200\n",
      "842/842 [==============================] - 11s 13ms/step - loss: 4.2688e-06 - val_loss: 2.1926e-05\n",
      "Epoch 160/200\n",
      "842/842 [==============================] - 11s 14ms/step - loss: 4.2730e-06 - val_loss: 2.1805e-05\n",
      "Epoch 161/200\n",
      "842/842 [==============================] - 12s 14ms/step - loss: 4.2692e-06 - val_loss: 2.1762e-05\n",
      "Epoch 162/200\n",
      "842/842 [==============================] - 12s 14ms/step - loss: 4.2716e-06 - val_loss: 2.1784e-05\n",
      "Epoch 163/200\n",
      "842/842 [==============================] - 11s 13ms/step - loss: 4.2665e-06 - val_loss: 2.1816e-05\n",
      "Epoch 164/200\n",
      "842/842 [==============================] - 11s 13ms/step - loss: 4.2726e-06 - val_loss: 2.1831e-05\n",
      "Epoch 165/200\n",
      "842/842 [==============================] - 11s 13ms/step - loss: 4.2712e-06 - val_loss: 2.2005e-05\n",
      "Epoch 166/200\n",
      "842/842 [==============================] - 11s 13ms/step - loss: 4.2643e-06 - val_loss: 2.1737e-05\n",
      "Epoch 167/200\n",
      "842/842 [==============================] - 11s 14ms/step - loss: 4.2630e-06 - val_loss: 2.1815e-05\n",
      "Epoch 168/200\n",
      "842/842 [==============================] - 11s 13ms/step - loss: 4.2731e-06 - val_loss: 2.1718e-05\n",
      "Epoch 169/200\n",
      "842/842 [==============================] - 11s 13ms/step - loss: 4.2706e-06 - val_loss: 2.1897e-05\n",
      "Epoch 170/200\n",
      "842/842 [==============================] - 12s 14ms/step - loss: 4.2651e-06 - val_loss: 2.1686e-05\n",
      "Epoch 171/200\n",
      "842/842 [==============================] - 11s 13ms/step - loss: 4.2685e-06 - val_loss: 2.1749e-05\n",
      "Epoch 172/200\n",
      "842/842 [==============================] - 11s 13ms/step - loss: 4.2652e-06 - val_loss: 2.1797e-05\n",
      "Epoch 173/200\n",
      "842/842 [==============================] - 11s 13ms/step - loss: 4.2624e-06 - val_loss: 2.1698e-05\n",
      "Epoch 174/200\n",
      "842/842 [==============================] - 12s 14ms/step - loss: 4.2652e-06 - val_loss: 2.1811e-05\n",
      "Epoch 175/200\n",
      "842/842 [==============================] - 11s 13ms/step - loss: 4.2642e-06 - val_loss: 2.1662e-05\n",
      "Epoch 176/200\n",
      "842/842 [==============================] - 11s 13ms/step - loss: 4.2675e-06 - val_loss: 2.1723e-05\n",
      "Epoch 177/200\n",
      "842/842 [==============================] - 12s 14ms/step - loss: 4.2656e-06 - val_loss: 2.1688e-05\n",
      "Epoch 178/200\n",
      "842/842 [==============================] - 11s 13ms/step - loss: 4.2632e-06 - val_loss: 2.1725e-05\n",
      "Epoch 179/200\n",
      "842/842 [==============================] - 11s 14ms/step - loss: 4.2639e-06 - val_loss: 2.1857e-05\n",
      "Epoch 180/200\n",
      "842/842 [==============================] - 11s 13ms/step - loss: 4.2688e-06 - val_loss: 2.1953e-05\n",
      "Epoch 181/200\n",
      "842/842 [==============================] - 11s 13ms/step - loss: 4.2642e-06 - val_loss: 2.1762e-05\n",
      "Epoch 182/200\n",
      "842/842 [==============================] - 11s 14ms/step - loss: 4.2702e-06 - val_loss: 2.1699e-05\n",
      "Epoch 183/200\n",
      "842/842 [==============================] - 12s 14ms/step - loss: 4.2643e-06 - val_loss: 2.1891e-05\n",
      "Epoch 184/200\n",
      "842/842 [==============================] - 11s 13ms/step - loss: 4.2618e-06 - val_loss: 2.1678e-05\n",
      "Epoch 185/200\n",
      "842/842 [==============================] - 11s 13ms/step - loss: 4.2638e-06 - val_loss: 2.1780e-05\n",
      "Epoch 186/200\n",
      "842/842 [==============================] - 11s 13ms/step - loss: 4.2646e-06 - val_loss: 2.1702e-05\n",
      "Epoch 187/200\n",
      "842/842 [==============================] - 11s 13ms/step - loss: 4.2617e-06 - val_loss: 2.1743e-05\n",
      "Epoch 188/200\n",
      "842/842 [==============================] - 11s 13ms/step - loss: 4.2678e-06 - val_loss: 2.1915e-05\n",
      "Epoch 189/200\n",
      "842/842 [==============================] - 11s 13ms/step - loss: 4.2660e-06 - val_loss: 2.1799e-05\n",
      "Epoch 190/200\n",
      "842/842 [==============================] - 11s 13ms/step - loss: 4.2602e-06 - val_loss: 2.1718e-05\n",
      "Epoch 191/200\n",
      "842/842 [==============================] - 11s 13ms/step - loss: 4.2670e-06 - val_loss: 2.1800e-05\n",
      "Epoch 192/200\n",
      "842/842 [==============================] - 11s 13ms/step - loss: 4.2721e-06 - val_loss: 2.1673e-05\n",
      "Epoch 193/200\n",
      "842/842 [==============================] - 11s 14ms/step - loss: 4.2659e-06 - val_loss: 2.2133e-05\n",
      "Epoch 194/200\n",
      "842/842 [==============================] - 11s 14ms/step - loss: 4.2629e-06 - val_loss: 2.1669e-05\n",
      "Epoch 195/200\n",
      "842/842 [==============================] - 11s 13ms/step - loss: 4.2595e-06 - val_loss: 2.1808e-05\n",
      "Epoch 196/200\n",
      "842/842 [==============================] - 11s 14ms/step - loss: 4.2676e-06 - val_loss: 2.1622e-05\n",
      "Epoch 197/200\n",
      "842/842 [==============================] - 11s 14ms/step - loss: 4.2657e-06 - val_loss: 2.1848e-05\n",
      "Epoch 198/200\n",
      "842/842 [==============================] - 11s 13ms/step - loss: 4.2641e-06 - val_loss: 2.2002e-05\n",
      "Epoch 199/200\n",
      "842/842 [==============================] - 12s 14ms/step - loss: 4.2597e-06 - val_loss: 2.1693e-05\n",
      "Epoch 200/200\n",
      "842/842 [==============================] - 12s 14ms/step - loss: 4.2643e-06 - val_loss: 2.1755e-05\n"
     ]
    },
    {
     "data": {
      "text/plain": [
       "<tensorflow.python.keras.callbacks.History at 0x7faed075b790>"
      ]
     },
     "execution_count": 64,
     "metadata": {},
     "output_type": "execute_result"
    }
   ],
   "source": [
    "model.fit(train_dataset,validation_data=test_dataset, epochs=200)\n"
   ]
  },
  {
   "cell_type": "markdown",
   "id": "239637b6-6a81-4fa3-bbf4-ced84367c9a7",
   "metadata": {},
   "source": [
    "## Looking at predictions\n",
    "Inspecting the predictions of the model on the training set."
   ]
  },
  {
   "cell_type": "code",
   "execution_count": 37,
   "id": "6cfc8fa7-73bd-45b1-8f7e-6ee37ac0b6ac",
   "metadata": {
    "tags": []
   },
   "outputs": [],
   "source": [
    "predictions = model.predict(examples[:10000,:,:])"
   ]
  },
  {
   "cell_type": "code",
   "execution_count": 38,
   "id": "48bd0bde-d606-4d18-b9b2-d42e58222c59",
   "metadata": {
    "tags": []
   },
   "outputs": [
    {
     "data": {
      "text/plain": [
       "0.00011937795"
      ]
     },
     "execution_count": 38,
     "metadata": {},
     "output_type": "execute_result"
    }
   ],
   "source": [
    "np.var(predictions)"
   ]
  },
  {
   "cell_type": "code",
   "execution_count": 39,
   "id": "dd593580-d69e-4a59-97cc-11df9147c5a3",
   "metadata": {
    "tags": []
   },
   "outputs": [],
   "source": [
    "predictions.shape\n",
    "\n",
    "def plot_example(index):\n",
    "    prediction = predictions[index]\n",
    "    actual = labels[index]\n",
    "    noisy = examples[index]\n",
    "    \n",
    "    fig, [ax1, ax2, ax3, ax4] = plt.subplots(1,4)\n",
    "    ax2.imshow(prediction, aspect = \"auto\")\n",
    "    ax3.imshow(actual, aspect= \"auto\")\n",
    "    ax1.imshow(noisy, aspect=\"auto\")\n",
    "    ax4.imshow(actual-prediction, aspect=\"auto\")\n",
    "    plt.show()"
   ]
  },
  {
   "cell_type": "code",
   "execution_count": 40,
   "id": "9f92e3b7-3df9-483f-ad3b-03fc0651862f",
   "metadata": {
    "tags": []
   },
   "outputs": [
    {
     "data": {
      "application/vnd.jupyter.widget-view+json": {
       "model_id": "1ea73407db2444b0acf49ef71f1518fc",
       "version_major": 2,
       "version_minor": 0
      },
      "text/plain": [
       "interactive(children=(IntSlider(value=4999, description='index', max=9999), Output()), _dom_classes=('widget-i…"
      ]
     },
     "metadata": {},
     "output_type": "display_data"
    },
    {
     "data": {
      "text/plain": [
       "<function __main__.plot_example(index)>"
      ]
     },
     "execution_count": 40,
     "metadata": {},
     "output_type": "execute_result"
    }
   ],
   "source": [
    "interact(plot_example, index=(0, 9999, 1))"
   ]
  },
  {
   "cell_type": "code",
   "execution_count": 41,
   "id": "6f059822-d8d3-42c1-acbd-5d6dfcd5361b",
   "metadata": {
    "tags": []
   },
   "outputs": [],
   "source": [
    "def plot_time_domain( index):\n",
    "\n",
    "    test_noisy = noisy_stft.get_data()[index,:,:,0]\n",
    "    test_noisy_phase = noisy_stft.get_data()[index,:,:,1]\n",
    "\n",
    "    test_pure = labels[index,:,:]\n",
    "    test_pure_phase = noisy_stft.get_data()[index,:,:,1]\n",
    "\n",
    "    model_amp = predictions[index]\n",
    "    noisy_phase = noisy_stft.get_data()[index,:,:,1]\n",
    "\n",
    "    fig, [ax1, ax2] =plt.subplots(1,2)\n",
    "    t, signal_pure = istft(test_pure*np.exp(1j*test_pure_phase), fs = 1./5.)\n",
    "    t, signal_model = istft(model_amp*np.exp(1j*noisy_phase), fs = 1./5.)\n",
    "    t, signal_example = istft(test_noisy*np.exp(1j*test_noisy_phase), fs = 1./5.)\n",
    "\n",
    "    fig.set_size_inches((12,10))\n",
    "    ax1.plot(t,signal_example)\n",
    "    ax2.plot(t, signal_model)\n",
    "    ax2.plot(t, signal_pure, alpha=0.5, color=\"red\")\n",
    "    plt.show()"
   ]
  },
  {
   "cell_type": "code",
   "execution_count": 42,
   "id": "dbfa7920-0fbe-4288-8bd6-29c1745aa863",
   "metadata": {
    "tags": []
   },
   "outputs": [
    {
     "data": {
      "application/vnd.jupyter.widget-view+json": {
       "model_id": "ce99069ee0cf49d6aeb47f4a99d82b07",
       "version_major": 2,
       "version_minor": 0
      },
      "text/plain": [
       "interactive(children=(IntSlider(value=4999, description='index', max=9999), Output()), _dom_classes=('widget-i…"
      ]
     },
     "metadata": {},
     "output_type": "display_data"
    },
    {
     "data": {
      "text/plain": [
       "<function __main__.plot_time_domain(index)>"
      ]
     },
     "execution_count": 42,
     "metadata": {},
     "output_type": "execute_result"
    }
   ],
   "source": [
    "interact(plot_time_domain, index = (0,9999,1))"
   ]
  },
  {
   "cell_type": "markdown",
   "id": "9e5e00c5-f9df-4420-9a6f-1e21ba5fdcf8",
   "metadata": {},
   "source": [
    "## Visualize the effect on the test set\n",
    "Previous visualizations were for the training set only.\n",
    "\n",
    "Check the influence of the test set here."
   ]
  },
  {
   "cell_type": "code",
   "execution_count": 65,
   "id": "b78f1f78-755e-4437-a802-c9c24c9c5907",
   "metadata": {
    "tags": []
   },
   "outputs": [],
   "source": [
    "predictions_test = model.predict(examples_test)"
   ]
  },
  {
   "cell_type": "code",
   "execution_count": 66,
   "id": "da7c1e6d-5910-41a5-9ed1-cf7d3294b509",
   "metadata": {
    "tags": []
   },
   "outputs": [],
   "source": [
    "examples_test = noisy_test_stft.get_data()[::stride_reduce,:,:,0]\n",
    "labels_test = pure_test_stft.get_data()[::stride_reduce,:,:,0]\n",
    "\n",
    "examples_test_phase = noisy_test_stft.get_data()[::stride_reduce,:,:,1]\n",
    "labels_test_phase = pure_test_stft.get_data()[::stride_reduce,:,:,1]"
   ]
  },
  {
   "cell_type": "code",
   "execution_count": 67,
   "id": "bea6eb91-1f76-4d1d-baac-095078068c73",
   "metadata": {
    "tags": []
   },
   "outputs": [],
   "source": [
    "def plot_time_domain_test( index):\n",
    "\n",
    "    # get the test set prediction\n",
    "    test_noisy = examples_test[index]\n",
    "    test_noisy_phase = examples_test_phase[index]\n",
    "    \n",
    "    # the pure example from the test set\n",
    "    test_pure = labels_test[index]\n",
    "    test_pure_phase = labels_test_phase[index]\n",
    "\n",
    "    model_amp = predictions_test[index]\n",
    "    noisy_phase = examples_test_phase[index]\n",
    "    \n",
    "    fig, [ax1, ax2] =plt.subplots(1,2)\n",
    "    t, signal_pure = istft(test_pure*np.exp(1j*test_pure_phase), fs = 1./5.)\n",
    "    t, signal_model = istft(model_amp*np.exp(1j*noisy_phase), fs = 1./5.)\n",
    "    t, signal_example = istft(test_noisy*np.exp(1j*test_noisy_phase), fs = 1./5.)\n",
    "\n",
    "    fig.set_size_inches((12,10))\n",
    "    ax1.plot(t,signal_example)\n",
    "    ax2.plot(t, signal_model)\n",
    "    ax2.plot(t, signal_pure, alpha=0.5, color=\"red\")\n",
    "    plt.show()"
   ]
  },
  {
   "cell_type": "code",
   "execution_count": 68,
   "id": "b4a87db6-d0c5-42d4-bae6-2fb777e89953",
   "metadata": {
    "tags": []
   },
   "outputs": [
    {
     "data": {
      "application/vnd.jupyter.widget-view+json": {
       "model_id": "c1a89122bd9a42e1b0794f1391a4417a",
       "version_major": 2,
       "version_minor": 0
      },
      "text/plain": [
       "interactive(children=(IntSlider(value=500, description='index', max=1000), Output()), _dom_classes=('widget-in…"
      ]
     },
     "metadata": {},
     "output_type": "display_data"
    },
    {
     "data": {
      "text/plain": [
       "<function __main__.plot_time_domain_test(index)>"
      ]
     },
     "execution_count": 68,
     "metadata": {},
     "output_type": "execute_result"
    }
   ],
   "source": [
    "interact(plot_time_domain_test, index = (0,1000,1))"
   ]
  },
  {
   "cell_type": "markdown",
   "id": "3762b93b-6e11-44ec-a3c5-b1adfa2fb528",
   "metadata": {},
   "source": [
    "## Store the model\n",
    "Storing the model after a long training session."
   ]
  },
  {
   "cell_type": "code",
   "execution_count": 69,
   "id": "57c882d1-4477-4896-924c-b5177c0f523b",
   "metadata": {
    "tags": []
   },
   "outputs": [],
   "source": [
    "model_folder = \"model/\""
   ]
  },
  {
   "cell_type": "code",
   "execution_count": 70,
   "id": "2ec72095-e8de-44e2-9b31-1d55d04a3461",
   "metadata": {
    "tags": []
   },
   "outputs": [],
   "source": [
    "\n",
    "# Get the current date\n",
    "now = datetime.datetime.now()\n",
    "\n",
    "# Format the date as \"day-month-year\"\n",
    "date_str = now.strftime(\"%d-%m-h%H%M\")\n",
    "\n",
    "# \n",
    "\n",
    "# Parameter count\n",
    "trainableParams = np.sum([np.prod(v.get_shape()) for v in model.trainable_weights])\n",
    "\n",
    "\n",
    "model_name = f\"model-{date_str}-p{trainableParams}\""
   ]
  },
  {
   "cell_type": "code",
   "execution_count": 71,
   "id": "6bfa107d-16e1-4b79-b822-b71887e34bda",
   "metadata": {
    "tags": []
   },
   "outputs": [
    {
     "name": "stdout",
     "output_type": "stream",
     "text": [
      "INFO:tensorflow:Assets written to: model/model-29-03-h1401-p2941361/assets\n"
     ]
    }
   ],
   "source": [
    "\n",
    "\n",
    "path = model_folder + model_name\n",
    "model.save(path)"
   ]
  },
  {
   "cell_type": "markdown",
   "id": "bd0ab5e2-119a-4c76-ab9e-528b84411957",
   "metadata": {},
   "source": [
    "## Analysis of maximum values\n",
    "Looking at maximum values of amplitude over the whole array"
   ]
  },
  {
   "cell_type": "code",
   "execution_count": 147,
   "id": "2751a123-aa1d-4437-8104-c6b789bf440e",
   "metadata": {
    "tags": []
   },
   "outputs": [],
   "source": [
    "test_example = noisy_stft.get_data()[0]\n",
    "shape = test_example.shape\n",
    "test_example_reshaped = noisy_stft.get_data()[0].reshape((1, shape[0], shape[1], shape[2]))\n",
    "\n",
    "test_pure = pure_stft.get_data()[0]"
   ]
  },
  {
   "cell_type": "code",
   "execution_count": 148,
   "id": "993ba3f6-b802-4d2b-ac0c-35f843092729",
   "metadata": {
    "tags": []
   },
   "outputs": [
    {
     "data": {
      "text/plain": [
       "0.1167289817731223"
      ]
     },
     "execution_count": 148,
     "metadata": {},
     "output_type": "execute_result"
    }
   ],
   "source": [
    "test_pure[:,:,0].max()"
   ]
  },
  {
   "cell_type": "markdown",
   "id": "65d8bffc-c85c-4356-9fe1-386ff9c0351c",
   "metadata": {},
   "source": [
    "Todo\n",
    "Normalize the phase and amplitude values.."
   ]
  },
  {
   "cell_type": "code",
   "execution_count": 27,
   "id": "728854d5-4030-48e9-8865-89228857d160",
   "metadata": {
    "tags": []
   },
   "outputs": [],
   "source": [
    "amps_noisy =noisy_stft.get_data()[:,:,:,0]"
   ]
  },
  {
   "cell_type": "code",
   "execution_count": 28,
   "id": "cc0e735a-37b3-4780-a56d-6f0e6b212830",
   "metadata": {
    "tags": []
   },
   "outputs": [],
   "source": [
    "amps_noisy_flattened = amps_noisy.flatten()"
   ]
  },
  {
   "cell_type": "code",
   "execution_count": 29,
   "id": "1b516141-c7d1-4207-a12f-a0031fb15379",
   "metadata": {
    "tags": []
   },
   "outputs": [
    {
     "data": {
      "text/plain": [
       "(array([1.0101877e+07, 1.1225070e+06, 1.9600700e+05, 1.0042300e+05,\n",
       "        5.1438000e+04, 2.1964000e+04, 9.8380000e+03, 4.6260000e+03,\n",
       "        1.1690000e+03, 1.5100000e+02]),\n",
       " array([2.14359953e-11, 1.67539747e-02, 3.35079495e-02, 5.02619242e-02,\n",
       "        6.70158989e-02, 8.37698737e-02, 1.00523848e-01, 1.17277823e-01,\n",
       "        1.34031798e-01, 1.50785773e-01, 1.67539747e-01]),\n",
       " <BarContainer object of 10 artists>)"
      ]
     },
     "execution_count": 29,
     "metadata": {},
     "output_type": "execute_result"
    },
    {
     "data": {
      "image/png": "[encoded data removed]",
      "text/plain": [
       "<Figure size 640x480 with 1 Axes>"
      ]
     },
     "metadata": {},
     "output_type": "display_data"
    }
   ],
   "source": [
    "plt.hist(amps_noisy_flattened)"
   ]
  },
  {
   "cell_type": "code",
   "execution_count": 30,
   "id": "9063e8e5-df9b-4911-90b9-2606ef41e874",
   "metadata": {
    "tags": []
   },
   "outputs": [],
   "source": [
    "amps_noisy_max = amps_noisy.max(axis=2).max(axis=1)"
   ]
  },
  {
   "cell_type": "code",
   "execution_count": 31,
   "id": "2d7f8f9f-fe81-4599-b965-31be2a86179d",
   "metadata": {
    "tags": []
   },
   "outputs": [
    {
     "data": {
      "text/plain": [
       "(10000,)"
      ]
     },
     "execution_count": 31,
     "metadata": {},
     "output_type": "execute_result"
    }
   ],
   "source": [
    "amps_noisy_max.shape"
   ]
  },
  {
   "cell_type": "code",
   "execution_count": 32,
   "id": "50c79a4d-7dbc-41a4-aa77-fc877d1d6468",
   "metadata": {
    "tags": []
   },
   "outputs": [
    {
     "data": {
      "text/plain": [
       "(array([ 153.,  364., 2132., 2197., 1479., 1392., 1000.,  879.,  345.,\n",
       "          59.]),\n",
       " array([0.04645806, 0.05856623, 0.0706744 , 0.08278256, 0.09489073,\n",
       "        0.1069989 , 0.11910707, 0.13121524, 0.14332341, 0.15543158,\n",
       "        0.16753975]),\n",
       " <BarContainer object of 10 artists>)"
      ]
     },
     "execution_count": 32,
     "metadata": {},
     "output_type": "execute_result"
    },
    {
     "data": {
      "image/png": "[encoded data removed]",
      "text/plain": [
       "<Figure size 640x480 with 1 Axes>"
      ]
     },
     "metadata": {},
     "output_type": "display_data"
    }
   ],
   "source": [
    "plt.hist(amps_noisy_max)"
   ]
  },
  {
   "cell_type": "code",
   "execution_count": null,
   "id": "f1bb57de-866e-4108-8e5c-98068a5f6c01",
   "metadata": {},
   "outputs": [],
   "source": []
  },
  {
   "cell_type": "code",
   "execution_count": null,
   "id": "ec32d850-cfda-4b0b-87c4-0582e2b3116c",
   "metadata": {},
   "outputs": [],
   "source": []
  }
 ],
 "metadata": {
  "kernelspec": {
   "display_name": "Python 3 (ipykernel)",
   "language": "python",
   "name": "python3"
  },
  "language_info": {
   "codemirror_mode": {
    "name": "ipython",
    "version": 3
   },
   "file_extension": ".py",
   "mimetype": "text/x-python",
   "name": "python",
   "nbconvert_exporter": "python",
   "pygments_lexer": "ipython3",
   "version": "3.9.16"
  }
 },
 "nbformat": 4,
 "nbformat_minor": 5
}
