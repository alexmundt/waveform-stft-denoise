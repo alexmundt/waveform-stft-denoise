{
 "cells": [
  {
   "cell_type": "code",
   "execution_count": 1,
   "id": "2d038a39-333d-466f-813b-ba25e46aaf08",
   "metadata": {
    "tags": []
   },
   "outputs": [
    {
     "name": "stderr",
     "output_type": "stream",
     "text": [
      "2023-04-27 21:27:30.107825: I tensorflow/stream_executor/platform/default/dso_loader.cc:49] Successfully opened dynamic library libcudart.so.10.1\n"
     ]
    }
   ],
   "source": [
    "import os\n",
    "import numpy as np\n",
    "import matplotlib.pyplot as plt\n",
    "from scipy.signal import stft, istft\n",
    "import tensorflow as tf\n",
    "from ipywidgets import interact\n",
    "from code.stftprocessing import StftDataset\n",
    "from code.dsvisual import DatasetVisualizer\n",
    "from tqdm import tqdm\n",
    "import datetime\n"
   ]
  },
  {
   "cell_type": "code",
   "execution_count": 2,
   "id": "7c5005d7-ef4c-4d6f-ac61-9022a8267d18",
   "metadata": {
    "tags": []
   },
   "outputs": [],
   "source": [
    "folder = \"training/new_small\"\n",
    "base = \"noisy_small\"\n",
    "target = \"pure_small\"\n",
    "\n",
    "# folder = \"training/original training\"\n",
    "# base = \"noisy\"\n",
    "# target = \"pure\"\n",
    "\n",
    "test_folder = \"training/test set\"\n",
    "test_base = \"noisy_test\"\n",
    "test_target = \"pure_test\"\n"
   ]
  },
  {
   "cell_type": "code",
   "execution_count": 3,
   "id": "67a3f1e0-0fa2-4d50-8552-5575b1bc0f3d",
   "metadata": {
    "tags": []
   },
   "outputs": [
    {
     "name": "stdout",
     "output_type": "stream",
     "text": [
      "Files loaded.\n",
      "Files loaded.\n",
      "Files loaded.\n",
      "Files loaded.\n"
     ]
    }
   ],
   "source": [
    "noisy_stft = StftDataset()\n",
    "pure_stft = StftDataset()\n",
    "\n",
    "noisy_stft.load(folder, base)\n",
    "pure_stft.load(folder, target)\n",
    "\n",
    "# test sets\n",
    "noisy_test_stft = StftDataset()\n",
    "pure_test_stft = StftDataset()\n",
    "noisy_test_stft.load(test_folder, test_base)\n",
    "pure_test_stft.load(test_folder, test_target)"
   ]
  },
  {
   "cell_type": "code",
   "execution_count": 4,
   "id": "11608d20-dfe1-4179-9d4c-6dd7b94af13e",
   "metadata": {
    "tags": []
   },
   "outputs": [
    {
     "data": {
      "text/plain": [
       "(10000, 129, 9, 2)"
      ]
     },
     "execution_count": 4,
     "metadata": {},
     "output_type": "execute_result"
    }
   ],
   "source": [
    "noisy_stft.get_data().shape"
   ]
  },
  {
   "cell_type": "code",
   "execution_count": 5,
   "id": "fc006258-5af8-42b3-ab54-a4189c550ef4",
   "metadata": {},
   "outputs": [
    {
     "name": "stderr",
     "output_type": "stream",
     "text": [
      "2023-04-27 21:27:34.849642: I tensorflow/compiler/jit/xla_cpu_device.cc:41] Not creating XLA devices, tf_xla_enable_xla_devices not set\n",
      "2023-04-27 21:27:34.850453: I tensorflow/stream_executor/platform/default/dso_loader.cc:49] Successfully opened dynamic library libcuda.so.1\n",
      "2023-04-27 21:27:34.899617: I tensorflow/stream_executor/cuda/cuda_gpu_executor.cc:941] successful NUMA node read from SysFS had negative value (-1), but there must be at least one NUMA node, so returning NUMA node zero\n",
      "2023-04-27 21:27:34.899866: I tensorflow/core/common_runtime/gpu/gpu_device.cc:1720] Found device 0 with properties: \n",
      "pciBusID: 0000:04:00.0 name: NVIDIA GeForce GTX 970 computeCapability: 5.2\n",
      "coreClock: 1.253GHz coreCount: 13 deviceMemorySize: 3.93GiB deviceMemoryBandwidth: 208.91GiB/s\n",
      "2023-04-27 21:27:34.899893: I tensorflow/stream_executor/platform/default/dso_loader.cc:49] Successfully opened dynamic library libcudart.so.10.1\n",
      "2023-04-27 21:27:34.901541: I tensorflow/stream_executor/platform/default/dso_loader.cc:49] Successfully opened dynamic library libcublas.so.10\n",
      "2023-04-27 21:27:34.901588: I tensorflow/stream_executor/platform/default/dso_loader.cc:49] Successfully opened dynamic library libcublasLt.so.10\n",
      "2023-04-27 21:27:34.903275: I tensorflow/stream_executor/platform/default/dso_loader.cc:49] Successfully opened dynamic library libcufft.so.10\n",
      "2023-04-27 21:27:34.903530: I tensorflow/stream_executor/platform/default/dso_loader.cc:49] Successfully opened dynamic library libcurand.so.10\n",
      "2023-04-27 21:27:34.905207: I tensorflow/stream_executor/platform/default/dso_loader.cc:49] Successfully opened dynamic library libcusolver.so.10\n",
      "2023-04-27 21:27:34.906237: I tensorflow/stream_executor/platform/default/dso_loader.cc:49] Successfully opened dynamic library libcusparse.so.10\n",
      "2023-04-27 21:27:34.908878: I tensorflow/stream_executor/platform/default/dso_loader.cc:49] Successfully opened dynamic library libcudnn.so.7\n",
      "2023-04-27 21:27:34.909002: I tensorflow/stream_executor/cuda/cuda_gpu_executor.cc:941] successful NUMA node read from SysFS had negative value (-1), but there must be at least one NUMA node, so returning NUMA node zero\n",
      "2023-04-27 21:27:34.909209: I tensorflow/stream_executor/cuda/cuda_gpu_executor.cc:941] successful NUMA node read from SysFS had negative value (-1), but there must be at least one NUMA node, so returning NUMA node zero\n",
      "2023-04-27 21:27:34.909338: I tensorflow/core/common_runtime/gpu/gpu_device.cc:1862] Adding visible gpu devices: 0\n",
      "2023-04-27 21:27:34.909855: I tensorflow/core/platform/cpu_feature_guard.cc:142] This TensorFlow binary is optimized with oneAPI Deep Neural Network Library (oneDNN) to use the following CPU instructions in performance-critical operations:  SSE4.1 SSE4.2 AVX AVX2 FMA\n",
      "To enable them in other operations, rebuild TensorFlow with the appropriate compiler flags.\n",
      "2023-04-27 21:27:34.910280: I tensorflow/compiler/jit/xla_gpu_device.cc:99] Not creating XLA devices, tf_xla_enable_xla_devices not set\n",
      "2023-04-27 21:27:34.910349: I tensorflow/stream_executor/cuda/cuda_gpu_executor.cc:941] successful NUMA node read from SysFS had negative value (-1), but there must be at least one NUMA node, so returning NUMA node zero\n",
      "2023-04-27 21:27:34.910495: I tensorflow/core/common_runtime/gpu/gpu_device.cc:1720] Found device 0 with properties: \n",
      "pciBusID: 0000:04:00.0 name: NVIDIA GeForce GTX 970 computeCapability: 5.2\n",
      "coreClock: 1.253GHz coreCount: 13 deviceMemorySize: 3.93GiB deviceMemoryBandwidth: 208.91GiB/s\n",
      "2023-04-27 21:27:34.910513: I tensorflow/stream_executor/platform/default/dso_loader.cc:49] Successfully opened dynamic library libcudart.so.10.1\n",
      "2023-04-27 21:27:34.910524: I tensorflow/stream_executor/platform/default/dso_loader.cc:49] Successfully opened dynamic library libcublas.so.10\n",
      "2023-04-27 21:27:34.910533: I tensorflow/stream_executor/platform/default/dso_loader.cc:49] Successfully opened dynamic library libcublasLt.so.10\n",
      "2023-04-27 21:27:34.910542: I tensorflow/stream_executor/platform/default/dso_loader.cc:49] Successfully opened dynamic library libcufft.so.10\n",
      "2023-04-27 21:27:34.910551: I tensorflow/stream_executor/platform/default/dso_loader.cc:49] Successfully opened dynamic library libcurand.so.10\n",
      "2023-04-27 21:27:34.910560: I tensorflow/stream_executor/platform/default/dso_loader.cc:49] Successfully opened dynamic library libcusolver.so.10\n",
      "2023-04-27 21:27:34.910569: I tensorflow/stream_executor/platform/default/dso_loader.cc:49] Successfully opened dynamic library libcusparse.so.10\n",
      "2023-04-27 21:27:34.910577: I tensorflow/stream_executor/platform/default/dso_loader.cc:49] Successfully opened dynamic library libcudnn.so.7\n",
      "2023-04-27 21:27:34.910618: I tensorflow/stream_executor/cuda/cuda_gpu_executor.cc:941] successful NUMA node read from SysFS had negative value (-1), but there must be at least one NUMA node, so returning NUMA node zero\n",
      "2023-04-27 21:27:34.910782: I tensorflow/stream_executor/cuda/cuda_gpu_executor.cc:941] successful NUMA node read from SysFS had negative value (-1), but there must be at least one NUMA node, so returning NUMA node zero\n",
      "2023-04-27 21:27:34.911105: I tensorflow/core/common_runtime/gpu/gpu_device.cc:1862] Adding visible gpu devices: 0\n",
      "2023-04-27 21:27:34.911135: I tensorflow/stream_executor/platform/default/dso_loader.cc:49] Successfully opened dynamic library libcudart.so.10.1\n",
      "2023-04-27 21:27:35.224861: I tensorflow/core/common_runtime/gpu/gpu_device.cc:1261] Device interconnect StreamExecutor with strength 1 edge matrix:\n",
      "2023-04-27 21:27:35.224888: I tensorflow/core/common_runtime/gpu/gpu_device.cc:1267]      0 \n",
      "2023-04-27 21:27:35.224892: I tensorflow/core/common_runtime/gpu/gpu_device.cc:1280] 0:   N \n",
      "2023-04-27 21:27:35.225120: I tensorflow/stream_executor/cuda/cuda_gpu_executor.cc:941] successful NUMA node read from SysFS had negative value (-1), but there must be at least one NUMA node, so returning NUMA node zero\n",
      "2023-04-27 21:27:35.225322: I tensorflow/stream_executor/cuda/cuda_gpu_executor.cc:941] successful NUMA node read from SysFS had negative value (-1), but there must be at least one NUMA node, so returning NUMA node zero\n",
      "2023-04-27 21:27:35.225491: I tensorflow/stream_executor/cuda/cuda_gpu_executor.cc:941] successful NUMA node read from SysFS had negative value (-1), but there must be at least one NUMA node, so returning NUMA node zero\n",
      "2023-04-27 21:27:35.225640: I tensorflow/core/common_runtime/gpu/gpu_device.cc:1406] Created TensorFlow device (/job:localhost/replica:0/task:0/device:GPU:0 with 2863 MB memory) -> physical GPU (device: 0, name: NVIDIA GeForce GTX 970, pci bus id: 0000:04:00.0, compute capability: 5.2)\n"
     ]
    }
   ],
   "source": [
    "# get the amplitudes of training and test sets\n",
    "examples = noisy_stft.get_data()[:,:,:,0]\n",
    "labels = pure_stft.get_data()[:,:,:,0]\n",
    "\n",
    "stride_reduce = 100\n",
    "examples_test = noisy_test_stft.get_data()[::stride_reduce,:,:,0]\n",
    "labels_test = pure_test_stft.get_data()[::stride_reduce,:,:,0]\n",
    "\n",
    "examples_test_phase = noisy_test_stft.get_data()[::stride_reduce,:,:,1]\n",
    "labels_test_phase = pure_test_stft.get_data()[::stride_reduce,:,:,1]\n",
    "\n",
    "# build the dataset from tensorflow functions\n",
    "train_dataset = tf.data.Dataset.from_tensor_slices((examples, labels))\n",
    "test_dataset = tf.data.Dataset.from_tensor_slices((examples_test, labels_test))"
   ]
  },
  {
   "cell_type": "code",
   "execution_count": 6,
   "id": "6562c220-7860-4297-a77d-c5e88007007a",
   "metadata": {
    "tags": []
   },
   "outputs": [
    {
     "data": {
      "text/plain": [
       "<TensorSliceDataset shapes: ((129, 9), (129, 9)), types: (tf.float64, tf.float64)>"
      ]
     },
     "execution_count": 6,
     "metadata": {},
     "output_type": "execute_result"
    }
   ],
   "source": [
    "train_dataset\n",
    "# test_dataset"
   ]
  },
  {
   "cell_type": "code",
   "execution_count": 7,
   "id": "ee2fe844-0bdc-4a91-b427-ce5ed1576742",
   "metadata": {
    "tags": []
   },
   "outputs": [],
   "source": [
    "input_shape = (129, 9 , 2)\n",
    "input_shape = (129, 9)"
   ]
  },
  {
   "cell_type": "code",
   "execution_count": 8,
   "id": "ea6f06e8-d6e8-41fc-8bb3-9038794e20b8",
   "metadata": {
    "tags": []
   },
   "outputs": [],
   "source": [
    "BATCH_SIZE = 512\n",
    "SHUFFLE_BUFFER_SIZE = 2000\n",
    "\n",
    "train_dataset = train_dataset.shuffle(SHUFFLE_BUFFER_SIZE).batch(BATCH_SIZE)\n",
    "test_dataset = test_dataset.batch(BATCH_SIZE)"
   ]
  },
  {
   "cell_type": "code",
   "execution_count": 9,
   "id": "97c703f4-8424-435f-a5a8-c7b3a34c593a",
   "metadata": {
    "tags": []
   },
   "outputs": [],
   "source": [
    "dropout_rate = 0.2\n",
    "factor = 8\n",
    "\n",
    "model = tf.keras.Sequential([\n",
    "    tf.keras.layers.Flatten(input_shape=input_shape),\n",
    "\n",
    "    tf.keras.layers.Dense(units = 125*factor, activation='relu'),\n",
    "    tf.keras.layers.Dropout(rate=dropout_rate),\n",
    "    tf.keras.layers.Dense(units = 75*factor, activation='relu'),\n",
    "    tf.keras.layers.Dropout(rate=dropout_rate*0.25),\n",
    "\n",
    "    tf.keras.layers.Dense(units = 50*factor, activation='relu'),\n",
    "    tf.keras.layers.Dropout(rate=dropout_rate*0.25),\n",
    "\n",
    "    tf.keras.layers.Dense(units = 75*factor, activation='relu'),\n",
    "    tf.keras.layers.Dropout(rate=dropout_rate),\n",
    "\n",
    "\n",
    "    tf.keras.layers.Dense(units = 129*9, activation='relu'),\n",
    "    # tf.keras.layers.Dense((128,9,2), activation='relu'),\n",
    "    # tf.keras.layers.Dense((128,9,2), activation='relu'),\n",
    "    # tf.keras.layers.Dense((128,9,2), activation='relu'),\n",
    "    # tf.keras.layers.Conv2D(3,2, activation='relu', input_shape=input_shape)\n",
    "    tf.keras.layers.Reshape(target_shape=input_shape)\n",
    "])\n",
    "\n",
    "model.compile(optimizer=\"adam\",\n",
    "              loss=\"mse\",\n",
    "              )"
   ]
  },
  {
   "cell_type": "code",
   "execution_count": 10,
   "id": "70b3b061-1eeb-48bd-b9c8-f2e73f73fa17",
   "metadata": {
    "tags": []
   },
   "outputs": [
    {
     "name": "stdout",
     "output_type": "stream",
     "text": [
      "Model: \"sequential\"\n",
      "_________________________________________________________________\n",
      "Layer (type)                 Output Shape              Param #   \n",
      "=================================================================\n",
      "flatten (Flatten)            (None, 1161)              0         \n",
      "_________________________________________________________________\n",
      "dense (Dense)                (None, 1000)              1162000   \n",
      "_________________________________________________________________\n",
      "dropout (Dropout)            (None, 1000)              0         \n",
      "_________________________________________________________________\n",
      "dense_1 (Dense)              (None, 600)               600600    \n",
      "_________________________________________________________________\n",
      "dropout_1 (Dropout)          (None, 600)               0         \n",
      "_________________________________________________________________\n",
      "dense_2 (Dense)              (None, 400)               240400    \n",
      "_________________________________________________________________\n",
      "dropout_2 (Dropout)          (None, 400)               0         \n",
      "_________________________________________________________________\n",
      "dense_3 (Dense)              (None, 600)               240600    \n",
      "_________________________________________________________________\n",
      "dropout_3 (Dropout)          (None, 600)               0         \n",
      "_________________________________________________________________\n",
      "dense_4 (Dense)              (None, 1161)              697761    \n",
      "_________________________________________________________________\n",
      "reshape (Reshape)            (None, 129, 9)            0         \n",
      "=================================================================\n",
      "Total params: 2,941,361\n",
      "Trainable params: 2,941,361\n",
      "Non-trainable params: 0\n",
      "_________________________________________________________________\n"
     ]
    }
   ],
   "source": [
    "model.summary()"
   ]
  },
  {
   "cell_type": "code",
   "execution_count": 11,
   "id": "faea64cc-22a7-49a0-8c89-fb11785912cf",
   "metadata": {
    "tags": []
   },
   "outputs": [
    {
     "name": "stdout",
     "output_type": "stream",
     "text": [
      "Epoch 1/200\n"
     ]
    },
    {
     "name": "stderr",
     "output_type": "stream",
     "text": [
      "2023-04-27 21:27:44.437476: I tensorflow/compiler/mlir/mlir_graph_optimization_pass.cc:116] None of the MLIR optimization passes are enabled (registered 2)\n",
      "2023-04-27 21:27:44.459224: I tensorflow/core/platform/profile_utils/cpu_utils.cc:112] CPU Frequency: 3593615000 Hz\n",
      "2023-04-27 21:27:44.516922: I tensorflow/stream_executor/platform/default/dso_loader.cc:49] Successfully opened dynamic library libcublas.so.10\n"
     ]
    },
    {
     "name": "stdout",
     "output_type": "stream",
     "text": [
      "20/20 [==============================] - 1s 28ms/step - loss: 9.8740e-05 - val_loss: 5.7143e-05\n",
      "Epoch 2/200\n",
      "20/20 [==============================] - 0s 15ms/step - loss: 6.0201e-05 - val_loss: 5.2793e-05\n",
      "Epoch 3/200\n",
      "20/20 [==============================] - 0s 15ms/step - loss: 5.4976e-05 - val_loss: 4.8952e-05\n",
      "Epoch 4/200\n",
      "20/20 [==============================] - 0s 15ms/step - loss: 5.0133e-05 - val_loss: 4.5866e-05\n",
      "Epoch 5/200\n",
      "20/20 [==============================] - 0s 15ms/step - loss: 4.5803e-05 - val_loss: 4.2814e-05\n",
      "Epoch 6/200\n",
      "20/20 [==============================] - 0s 14ms/step - loss: 4.0966e-05 - val_loss: 4.0714e-05\n",
      "Epoch 7/200\n",
      "20/20 [==============================] - 0s 15ms/step - loss: 3.6927e-05 - val_loss: 3.9028e-05\n",
      "Epoch 8/200\n",
      "20/20 [==============================] - 0s 15ms/step - loss: 3.2801e-05 - val_loss: 3.7805e-05\n",
      "Epoch 9/200\n",
      "20/20 [==============================] - 0s 15ms/step - loss: 2.9436e-05 - val_loss: 3.6606e-05\n",
      "Epoch 10/200\n",
      "20/20 [==============================] - 0s 15ms/step - loss: 2.6673e-05 - val_loss: 3.5552e-05\n",
      "Epoch 11/200\n",
      "20/20 [==============================] - 0s 15ms/step - loss: 2.4481e-05 - val_loss: 3.4220e-05\n",
      "Epoch 12/200\n",
      "20/20 [==============================] - 0s 14ms/step - loss: 2.2420e-05 - val_loss: 3.3550e-05\n",
      "Epoch 13/200\n",
      "20/20 [==============================] - 0s 14ms/step - loss: 2.0923e-05 - val_loss: 3.3121e-05\n",
      "Epoch 14/200\n",
      "20/20 [==============================] - 0s 14ms/step - loss: 1.9676e-05 - val_loss: 3.2800e-05\n",
      "Epoch 15/200\n",
      "20/20 [==============================] - 0s 14ms/step - loss: 1.8463e-05 - val_loss: 3.2348e-05\n",
      "Epoch 16/200\n",
      "20/20 [==============================] - 0s 14ms/step - loss: 1.7549e-05 - val_loss: 3.1929e-05\n",
      "Epoch 17/200\n",
      "20/20 [==============================] - 0s 15ms/step - loss: 1.6492e-05 - val_loss: 3.1281e-05\n",
      "Epoch 18/200\n",
      "20/20 [==============================] - 0s 15ms/step - loss: 1.5550e-05 - val_loss: 3.1018e-05\n",
      "Epoch 19/200\n",
      "20/20 [==============================] - 0s 15ms/step - loss: 1.4751e-05 - val_loss: 3.0810e-05\n",
      "Epoch 20/200\n",
      "20/20 [==============================] - 0s 15ms/step - loss: 1.4126e-05 - val_loss: 3.0584e-05\n",
      "Epoch 21/200\n",
      "20/20 [==============================] - 0s 14ms/step - loss: 1.3344e-05 - val_loss: 3.0448e-05\n",
      "Epoch 22/200\n",
      "20/20 [==============================] - 0s 14ms/step - loss: 1.2838e-05 - val_loss: 3.0158e-05\n",
      "Epoch 23/200\n",
      "20/20 [==============================] - 0s 14ms/step - loss: 1.2277e-05 - val_loss: 2.9950e-05\n",
      "Epoch 24/200\n",
      "20/20 [==============================] - 0s 14ms/step - loss: 1.1822e-05 - val_loss: 2.9839e-05\n",
      "Epoch 25/200\n",
      "20/20 [==============================] - 0s 14ms/step - loss: 1.1400e-05 - val_loss: 2.9736e-05\n",
      "Epoch 26/200\n",
      "20/20 [==============================] - 0s 14ms/step - loss: 1.1032e-05 - val_loss: 2.9469e-05\n",
      "Epoch 27/200\n",
      "20/20 [==============================] - 0s 14ms/step - loss: 1.0559e-05 - val_loss: 2.9374e-05\n",
      "Epoch 28/200\n",
      "20/20 [==============================] - 0s 14ms/step - loss: 1.0145e-05 - val_loss: 2.9315e-05\n",
      "Epoch 29/200\n",
      "20/20 [==============================] - 0s 14ms/step - loss: 9.8033e-06 - val_loss: 2.9194e-05\n",
      "Epoch 30/200\n",
      "20/20 [==============================] - 0s 15ms/step - loss: 9.4001e-06 - val_loss: 2.9087e-05\n",
      "Epoch 31/200\n",
      "20/20 [==============================] - 0s 15ms/step - loss: 9.1391e-06 - val_loss: 2.9123e-05\n",
      "Epoch 32/200\n",
      "20/20 [==============================] - 0s 15ms/step - loss: 8.8387e-06 - val_loss: 2.8917e-05\n",
      "Epoch 33/200\n",
      "20/20 [==============================] - 0s 14ms/step - loss: 8.5299e-06 - val_loss: 2.9052e-05\n",
      "Epoch 34/200\n",
      "20/20 [==============================] - 0s 15ms/step - loss: 8.2464e-06 - val_loss: 2.8858e-05\n",
      "Epoch 35/200\n",
      "20/20 [==============================] - 0s 15ms/step - loss: 8.0238e-06 - val_loss: 2.8885e-05\n",
      "Epoch 36/200\n",
      "20/20 [==============================] - 0s 15ms/step - loss: 7.7903e-06 - val_loss: 2.8863e-05\n",
      "Epoch 37/200\n",
      "20/20 [==============================] - 0s 15ms/step - loss: 7.5885e-06 - val_loss: 2.8628e-05\n",
      "Epoch 38/200\n",
      "20/20 [==============================] - 0s 15ms/step - loss: 7.4060e-06 - val_loss: 2.8860e-05\n",
      "Epoch 39/200\n",
      "20/20 [==============================] - 0s 14ms/step - loss: 7.2080e-06 - val_loss: 2.8742e-05\n",
      "Epoch 40/200\n",
      "20/20 [==============================] - 0s 14ms/step - loss: 7.0305e-06 - val_loss: 2.8839e-05\n",
      "Epoch 41/200\n",
      "20/20 [==============================] - 0s 14ms/step - loss: 6.8470e-06 - val_loss: 2.8764e-05\n",
      "Epoch 42/200\n",
      "20/20 [==============================] - 0s 15ms/step - loss: 6.7247e-06 - val_loss: 2.8737e-05\n",
      "Epoch 43/200\n",
      "20/20 [==============================] - 0s 14ms/step - loss: 6.5671e-06 - val_loss: 2.8663e-05\n",
      "Epoch 44/200\n",
      "20/20 [==============================] - 0s 14ms/step - loss: 6.3876e-06 - val_loss: 2.8752e-05\n",
      "Epoch 45/200\n",
      "20/20 [==============================] - 0s 14ms/step - loss: 6.3066e-06 - val_loss: 2.8745e-05\n",
      "Epoch 46/200\n",
      "20/20 [==============================] - 0s 15ms/step - loss: 6.2120e-06 - val_loss: 2.8783e-05\n",
      "Epoch 47/200\n",
      "20/20 [==============================] - 0s 15ms/step - loss: 6.0801e-06 - val_loss: 2.8662e-05\n",
      "Epoch 48/200\n",
      "20/20 [==============================] - 0s 15ms/step - loss: 5.9741e-06 - val_loss: 2.8824e-05\n",
      "Epoch 49/200\n",
      "20/20 [==============================] - 0s 15ms/step - loss: 5.8593e-06 - val_loss: 2.8668e-05\n",
      "Epoch 50/200\n",
      "20/20 [==============================] - 0s 15ms/step - loss: 5.7241e-06 - val_loss: 2.8740e-05\n",
      "Epoch 51/200\n",
      "20/20 [==============================] - 0s 14ms/step - loss: 5.6643e-06 - val_loss: 2.8582e-05\n",
      "Epoch 52/200\n",
      "20/20 [==============================] - 0s 14ms/step - loss: 5.5519e-06 - val_loss: 2.8669e-05\n",
      "Epoch 53/200\n",
      "20/20 [==============================] - 0s 15ms/step - loss: 5.4895e-06 - val_loss: 2.8650e-05\n",
      "Epoch 54/200\n",
      "20/20 [==============================] - 0s 14ms/step - loss: 5.4094e-06 - val_loss: 2.8687e-05\n",
      "Epoch 55/200\n",
      "20/20 [==============================] - 0s 14ms/step - loss: 5.3408e-06 - val_loss: 2.8628e-05\n",
      "Epoch 56/200\n",
      "20/20 [==============================] - 0s 14ms/step - loss: 5.2564e-06 - val_loss: 2.8630e-05\n",
      "Epoch 57/200\n",
      "20/20 [==============================] - 0s 14ms/step - loss: 5.2039e-06 - val_loss: 2.8542e-05\n",
      "Epoch 58/200\n",
      "20/20 [==============================] - 0s 14ms/step - loss: 5.1555e-06 - val_loss: 2.8584e-05\n",
      "Epoch 59/200\n",
      "20/20 [==============================] - 0s 15ms/step - loss: 5.0677e-06 - val_loss: 2.8672e-05\n",
      "Epoch 60/200\n",
      "20/20 [==============================] - 0s 15ms/step - loss: 5.0385e-06 - val_loss: 2.8486e-05\n",
      "Epoch 61/200\n",
      "20/20 [==============================] - 0s 15ms/step - loss: 4.9692e-06 - val_loss: 2.8725e-05\n",
      "Epoch 62/200\n",
      "20/20 [==============================] - 0s 15ms/step - loss: 4.8923e-06 - val_loss: 2.8705e-05\n",
      "Epoch 63/200\n",
      "20/20 [==============================] - 0s 15ms/step - loss: 4.8824e-06 - val_loss: 2.8592e-05\n",
      "Epoch 64/200\n",
      "20/20 [==============================] - 0s 14ms/step - loss: 4.8315e-06 - val_loss: 2.8725e-05\n",
      "Epoch 65/200\n",
      "20/20 [==============================] - 0s 14ms/step - loss: 4.7430e-06 - val_loss: 2.8364e-05\n",
      "Epoch 66/200\n",
      "20/20 [==============================] - 0s 14ms/step - loss: 4.7202e-06 - val_loss: 2.8478e-05\n",
      "Epoch 67/200\n",
      "20/20 [==============================] - 0s 14ms/step - loss: 4.6874e-06 - val_loss: 2.8501e-05\n",
      "Epoch 68/200\n",
      "20/20 [==============================] - 0s 15ms/step - loss: 4.6463e-06 - val_loss: 2.8506e-05\n",
      "Epoch 69/200\n",
      "20/20 [==============================] - 0s 15ms/step - loss: 4.5875e-06 - val_loss: 2.8456e-05\n",
      "Epoch 70/200\n",
      "20/20 [==============================] - 0s 15ms/step - loss: 4.5569e-06 - val_loss: 2.8401e-05\n",
      "Epoch 71/200\n",
      "20/20 [==============================] - 0s 14ms/step - loss: 4.5292e-06 - val_loss: 2.8565e-05\n",
      "Epoch 72/200\n",
      "20/20 [==============================] - 0s 14ms/step - loss: 4.4823e-06 - val_loss: 2.8317e-05\n",
      "Epoch 73/200\n",
      "20/20 [==============================] - 0s 15ms/step - loss: 4.4106e-06 - val_loss: 2.8306e-05\n",
      "Epoch 74/200\n",
      "20/20 [==============================] - 0s 14ms/step - loss: 4.3597e-06 - val_loss: 2.8488e-05\n",
      "Epoch 75/200\n",
      "20/20 [==============================] - 0s 14ms/step - loss: 4.3727e-06 - val_loss: 2.8385e-05\n",
      "Epoch 76/200\n",
      "20/20 [==============================] - 0s 14ms/step - loss: 4.2852e-06 - val_loss: 2.8302e-05\n",
      "Epoch 77/200\n",
      "20/20 [==============================] - 0s 15ms/step - loss: 4.2811e-06 - val_loss: 2.8348e-05\n",
      "Epoch 78/200\n",
      "20/20 [==============================] - 0s 15ms/step - loss: 4.2506e-06 - val_loss: 2.8310e-05\n",
      "Epoch 79/200\n",
      "20/20 [==============================] - 0s 15ms/step - loss: 4.1925e-06 - val_loss: 2.8490e-05\n",
      "Epoch 80/200\n",
      "20/20 [==============================] - 0s 15ms/step - loss: 4.2313e-06 - val_loss: 2.8277e-05\n",
      "Epoch 81/200\n",
      "20/20 [==============================] - 0s 15ms/step - loss: 4.1837e-06 - val_loss: 2.8328e-05\n",
      "Epoch 82/200\n",
      "20/20 [==============================] - 0s 14ms/step - loss: 4.1640e-06 - val_loss: 2.8256e-05\n",
      "Epoch 83/200\n",
      "20/20 [==============================] - 0s 14ms/step - loss: 4.1122e-06 - val_loss: 2.8315e-05\n",
      "Epoch 84/200\n",
      "20/20 [==============================] - 0s 15ms/step - loss: 4.0682e-06 - val_loss: 2.8267e-05\n",
      "Epoch 85/200\n",
      "20/20 [==============================] - 0s 14ms/step - loss: 4.1094e-06 - val_loss: 2.8313e-05\n",
      "Epoch 86/200\n",
      "20/20 [==============================] - 0s 15ms/step - loss: 4.0333e-06 - val_loss: 2.8172e-05\n",
      "Epoch 87/200\n",
      "20/20 [==============================] - 0s 15ms/step - loss: 4.0265e-06 - val_loss: 2.8220e-05\n",
      "Epoch 88/200\n",
      "20/20 [==============================] - 0s 14ms/step - loss: 3.9639e-06 - val_loss: 2.8278e-05\n",
      "Epoch 89/200\n",
      "20/20 [==============================] - 0s 14ms/step - loss: 3.9088e-06 - val_loss: 2.8330e-05\n",
      "Epoch 90/200\n",
      "20/20 [==============================] - 0s 14ms/step - loss: 3.9282e-06 - val_loss: 2.8294e-05\n",
      "Epoch 91/200\n",
      "20/20 [==============================] - 0s 14ms/step - loss: 3.9091e-06 - val_loss: 2.8129e-05\n",
      "Epoch 92/200\n",
      "20/20 [==============================] - 0s 14ms/step - loss: 3.9070e-06 - val_loss: 2.8156e-05\n",
      "Epoch 93/200\n",
      "20/20 [==============================] - 0s 14ms/step - loss: 3.8414e-06 - val_loss: 2.8295e-05\n",
      "Epoch 94/200\n",
      "20/20 [==============================] - 0s 15ms/step - loss: 3.8300e-06 - val_loss: 2.8143e-05\n",
      "Epoch 95/200\n",
      "20/20 [==============================] - 0s 14ms/step - loss: 3.8024e-06 - val_loss: 2.8204e-05\n",
      "Epoch 96/200\n",
      "20/20 [==============================] - 0s 14ms/step - loss: 3.7651e-06 - val_loss: 2.8047e-05\n",
      "Epoch 97/200\n",
      "20/20 [==============================] - 0s 14ms/step - loss: 3.7520e-06 - val_loss: 2.8258e-05\n",
      "Epoch 98/200\n",
      "20/20 [==============================] - 0s 14ms/step - loss: 3.7561e-06 - val_loss: 2.8118e-05\n",
      "Epoch 99/200\n",
      "20/20 [==============================] - 0s 15ms/step - loss: 3.7297e-06 - val_loss: 2.8175e-05\n",
      "Epoch 100/200\n",
      "20/20 [==============================] - 0s 14ms/step - loss: 3.7127e-06 - val_loss: 2.8228e-05\n",
      "Epoch 101/200\n",
      "20/20 [==============================] - 0s 14ms/step - loss: 3.7039e-06 - val_loss: 2.8323e-05\n",
      "Epoch 102/200\n",
      "20/20 [==============================] - 0s 14ms/step - loss: 3.6940e-06 - val_loss: 2.8271e-05\n",
      "Epoch 103/200\n",
      "20/20 [==============================] - 0s 14ms/step - loss: 3.6460e-06 - val_loss: 2.8278e-05\n",
      "Epoch 104/200\n",
      "20/20 [==============================] - 0s 14ms/step - loss: 3.6350e-06 - val_loss: 2.8137e-05\n",
      "Epoch 105/200\n",
      "20/20 [==============================] - 0s 14ms/step - loss: 3.6400e-06 - val_loss: 2.8081e-05\n",
      "Epoch 106/200\n",
      "20/20 [==============================] - 0s 14ms/step - loss: 3.6074e-06 - val_loss: 2.8255e-05\n",
      "Epoch 107/200\n",
      "20/20 [==============================] - 0s 14ms/step - loss: 3.5787e-06 - val_loss: 2.8290e-05\n",
      "Epoch 108/200\n",
      "20/20 [==============================] - 0s 14ms/step - loss: 3.6386e-06 - val_loss: 2.8132e-05\n",
      "Epoch 109/200\n",
      "20/20 [==============================] - 0s 14ms/step - loss: 3.5422e-06 - val_loss: 2.8066e-05\n",
      "Epoch 110/200\n",
      "20/20 [==============================] - 0s 14ms/step - loss: 3.5785e-06 - val_loss: 2.8048e-05\n",
      "Epoch 111/200\n",
      "20/20 [==============================] - 0s 15ms/step - loss: 3.5249e-06 - val_loss: 2.8230e-05\n",
      "Epoch 112/200\n",
      "20/20 [==============================] - 0s 14ms/step - loss: 3.5415e-06 - val_loss: 2.7982e-05\n",
      "Epoch 113/200\n",
      "20/20 [==============================] - 0s 14ms/step - loss: 3.5048e-06 - val_loss: 2.8202e-05\n",
      "Epoch 114/200\n",
      "20/20 [==============================] - 0s 15ms/step - loss: 3.5205e-06 - val_loss: 2.8036e-05\n",
      "Epoch 115/200\n",
      "20/20 [==============================] - 0s 14ms/step - loss: 3.5087e-06 - val_loss: 2.8087e-05\n",
      "Epoch 116/200\n",
      "20/20 [==============================] - 0s 15ms/step - loss: 3.4756e-06 - val_loss: 2.8113e-05\n",
      "Epoch 117/200\n",
      "20/20 [==============================] - 0s 14ms/step - loss: 3.4537e-06 - val_loss: 2.8193e-05\n",
      "Epoch 118/200\n",
      "20/20 [==============================] - 0s 14ms/step - loss: 3.4426e-06 - val_loss: 2.8165e-05\n",
      "Epoch 119/200\n",
      "20/20 [==============================] - 0s 14ms/step - loss: 3.4380e-06 - val_loss: 2.8083e-05\n",
      "Epoch 120/200\n",
      "20/20 [==============================] - 0s 14ms/step - loss: 3.4226e-06 - val_loss: 2.8098e-05\n",
      "Epoch 121/200\n",
      "20/20 [==============================] - 0s 14ms/step - loss: 3.3897e-06 - val_loss: 2.8222e-05\n",
      "Epoch 122/200\n",
      "20/20 [==============================] - 0s 14ms/step - loss: 3.3915e-06 - val_loss: 2.8123e-05\n",
      "Epoch 123/200\n",
      "20/20 [==============================] - 0s 14ms/step - loss: 3.3670e-06 - val_loss: 2.8033e-05\n",
      "Epoch 124/200\n",
      "20/20 [==============================] - 0s 14ms/step - loss: 3.3596e-06 - val_loss: 2.8146e-05\n",
      "Epoch 125/200\n",
      "20/20 [==============================] - 0s 14ms/step - loss: 3.3497e-06 - val_loss: 2.8201e-05\n",
      "Epoch 126/200\n",
      "20/20 [==============================] - 0s 14ms/step - loss: 3.3611e-06 - val_loss: 2.8092e-05\n",
      "Epoch 127/200\n",
      "20/20 [==============================] - 0s 14ms/step - loss: 3.3699e-06 - val_loss: 2.8008e-05\n",
      "Epoch 128/200\n",
      "20/20 [==============================] - 0s 14ms/step - loss: 3.3164e-06 - val_loss: 2.8015e-05\n",
      "Epoch 129/200\n",
      "20/20 [==============================] - 0s 15ms/step - loss: 3.3199e-06 - val_loss: 2.8183e-05\n",
      "Epoch 130/200\n",
      "20/20 [==============================] - 0s 15ms/step - loss: 3.3592e-06 - val_loss: 2.8371e-05\n",
      "Epoch 131/200\n",
      "20/20 [==============================] - 0s 15ms/step - loss: 3.3359e-06 - val_loss: 2.8154e-05\n",
      "Epoch 132/200\n",
      "20/20 [==============================] - 0s 14ms/step - loss: 3.2874e-06 - val_loss: 2.8116e-05\n",
      "Epoch 133/200\n",
      "20/20 [==============================] - 0s 15ms/step - loss: 3.2693e-06 - val_loss: 2.8043e-05\n",
      "Epoch 134/200\n",
      "20/20 [==============================] - 0s 15ms/step - loss: 3.2888e-06 - val_loss: 2.7980e-05\n",
      "Epoch 135/200\n",
      "20/20 [==============================] - 0s 15ms/step - loss: 3.2686e-06 - val_loss: 2.8098e-05\n",
      "Epoch 136/200\n",
      "20/20 [==============================] - 0s 15ms/step - loss: 3.2496e-06 - val_loss: 2.8045e-05\n",
      "Epoch 137/200\n",
      "20/20 [==============================] - 0s 14ms/step - loss: 3.2467e-06 - val_loss: 2.8021e-05\n",
      "Epoch 138/200\n",
      "20/20 [==============================] - 0s 15ms/step - loss: 3.2272e-06 - val_loss: 2.8122e-05\n",
      "Epoch 139/200\n",
      "20/20 [==============================] - 0s 15ms/step - loss: 3.2306e-06 - val_loss: 2.8067e-05\n",
      "Epoch 140/200\n",
      "20/20 [==============================] - 0s 15ms/step - loss: 3.2258e-06 - val_loss: 2.8056e-05\n",
      "Epoch 141/200\n",
      "20/20 [==============================] - 0s 15ms/step - loss: 3.2289e-06 - val_loss: 2.7885e-05\n",
      "Epoch 142/200\n",
      "20/20 [==============================] - 0s 14ms/step - loss: 3.2030e-06 - val_loss: 2.8185e-05\n",
      "Epoch 143/200\n",
      "20/20 [==============================] - 0s 15ms/step - loss: 3.1720e-06 - val_loss: 2.8150e-05\n",
      "Epoch 144/200\n",
      "20/20 [==============================] - 0s 15ms/step - loss: 3.1556e-06 - val_loss: 2.8124e-05\n",
      "Epoch 145/200\n",
      "20/20 [==============================] - 0s 15ms/step - loss: 3.1590e-06 - val_loss: 2.8060e-05\n",
      "Epoch 146/200\n",
      "20/20 [==============================] - 0s 15ms/step - loss: 3.1430e-06 - val_loss: 2.7950e-05\n",
      "Epoch 147/200\n",
      "20/20 [==============================] - 0s 15ms/step - loss: 3.1294e-06 - val_loss: 2.7958e-05\n",
      "Epoch 148/200\n",
      "20/20 [==============================] - 0s 15ms/step - loss: 3.1492e-06 - val_loss: 2.7876e-05\n",
      "Epoch 149/200\n",
      "20/20 [==============================] - 0s 15ms/step - loss: 3.1233e-06 - val_loss: 2.8076e-05\n",
      "Epoch 150/200\n",
      "20/20 [==============================] - 0s 15ms/step - loss: 3.1467e-06 - val_loss: 2.8163e-05\n",
      "Epoch 151/200\n",
      "20/20 [==============================] - 0s 15ms/step - loss: 3.1240e-06 - val_loss: 2.8129e-05\n",
      "Epoch 152/200\n",
      "20/20 [==============================] - 0s 15ms/step - loss: 3.1378e-06 - val_loss: 2.8126e-05\n",
      "Epoch 153/200\n",
      "20/20 [==============================] - 0s 14ms/step - loss: 3.1199e-06 - val_loss: 2.7971e-05\n",
      "Epoch 154/200\n",
      "20/20 [==============================] - 0s 14ms/step - loss: 3.1227e-06 - val_loss: 2.7878e-05\n",
      "Epoch 155/200\n",
      "20/20 [==============================] - 0s 14ms/step - loss: 3.0703e-06 - val_loss: 2.7903e-05\n",
      "Epoch 156/200\n",
      "20/20 [==============================] - 0s 15ms/step - loss: 3.0920e-06 - val_loss: 2.7993e-05\n",
      "Epoch 157/200\n",
      "20/20 [==============================] - 0s 15ms/step - loss: 3.0653e-06 - val_loss: 2.8141e-05\n",
      "Epoch 158/200\n",
      "20/20 [==============================] - 0s 15ms/step - loss: 3.1169e-06 - val_loss: 2.8052e-05\n",
      "Epoch 159/200\n",
      "20/20 [==============================] - 0s 15ms/step - loss: 3.0829e-06 - val_loss: 2.8096e-05\n",
      "Epoch 160/200\n",
      "20/20 [==============================] - 0s 15ms/step - loss: 3.0776e-06 - val_loss: 2.8050e-05\n",
      "Epoch 161/200\n",
      "20/20 [==============================] - 0s 15ms/step - loss: 3.0722e-06 - val_loss: 2.7972e-05\n",
      "Epoch 162/200\n",
      "20/20 [==============================] - 0s 15ms/step - loss: 3.0915e-06 - val_loss: 2.7821e-05\n",
      "Epoch 163/200\n",
      "20/20 [==============================] - 0s 14ms/step - loss: 3.0406e-06 - val_loss: 2.8016e-05\n",
      "Epoch 164/200\n",
      "20/20 [==============================] - 0s 14ms/step - loss: 3.0603e-06 - val_loss: 2.8082e-05\n",
      "Epoch 165/200\n",
      "20/20 [==============================] - 0s 15ms/step - loss: 3.0890e-06 - val_loss: 2.7954e-05\n",
      "Epoch 166/200\n",
      "20/20 [==============================] - 0s 15ms/step - loss: 3.0716e-06 - val_loss: 2.7996e-05\n",
      "Epoch 167/200\n",
      "20/20 [==============================] - 0s 14ms/step - loss: 3.0788e-06 - val_loss: 2.7967e-05\n",
      "Epoch 168/200\n",
      "20/20 [==============================] - 0s 14ms/step - loss: 3.0212e-06 - val_loss: 2.7818e-05\n",
      "Epoch 169/200\n",
      "20/20 [==============================] - 0s 14ms/step - loss: 3.0010e-06 - val_loss: 2.8002e-05\n",
      "Epoch 170/200\n",
      "20/20 [==============================] - 0s 14ms/step - loss: 2.9875e-06 - val_loss: 2.7883e-05\n",
      "Epoch 171/200\n",
      "20/20 [==============================] - 0s 14ms/step - loss: 3.0008e-06 - val_loss: 2.7914e-05\n",
      "Epoch 172/200\n",
      "20/20 [==============================] - 0s 14ms/step - loss: 2.9845e-06 - val_loss: 2.7907e-05\n",
      "Epoch 173/200\n",
      "20/20 [==============================] - 0s 14ms/step - loss: 2.9825e-06 - val_loss: 2.7994e-05\n",
      "Epoch 174/200\n",
      "20/20 [==============================] - 0s 14ms/step - loss: 2.9807e-06 - val_loss: 2.7958e-05\n",
      "Epoch 175/200\n",
      "20/20 [==============================] - 0s 14ms/step - loss: 2.9537e-06 - val_loss: 2.7998e-05\n",
      "Epoch 176/200\n",
      "20/20 [==============================] - 0s 14ms/step - loss: 2.9648e-06 - val_loss: 2.8018e-05\n",
      "Epoch 177/200\n",
      "20/20 [==============================] - 0s 15ms/step - loss: 2.9544e-06 - val_loss: 2.7898e-05\n",
      "Epoch 178/200\n",
      "20/20 [==============================] - 0s 14ms/step - loss: 2.9243e-06 - val_loss: 2.7932e-05\n",
      "Epoch 179/200\n",
      "20/20 [==============================] - 0s 15ms/step - loss: 2.9236e-06 - val_loss: 2.8032e-05\n",
      "Epoch 180/200\n",
      "20/20 [==============================] - 0s 15ms/step - loss: 2.9130e-06 - val_loss: 2.8083e-05\n",
      "Epoch 181/200\n",
      "20/20 [==============================] - 0s 14ms/step - loss: 2.9243e-06 - val_loss: 2.8146e-05\n",
      "Epoch 182/200\n",
      "20/20 [==============================] - 0s 14ms/step - loss: 2.8959e-06 - val_loss: 2.8030e-05\n",
      "Epoch 183/200\n",
      "20/20 [==============================] - 0s 14ms/step - loss: 2.8957e-06 - val_loss: 2.8040e-05\n",
      "Epoch 184/200\n",
      "20/20 [==============================] - 0s 14ms/step - loss: 2.8972e-06 - val_loss: 2.8209e-05\n",
      "Epoch 185/200\n",
      "20/20 [==============================] - 0s 14ms/step - loss: 2.8886e-06 - val_loss: 2.8127e-05\n",
      "Epoch 186/200\n",
      "20/20 [==============================] - 0s 15ms/step - loss: 2.8854e-06 - val_loss: 2.8083e-05\n",
      "Epoch 187/200\n",
      "20/20 [==============================] - 0s 14ms/step - loss: 2.8710e-06 - val_loss: 2.7993e-05\n",
      "Epoch 188/200\n",
      "20/20 [==============================] - 0s 14ms/step - loss: 2.8857e-06 - val_loss: 2.7897e-05\n",
      "Epoch 189/200\n",
      "20/20 [==============================] - 0s 14ms/step - loss: 2.8492e-06 - val_loss: 2.8067e-05\n",
      "Epoch 190/200\n",
      "20/20 [==============================] - 0s 14ms/step - loss: 2.8411e-06 - val_loss: 2.8108e-05\n",
      "Epoch 191/200\n",
      "20/20 [==============================] - 0s 15ms/step - loss: 2.8223e-06 - val_loss: 2.8151e-05\n",
      "Epoch 192/200\n",
      "20/20 [==============================] - 0s 15ms/step - loss: 2.8389e-06 - val_loss: 2.8041e-05\n",
      "Epoch 193/200\n",
      "20/20 [==============================] - 0s 14ms/step - loss: 2.8472e-06 - val_loss: 2.8188e-05\n",
      "Epoch 194/200\n",
      "20/20 [==============================] - 0s 14ms/step - loss: 2.8436e-06 - val_loss: 2.8172e-05\n",
      "Epoch 195/200\n",
      "20/20 [==============================] - 0s 14ms/step - loss: 2.8648e-06 - val_loss: 2.8171e-05\n",
      "Epoch 196/200\n",
      "20/20 [==============================] - 0s 15ms/step - loss: 2.8434e-06 - val_loss: 2.8010e-05\n",
      "Epoch 197/200\n",
      "20/20 [==============================] - 0s 15ms/step - loss: 2.8497e-06 - val_loss: 2.7909e-05\n",
      "Epoch 198/200\n",
      "20/20 [==============================] - 0s 14ms/step - loss: 2.8085e-06 - val_loss: 2.8078e-05\n",
      "Epoch 199/200\n",
      "20/20 [==============================] - 0s 14ms/step - loss: 2.8033e-06 - val_loss: 2.7881e-05\n",
      "Epoch 200/200\n",
      "20/20 [==============================] - 0s 15ms/step - loss: 2.8051e-06 - val_loss: 2.8115e-05\n"
     ]
    },
    {
     "data": {
      "text/plain": [
       "<tensorflow.python.keras.callbacks.History at 0x7fce9c681eb0>"
      ]
     },
     "execution_count": 11,
     "metadata": {},
     "output_type": "execute_result"
    }
   ],
   "source": [
    "model.fit(train_dataset,validation_data=test_dataset, epochs=200)\n"
   ]
  },
  {
   "cell_type": "markdown",
   "id": "239637b6-6a81-4fa3-bbf4-ced84367c9a7",
   "metadata": {},
   "source": [
    "## Looking at predictions\n",
    "Inspecting the predictions of the model on the training set."
   ]
  },
  {
   "cell_type": "code",
   "execution_count": 12,
   "id": "6cfc8fa7-73bd-45b1-8f7e-6ee37ac0b6ac",
   "metadata": {
    "tags": []
   },
   "outputs": [],
   "source": [
    "predictions = model.predict(examples[:10000,:,:])"
   ]
  },
  {
   "cell_type": "code",
   "execution_count": 13,
   "id": "48bd0bde-d606-4d18-b9b2-d42e58222c59",
   "metadata": {
    "tags": []
   },
   "outputs": [
    {
     "data": {
      "text/plain": [
       "0.00012228428"
      ]
     },
     "execution_count": 13,
     "metadata": {},
     "output_type": "execute_result"
    }
   ],
   "source": [
    "np.var(predictions)"
   ]
  },
  {
   "cell_type": "code",
   "execution_count": 14,
   "id": "dd593580-d69e-4a59-97cc-11df9147c5a3",
   "metadata": {
    "tags": []
   },
   "outputs": [],
   "source": [
    "predictions.shape\n",
    "\n",
    "def plot_example(index):\n",
    "    prediction = predictions[index]\n",
    "    actual = labels[index]\n",
    "    noisy = examples[index]\n",
    "    \n",
    "    fig, [ax1, ax2, ax3, ax4] = plt.subplots(1,4)\n",
    "    ax2.imshow(prediction, aspect = \"auto\")\n",
    "    ax3.imshow(actual, aspect= \"auto\")\n",
    "    ax1.imshow(noisy, aspect=\"auto\")\n",
    "    ax4.imshow(actual-prediction, aspect=\"auto\")\n",
    "    plt.show()"
   ]
  },
  {
   "cell_type": "code",
   "execution_count": 15,
   "id": "9f92e3b7-3df9-483f-ad3b-03fc0651862f",
   "metadata": {
    "tags": []
   },
   "outputs": [
    {
     "data": {
      "application/vnd.jupyter.widget-view+json": {
       "model_id": "80171921124742a4957c82ebf55eb92c",
       "version_major": 2,
       "version_minor": 0
      },
      "text/plain": [
       "interactive(children=(IntSlider(value=4999, description='index', max=9999), Output()), _dom_classes=('widget-i…"
      ]
     },
     "metadata": {},
     "output_type": "display_data"
    },
    {
     "data": {
      "text/plain": [
       "<function __main__.plot_example(index)>"
      ]
     },
     "execution_count": 15,
     "metadata": {},
     "output_type": "execute_result"
    }
   ],
   "source": [
    "interact(plot_example, index=(0, 9999, 1))"
   ]
  },
  {
   "cell_type": "code",
   "execution_count": 16,
   "id": "6f059822-d8d3-42c1-acbd-5d6dfcd5361b",
   "metadata": {
    "tags": []
   },
   "outputs": [],
   "source": [
    "def plot_time_domain( index):\n",
    "\n",
    "    test_noisy = noisy_stft.get_data()[index,:,:,0]\n",
    "    test_noisy_phase = noisy_stft.get_data()[index,:,:,1]\n",
    "\n",
    "    test_pure = labels[index,:,:]\n",
    "    test_pure_phase = noisy_stft.get_data()[index,:,:,1]\n",
    "\n",
    "    model_amp = predictions[index]\n",
    "    noisy_phase = noisy_stft.get_data()[index,:,:,1]\n",
    "\n",
    "    fig, [ax1, ax2] =plt.subplots(1,2)\n",
    "    t, signal_pure = istft(test_pure*np.exp(1j*test_pure_phase), fs = 1./5.)\n",
    "    t, signal_model = istft(model_amp*np.exp(1j*noisy_phase), fs = 1./5.)\n",
    "    t, signal_example = istft(test_noisy*np.exp(1j*test_noisy_phase), fs = 1./5.)\n",
    "\n",
    "    fig.set_size_inches((12,10))\n",
    "    ax1.plot(t,signal_example)\n",
    "    ax2.plot(t, signal_model)\n",
    "    ax2.plot(t, signal_pure, alpha=0.5, color=\"red\")\n",
    "    plt.show()"
   ]
  },
  {
   "cell_type": "code",
   "execution_count": 17,
   "id": "dbfa7920-0fbe-4288-8bd6-29c1745aa863",
   "metadata": {
    "tags": []
   },
   "outputs": [
    {
     "data": {
      "application/vnd.jupyter.widget-view+json": {
       "model_id": "fd1bd5e6fd6c4ca7abb7b4cf7066feec",
       "version_major": 2,
       "version_minor": 0
      },
      "text/plain": [
       "interactive(children=(IntSlider(value=4999, description='index', max=9999), Output()), _dom_classes=('widget-i…"
      ]
     },
     "metadata": {},
     "output_type": "display_data"
    },
    {
     "data": {
      "text/plain": [
       "<function __main__.plot_time_domain(index)>"
      ]
     },
     "execution_count": 17,
     "metadata": {},
     "output_type": "execute_result"
    }
   ],
   "source": [
    "interact(plot_time_domain, index = (0,9999,1))"
   ]
  },
  {
   "cell_type": "markdown",
   "id": "9e5e00c5-f9df-4420-9a6f-1e21ba5fdcf8",
   "metadata": {},
   "source": [
    "## Visualize the effect on the test set\n",
    "Previous visualizations were for the training set only.\n",
    "\n",
    "Check the influence of the test set here."
   ]
  },
  {
   "cell_type": "code",
   "execution_count": 18,
   "id": "b78f1f78-755e-4437-a802-c9c24c9c5907",
   "metadata": {
    "tags": []
   },
   "outputs": [],
   "source": [
    "predictions_test = model.predict(examples_test)"
   ]
  },
  {
   "cell_type": "code",
   "execution_count": 19,
   "id": "da7c1e6d-5910-41a5-9ed1-cf7d3294b509",
   "metadata": {
    "tags": []
   },
   "outputs": [],
   "source": [
    "examples_test = noisy_test_stft.get_data()[::stride_reduce,:,:,0]\n",
    "labels_test = pure_test_stft.get_data()[::stride_reduce,:,:,0]\n",
    "\n",
    "examples_test_phase = noisy_test_stft.get_data()[::stride_reduce,:,:,1]\n",
    "labels_test_phase = pure_test_stft.get_data()[::stride_reduce,:,:,1]"
   ]
  },
  {
   "cell_type": "code",
   "execution_count": 20,
   "id": "bea6eb91-1f76-4d1d-baac-095078068c73",
   "metadata": {
    "tags": []
   },
   "outputs": [],
   "source": [
    "def plot_time_domain_test( index):\n",
    "\n",
    "    # get the test set prediction\n",
    "    test_noisy = examples_test[index]\n",
    "    test_noisy_phase = examples_test_phase[index]\n",
    "    \n",
    "    # the pure example from the test set\n",
    "    test_pure = labels_test[index]\n",
    "    test_pure_phase = labels_test_phase[index]\n",
    "\n",
    "    model_amp = predictions_test[index]\n",
    "    noisy_phase = examples_test_phase[index]\n",
    "    \n",
    "    fig, [ax1, ax2] =plt.subplots(1,2)\n",
    "    t, signal_pure = istft(test_pure*np.exp(1j*test_pure_phase), fs = 1./5.)\n",
    "    t, signal_model = istft(model_amp*np.exp(1j*noisy_phase), fs = 1./5.)\n",
    "    t, signal_example = istft(test_noisy*np.exp(1j*test_noisy_phase), fs = 1./5.)\n",
    "\n",
    "    fig.set_size_inches((12,10))\n",
    "    ax1.plot(t,signal_example)\n",
    "    ax2.plot(t, signal_model)\n",
    "    ax2.plot(t, signal_pure, alpha=0.5, color=\"red\")\n",
    "    plt.show()"
   ]
  },
  {
   "cell_type": "code",
   "execution_count": 21,
   "id": "b4a87db6-d0c5-42d4-bae6-2fb777e89953",
   "metadata": {
    "tags": []
   },
   "outputs": [
    {
     "data": {
      "application/vnd.jupyter.widget-view+json": {
       "model_id": "29ab524c6bb04f31b6c4006f95788f3d",
       "version_major": 2,
       "version_minor": 0
      },
      "text/plain": [
       "interactive(children=(IntSlider(value=500, description='index', max=1000), Output()), _dom_classes=('widget-in…"
      ]
     },
     "metadata": {},
     "output_type": "display_data"
    },
    {
     "data": {
      "text/plain": [
       "<function __main__.plot_time_domain_test(index)>"
      ]
     },
     "execution_count": 21,
     "metadata": {},
     "output_type": "execute_result"
    }
   ],
   "source": [
    "interact(plot_time_domain_test, index = (0,1000,1))"
   ]
  },
  {
   "cell_type": "markdown",
   "id": "3762b93b-6e11-44ec-a3c5-b1adfa2fb528",
   "metadata": {},
   "source": [
    "## Store the model\n",
    "Storing the model after a long training session."
   ]
  },
  {
   "cell_type": "code",
   "execution_count": 69,
   "id": "57c882d1-4477-4896-924c-b5177c0f523b",
   "metadata": {
    "tags": []
   },
   "outputs": [],
   "source": [
    "model_folder = \"model/\""
   ]
  },
  {
   "cell_type": "code",
   "execution_count": 70,
   "id": "2ec72095-e8de-44e2-9b31-1d55d04a3461",
   "metadata": {
    "tags": []
   },
   "outputs": [],
   "source": [
    "\n",
    "# Get the current date\n",
    "now = datetime.datetime.now()\n",
    "\n",
    "# Format the date as \"day-month-year\"\n",
    "date_str = now.strftime(\"%d-%m-h%H%M\")\n",
    "\n",
    "# \n",
    "\n",
    "# Parameter count\n",
    "trainableParams = np.sum([np.prod(v.get_shape()) for v in model.trainable_weights])\n",
    "\n",
    "\n",
    "model_name = f\"model-{date_str}-p{trainableParams}\""
   ]
  },
  {
   "cell_type": "code",
   "execution_count": 71,
   "id": "6bfa107d-16e1-4b79-b822-b71887e34bda",
   "metadata": {
    "tags": []
   },
   "outputs": [
    {
     "name": "stdout",
     "output_type": "stream",
     "text": [
      "INFO:tensorflow:Assets written to: model/model-29-03-h1401-p2941361/assets\n"
     ]
    }
   ],
   "source": [
    "\n",
    "\n",
    "path = model_folder + model_name\n",
    "model.save(path)"
   ]
  },
  {
   "cell_type": "markdown",
   "id": "bd0ab5e2-119a-4c76-ab9e-528b84411957",
   "metadata": {},
   "source": [
    "## Analysis of maximum values\n",
    "Looking at maximum values of amplitude over the whole array"
   ]
  },
  {
   "cell_type": "code",
   "execution_count": 147,
   "id": "2751a123-aa1d-4437-8104-c6b789bf440e",
   "metadata": {
    "tags": []
   },
   "outputs": [],
   "source": [
    "test_example = noisy_stft.get_data()[0]\n",
    "shape = test_example.shape\n",
    "test_example_reshaped = noisy_stft.get_data()[0].reshape((1, shape[0], shape[1], shape[2]))\n",
    "\n",
    "test_pure = pure_stft.get_data()[0]"
   ]
  },
  {
   "cell_type": "code",
   "execution_count": 148,
   "id": "993ba3f6-b802-4d2b-ac0c-35f843092729",
   "metadata": {
    "tags": []
   },
   "outputs": [
    {
     "data": {
      "text/plain": [
       "0.1167289817731223"
      ]
     },
     "execution_count": 148,
     "metadata": {},
     "output_type": "execute_result"
    }
   ],
   "source": [
    "test_pure[:,:,0].max()"
   ]
  },
  {
   "cell_type": "markdown",
   "id": "65d8bffc-c85c-4356-9fe1-386ff9c0351c",
   "metadata": {},
   "source": [
    "Todo\n",
    "Normalize the phase and amplitude values.."
   ]
  },
  {
   "cell_type": "code",
   "execution_count": 27,
   "id": "728854d5-4030-48e9-8865-89228857d160",
   "metadata": {
    "tags": []
   },
   "outputs": [],
   "source": [
    "amps_noisy =noisy_stft.get_data()[:,:,:,0]"
   ]
  },
  {
   "cell_type": "code",
   "execution_count": 28,
   "id": "cc0e735a-37b3-4780-a56d-6f0e6b212830",
   "metadata": {
    "tags": []
   },
   "outputs": [],
   "source": [
    "amps_noisy_flattened = amps_noisy.flatten()"
   ]
  },
  {
   "cell_type": "code",
   "execution_count": 29,
   "id": "1b516141-c7d1-4207-a12f-a0031fb15379",
   "metadata": {
    "tags": []
   },
   "outputs": [
    {
     "data": {
      "text/plain": [
       "(array([1.0101877e+07, 1.1225070e+06, 1.9600700e+05, 1.0042300e+05,\n",
       "        5.1438000e+04, 2.1964000e+04, 9.8380000e+03, 4.6260000e+03,\n",
       "        1.1690000e+03, 1.5100000e+02]),\n",
       " array([2.14359953e-11, 1.67539747e-02, 3.35079495e-02, 5.02619242e-02,\n",
       "        6.70158989e-02, 8.37698737e-02, 1.00523848e-01, 1.17277823e-01,\n",
       "        1.34031798e-01, 1.50785773e-01, 1.67539747e-01]),\n",
       " <BarContainer object of 10 artists>)"
      ]
     },
     "execution_count": 29,
     "metadata": {},
     "output_type": "execute_result"
    },
    {
     "data": {
      "image/png": "[encoded data removed]",
      "text/plain": [
       "<Figure size 640x480 with 1 Axes>"
      ]
     },
     "metadata": {},
     "output_type": "display_data"
    }
   ],
   "source": [
    "plt.hist(amps_noisy_flattened)"
   ]
  },
  {
   "cell_type": "code",
   "execution_count": 30,
   "id": "9063e8e5-df9b-4911-90b9-2606ef41e874",
   "metadata": {
    "tags": []
   },
   "outputs": [],
   "source": [
    "amps_noisy_max = amps_noisy.max(axis=2).max(axis=1)"
   ]
  },
  {
   "cell_type": "code",
   "execution_count": 31,
   "id": "2d7f8f9f-fe81-4599-b965-31be2a86179d",
   "metadata": {
    "tags": []
   },
   "outputs": [
    {
     "data": {
      "text/plain": [
       "(10000,)"
      ]
     },
     "execution_count": 31,
     "metadata": {},
     "output_type": "execute_result"
    }
   ],
   "source": [
    "amps_noisy_max.shape"
   ]
  },
  {
   "cell_type": "code",
   "execution_count": 32,
   "id": "50c79a4d-7dbc-41a4-aa77-fc877d1d6468",
   "metadata": {
    "tags": []
   },
   "outputs": [
    {
     "data": {
      "text/plain": [
       "(array([ 153.,  364., 2132., 2197., 1479., 1392., 1000.,  879.,  345.,\n",
       "          59.]),\n",
       " array([0.04645806, 0.05856623, 0.0706744 , 0.08278256, 0.09489073,\n",
       "        0.1069989 , 0.11910707, 0.13121524, 0.14332341, 0.15543158,\n",
       "        0.16753975]),\n",
       " <BarContainer object of 10 artists>)"
      ]
     },
     "execution_count": 32,
     "metadata": {},
     "output_type": "execute_result"
    },
    {
     "data": {
      "image/png": "[encoded data removed]",
      "text/plain": [
       "<Figure size 640x480 with 1 Axes>"
      ]
     },
     "metadata": {},
     "output_type": "display_data"
    }
   ],
   "source": [
    "plt.hist(amps_noisy_max)"
   ]
  },
  {
   "cell_type": "code",
   "execution_count": null,
   "id": "f1bb57de-866e-4108-8e5c-98068a5f6c01",
   "metadata": {},
   "outputs": [],
   "source": []
  },
  {
   "cell_type": "code",
   "execution_count": null,
   "id": "ec32d850-cfda-4b0b-87c4-0582e2b3116c",
   "metadata": {},
   "outputs": [],
   "source": []
  }
 ],
 "metadata": {
  "kernelspec": {
   "display_name": "Python 3 (ipykernel)",
   "language": "python",
   "name": "python3"
  },
  "language_info": {
   "codemirror_mode": {
    "name": "ipython",
    "version": 3
   },
   "file_extension": ".py",
   "mimetype": "text/x-python",
   "name": "python",
   "nbconvert_exporter": "python",
   "pygments_lexer": "ipython3",
   "version": "3.9.16"
  }
 },
 "nbformat": 4,
 "nbformat_minor": 5
}
