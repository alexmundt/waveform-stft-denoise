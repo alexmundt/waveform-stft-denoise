{
 "cells": [
  {
   "cell_type": "code",
   "execution_count": 49,
   "id": "2d038a39-333d-466f-813b-ba25e46aaf08",
   "metadata": {
    "tags": []
   },
   "outputs": [],
   "source": [
    "import os\n",
    "import numpy as np\n",
    "import matplotlib.pyplot as plt\n",
    "from scipy.signal import stft, istft\n",
    "import tensorflow as tf\n",
    "from ipywidgets import interact\n",
    "from code.stftprocessing import StftDataset\n",
    "from code.dsvisual import DatasetVisualizer\n",
    "from tqdm import tqdm\n",
    "import datetime\n"
   ]
  },
  {
   "cell_type": "code",
   "execution_count": 3,
   "id": "7c5005d7-ef4c-4d6f-ac61-9022a8267d18",
   "metadata": {
    "tags": []
   },
   "outputs": [],
   "source": [
    "folder = \"training/new_small\"\n",
    "base = \"noisy_small\"\n",
    "target = \"pure_small\"\n",
    "\n",
    "folder = \"training/original training\"\n",
    "base = \"noisy\"\n",
    "target = \"pure\"\n",
    "\n",
    "test_folder = \"training/test set\"\n",
    "test_base = \"noisy_test\"\n",
    "test_target = \"pure_test\"\n"
   ]
  },
  {
   "cell_type": "code",
   "execution_count": 4,
   "id": "67a3f1e0-0fa2-4d50-8552-5575b1bc0f3d",
   "metadata": {
    "tags": []
   },
   "outputs": [
    {
     "name": "stdout",
     "output_type": "stream",
     "text": [
      "Files loaded.\n",
      "Files loaded.\n",
      "Files loaded.\n",
      "Files loaded.\n"
     ]
    }
   ],
   "source": [
    "noisy_stft = StftDataset()\n",
    "pure_stft = StftDataset()\n",
    "\n",
    "noisy_stft.load(folder, base)\n",
    "pure_stft.load(folder, target)\n",
    "\n",
    "# test sets\n",
    "noisy_test_stft = StftDataset()\n",
    "pure_test_stft = StftDataset()\n",
    "noisy_test_stft.load(test_folder, test_base)\n",
    "pure_test_stft.load(test_folder, test_target)"
   ]
  },
  {
   "cell_type": "code",
   "execution_count": 6,
   "id": "11608d20-dfe1-4179-9d4c-6dd7b94af13e",
   "metadata": {
    "tags": []
   },
   "outputs": [
    {
     "data": {
      "text/plain": [
       "(430848, 129, 9, 2)"
      ]
     },
     "execution_count": 6,
     "metadata": {},
     "output_type": "execute_result"
    }
   ],
   "source": [
    "noisy_stft.get_data().shape"
   ]
  },
  {
   "cell_type": "code",
   "execution_count": 7,
   "id": "fc006258-5af8-42b3-ab54-a4189c550ef4",
   "metadata": {},
   "outputs": [
    {
     "name": "stderr",
     "output_type": "stream",
     "text": [
      "2023-03-28 17:30:24.572763: I tensorflow/compiler/jit/xla_cpu_device.cc:41] Not creating XLA devices, tf_xla_enable_xla_devices not set\n",
      "2023-03-28 17:30:24.588906: I tensorflow/stream_executor/platform/default/dso_loader.cc:49] Successfully opened dynamic library libcuda.so.1\n",
      "2023-03-28 17:30:24.617210: E tensorflow/stream_executor/cuda/cuda_driver.cc:328] failed call to cuInit: CUDA_ERROR_COMPAT_NOT_SUPPORTED_ON_DEVICE: forward compatibility was attempted on non supported HW\n",
      "2023-03-28 17:30:24.633189: I tensorflow/stream_executor/cuda/cuda_diagnostics.cc:169] retrieving CUDA diagnostic information for host: alex-home-PC-X570\n",
      "2023-03-28 17:30:24.633205: I tensorflow/stream_executor/cuda/cuda_diagnostics.cc:176] hostname: alex-home-PC-X570\n",
      "2023-03-28 17:30:24.658443: I tensorflow/stream_executor/cuda/cuda_diagnostics.cc:200] libcuda reported version is: 525.89.2\n",
      "2023-03-28 17:30:24.658490: I tensorflow/stream_executor/cuda/cuda_diagnostics.cc:204] kernel reported version is: 525.85.5\n",
      "2023-03-28 17:30:24.658497: E tensorflow/stream_executor/cuda/cuda_diagnostics.cc:313] kernel version 525.85.5 does not match DSO version 525.89.2 -- cannot find working devices in this configuration\n",
      "2023-03-28 17:30:24.696596: I tensorflow/core/platform/cpu_feature_guard.cc:142] This TensorFlow binary is optimized with oneAPI Deep Neural Network Library (oneDNN) to use the following CPU instructions in performance-critical operations:  SSE4.1 SSE4.2 AVX AVX2 FMA\n",
      "To enable them in other operations, rebuild TensorFlow with the appropriate compiler flags.\n",
      "2023-03-28 17:30:24.711142: I tensorflow/compiler/jit/xla_gpu_device.cc:99] Not creating XLA devices, tf_xla_enable_xla_devices not set\n",
      "2023-03-28 17:30:27.527373: W tensorflow/core/framework/cpu_allocator_impl.cc:80] Allocation of 4001716224 exceeds 10% of free system memory.\n",
      "2023-03-28 17:31:00.156507: W tensorflow/core/framework/cpu_allocator_impl.cc:80] Allocation of 4001716224 exceeds 10% of free system memory.\n"
     ]
    }
   ],
   "source": [
    "# get the amplitudes of training and test sets\n",
    "examples = noisy_stft.get_data()[:,:,:,0]\n",
    "labels = pure_stft.get_data()[:,:,:,0]\n",
    "\n",
    "stride_reduce = 100\n",
    "examples_test = noisy_test_stft.get_data()[::stride_reduce,:,:,0]\n",
    "labels_test = pure_test_stft.get_data()[::stride_reduce,:,:,0]\n",
    "\n",
    "examples_test_phase = noisy_test_stft.get_data()[::stride_reduce,:,:,1]\n",
    "labels_test_phase = pure_test_stft.get_data()[::stride_reduce,:,:,1]\n",
    "\n",
    "# build the dataset from tensorflow functions\n",
    "train_dataset = tf.data.Dataset.from_tensor_slices((examples, labels))\n",
    "test_dataset = tf.data.Dataset.from_tensor_slices((examples_test, labels_test))"
   ]
  },
  {
   "cell_type": "code",
   "execution_count": 8,
   "id": "6562c220-7860-4297-a77d-c5e88007007a",
   "metadata": {
    "tags": []
   },
   "outputs": [
    {
     "data": {
      "text/plain": [
       "<TensorSliceDataset shapes: ((129, 9), (129, 9)), types: (tf.float64, tf.float64)>"
      ]
     },
     "execution_count": 8,
     "metadata": {},
     "output_type": "execute_result"
    }
   ],
   "source": [
    "train_dataset\n",
    "# test_dataset"
   ]
  },
  {
   "cell_type": "code",
   "execution_count": 9,
   "id": "ee2fe844-0bdc-4a91-b427-ce5ed1576742",
   "metadata": {
    "tags": []
   },
   "outputs": [],
   "source": [
    "input_shape = (129, 9 , 2)\n",
    "input_shape = (129, 9)"
   ]
  },
  {
   "cell_type": "code",
   "execution_count": 10,
   "id": "ea6f06e8-d6e8-41fc-8bb3-9038794e20b8",
   "metadata": {
    "tags": []
   },
   "outputs": [],
   "source": [
    "BATCH_SIZE = 512\n",
    "SHUFFLE_BUFFER_SIZE = 2000\n",
    "\n",
    "train_dataset = train_dataset.shuffle(SHUFFLE_BUFFER_SIZE).batch(BATCH_SIZE)\n",
    "test_dataset = test_dataset.batch(BATCH_SIZE)"
   ]
  },
  {
   "cell_type": "code",
   "execution_count": 33,
   "id": "97c703f4-8424-435f-a5a8-c7b3a34c593a",
   "metadata": {
    "tags": []
   },
   "outputs": [],
   "source": [
    "dropout_rate = 0.2\n",
    "factor = 2\n",
    "\n",
    "model = tf.keras.Sequential([\n",
    "    tf.keras.layers.Flatten(input_shape=input_shape),\n",
    "\n",
    "    tf.keras.layers.Dense(units = 125*factor, activation='relu'),\n",
    "    tf.keras.layers.Dropout(rate=dropout_rate),\n",
    "    tf.keras.layers.Dense(units = 75*factor, activation='relu'),\n",
    "    tf.keras.layers.Dropout(rate=dropout_rate*0.25),\n",
    "\n",
    "    tf.keras.layers.Dense(units = 50*factor, activation='relu'),\n",
    "    tf.keras.layers.Dropout(rate=dropout_rate*0.25),\n",
    "\n",
    "    tf.keras.layers.Dense(units = 75*factor, activation='relu'),\n",
    "    tf.keras.layers.Dropout(rate=dropout_rate),\n",
    "\n",
    "\n",
    "    tf.keras.layers.Dense(units = 129*9, activation='relu'),\n",
    "    # tf.keras.layers.Dense((128,9,2), activation='relu'),\n",
    "    # tf.keras.layers.Dense((128,9,2), activation='relu'),\n",
    "    # tf.keras.layers.Dense((128,9,2), activation='relu'),\n",
    "    # tf.keras.layers.Conv2D(3,2, activation='relu', input_shape=input_shape)\n",
    "    tf.keras.layers.Reshape(target_shape=input_shape)\n",
    "])\n",
    "\n",
    "model.compile(optimizer=\"adam\",\n",
    "              loss=\"mse\",\n",
    "              )"
   ]
  },
  {
   "cell_type": "code",
   "execution_count": 34,
   "id": "70b3b061-1eeb-48bd-b9c8-f2e73f73fa17",
   "metadata": {
    "tags": []
   },
   "outputs": [
    {
     "name": "stdout",
     "output_type": "stream",
     "text": [
      "Model: \"sequential_4\"\n",
      "_________________________________________________________________\n",
      "Layer (type)                 Output Shape              Param #   \n",
      "=================================================================\n",
      "flatten_4 (Flatten)          (None, 1161)              0         \n",
      "_________________________________________________________________\n",
      "dense_20 (Dense)             (None, 250)               290500    \n",
      "_________________________________________________________________\n",
      "dropout_16 (Dropout)         (None, 250)               0         \n",
      "_________________________________________________________________\n",
      "dense_21 (Dense)             (None, 150)               37650     \n",
      "_________________________________________________________________\n",
      "dropout_17 (Dropout)         (None, 150)               0         \n",
      "_________________________________________________________________\n",
      "dense_22 (Dense)             (None, 100)               15100     \n",
      "_________________________________________________________________\n",
      "dropout_18 (Dropout)         (None, 100)               0         \n",
      "_________________________________________________________________\n",
      "dense_23 (Dense)             (None, 150)               15150     \n",
      "_________________________________________________________________\n",
      "dropout_19 (Dropout)         (None, 150)               0         \n",
      "_________________________________________________________________\n",
      "dense_24 (Dense)             (None, 1161)              175311    \n",
      "_________________________________________________________________\n",
      "reshape_4 (Reshape)          (None, 129, 9)            0         \n",
      "=================================================================\n",
      "Total params: 533,711\n",
      "Trainable params: 533,711\n",
      "Non-trainable params: 0\n",
      "_________________________________________________________________\n"
     ]
    }
   ],
   "source": [
    "model.summary()"
   ]
  },
  {
   "cell_type": "code",
   "execution_count": 36,
   "id": "faea64cc-22a7-49a0-8c89-fb11785912cf",
   "metadata": {
    "tags": []
   },
   "outputs": [
    {
     "name": "stdout",
     "output_type": "stream",
     "text": [
      "Epoch 1/200\n",
      "842/842 [==============================] - 34s 38ms/step - loss: 5.3336e-05 - val_loss: 5.9216e-05\n",
      "Epoch 2/200\n",
      "842/842 [==============================] - 16s 17ms/step - loss: 3.1081e-05 - val_loss: 4.1663e-05\n",
      "Epoch 3/200\n",
      "842/842 [==============================] - 15s 16ms/step - loss: 2.4134e-05 - val_loss: 3.6561e-05\n",
      "Epoch 4/200\n",
      "842/842 [==============================] - 14s 16ms/step - loss: 2.0832e-05 - val_loss: 3.4307e-05\n",
      "Epoch 5/200\n",
      "842/842 [==============================] - 14s 16ms/step - loss: 1.8633e-05 - val_loss: 3.3382e-05\n",
      "Epoch 6/200\n",
      "842/842 [==============================] - 14s 16ms/step - loss: 1.7149e-05 - val_loss: 3.2979e-05\n",
      "Epoch 7/200\n",
      "842/842 [==============================] - 14s 16ms/step - loss: 1.5959e-05 - val_loss: 3.3031e-05\n",
      "Epoch 8/200\n",
      "842/842 [==============================] - 14s 16ms/step - loss: 1.5075e-05 - val_loss: 3.3005e-05\n",
      "Epoch 9/200\n",
      "842/842 [==============================] - 14s 16ms/step - loss: 1.4379e-05 - val_loss: 3.1922e-05\n",
      "Epoch 10/200\n",
      "842/842 [==============================] - 14s 16ms/step - loss: 1.3832e-05 - val_loss: 3.1409e-05\n",
      "Epoch 11/200\n",
      "842/842 [==============================] - 14s 16ms/step - loss: 1.3337e-05 - val_loss: 3.1003e-05\n",
      "Epoch 12/200\n",
      "842/842 [==============================] - 14s 16ms/step - loss: 1.2962e-05 - val_loss: 3.1845e-05\n",
      "Epoch 13/200\n",
      "842/842 [==============================] - 13s 16ms/step - loss: 1.2678e-05 - val_loss: 3.1756e-05\n",
      "Epoch 14/200\n",
      "842/842 [==============================] - 14s 16ms/step - loss: 1.2391e-05 - val_loss: 3.0794e-05\n",
      "Epoch 15/200\n",
      "842/842 [==============================] - 14s 16ms/step - loss: 1.2194e-05 - val_loss: 3.0930e-05\n",
      "Epoch 16/200\n",
      "842/842 [==============================] - 14s 16ms/step - loss: 1.1993e-05 - val_loss: 3.1152e-05\n",
      "Epoch 17/200\n",
      "842/842 [==============================] - 14s 17ms/step - loss: 1.1891e-05 - val_loss: 2.9934e-05\n",
      "Epoch 18/200\n",
      "842/842 [==============================] - 14s 17ms/step - loss: 1.1699e-05 - val_loss: 3.1170e-05\n",
      "Epoch 19/200\n",
      "842/842 [==============================] - 14s 16ms/step - loss: 1.1607e-05 - val_loss: 2.9551e-05\n",
      "Epoch 20/200\n",
      "842/842 [==============================] - 14s 16ms/step - loss: 1.1436e-05 - val_loss: 2.9777e-05\n",
      "Epoch 21/200\n",
      "842/842 [==============================] - 14s 17ms/step - loss: 1.1328e-05 - val_loss: 3.1211e-05\n",
      "Epoch 22/200\n",
      "842/842 [==============================] - 14s 17ms/step - loss: 1.1230e-05 - val_loss: 2.9841e-05\n",
      "Epoch 23/200\n",
      "842/842 [==============================] - 14s 16ms/step - loss: 1.1142e-05 - val_loss: 3.0107e-05\n",
      "Epoch 24/200\n",
      "842/842 [==============================] - 14s 17ms/step - loss: 1.1085e-05 - val_loss: 3.0312e-05\n",
      "Epoch 25/200\n",
      "842/842 [==============================] - 16s 18ms/step - loss: 1.0958e-05 - val_loss: 3.0756e-05\n",
      "Epoch 26/200\n",
      "842/842 [==============================] - 14s 17ms/step - loss: 1.0921e-05 - val_loss: 3.0890e-05\n",
      "Epoch 27/200\n",
      "842/842 [==============================] - 14s 17ms/step - loss: 1.0833e-05 - val_loss: 3.0023e-05\n",
      "Epoch 28/200\n",
      "842/842 [==============================] - 14s 17ms/step - loss: 1.0739e-05 - val_loss: 2.9680e-05\n",
      "Epoch 29/200\n",
      "842/842 [==============================] - 14s 17ms/step - loss: 1.0669e-05 - val_loss: 2.9736e-05\n",
      "Epoch 30/200\n",
      "842/842 [==============================] - 14s 17ms/step - loss: 1.0575e-05 - val_loss: 3.1056e-05\n",
      "Epoch 31/200\n",
      "842/842 [==============================] - 14s 17ms/step - loss: 1.0525e-05 - val_loss: 2.9025e-05\n",
      "Epoch 32/200\n",
      "842/842 [==============================] - 14s 17ms/step - loss: 1.0439e-05 - val_loss: 2.9398e-05\n",
      "Epoch 33/200\n",
      "842/842 [==============================] - 14s 17ms/step - loss: 1.0392e-05 - val_loss: 3.0714e-05\n",
      "Epoch 34/200\n",
      "842/842 [==============================] - 15s 18ms/step - loss: 1.0329e-05 - val_loss: 2.8221e-05\n",
      "Epoch 35/200\n",
      "842/842 [==============================] - 14s 17ms/step - loss: 1.0274e-05 - val_loss: 2.8772e-05\n",
      "Epoch 36/200\n",
      "842/842 [==============================] - 14s 17ms/step - loss: 1.0246e-05 - val_loss: 2.9463e-05\n",
      "Epoch 37/200\n",
      "842/842 [==============================] - 14s 17ms/step - loss: 1.0228e-05 - val_loss: 2.7868e-05\n",
      "Epoch 38/200\n",
      "842/842 [==============================] - 14s 17ms/step - loss: 1.0158e-05 - val_loss: 2.7769e-05\n",
      "Epoch 39/200\n",
      "842/842 [==============================] - 14s 17ms/step - loss: 1.0152e-05 - val_loss: 2.8352e-05\n",
      "Epoch 40/200\n",
      "842/842 [==============================] - 14s 16ms/step - loss: 1.0112e-05 - val_loss: 2.8209e-05\n",
      "Epoch 41/200\n",
      "842/842 [==============================] - 14s 17ms/step - loss: 1.0093e-05 - val_loss: 2.8004e-05\n",
      "Epoch 42/200\n",
      "842/842 [==============================] - 14s 17ms/step - loss: 1.0070e-05 - val_loss: 2.8687e-05\n",
      "Epoch 43/200\n",
      "842/842 [==============================] - 14s 17ms/step - loss: 1.0032e-05 - val_loss: 2.8038e-05\n",
      "Epoch 44/200\n",
      "842/842 [==============================] - 14s 17ms/step - loss: 1.0020e-05 - val_loss: 2.9582e-05\n",
      "Epoch 45/200\n",
      "842/842 [==============================] - 15s 17ms/step - loss: 1.0004e-05 - val_loss: 2.7705e-05\n",
      "Epoch 46/200\n",
      "842/842 [==============================] - 14s 17ms/step - loss: 9.9558e-06 - val_loss: 2.8099e-05\n",
      "Epoch 47/200\n",
      "842/842 [==============================] - 14s 17ms/step - loss: 9.9688e-06 - val_loss: 2.8208e-05\n",
      "Epoch 48/200\n",
      "842/842 [==============================] - 14s 17ms/step - loss: 9.9548e-06 - val_loss: 2.8010e-05\n",
      "Epoch 49/200\n",
      "842/842 [==============================] - 15s 18ms/step - loss: 9.9237e-06 - val_loss: 2.8691e-05\n",
      "Epoch 50/200\n",
      "842/842 [==============================] - 15s 17ms/step - loss: 9.9131e-06 - val_loss: 2.7708e-05\n",
      "Epoch 51/200\n",
      "842/842 [==============================] - 15s 17ms/step - loss: 9.8906e-06 - val_loss: 2.7640e-05\n",
      "Epoch 52/200\n",
      "842/842 [==============================] - 15s 17ms/step - loss: 9.8560e-06 - val_loss: 2.8311e-05\n",
      "Epoch 53/200\n",
      "842/842 [==============================] - 15s 18ms/step - loss: 9.8715e-06 - val_loss: 2.8303e-05\n",
      "Epoch 54/200\n",
      "842/842 [==============================] - 15s 18ms/step - loss: 9.8524e-06 - val_loss: 2.7354e-05\n",
      "Epoch 55/200\n",
      "842/842 [==============================] - 15s 17ms/step - loss: 9.8378e-06 - val_loss: 2.7750e-05\n",
      "Epoch 56/200\n",
      "842/842 [==============================] - 15s 18ms/step - loss: 9.8454e-06 - val_loss: 2.6935e-05\n",
      "Epoch 57/200\n",
      "842/842 [==============================] - 15s 18ms/step - loss: 9.8167e-06 - val_loss: 2.7639e-05\n",
      "Epoch 58/200\n",
      "842/842 [==============================] - 15s 18ms/step - loss: 9.7967e-06 - val_loss: 2.7244e-05\n",
      "Epoch 59/200\n",
      "842/842 [==============================] - 15s 18ms/step - loss: 9.7714e-06 - val_loss: 2.7758e-05\n",
      "Epoch 60/200\n",
      "842/842 [==============================] - 15s 17ms/step - loss: 9.7931e-06 - val_loss: 2.7721e-05\n",
      "Epoch 61/200\n",
      "842/842 [==============================] - 15s 17ms/step - loss: 9.7705e-06 - val_loss: 2.7850e-05\n",
      "Epoch 62/200\n",
      "842/842 [==============================] - 15s 17ms/step - loss: 9.7420e-06 - val_loss: 2.7709e-05\n",
      "Epoch 63/200\n",
      "842/842 [==============================] - 15s 17ms/step - loss: 9.7440e-06 - val_loss: 2.6936e-05\n",
      "Epoch 64/200\n",
      "842/842 [==============================] - 15s 18ms/step - loss: 9.7096e-06 - val_loss: 2.7619e-05\n",
      "Epoch 65/200\n",
      "842/842 [==============================] - 14s 16ms/step - loss: 9.7381e-06 - val_loss: 2.7254e-05\n",
      "Epoch 66/200\n",
      "842/842 [==============================] - 14s 16ms/step - loss: 9.7108e-06 - val_loss: 2.7421e-05\n",
      "Epoch 67/200\n",
      "842/842 [==============================] - 14s 16ms/step - loss: 9.7166e-06 - val_loss: 2.6885e-05\n",
      "Epoch 68/200\n",
      "842/842 [==============================] - 14s 16ms/step - loss: 9.7121e-06 - val_loss: 2.7043e-05\n",
      "Epoch 69/200\n",
      "842/842 [==============================] - 14s 16ms/step - loss: 9.6920e-06 - val_loss: 2.7292e-05\n",
      "Epoch 70/200\n",
      "842/842 [==============================] - 14s 16ms/step - loss: 9.6925e-06 - val_loss: 2.6814e-05\n",
      "Epoch 71/200\n",
      "842/842 [==============================] - 14s 16ms/step - loss: 9.6883e-06 - val_loss: 2.7422e-05\n",
      "Epoch 72/200\n",
      "842/842 [==============================] - 14s 16ms/step - loss: 9.6500e-06 - val_loss: 2.7624e-05\n",
      "Epoch 73/200\n",
      "842/842 [==============================] - 14s 16ms/step - loss: 9.6714e-06 - val_loss: 2.6898e-05\n",
      "Epoch 74/200\n",
      "842/842 [==============================] - 14s 16ms/step - loss: 9.6569e-06 - val_loss: 2.8032e-05\n",
      "Epoch 75/200\n",
      "842/842 [==============================] - 14s 17ms/step - loss: 9.6270e-06 - val_loss: 2.7724e-05\n",
      "Epoch 76/200\n",
      "842/842 [==============================] - 14s 16ms/step - loss: 9.6447e-06 - val_loss: 2.7041e-05\n",
      "Epoch 77/200\n",
      "842/842 [==============================] - 14s 17ms/step - loss: 9.6713e-06 - val_loss: 2.7477e-05\n",
      "Epoch 78/200\n",
      "842/842 [==============================] - 13s 16ms/step - loss: 9.6386e-06 - val_loss: 2.7716e-05\n",
      "Epoch 79/200\n",
      "842/842 [==============================] - 14s 16ms/step - loss: 9.6012e-06 - val_loss: 2.7392e-05\n",
      "Epoch 80/200\n",
      "842/842 [==============================] - 14s 16ms/step - loss: 9.6141e-06 - val_loss: 2.6209e-05\n",
      "Epoch 81/200\n",
      "842/842 [==============================] - 14s 16ms/step - loss: 9.5825e-06 - val_loss: 2.7469e-05\n",
      "Epoch 82/200\n",
      "842/842 [==============================] - 14s 17ms/step - loss: 9.5796e-06 - val_loss: 2.7039e-05\n",
      "Epoch 83/200\n",
      "842/842 [==============================] - 14s 17ms/step - loss: 9.5714e-06 - val_loss: 2.6655e-05\n",
      "Epoch 84/200\n",
      "842/842 [==============================] - 14s 16ms/step - loss: 9.5641e-06 - val_loss: 2.7429e-05\n",
      "Epoch 85/200\n",
      "842/842 [==============================] - 14s 17ms/step - loss: 9.5966e-06 - val_loss: 2.6678e-05\n",
      "Epoch 86/200\n",
      "842/842 [==============================] - 14s 16ms/step - loss: 9.5767e-06 - val_loss: 2.6765e-05\n",
      "Epoch 87/200\n",
      "842/842 [==============================] - 14s 16ms/step - loss: 9.5659e-06 - val_loss: 2.6643e-05\n",
      "Epoch 88/200\n",
      "842/842 [==============================] - 14s 16ms/step - loss: 9.5322e-06 - val_loss: 2.7539e-05\n",
      "Epoch 89/200\n",
      "842/842 [==============================] - 14s 16ms/step - loss: 9.5367e-06 - val_loss: 2.6196e-05\n",
      "Epoch 90/200\n",
      "842/842 [==============================] - 13s 16ms/step - loss: 9.5228e-06 - val_loss: 2.7178e-05\n",
      "Epoch 91/200\n",
      "842/842 [==============================] - 13s 16ms/step - loss: 9.5256e-06 - val_loss: 2.5984e-05\n",
      "Epoch 92/200\n",
      "842/842 [==============================] - 13s 16ms/step - loss: 9.5653e-06 - val_loss: 2.7609e-05\n",
      "Epoch 93/200\n",
      "842/842 [==============================] - 13s 16ms/step - loss: 9.5276e-06 - val_loss: 2.6153e-05\n",
      "Epoch 94/200\n",
      "842/842 [==============================] - 13s 16ms/step - loss: 9.5621e-06 - val_loss: 2.6790e-05\n",
      "Epoch 95/200\n",
      "842/842 [==============================] - 13s 16ms/step - loss: 9.5287e-06 - val_loss: 2.7018e-05\n",
      "Epoch 96/200\n",
      "842/842 [==============================] - 13s 16ms/step - loss: 9.5473e-06 - val_loss: 2.6429e-05\n",
      "Epoch 97/200\n",
      "842/842 [==============================] - 13s 16ms/step - loss: 9.5040e-06 - val_loss: 2.6413e-05\n",
      "Epoch 98/200\n",
      "842/842 [==============================] - 13s 16ms/step - loss: 9.5180e-06 - val_loss: 2.6536e-05\n",
      "Epoch 99/200\n",
      "842/842 [==============================] - 13s 16ms/step - loss: 9.4909e-06 - val_loss: 2.6376e-05\n",
      "Epoch 100/200\n",
      "842/842 [==============================] - 13s 16ms/step - loss: 9.5085e-06 - val_loss: 2.6470e-05\n",
      "Epoch 101/200\n",
      "842/842 [==============================] - 13s 16ms/step - loss: 9.5133e-06 - val_loss: 2.6286e-05\n",
      "Epoch 102/200\n",
      "842/842 [==============================] - 13s 16ms/step - loss: 9.5191e-06 - val_loss: 2.6101e-05\n",
      "Epoch 103/200\n",
      "842/842 [==============================] - 13s 16ms/step - loss: 9.4904e-06 - val_loss: 2.6912e-05\n",
      "Epoch 104/200\n",
      "842/842 [==============================] - 13s 16ms/step - loss: 9.5041e-06 - val_loss: 2.6562e-05\n",
      "Epoch 105/200\n",
      "842/842 [==============================] - 13s 16ms/step - loss: 9.5018e-06 - val_loss: 2.6909e-05\n",
      "Epoch 106/200\n",
      "842/842 [==============================] - 13s 16ms/step - loss: 9.4677e-06 - val_loss: 2.6707e-05\n",
      "Epoch 107/200\n",
      "842/842 [==============================] - 13s 16ms/step - loss: 9.4733e-06 - val_loss: 2.6456e-05\n",
      "Epoch 108/200\n",
      "842/842 [==============================] - 13s 16ms/step - loss: 9.4692e-06 - val_loss: 2.6773e-05\n",
      "Epoch 109/200\n",
      "842/842 [==============================] - 14s 16ms/step - loss: 9.4593e-06 - val_loss: 2.6662e-05\n",
      "Epoch 110/200\n",
      "842/842 [==============================] - 13s 15ms/step - loss: 9.4745e-06 - val_loss: 2.6451e-05\n",
      "Epoch 111/200\n",
      "842/842 [==============================] - 13s 15ms/step - loss: 9.4642e-06 - val_loss: 2.5971e-05\n",
      "Epoch 112/200\n",
      "842/842 [==============================] - 13s 16ms/step - loss: 9.4266e-06 - val_loss: 2.6692e-05\n",
      "Epoch 113/200\n",
      "842/842 [==============================] - 13s 16ms/step - loss: 9.4477e-06 - val_loss: 2.6819e-05\n",
      "Epoch 114/200\n",
      "842/842 [==============================] - 13s 15ms/step - loss: 9.4474e-06 - val_loss: 2.6128e-05\n",
      "Epoch 115/200\n",
      "842/842 [==============================] - 13s 15ms/step - loss: 9.4390e-06 - val_loss: 2.6725e-05\n",
      "Epoch 116/200\n",
      "842/842 [==============================] - 13s 15ms/step - loss: 9.4245e-06 - val_loss: 2.6719e-05\n",
      "Epoch 117/200\n",
      "842/842 [==============================] - 13s 15ms/step - loss: 9.4598e-06 - val_loss: 2.8244e-05\n",
      "Epoch 118/200\n",
      "842/842 [==============================] - 13s 15ms/step - loss: 9.4504e-06 - val_loss: 2.6607e-05\n",
      "Epoch 119/200\n",
      "842/842 [==============================] - 13s 15ms/step - loss: 9.4410e-06 - val_loss: 2.6690e-05\n",
      "Epoch 120/200\n",
      "842/842 [==============================] - 13s 15ms/step - loss: 9.4529e-06 - val_loss: 2.5938e-05\n",
      "Epoch 121/200\n",
      "842/842 [==============================] - 13s 15ms/step - loss: 9.4081e-06 - val_loss: 2.6187e-05\n",
      "Epoch 122/200\n",
      "842/842 [==============================] - 13s 15ms/step - loss: 9.4396e-06 - val_loss: 2.6097e-05\n",
      "Epoch 123/200\n",
      "842/842 [==============================] - 13s 15ms/step - loss: 9.4274e-06 - val_loss: 2.5901e-05\n",
      "Epoch 124/200\n",
      "842/842 [==============================] - 13s 15ms/step - loss: 9.4242e-06 - val_loss: 2.6377e-05\n",
      "Epoch 125/200\n",
      "842/842 [==============================] - 13s 15ms/step - loss: 9.4264e-06 - val_loss: 2.5682e-05\n",
      "Epoch 126/200\n",
      "842/842 [==============================] - 13s 15ms/step - loss: 9.4193e-06 - val_loss: 2.5818e-05\n",
      "Epoch 127/200\n",
      "842/842 [==============================] - 13s 15ms/step - loss: 9.3863e-06 - val_loss: 2.6041e-05\n",
      "Epoch 128/200\n",
      "842/842 [==============================] - 13s 15ms/step - loss: 9.3903e-06 - val_loss: 2.5784e-05\n",
      "Epoch 129/200\n",
      "842/842 [==============================] - 13s 15ms/step - loss: 9.4133e-06 - val_loss: 2.6761e-05\n",
      "Epoch 130/200\n",
      "842/842 [==============================] - 13s 15ms/step - loss: 9.4076e-06 - val_loss: 2.6325e-05\n",
      "Epoch 131/200\n",
      "842/842 [==============================] - 13s 15ms/step - loss: 9.3823e-06 - val_loss: 2.5829e-05\n",
      "Epoch 132/200\n",
      "842/842 [==============================] - 13s 15ms/step - loss: 9.4139e-06 - val_loss: 2.5720e-05\n",
      "Epoch 133/200\n",
      "842/842 [==============================] - 13s 15ms/step - loss: 9.4185e-06 - val_loss: 2.5869e-05\n",
      "Epoch 134/200\n",
      "842/842 [==============================] - 13s 15ms/step - loss: 9.3996e-06 - val_loss: 2.5871e-05\n",
      "Epoch 135/200\n",
      "842/842 [==============================] - 13s 15ms/step - loss: 9.4033e-06 - val_loss: 2.6339e-05\n",
      "Epoch 136/200\n",
      "842/842 [==============================] - 13s 15ms/step - loss: 9.4320e-06 - val_loss: 2.5739e-05\n",
      "Epoch 137/200\n",
      "842/842 [==============================] - 13s 15ms/step - loss: 9.3880e-06 - val_loss: 2.6436e-05\n",
      "Epoch 138/200\n",
      "842/842 [==============================] - 13s 15ms/step - loss: 9.3886e-06 - val_loss: 2.6273e-05\n",
      "Epoch 139/200\n",
      "842/842 [==============================] - 13s 15ms/step - loss: 9.3858e-06 - val_loss: 2.6290e-05\n",
      "Epoch 140/200\n",
      "842/842 [==============================] - 13s 15ms/step - loss: 9.4004e-06 - val_loss: 2.5709e-05\n",
      "Epoch 141/200\n",
      "842/842 [==============================] - 13s 15ms/step - loss: 9.3932e-06 - val_loss: 2.6588e-05\n",
      "Epoch 142/200\n",
      "842/842 [==============================] - 13s 15ms/step - loss: 9.4035e-06 - val_loss: 2.6218e-05\n",
      "Epoch 143/200\n",
      "842/842 [==============================] - 13s 15ms/step - loss: 9.3681e-06 - val_loss: 2.6172e-05\n",
      "Epoch 144/200\n",
      "842/842 [==============================] - 13s 15ms/step - loss: 9.3789e-06 - val_loss: 2.6700e-05\n",
      "Epoch 145/200\n",
      "842/842 [==============================] - 13s 15ms/step - loss: 9.3794e-06 - val_loss: 2.6105e-05\n",
      "Epoch 146/200\n",
      "842/842 [==============================] - 13s 15ms/step - loss: 9.3884e-06 - val_loss: 2.6282e-05\n",
      "Epoch 147/200\n",
      "842/842 [==============================] - 13s 15ms/step - loss: 9.3946e-06 - val_loss: 2.6725e-05\n",
      "Epoch 148/200\n",
      "842/842 [==============================] - 13s 15ms/step - loss: 9.3714e-06 - val_loss: 2.6355e-05\n",
      "Epoch 149/200\n",
      "842/842 [==============================] - 13s 15ms/step - loss: 9.3875e-06 - val_loss: 2.6249e-05\n",
      "Epoch 150/200\n",
      "842/842 [==============================] - 13s 15ms/step - loss: 9.3743e-06 - val_loss: 2.5632e-05\n",
      "Epoch 151/200\n",
      "842/842 [==============================] - 13s 15ms/step - loss: 9.3370e-06 - val_loss: 2.6120e-05\n",
      "Epoch 152/200\n",
      "842/842 [==============================] - 13s 15ms/step - loss: 9.3387e-06 - val_loss: 2.6344e-05\n",
      "Epoch 153/200\n",
      "842/842 [==============================] - 13s 15ms/step - loss: 9.3384e-06 - val_loss: 2.6042e-05\n",
      "Epoch 154/200\n",
      "842/842 [==============================] - 13s 15ms/step - loss: 9.3189e-06 - val_loss: 2.6085e-05\n",
      "Epoch 155/200\n",
      "842/842 [==============================] - 13s 15ms/step - loss: 9.3216e-06 - val_loss: 2.7071e-05\n",
      "Epoch 156/200\n",
      "842/842 [==============================] - 13s 15ms/step - loss: 9.3366e-06 - val_loss: 2.6157e-05\n",
      "Epoch 157/200\n",
      "842/842 [==============================] - 13s 15ms/step - loss: 9.3133e-06 - val_loss: 2.6069e-05\n",
      "Epoch 158/200\n",
      "842/842 [==============================] - 13s 15ms/step - loss: 9.3319e-06 - val_loss: 2.6355e-05\n",
      "Epoch 159/200\n",
      "842/842 [==============================] - 13s 15ms/step - loss: 9.3243e-06 - val_loss: 2.6273e-05\n",
      "Epoch 160/200\n",
      "842/842 [==============================] - 13s 15ms/step - loss: 9.3244e-06 - val_loss: 2.5732e-05\n",
      "Epoch 161/200\n",
      "842/842 [==============================] - 14s 16ms/step - loss: 9.3016e-06 - val_loss: 2.6448e-05\n",
      "Epoch 162/200\n",
      "842/842 [==============================] - 14s 17ms/step - loss: 9.3312e-06 - val_loss: 2.6812e-05\n",
      "Epoch 163/200\n",
      "842/842 [==============================] - 14s 16ms/step - loss: 9.3350e-06 - val_loss: 2.6054e-05\n",
      "Epoch 164/200\n",
      "842/842 [==============================] - 14s 17ms/step - loss: 9.3076e-06 - val_loss: 2.6351e-05\n",
      "Epoch 165/200\n",
      "842/842 [==============================] - 14s 17ms/step - loss: 9.2925e-06 - val_loss: 2.5900e-05\n",
      "Epoch 166/200\n",
      "842/842 [==============================] - 15s 18ms/step - loss: 9.2930e-06 - val_loss: 2.5569e-05\n",
      "Epoch 167/200\n",
      "842/842 [==============================] - 14s 17ms/step - loss: 9.2945e-06 - val_loss: 2.6289e-05\n",
      "Epoch 168/200\n",
      "842/842 [==============================] - 14s 17ms/step - loss: 9.3043e-06 - val_loss: 2.5603e-05\n",
      "Epoch 169/200\n",
      "842/842 [==============================] - 14s 17ms/step - loss: 9.2871e-06 - val_loss: 2.6640e-05\n",
      "Epoch 170/200\n",
      "842/842 [==============================] - 14s 17ms/step - loss: 9.3042e-06 - val_loss: 2.5815e-05\n",
      "Epoch 171/200\n",
      "842/842 [==============================] - 14s 16ms/step - loss: 9.2962e-06 - val_loss: 2.6051e-05\n",
      "Epoch 172/200\n",
      "842/842 [==============================] - 13s 16ms/step - loss: 9.2698e-06 - val_loss: 2.5822e-05\n",
      "Epoch 173/200\n",
      "842/842 [==============================] - 13s 16ms/step - loss: 9.3029e-06 - val_loss: 2.5851e-05\n",
      "Epoch 174/200\n",
      "842/842 [==============================] - 13s 16ms/step - loss: 9.2904e-06 - val_loss: 2.6087e-05\n",
      "Epoch 175/200\n",
      "842/842 [==============================] - 13s 16ms/step - loss: 9.3125e-06 - val_loss: 2.6137e-05\n",
      "Epoch 176/200\n",
      "842/842 [==============================] - 13s 16ms/step - loss: 9.3034e-06 - val_loss: 2.6102e-05\n",
      "Epoch 177/200\n",
      "842/842 [==============================] - 14s 16ms/step - loss: 9.2816e-06 - val_loss: 2.5611e-05\n",
      "Epoch 178/200\n",
      "842/842 [==============================] - 14s 17ms/step - loss: 9.2818e-06 - val_loss: 2.5292e-05\n",
      "Epoch 179/200\n",
      "842/842 [==============================] - 14s 16ms/step - loss: 9.2761e-06 - val_loss: 2.6324e-05\n",
      "Epoch 180/200\n",
      "842/842 [==============================] - 14s 16ms/step - loss: 9.2890e-06 - val_loss: 2.6190e-05\n",
      "Epoch 181/200\n",
      "842/842 [==============================] - 13s 16ms/step - loss: 9.2816e-06 - val_loss: 2.5878e-05\n",
      "Epoch 182/200\n",
      "842/842 [==============================] - 13s 16ms/step - loss: 9.3055e-06 - val_loss: 2.6249e-05\n",
      "Epoch 183/200\n",
      "842/842 [==============================] - 13s 16ms/step - loss: 9.2733e-06 - val_loss: 2.5465e-05\n",
      "Epoch 184/200\n",
      "842/842 [==============================] - 13s 16ms/step - loss: 9.2815e-06 - val_loss: 2.5525e-05\n",
      "Epoch 185/200\n",
      "842/842 [==============================] - 14s 17ms/step - loss: 9.2697e-06 - val_loss: 2.6044e-05\n",
      "Epoch 186/200\n",
      "842/842 [==============================] - 13s 16ms/step - loss: 9.2695e-06 - val_loss: 2.6011e-05\n",
      "Epoch 187/200\n",
      "842/842 [==============================] - 13s 16ms/step - loss: 9.2650e-06 - val_loss: 2.5569e-05\n",
      "Epoch 188/200\n",
      "842/842 [==============================] - 13s 16ms/step - loss: 9.2674e-06 - val_loss: 2.5690e-05\n",
      "Epoch 189/200\n",
      "842/842 [==============================] - 14s 16ms/step - loss: 9.2668e-06 - val_loss: 2.5637e-05\n",
      "Epoch 190/200\n",
      "842/842 [==============================] - 13s 16ms/step - loss: 9.2678e-06 - val_loss: 2.6294e-05\n",
      "Epoch 191/200\n",
      "842/842 [==============================] - 13s 16ms/step - loss: 9.2753e-06 - val_loss: 2.5976e-05\n",
      "Epoch 192/200\n",
      "842/842 [==============================] - 13s 16ms/step - loss: 9.2600e-06 - val_loss: 2.5815e-05\n",
      "Epoch 193/200\n",
      "842/842 [==============================] - 13s 15ms/step - loss: 9.2818e-06 - val_loss: 2.5613e-05\n",
      "Epoch 194/200\n",
      "842/842 [==============================] - 13s 15ms/step - loss: 9.2628e-06 - val_loss: 2.6372e-05\n",
      "Epoch 195/200\n",
      "842/842 [==============================] - 14s 16ms/step - loss: 9.2827e-06 - val_loss: 2.5429e-05\n",
      "Epoch 196/200\n",
      "842/842 [==============================] - 14s 16ms/step - loss: 9.2788e-06 - val_loss: 2.5621e-05\n",
      "Epoch 197/200\n",
      "842/842 [==============================] - 14s 16ms/step - loss: 9.2600e-06 - val_loss: 2.5994e-05\n",
      "Epoch 198/200\n",
      "842/842 [==============================] - 14s 17ms/step - loss: 9.2662e-06 - val_loss: 2.6172e-05\n",
      "Epoch 199/200\n",
      "842/842 [==============================] - 14s 16ms/step - loss: 9.2573e-06 - val_loss: 2.5660e-05\n",
      "Epoch 200/200\n",
      "842/842 [==============================] - 13s 16ms/step - loss: 9.2706e-06 - val_loss: 2.6019e-05\n"
     ]
    },
    {
     "data": {
      "text/plain": [
       "<tensorflow.python.keras.callbacks.History at 0x7fad00341be0>"
      ]
     },
     "execution_count": 36,
     "metadata": {},
     "output_type": "execute_result"
    }
   ],
   "source": [
    "model.fit(train_dataset,validation_data=test_dataset, epochs=200)\n"
   ]
  },
  {
   "cell_type": "markdown",
   "id": "239637b6-6a81-4fa3-bbf4-ced84367c9a7",
   "metadata": {},
   "source": [
    "## Looking at predictions\n",
    "Inspecting the predictions of the model on the training set."
   ]
  },
  {
   "cell_type": "code",
   "execution_count": 37,
   "id": "6cfc8fa7-73bd-45b1-8f7e-6ee37ac0b6ac",
   "metadata": {
    "tags": []
   },
   "outputs": [],
   "source": [
    "predictions = model.predict(examples[:10000,:,:])"
   ]
  },
  {
   "cell_type": "code",
   "execution_count": 38,
   "id": "48bd0bde-d606-4d18-b9b2-d42e58222c59",
   "metadata": {
    "tags": []
   },
   "outputs": [
    {
     "data": {
      "text/plain": [
       "0.00011937795"
      ]
     },
     "execution_count": 38,
     "metadata": {},
     "output_type": "execute_result"
    }
   ],
   "source": [
    "np.var(predictions)"
   ]
  },
  {
   "cell_type": "code",
   "execution_count": 39,
   "id": "dd593580-d69e-4a59-97cc-11df9147c5a3",
   "metadata": {
    "tags": []
   },
   "outputs": [],
   "source": [
    "predictions.shape\n",
    "\n",
    "def plot_example(index):\n",
    "    prediction = predictions[index]\n",
    "    actual = labels[index]\n",
    "    noisy = examples[index]\n",
    "    \n",
    "    fig, [ax1, ax2, ax3, ax4] = plt.subplots(1,4)\n",
    "    ax2.imshow(prediction, aspect = \"auto\")\n",
    "    ax3.imshow(actual, aspect= \"auto\")\n",
    "    ax1.imshow(noisy, aspect=\"auto\")\n",
    "    ax4.imshow(actual-prediction, aspect=\"auto\")\n",
    "    plt.show()"
   ]
  },
  {
   "cell_type": "code",
   "execution_count": 40,
   "id": "9f92e3b7-3df9-483f-ad3b-03fc0651862f",
   "metadata": {
    "tags": []
   },
   "outputs": [
    {
     "data": {
      "application/vnd.jupyter.widget-view+json": {
       "model_id": "1ea73407db2444b0acf49ef71f1518fc",
       "version_major": 2,
       "version_minor": 0
      },
      "text/plain": [
       "interactive(children=(IntSlider(value=4999, description='index', max=9999), Output()), _dom_classes=('widget-i…"
      ]
     },
     "metadata": {},
     "output_type": "display_data"
    },
    {
     "data": {
      "text/plain": [
       "<function __main__.plot_example(index)>"
      ]
     },
     "execution_count": 40,
     "metadata": {},
     "output_type": "execute_result"
    }
   ],
   "source": [
    "interact(plot_example, index=(0, 9999, 1))"
   ]
  },
  {
   "cell_type": "code",
   "execution_count": 41,
   "id": "6f059822-d8d3-42c1-acbd-5d6dfcd5361b",
   "metadata": {
    "tags": []
   },
   "outputs": [],
   "source": [
    "def plot_time_domain( index):\n",
    "\n",
    "    test_noisy = noisy_stft.get_data()[index,:,:,0]\n",
    "    test_noisy_phase = noisy_stft.get_data()[index,:,:,1]\n",
    "\n",
    "    test_pure = labels[index,:,:]\n",
    "    test_pure_phase = noisy_stft.get_data()[index,:,:,1]\n",
    "\n",
    "    model_amp = predictions[index]\n",
    "    noisy_phase = noisy_stft.get_data()[index,:,:,1]\n",
    "\n",
    "    fig, [ax1, ax2] =plt.subplots(1,2)\n",
    "    t, signal_pure = istft(test_pure*np.exp(1j*test_pure_phase), fs = 1./5.)\n",
    "    t, signal_model = istft(model_amp*np.exp(1j*noisy_phase), fs = 1./5.)\n",
    "    t, signal_example = istft(test_noisy*np.exp(1j*test_noisy_phase), fs = 1./5.)\n",
    "\n",
    "    fig.set_size_inches((12,10))\n",
    "    ax1.plot(t,signal_example)\n",
    "    ax2.plot(t, signal_model)\n",
    "    ax2.plot(t, signal_pure, alpha=0.5, color=\"red\")\n",
    "    plt.show()"
   ]
  },
  {
   "cell_type": "code",
   "execution_count": 42,
   "id": "dbfa7920-0fbe-4288-8bd6-29c1745aa863",
   "metadata": {
    "tags": []
   },
   "outputs": [
    {
     "data": {
      "application/vnd.jupyter.widget-view+json": {
       "model_id": "ce99069ee0cf49d6aeb47f4a99d82b07",
       "version_major": 2,
       "version_minor": 0
      },
      "text/plain": [
       "interactive(children=(IntSlider(value=4999, description='index', max=9999), Output()), _dom_classes=('widget-i…"
      ]
     },
     "metadata": {},
     "output_type": "display_data"
    },
    {
     "data": {
      "text/plain": [
       "<function __main__.plot_time_domain(index)>"
      ]
     },
     "execution_count": 42,
     "metadata": {},
     "output_type": "execute_result"
    }
   ],
   "source": [
    "interact(plot_time_domain, index = (0,9999,1))"
   ]
  },
  {
   "cell_type": "markdown",
   "id": "9e5e00c5-f9df-4420-9a6f-1e21ba5fdcf8",
   "metadata": {},
   "source": [
    "## Visualize the effect on the test set\n",
    "Previous visualizations were for the training set only.\n",
    "\n",
    "Check the influence of the test set here."
   ]
  },
  {
   "cell_type": "code",
   "execution_count": 43,
   "id": "b78f1f78-755e-4437-a802-c9c24c9c5907",
   "metadata": {
    "tags": []
   },
   "outputs": [],
   "source": [
    "predictions_test = model.predict(examples_test)"
   ]
  },
  {
   "cell_type": "code",
   "execution_count": 44,
   "id": "da7c1e6d-5910-41a5-9ed1-cf7d3294b509",
   "metadata": {
    "tags": []
   },
   "outputs": [],
   "source": [
    "examples_test = noisy_test_stft.get_data()[::stride_reduce,:,:,0]\n",
    "labels_test = pure_test_stft.get_data()[::stride_reduce,:,:,0]\n",
    "\n",
    "examples_test_phase = noisy_test_stft.get_data()[::stride_reduce,:,:,1]\n",
    "labels_test_phase = pure_test_stft.get_data()[::stride_reduce,:,:,1]"
   ]
  },
  {
   "cell_type": "code",
   "execution_count": 45,
   "id": "bea6eb91-1f76-4d1d-baac-095078068c73",
   "metadata": {
    "tags": []
   },
   "outputs": [],
   "source": [
    "def plot_time_domain_test( index):\n",
    "\n",
    "    # get the test set prediction\n",
    "    test_noisy = examples_test[index]\n",
    "    test_noisy_phase = examples_test_phase[index]\n",
    "    \n",
    "    # the pure example from the test set\n",
    "    test_pure = labels_test[index]\n",
    "    test_pure_phase = labels_test_phase[index]\n",
    "\n",
    "    model_amp = predictions_test[index]\n",
    "    noisy_phase = examples_test_phase[index]\n",
    "    \n",
    "    fig, [ax1, ax2] =plt.subplots(1,2)\n",
    "    t, signal_pure = istft(test_pure*np.exp(1j*test_pure_phase), fs = 1./5.)\n",
    "    t, signal_model = istft(model_amp*np.exp(1j*noisy_phase), fs = 1./5.)\n",
    "    t, signal_example = istft(test_noisy*np.exp(1j*test_noisy_phase), fs = 1./5.)\n",
    "\n",
    "    fig.set_size_inches((12,10))\n",
    "    ax1.plot(t,signal_example)\n",
    "    ax2.plot(t, signal_model)\n",
    "    ax2.plot(t, signal_pure, alpha=0.5, color=\"red\")\n",
    "    plt.show()"
   ]
  },
  {
   "cell_type": "code",
   "execution_count": 46,
   "id": "b4a87db6-d0c5-42d4-bae6-2fb777e89953",
   "metadata": {
    "tags": []
   },
   "outputs": [
    {
     "data": {
      "application/vnd.jupyter.widget-view+json": {
       "model_id": "eb757c04d0654c84be82ebe56fa1036a",
       "version_major": 2,
       "version_minor": 0
      },
      "text/plain": [
       "interactive(children=(IntSlider(value=500, description='index', max=1000), Output()), _dom_classes=('widget-in…"
      ]
     },
     "metadata": {},
     "output_type": "display_data"
    },
    {
     "data": {
      "text/plain": [
       "<function __main__.plot_time_domain_test(index)>"
      ]
     },
     "execution_count": 46,
     "metadata": {},
     "output_type": "execute_result"
    }
   ],
   "source": [
    "interact(plot_time_domain_test, index = (0,1000,1))"
   ]
  },
  {
   "cell_type": "markdown",
   "id": "3762b93b-6e11-44ec-a3c5-b1adfa2fb528",
   "metadata": {},
   "source": [
    "## Store the model\n",
    "Storing the model after a long training session."
   ]
  },
  {
   "cell_type": "code",
   "execution_count": 47,
   "id": "57c882d1-4477-4896-924c-b5177c0f523b",
   "metadata": {
    "tags": []
   },
   "outputs": [],
   "source": [
    "model_folder = \"model/\""
   ]
  },
  {
   "cell_type": "code",
   "execution_count": 51,
   "id": "6bfa107d-16e1-4b79-b822-b71887e34bda",
   "metadata": {
    "tags": []
   },
   "outputs": [
    {
     "name": "stderr",
     "output_type": "stream",
     "text": [
      "2023-03-28 18:43:33.603096: W tensorflow/python/util/util.cc:348] Sets are not currently considered sequences, but this may change in the future, so consider avoiding using them.\n"
     ]
    },
    {
     "name": "stdout",
     "output_type": "stream",
     "text": [
      "INFO:tensorflow:Assets written to: model/model-28-03-2023/assets\n"
     ]
    }
   ],
   "source": [
    "\n",
    "# Get the current date\n",
    "now = datetime.datetime.now()\n",
    "\n",
    "# Format the date as \"day-month-year\"\n",
    "date_str = now.strftime(\"%d-%m-%Y\")\n",
    "\n",
    "model_name = f\"model-{date_str}\"\n",
    "\n",
    "path = model_folder + model_name\n",
    "model.save(path)"
   ]
  },
  {
   "cell_type": "markdown",
   "id": "bd0ab5e2-119a-4c76-ab9e-528b84411957",
   "metadata": {},
   "source": [
    "## Analysis of maximum values\n",
    "Looking at maximum values of amplitude over the whole array"
   ]
  },
  {
   "cell_type": "code",
   "execution_count": 147,
   "id": "2751a123-aa1d-4437-8104-c6b789bf440e",
   "metadata": {
    "tags": []
   },
   "outputs": [],
   "source": [
    "test_example = noisy_stft.get_data()[0]\n",
    "shape = test_example.shape\n",
    "test_example_reshaped = noisy_stft.get_data()[0].reshape((1, shape[0], shape[1], shape[2]))\n",
    "\n",
    "test_pure = pure_stft.get_data()[0]"
   ]
  },
  {
   "cell_type": "code",
   "execution_count": 148,
   "id": "993ba3f6-b802-4d2b-ac0c-35f843092729",
   "metadata": {
    "tags": []
   },
   "outputs": [
    {
     "data": {
      "text/plain": [
       "0.1167289817731223"
      ]
     },
     "execution_count": 148,
     "metadata": {},
     "output_type": "execute_result"
    }
   ],
   "source": [
    "test_pure[:,:,0].max()"
   ]
  },
  {
   "cell_type": "markdown",
   "id": "65d8bffc-c85c-4356-9fe1-386ff9c0351c",
   "metadata": {},
   "source": [
    "Todo\n",
    "Normalize the phase and amplitude values.."
   ]
  },
  {
   "cell_type": "code",
   "execution_count": 27,
   "id": "728854d5-4030-48e9-8865-89228857d160",
   "metadata": {
    "tags": []
   },
   "outputs": [],
   "source": [
    "amps_noisy =noisy_stft.get_data()[:,:,:,0]"
   ]
  },
  {
   "cell_type": "code",
   "execution_count": 28,
   "id": "cc0e735a-37b3-4780-a56d-6f0e6b212830",
   "metadata": {
    "tags": []
   },
   "outputs": [],
   "source": [
    "amps_noisy_flattened = amps_noisy.flatten()"
   ]
  },
  {
   "cell_type": "code",
   "execution_count": 29,
   "id": "1b516141-c7d1-4207-a12f-a0031fb15379",
   "metadata": {
    "tags": []
   },
   "outputs": [
    {
     "data": {
      "text/plain": [
       "(array([1.0101877e+07, 1.1225070e+06, 1.9600700e+05, 1.0042300e+05,\n",
       "        5.1438000e+04, 2.1964000e+04, 9.8380000e+03, 4.6260000e+03,\n",
       "        1.1690000e+03, 1.5100000e+02]),\n",
       " array([2.14359953e-11, 1.67539747e-02, 3.35079495e-02, 5.02619242e-02,\n",
       "        6.70158989e-02, 8.37698737e-02, 1.00523848e-01, 1.17277823e-01,\n",
       "        1.34031798e-01, 1.50785773e-01, 1.67539747e-01]),\n",
       " <BarContainer object of 10 artists>)"
      ]
     },
     "execution_count": 29,
     "metadata": {},
     "output_type": "execute_result"
    },
    {
     "data": {
      "image/png": "[encoded data removed]",
      "text/plain": [
       "<Figure size 640x480 with 1 Axes>"
      ]
     },
     "metadata": {},
     "output_type": "display_data"
    }
   ],
   "source": [
    "plt.hist(amps_noisy_flattened)"
   ]
  },
  {
   "cell_type": "code",
   "execution_count": 30,
   "id": "9063e8e5-df9b-4911-90b9-2606ef41e874",
   "metadata": {
    "tags": []
   },
   "outputs": [],
   "source": [
    "amps_noisy_max = amps_noisy.max(axis=2).max(axis=1)"
   ]
  },
  {
   "cell_type": "code",
   "execution_count": 31,
   "id": "2d7f8f9f-fe81-4599-b965-31be2a86179d",
   "metadata": {
    "tags": []
   },
   "outputs": [
    {
     "data": {
      "text/plain": [
       "(10000,)"
      ]
     },
     "execution_count": 31,
     "metadata": {},
     "output_type": "execute_result"
    }
   ],
   "source": [
    "amps_noisy_max.shape"
   ]
  },
  {
   "cell_type": "code",
   "execution_count": 32,
   "id": "50c79a4d-7dbc-41a4-aa77-fc877d1d6468",
   "metadata": {
    "tags": []
   },
   "outputs": [
    {
     "data": {
      "text/plain": [
       "(array([ 153.,  364., 2132., 2197., 1479., 1392., 1000.,  879.,  345.,\n",
       "          59.]),\n",
       " array([0.04645806, 0.05856623, 0.0706744 , 0.08278256, 0.09489073,\n",
       "        0.1069989 , 0.11910707, 0.13121524, 0.14332341, 0.15543158,\n",
       "        0.16753975]),\n",
       " <BarContainer object of 10 artists>)"
      ]
     },
     "execution_count": 32,
     "metadata": {},
     "output_type": "execute_result"
    },
    {
     "data": {
      "image/png": "[encoded data removed]",
      "text/plain": [
       "<Figure size 640x480 with 1 Axes>"
      ]
     },
     "metadata": {},
     "output_type": "display_data"
    }
   ],
   "source": [
    "plt.hist(amps_noisy_max)"
   ]
  },
  {
   "cell_type": "code",
   "execution_count": null,
   "id": "f1bb57de-866e-4108-8e5c-98068a5f6c01",
   "metadata": {},
   "outputs": [],
   "source": []
  },
  {
   "cell_type": "code",
   "execution_count": null,
   "id": "ec32d850-cfda-4b0b-87c4-0582e2b3116c",
   "metadata": {},
   "outputs": [],
   "source": []
  }
 ],
 "metadata": {
  "kernelspec": {
   "display_name": "Python 3 (ipykernel)",
   "language": "python",
   "name": "python3"
  },
  "language_info": {
   "codemirror_mode": {
    "name": "ipython",
    "version": 3
   },
   "file_extension": ".py",
   "mimetype": "text/x-python",
   "name": "python",
   "nbconvert_exporter": "python",
   "pygments_lexer": "ipython3",
   "version": "3.9.16"
  }
 },
 "nbformat": 4,
 "nbformat_minor": 5
}
